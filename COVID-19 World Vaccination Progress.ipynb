{
 "cells": [
  {
   "cell_type": "markdown",
   "metadata": {},
   "source": [
    "# COVID-19 World Vaccination Progress\n",
    "\n",
    "This is a personal take on an analytics of the current COVID-19 world vaccination progress. For this project, we'll be using three different datasets:\n",
    "* **Vaccination Progress by Country** ('country_vaccinations.csv')\n",
    "* **Vaccination Progress by Manufacturer** ('country_vaccinations_by_manufacturer.csv')\n",
    "* **World Population** ('2021_population.csv')\n",
    "\n",
    "*please bear in mind that all these datasets are being updated constantly, so output results may vary based on the current data*"
   ]
  },
  {
   "cell_type": "markdown",
   "metadata": {},
   "source": [
    "## Main imports"
   ]
  },
  {
   "cell_type": "code",
   "execution_count": 94,
   "metadata": {},
   "outputs": [],
   "source": [
    "import pandas as pd\n",
    "import numpy as np\n",
    "import seaborn as sns\n",
    "import os\n",
    "\n",
    "import matplotlib.pyplot as plt\n",
    "%matplotlib inline\n",
    "\n",
    "import plotly.express as px"
   ]
  },
  {
   "cell_type": "code",
   "execution_count": 2,
   "metadata": {},
   "outputs": [],
   "source": [
    "vcn = pd.read_csv('country_vaccinations.csv')\n",
    "vbm = pd.read_csv('country_vaccinations_by_manufacturer.csv')\n",
    "wp = pd.read_csv('2021_population.csv')"
   ]
  },
  {
   "cell_type": "markdown",
   "metadata": {},
   "source": [
    "## Getting used with the dataset layout"
   ]
  },
  {
   "cell_type": "markdown",
   "metadata": {},
   "source": [
    "### Checking the Vaccination Progress by Country dataset first"
   ]
  },
  {
   "cell_type": "code",
   "execution_count": 3,
   "metadata": {},
   "outputs": [
    {
     "data": {
      "text/html": [
       "<div>\n",
       "<style scoped>\n",
       "    .dataframe tbody tr th:only-of-type {\n",
       "        vertical-align: middle;\n",
       "    }\n",
       "\n",
       "    .dataframe tbody tr th {\n",
       "        vertical-align: top;\n",
       "    }\n",
       "\n",
       "    .dataframe thead th {\n",
       "        text-align: right;\n",
       "    }\n",
       "</style>\n",
       "<table border=\"1\" class=\"dataframe\">\n",
       "  <thead>\n",
       "    <tr style=\"text-align: right;\">\n",
       "      <th></th>\n",
       "      <th>country</th>\n",
       "      <th>iso_code</th>\n",
       "      <th>date</th>\n",
       "      <th>total_vaccinations</th>\n",
       "      <th>people_vaccinated</th>\n",
       "      <th>people_fully_vaccinated</th>\n",
       "      <th>daily_vaccinations_raw</th>\n",
       "      <th>daily_vaccinations</th>\n",
       "      <th>total_vaccinations_per_hundred</th>\n",
       "      <th>people_vaccinated_per_hundred</th>\n",
       "      <th>people_fully_vaccinated_per_hundred</th>\n",
       "      <th>daily_vaccinations_per_million</th>\n",
       "      <th>vaccines</th>\n",
       "      <th>source_name</th>\n",
       "      <th>source_website</th>\n",
       "    </tr>\n",
       "  </thead>\n",
       "  <tbody>\n",
       "    <tr>\n",
       "      <th>0</th>\n",
       "      <td>Afghanistan</td>\n",
       "      <td>AFG</td>\n",
       "      <td>2021-02-22</td>\n",
       "      <td>0.0</td>\n",
       "      <td>0.0</td>\n",
       "      <td>NaN</td>\n",
       "      <td>NaN</td>\n",
       "      <td>NaN</td>\n",
       "      <td>0.0</td>\n",
       "      <td>0.0</td>\n",
       "      <td>NaN</td>\n",
       "      <td>NaN</td>\n",
       "      <td>Johnson&amp;Johnson, Oxford/AstraZeneca, Pfizer/Bi...</td>\n",
       "      <td>World Health Organization</td>\n",
       "      <td>https://covid19.who.int/</td>\n",
       "    </tr>\n",
       "    <tr>\n",
       "      <th>1</th>\n",
       "      <td>Afghanistan</td>\n",
       "      <td>AFG</td>\n",
       "      <td>2021-02-23</td>\n",
       "      <td>NaN</td>\n",
       "      <td>NaN</td>\n",
       "      <td>NaN</td>\n",
       "      <td>NaN</td>\n",
       "      <td>1367.0</td>\n",
       "      <td>NaN</td>\n",
       "      <td>NaN</td>\n",
       "      <td>NaN</td>\n",
       "      <td>35.0</td>\n",
       "      <td>Johnson&amp;Johnson, Oxford/AstraZeneca, Pfizer/Bi...</td>\n",
       "      <td>World Health Organization</td>\n",
       "      <td>https://covid19.who.int/</td>\n",
       "    </tr>\n",
       "    <tr>\n",
       "      <th>2</th>\n",
       "      <td>Afghanistan</td>\n",
       "      <td>AFG</td>\n",
       "      <td>2021-02-24</td>\n",
       "      <td>NaN</td>\n",
       "      <td>NaN</td>\n",
       "      <td>NaN</td>\n",
       "      <td>NaN</td>\n",
       "      <td>1367.0</td>\n",
       "      <td>NaN</td>\n",
       "      <td>NaN</td>\n",
       "      <td>NaN</td>\n",
       "      <td>35.0</td>\n",
       "      <td>Johnson&amp;Johnson, Oxford/AstraZeneca, Pfizer/Bi...</td>\n",
       "      <td>World Health Organization</td>\n",
       "      <td>https://covid19.who.int/</td>\n",
       "    </tr>\n",
       "    <tr>\n",
       "      <th>3</th>\n",
       "      <td>Afghanistan</td>\n",
       "      <td>AFG</td>\n",
       "      <td>2021-02-25</td>\n",
       "      <td>NaN</td>\n",
       "      <td>NaN</td>\n",
       "      <td>NaN</td>\n",
       "      <td>NaN</td>\n",
       "      <td>1367.0</td>\n",
       "      <td>NaN</td>\n",
       "      <td>NaN</td>\n",
       "      <td>NaN</td>\n",
       "      <td>35.0</td>\n",
       "      <td>Johnson&amp;Johnson, Oxford/AstraZeneca, Pfizer/Bi...</td>\n",
       "      <td>World Health Organization</td>\n",
       "      <td>https://covid19.who.int/</td>\n",
       "    </tr>\n",
       "    <tr>\n",
       "      <th>4</th>\n",
       "      <td>Afghanistan</td>\n",
       "      <td>AFG</td>\n",
       "      <td>2021-02-26</td>\n",
       "      <td>NaN</td>\n",
       "      <td>NaN</td>\n",
       "      <td>NaN</td>\n",
       "      <td>NaN</td>\n",
       "      <td>1367.0</td>\n",
       "      <td>NaN</td>\n",
       "      <td>NaN</td>\n",
       "      <td>NaN</td>\n",
       "      <td>35.0</td>\n",
       "      <td>Johnson&amp;Johnson, Oxford/AstraZeneca, Pfizer/Bi...</td>\n",
       "      <td>World Health Organization</td>\n",
       "      <td>https://covid19.who.int/</td>\n",
       "    </tr>\n",
       "  </tbody>\n",
       "</table>\n",
       "</div>"
      ],
      "text/plain": [
       "       country iso_code        date  total_vaccinations  people_vaccinated  \\\n",
       "0  Afghanistan      AFG  2021-02-22                 0.0                0.0   \n",
       "1  Afghanistan      AFG  2021-02-23                 NaN                NaN   \n",
       "2  Afghanistan      AFG  2021-02-24                 NaN                NaN   \n",
       "3  Afghanistan      AFG  2021-02-25                 NaN                NaN   \n",
       "4  Afghanistan      AFG  2021-02-26                 NaN                NaN   \n",
       "\n",
       "   people_fully_vaccinated  daily_vaccinations_raw  daily_vaccinations  \\\n",
       "0                      NaN                     NaN                 NaN   \n",
       "1                      NaN                     NaN              1367.0   \n",
       "2                      NaN                     NaN              1367.0   \n",
       "3                      NaN                     NaN              1367.0   \n",
       "4                      NaN                     NaN              1367.0   \n",
       "\n",
       "   total_vaccinations_per_hundred  people_vaccinated_per_hundred  \\\n",
       "0                             0.0                            0.0   \n",
       "1                             NaN                            NaN   \n",
       "2                             NaN                            NaN   \n",
       "3                             NaN                            NaN   \n",
       "4                             NaN                            NaN   \n",
       "\n",
       "   people_fully_vaccinated_per_hundred  daily_vaccinations_per_million  \\\n",
       "0                                  NaN                             NaN   \n",
       "1                                  NaN                            35.0   \n",
       "2                                  NaN                            35.0   \n",
       "3                                  NaN                            35.0   \n",
       "4                                  NaN                            35.0   \n",
       "\n",
       "                                            vaccines  \\\n",
       "0  Johnson&Johnson, Oxford/AstraZeneca, Pfizer/Bi...   \n",
       "1  Johnson&Johnson, Oxford/AstraZeneca, Pfizer/Bi...   \n",
       "2  Johnson&Johnson, Oxford/AstraZeneca, Pfizer/Bi...   \n",
       "3  Johnson&Johnson, Oxford/AstraZeneca, Pfizer/Bi...   \n",
       "4  Johnson&Johnson, Oxford/AstraZeneca, Pfizer/Bi...   \n",
       "\n",
       "                 source_name            source_website  \n",
       "0  World Health Organization  https://covid19.who.int/  \n",
       "1  World Health Organization  https://covid19.who.int/  \n",
       "2  World Health Organization  https://covid19.who.int/  \n",
       "3  World Health Organization  https://covid19.who.int/  \n",
       "4  World Health Organization  https://covid19.who.int/  "
      ]
     },
     "execution_count": 3,
     "metadata": {},
     "output_type": "execute_result"
    }
   ],
   "source": [
    "vcn.head()"
   ]
  },
  {
   "cell_type": "code",
   "execution_count": 4,
   "metadata": {},
   "outputs": [
    {
     "name": "stdout",
     "output_type": "stream",
     "text": [
      "<class 'pandas.core.frame.DataFrame'>\n",
      "RangeIndex: 37538 entries, 0 to 37537\n",
      "Data columns (total 15 columns):\n",
      " #   Column                               Non-Null Count  Dtype  \n",
      "---  ------                               --------------  -----  \n",
      " 0   country                              37538 non-null  object \n",
      " 1   iso_code                             37538 non-null  object \n",
      " 2   date                                 37538 non-null  object \n",
      " 3   total_vaccinations                   20764 non-null  float64\n",
      " 4   people_vaccinated                    19839 non-null  float64\n",
      " 5   people_fully_vaccinated              16961 non-null  float64\n",
      " 6   daily_vaccinations_raw               17088 non-null  float64\n",
      " 7   daily_vaccinations                   37292 non-null  float64\n",
      " 8   total_vaccinations_per_hundred       20764 non-null  float64\n",
      " 9   people_vaccinated_per_hundred        19839 non-null  float64\n",
      " 10  people_fully_vaccinated_per_hundred  16961 non-null  float64\n",
      " 11  daily_vaccinations_per_million       37292 non-null  float64\n",
      " 12  vaccines                             37538 non-null  object \n",
      " 13  source_name                          37538 non-null  object \n",
      " 14  source_website                       37538 non-null  object \n",
      "dtypes: float64(9), object(6)\n",
      "memory usage: 4.3+ MB\n"
     ]
    }
   ],
   "source": [
    "vcn.info()"
   ]
  },
  {
   "cell_type": "markdown",
   "metadata": {},
   "source": [
    "### Getting the number of contries listed\n",
    "Our Vaccination Progress by Country dataset lists 222 countries"
   ]
  },
  {
   "cell_type": "code",
   "execution_count": 137,
   "metadata": {
    "scrolled": false
   },
   "outputs": [
    {
     "data": {
      "text/plain": [
       "222"
      ]
     },
     "execution_count": 137,
     "metadata": {},
     "output_type": "execute_result"
    }
   ],
   "source": [
    "vcn['country'].nunique()"
   ]
  },
  {
   "cell_type": "markdown",
   "metadata": {},
   "source": [
    "### Now checking the Vaccination Progress by Manufacturer dataset"
   ]
  },
  {
   "cell_type": "code",
   "execution_count": 6,
   "metadata": {},
   "outputs": [
    {
     "data": {
      "text/html": [
       "<div>\n",
       "<style scoped>\n",
       "    .dataframe tbody tr th:only-of-type {\n",
       "        vertical-align: middle;\n",
       "    }\n",
       "\n",
       "    .dataframe tbody tr th {\n",
       "        vertical-align: top;\n",
       "    }\n",
       "\n",
       "    .dataframe thead th {\n",
       "        text-align: right;\n",
       "    }\n",
       "</style>\n",
       "<table border=\"1\" class=\"dataframe\">\n",
       "  <thead>\n",
       "    <tr style=\"text-align: right;\">\n",
       "      <th></th>\n",
       "      <th>location</th>\n",
       "      <th>date</th>\n",
       "      <th>vaccine</th>\n",
       "      <th>total_vaccinations</th>\n",
       "    </tr>\n",
       "  </thead>\n",
       "  <tbody>\n",
       "    <tr>\n",
       "      <th>0</th>\n",
       "      <td>Austria</td>\n",
       "      <td>2021-01-08</td>\n",
       "      <td>Johnson&amp;Johnson</td>\n",
       "      <td>0</td>\n",
       "    </tr>\n",
       "    <tr>\n",
       "      <th>1</th>\n",
       "      <td>Austria</td>\n",
       "      <td>2021-01-08</td>\n",
       "      <td>Moderna</td>\n",
       "      <td>0</td>\n",
       "    </tr>\n",
       "    <tr>\n",
       "      <th>2</th>\n",
       "      <td>Austria</td>\n",
       "      <td>2021-01-08</td>\n",
       "      <td>Oxford/AstraZeneca</td>\n",
       "      <td>0</td>\n",
       "    </tr>\n",
       "    <tr>\n",
       "      <th>3</th>\n",
       "      <td>Austria</td>\n",
       "      <td>2021-01-08</td>\n",
       "      <td>Pfizer/BioNTech</td>\n",
       "      <td>31027</td>\n",
       "    </tr>\n",
       "    <tr>\n",
       "      <th>4</th>\n",
       "      <td>Austria</td>\n",
       "      <td>2021-01-15</td>\n",
       "      <td>Johnson&amp;Johnson</td>\n",
       "      <td>0</td>\n",
       "    </tr>\n",
       "  </tbody>\n",
       "</table>\n",
       "</div>"
      ],
      "text/plain": [
       "  location        date             vaccine  total_vaccinations\n",
       "0  Austria  2021-01-08     Johnson&Johnson                   0\n",
       "1  Austria  2021-01-08             Moderna                   0\n",
       "2  Austria  2021-01-08  Oxford/AstraZeneca                   0\n",
       "3  Austria  2021-01-08     Pfizer/BioNTech               31027\n",
       "4  Austria  2021-01-15     Johnson&Johnson                   0"
      ]
     },
     "execution_count": 6,
     "metadata": {},
     "output_type": "execute_result"
    }
   ],
   "source": [
    "vbm.head()"
   ]
  },
  {
   "cell_type": "code",
   "execution_count": 7,
   "metadata": {},
   "outputs": [
    {
     "name": "stdout",
     "output_type": "stream",
     "text": [
      "<class 'pandas.core.frame.DataFrame'>\n",
      "RangeIndex: 11331 entries, 0 to 11330\n",
      "Data columns (total 4 columns):\n",
      " #   Column              Non-Null Count  Dtype \n",
      "---  ------              --------------  ----- \n",
      " 0   location            11331 non-null  object\n",
      " 1   date                11331 non-null  object\n",
      " 2   vaccine             11331 non-null  object\n",
      " 3   total_vaccinations  11331 non-null  int64 \n",
      "dtypes: int64(1), object(3)\n",
      "memory usage: 354.2+ KB\n"
     ]
    }
   ],
   "source": [
    "vbm.info()"
   ]
  },
  {
   "cell_type": "markdown",
   "metadata": {},
   "source": [
    "### Checking the number of contries/locations listed\n",
    "In this dataset, instead, we have only 34 countries/locations listed"
   ]
  },
  {
   "cell_type": "code",
   "execution_count": 138,
   "metadata": {},
   "outputs": [
    {
     "data": {
      "text/plain": [
       "34"
      ]
     },
     "execution_count": 138,
     "metadata": {},
     "output_type": "execute_result"
    }
   ],
   "source": [
    "vbm['location'].nunique()"
   ]
  },
  {
   "cell_type": "markdown",
   "metadata": {},
   "source": [
    "### Lastly, checking the World Population dataset"
   ]
  },
  {
   "cell_type": "code",
   "execution_count": 9,
   "metadata": {},
   "outputs": [
    {
     "data": {
      "text/html": [
       "<div>\n",
       "<style scoped>\n",
       "    .dataframe tbody tr th:only-of-type {\n",
       "        vertical-align: middle;\n",
       "    }\n",
       "\n",
       "    .dataframe tbody tr th {\n",
       "        vertical-align: top;\n",
       "    }\n",
       "\n",
       "    .dataframe thead th {\n",
       "        text-align: right;\n",
       "    }\n",
       "</style>\n",
       "<table border=\"1\" class=\"dataframe\">\n",
       "  <thead>\n",
       "    <tr style=\"text-align: right;\">\n",
       "      <th></th>\n",
       "      <th>iso_code</th>\n",
       "      <th>country</th>\n",
       "      <th>2021_last_updated</th>\n",
       "      <th>2020_population</th>\n",
       "      <th>area</th>\n",
       "      <th>density_sq_km</th>\n",
       "      <th>growth_rate</th>\n",
       "      <th>world_%</th>\n",
       "      <th>rank</th>\n",
       "    </tr>\n",
       "  </thead>\n",
       "  <tbody>\n",
       "    <tr>\n",
       "      <th>0</th>\n",
       "      <td>CHN</td>\n",
       "      <td>China</td>\n",
       "      <td>1,444,712,023</td>\n",
       "      <td>1,439,323,776</td>\n",
       "      <td>9,706,961 sq_km</td>\n",
       "      <td>149/sq_km</td>\n",
       "      <td>0.34%</td>\n",
       "      <td>18.34%</td>\n",
       "      <td>1</td>\n",
       "    </tr>\n",
       "    <tr>\n",
       "      <th>1</th>\n",
       "      <td>IND</td>\n",
       "      <td>India</td>\n",
       "      <td>1,394,784,323</td>\n",
       "      <td>1,380,004,385</td>\n",
       "      <td>3,287,590 sq_km</td>\n",
       "      <td>424/sq_km</td>\n",
       "      <td>0.97%</td>\n",
       "      <td>17.69%</td>\n",
       "      <td>2</td>\n",
       "    </tr>\n",
       "    <tr>\n",
       "      <th>2</th>\n",
       "      <td>USA</td>\n",
       "      <td>United States</td>\n",
       "      <td>333,114,077</td>\n",
       "      <td>331,002,651</td>\n",
       "      <td>9,372,610 sq_km</td>\n",
       "      <td>36/sq_km</td>\n",
       "      <td>0.58%</td>\n",
       "      <td>4.23%</td>\n",
       "      <td>3</td>\n",
       "    </tr>\n",
       "    <tr>\n",
       "      <th>3</th>\n",
       "      <td>IDN</td>\n",
       "      <td>Indonesia</td>\n",
       "      <td>276,653,405</td>\n",
       "      <td>273,523,615</td>\n",
       "      <td>1,904,569 sq_km</td>\n",
       "      <td>145/sq_km</td>\n",
       "      <td>1.04%</td>\n",
       "      <td>3.51%</td>\n",
       "      <td>4</td>\n",
       "    </tr>\n",
       "    <tr>\n",
       "      <th>4</th>\n",
       "      <td>PAK</td>\n",
       "      <td>Pakistan</td>\n",
       "      <td>225,639,396</td>\n",
       "      <td>220,892,340</td>\n",
       "      <td>881,912 sq_km</td>\n",
       "      <td>255/sq_km</td>\n",
       "      <td>1.95%</td>\n",
       "      <td>2.86%</td>\n",
       "      <td>5</td>\n",
       "    </tr>\n",
       "  </tbody>\n",
       "</table>\n",
       "</div>"
      ],
      "text/plain": [
       "  iso_code        country 2021_last_updated 2020_population             area  \\\n",
       "0      CHN          China     1,444,712,023   1,439,323,776  9,706,961 sq_km   \n",
       "1      IND          India     1,394,784,323   1,380,004,385  3,287,590 sq_km   \n",
       "2      USA  United States       333,114,077     331,002,651  9,372,610 sq_km   \n",
       "3      IDN      Indonesia       276,653,405     273,523,615  1,904,569 sq_km   \n",
       "4      PAK       Pakistan       225,639,396     220,892,340    881,912 sq_km   \n",
       "\n",
       "  density_sq_km growth_rate world_%  rank  \n",
       "0     149/sq_km       0.34%  18.34%     1  \n",
       "1     424/sq_km       0.97%  17.69%     2  \n",
       "2      36/sq_km       0.58%   4.23%     3  \n",
       "3     145/sq_km       1.04%   3.51%     4  \n",
       "4     255/sq_km       1.95%   2.86%     5  "
      ]
     },
     "execution_count": 9,
     "metadata": {},
     "output_type": "execute_result"
    }
   ],
   "source": [
    "wp.head()"
   ]
  },
  {
   "cell_type": "code",
   "execution_count": 10,
   "metadata": {},
   "outputs": [
    {
     "name": "stdout",
     "output_type": "stream",
     "text": [
      "<class 'pandas.core.frame.DataFrame'>\n",
      "RangeIndex: 228 entries, 0 to 227\n",
      "Data columns (total 9 columns):\n",
      " #   Column             Non-Null Count  Dtype \n",
      "---  ------             --------------  ----- \n",
      " 0   iso_code           228 non-null    object\n",
      " 1   country            228 non-null    object\n",
      " 2   2021_last_updated  228 non-null    object\n",
      " 3   2020_population    228 non-null    object\n",
      " 4   area               228 non-null    object\n",
      " 5   density_sq_km      228 non-null    object\n",
      " 6   growth_rate        228 non-null    object\n",
      " 7   world_%            228 non-null    object\n",
      " 8   rank               228 non-null    int64 \n",
      "dtypes: int64(1), object(8)\n",
      "memory usage: 16.2+ KB\n"
     ]
    }
   ],
   "source": [
    "wp.info()"
   ]
  },
  {
   "cell_type": "markdown",
   "metadata": {},
   "source": [
    "### Checking the number of countries listed"
   ]
  },
  {
   "cell_type": "code",
   "execution_count": 11,
   "metadata": {},
   "outputs": [
    {
     "data": {
      "text/plain": [
       "228"
      ]
     },
     "execution_count": 11,
     "metadata": {},
     "output_type": "execute_result"
    }
   ],
   "source": [
    "wp['country'].nunique()"
   ]
  },
  {
   "cell_type": "markdown",
   "metadata": {},
   "source": [
    "### Concatenating the Vaccination Progress by Country and the World Population dataframes"
   ]
  },
  {
   "cell_type": "code",
   "execution_count": 12,
   "metadata": {},
   "outputs": [
    {
     "data": {
      "text/html": [
       "<div>\n",
       "<style scoped>\n",
       "    .dataframe tbody tr th:only-of-type {\n",
       "        vertical-align: middle;\n",
       "    }\n",
       "\n",
       "    .dataframe tbody tr th {\n",
       "        vertical-align: top;\n",
       "    }\n",
       "\n",
       "    .dataframe thead th {\n",
       "        text-align: right;\n",
       "    }\n",
       "</style>\n",
       "<table border=\"1\" class=\"dataframe\">\n",
       "  <thead>\n",
       "    <tr style=\"text-align: right;\">\n",
       "      <th></th>\n",
       "      <th>iso_code</th>\n",
       "      <th>country</th>\n",
       "      <th>2021_last_updated</th>\n",
       "      <th>2020_population</th>\n",
       "      <th>area</th>\n",
       "      <th>density_sq_km</th>\n",
       "      <th>growth_rate</th>\n",
       "      <th>world_%</th>\n",
       "      <th>rank</th>\n",
       "    </tr>\n",
       "  </thead>\n",
       "  <tbody>\n",
       "    <tr>\n",
       "      <th>0</th>\n",
       "      <td>CHN</td>\n",
       "      <td>China</td>\n",
       "      <td>1,444,712,023</td>\n",
       "      <td>1,439,323,776</td>\n",
       "      <td>9,706,961 sq_km</td>\n",
       "      <td>149/sq_km</td>\n",
       "      <td>0.34%</td>\n",
       "      <td>18.34%</td>\n",
       "      <td>1</td>\n",
       "    </tr>\n",
       "  </tbody>\n",
       "</table>\n",
       "</div>"
      ],
      "text/plain": [
       "  iso_code country 2021_last_updated 2020_population             area  \\\n",
       "0      CHN   China     1,444,712,023   1,439,323,776  9,706,961 sq_km   \n",
       "\n",
       "  density_sq_km growth_rate world_%  rank  \n",
       "0     149/sq_km       0.34%  18.34%     1  "
      ]
     },
     "execution_count": 12,
     "metadata": {},
     "output_type": "execute_result"
    }
   ],
   "source": [
    "wp.head(1)"
   ]
  },
  {
   "cell_type": "markdown",
   "metadata": {},
   "source": [
    "Creating a new World Population dataframe with only the desired columns (Name of the country, total population) and sorting it out"
   ]
  },
  {
   "cell_type": "code",
   "execution_count": 139,
   "metadata": {},
   "outputs": [
    {
     "data": {
      "text/html": [
       "<div>\n",
       "<style scoped>\n",
       "    .dataframe tbody tr th:only-of-type {\n",
       "        vertical-align: middle;\n",
       "    }\n",
       "\n",
       "    .dataframe tbody tr th {\n",
       "        vertical-align: top;\n",
       "    }\n",
       "\n",
       "    .dataframe thead th {\n",
       "        text-align: right;\n",
       "    }\n",
       "</style>\n",
       "<table border=\"1\" class=\"dataframe\">\n",
       "  <thead>\n",
       "    <tr style=\"text-align: right;\">\n",
       "      <th></th>\n",
       "      <th>country</th>\n",
       "      <th>2021_last_updated</th>\n",
       "    </tr>\n",
       "  </thead>\n",
       "  <tbody>\n",
       "    <tr>\n",
       "      <th>0</th>\n",
       "      <td>China</td>\n",
       "      <td>1,444,712,023</td>\n",
       "    </tr>\n",
       "    <tr>\n",
       "      <th>1</th>\n",
       "      <td>India</td>\n",
       "      <td>1,394,784,323</td>\n",
       "    </tr>\n",
       "    <tr>\n",
       "      <th>2</th>\n",
       "      <td>United States</td>\n",
       "      <td>333,114,077</td>\n",
       "    </tr>\n",
       "    <tr>\n",
       "      <th>3</th>\n",
       "      <td>Indonesia</td>\n",
       "      <td>276,653,405</td>\n",
       "    </tr>\n",
       "    <tr>\n",
       "      <th>4</th>\n",
       "      <td>Pakistan</td>\n",
       "      <td>225,639,396</td>\n",
       "    </tr>\n",
       "  </tbody>\n",
       "</table>\n",
       "</div>"
      ],
      "text/plain": [
       "         country 2021_last_updated\n",
       "0          China     1,444,712,023\n",
       "1          India     1,394,784,323\n",
       "2  United States       333,114,077\n",
       "3      Indonesia       276,653,405\n",
       "4       Pakistan       225,639,396"
      ]
     },
     "execution_count": 139,
     "metadata": {},
     "output_type": "execute_result"
    }
   ],
   "source": [
    "wp_sort = wp[['country','2021_last_updated']]\n",
    "wp_sort.sort_values('country')\n",
    "wp_sort.head()"
   ]
  },
  {
   "cell_type": "markdown",
   "metadata": {},
   "source": [
    "Now doing the same with the Vaccination Progress by Country dataframe. Firstly, getting rid of duplicates"
   ]
  },
  {
   "cell_type": "code",
   "execution_count": 140,
   "metadata": {
    "scrolled": false
   },
   "outputs": [
    {
     "data": {
      "text/html": [
       "<div>\n",
       "<style scoped>\n",
       "    .dataframe tbody tr th:only-of-type {\n",
       "        vertical-align: middle;\n",
       "    }\n",
       "\n",
       "    .dataframe tbody tr th {\n",
       "        vertical-align: top;\n",
       "    }\n",
       "\n",
       "    .dataframe thead th {\n",
       "        text-align: right;\n",
       "    }\n",
       "</style>\n",
       "<table border=\"1\" class=\"dataframe\">\n",
       "  <thead>\n",
       "    <tr style=\"text-align: right;\">\n",
       "      <th></th>\n",
       "      <th>country</th>\n",
       "      <th>people_fully_vaccinated</th>\n",
       "    </tr>\n",
       "  </thead>\n",
       "  <tbody>\n",
       "    <tr>\n",
       "      <th>170</th>\n",
       "      <td>Afghanistan</td>\n",
       "      <td>nan</td>\n",
       "    </tr>\n",
       "    <tr>\n",
       "      <th>383</th>\n",
       "      <td>Albania</td>\n",
       "      <td>560007</td>\n",
       "    </tr>\n",
       "    <tr>\n",
       "      <th>565</th>\n",
       "      <td>Algeria</td>\n",
       "      <td>724812</td>\n",
       "    </tr>\n",
       "    <tr>\n",
       "      <th>741</th>\n",
       "      <td>Andorra</td>\n",
       "      <td>33904</td>\n",
       "    </tr>\n",
       "    <tr>\n",
       "      <th>903</th>\n",
       "      <td>Angola</td>\n",
       "      <td>722610</td>\n",
       "    </tr>\n",
       "  </tbody>\n",
       "</table>\n",
       "</div>"
      ],
      "text/plain": [
       "         country  people_fully_vaccinated\n",
       "170  Afghanistan                      nan\n",
       "383      Albania                   560007\n",
       "565      Algeria                   724812\n",
       "741      Andorra                    33904\n",
       "903       Angola                   722610"
      ]
     },
     "execution_count": 140,
     "metadata": {},
     "output_type": "execute_result"
    }
   ],
   "source": [
    "vcn_drop = vcn.drop_duplicates('country', keep = \"last\")\n",
    "vcn_sort = vcn_drop[['country','people_fully_vaccinated']]\n",
    "vcn_sort.head()"
   ]
  },
  {
   "cell_type": "markdown",
   "metadata": {},
   "source": [
    "After checking the Top 5 countries, I realized China was left out because it hasn't updated its numbers for the past days."
   ]
  },
  {
   "cell_type": "code",
   "execution_count": 141,
   "metadata": {},
   "outputs": [
    {
     "data": {
      "text/html": [
       "<div>\n",
       "<style scoped>\n",
       "    .dataframe tbody tr th:only-of-type {\n",
       "        vertical-align: middle;\n",
       "    }\n",
       "\n",
       "    .dataframe tbody tr th {\n",
       "        vertical-align: top;\n",
       "    }\n",
       "\n",
       "    .dataframe thead th {\n",
       "        text-align: right;\n",
       "    }\n",
       "</style>\n",
       "<table border=\"1\" class=\"dataframe\">\n",
       "  <thead>\n",
       "    <tr style=\"text-align: right;\">\n",
       "      <th></th>\n",
       "      <th>country</th>\n",
       "      <th>people_fully_vaccinated</th>\n",
       "    </tr>\n",
       "  </thead>\n",
       "  <tbody>\n",
       "    <tr>\n",
       "      <th>36109</th>\n",
       "      <td>United States</td>\n",
       "      <td>168090925</td>\n",
       "    </tr>\n",
       "    <tr>\n",
       "      <th>15546</th>\n",
       "      <td>India</td>\n",
       "      <td>121270889</td>\n",
       "    </tr>\n",
       "    <tr>\n",
       "      <th>4934</th>\n",
       "      <td>Brazil</td>\n",
       "      <td>49297923</td>\n",
       "    </tr>\n",
       "    <tr>\n",
       "      <th>12777</th>\n",
       "      <td>Germany</td>\n",
       "      <td>47367929</td>\n",
       "    </tr>\n",
       "    <tr>\n",
       "      <th>17337</th>\n",
       "      <td>Japan</td>\n",
       "      <td>46422145</td>\n",
       "    </tr>\n",
       "  </tbody>\n",
       "</table>\n",
       "</div>"
      ],
      "text/plain": [
       "             country  people_fully_vaccinated\n",
       "36109  United States                168090925\n",
       "15546          India                121270889\n",
       "4934          Brazil                 49297923\n",
       "12777        Germany                 47367929\n",
       "17337          Japan                 46422145"
      ]
     },
     "execution_count": 141,
     "metadata": {},
     "output_type": "execute_result"
    }
   ],
   "source": [
    "vcn_sort.sort_values(by='people_fully_vaccinated', ascending=False).head()"
   ]
  },
  {
   "cell_type": "markdown",
   "metadata": {},
   "source": [
    "Getting China's last update on Vaccination Progress"
   ]
  },
  {
   "cell_type": "code",
   "execution_count": 142,
   "metadata": {
    "scrolled": true
   },
   "outputs": [
    {
     "data": {
      "text/plain": [
       "6928   223299000\n",
       "6991   777046000\n",
       "6751         nan\n",
       "6752         nan\n",
       "6753         nan\n",
       "          ...   \n",
       "6988         nan\n",
       "6989         nan\n",
       "6990         nan\n",
       "6992         nan\n",
       "6993         nan\n",
       "Name: people_fully_vaccinated, Length: 243, dtype: float64"
      ]
     },
     "execution_count": 142,
     "metadata": {},
     "output_type": "execute_result"
    }
   ],
   "source": [
    "vcn[vcn['country'] == 'China']['people_fully_vaccinated'].sort_values()"
   ]
  },
  {
   "cell_type": "markdown",
   "metadata": {},
   "source": [
    "Updating the Vaccination Progress dataset with the lastest China report"
   ]
  },
  {
   "cell_type": "code",
   "execution_count": 143,
   "metadata": {
    "scrolled": false
   },
   "outputs": [
    {
     "data": {
      "text/html": [
       "<div>\n",
       "<style scoped>\n",
       "    .dataframe tbody tr th:only-of-type {\n",
       "        vertical-align: middle;\n",
       "    }\n",
       "\n",
       "    .dataframe tbody tr th {\n",
       "        vertical-align: top;\n",
       "    }\n",
       "\n",
       "    .dataframe thead th {\n",
       "        text-align: right;\n",
       "    }\n",
       "</style>\n",
       "<table border=\"1\" class=\"dataframe\">\n",
       "  <thead>\n",
       "    <tr style=\"text-align: right;\">\n",
       "      <th></th>\n",
       "      <th>country</th>\n",
       "      <th>people_fully_vaccinated</th>\n",
       "    </tr>\n",
       "  </thead>\n",
       "  <tbody>\n",
       "    <tr>\n",
       "      <th>6993</th>\n",
       "      <td>China</td>\n",
       "      <td>223299000</td>\n",
       "    </tr>\n",
       "    <tr>\n",
       "      <th>36109</th>\n",
       "      <td>United States</td>\n",
       "      <td>168090925</td>\n",
       "    </tr>\n",
       "    <tr>\n",
       "      <th>15546</th>\n",
       "      <td>India</td>\n",
       "      <td>121270889</td>\n",
       "    </tr>\n",
       "    <tr>\n",
       "      <th>4934</th>\n",
       "      <td>Brazil</td>\n",
       "      <td>49297923</td>\n",
       "    </tr>\n",
       "    <tr>\n",
       "      <th>12777</th>\n",
       "      <td>Germany</td>\n",
       "      <td>47367929</td>\n",
       "    </tr>\n",
       "  </tbody>\n",
       "</table>\n",
       "</div>"
      ],
      "text/plain": [
       "             country  people_fully_vaccinated\n",
       "6993           China                223299000\n",
       "36109  United States                168090925\n",
       "15546          India                121270889\n",
       "4934          Brazil                 49297923\n",
       "12777        Germany                 47367929"
      ]
     },
     "execution_count": 143,
     "metadata": {},
     "output_type": "execute_result"
    }
   ],
   "source": [
    "china_missing_value = vcn.loc[6928].people_fully_vaccinated\n",
    "vcn_sort2 = vcn_sort.copy(deep=True)\n",
    "vcn_sort2.loc[vcn_sort2['country'] == 'China', 'people_fully_vaccinated'] = china_missing_value\n",
    "vcn_sort2.sort_values(by='people_fully_vaccinated', ascending=False).head()"
   ]
  },
  {
   "cell_type": "markdown",
   "metadata": {},
   "source": [
    "Concatenating both dataframes making sure both have same axis length "
   ]
  },
  {
   "cell_type": "code",
   "execution_count": 145,
   "metadata": {
    "scrolled": true
   },
   "outputs": [],
   "source": [
    "df_both = pd.concat([wp_sort,vcn_sort2])\n",
    "df_both = df_both[df_both.groupby('country').country.transform(len) > 1]\n",
    "df_both = df_both.drop_duplicates('country', keep = 'last')"
   ]
  },
  {
   "cell_type": "markdown",
   "metadata": {},
   "source": [
    "Sorting them out and renaming columns"
   ]
  },
  {
   "cell_type": "code",
   "execution_count": 146,
   "metadata": {},
   "outputs": [
    {
     "data": {
      "text/html": [
       "<div>\n",
       "<style scoped>\n",
       "    .dataframe tbody tr th:only-of-type {\n",
       "        vertical-align: middle;\n",
       "    }\n",
       "\n",
       "    .dataframe tbody tr th {\n",
       "        vertical-align: top;\n",
       "    }\n",
       "\n",
       "    .dataframe thead th {\n",
       "        text-align: right;\n",
       "    }\n",
       "</style>\n",
       "<table border=\"1\" class=\"dataframe\">\n",
       "  <thead>\n",
       "    <tr style=\"text-align: right;\">\n",
       "      <th></th>\n",
       "      <th>country_vaccinations</th>\n",
       "      <th>people_fully_vaccinated</th>\n",
       "    </tr>\n",
       "  </thead>\n",
       "  <tbody>\n",
       "    <tr>\n",
       "      <th>0</th>\n",
       "      <td>Afghanistan</td>\n",
       "      <td>nan</td>\n",
       "    </tr>\n",
       "    <tr>\n",
       "      <th>1</th>\n",
       "      <td>Albania</td>\n",
       "      <td>560007</td>\n",
       "    </tr>\n",
       "    <tr>\n",
       "      <th>2</th>\n",
       "      <td>Algeria</td>\n",
       "      <td>724812</td>\n",
       "    </tr>\n",
       "    <tr>\n",
       "      <th>3</th>\n",
       "      <td>Andorra</td>\n",
       "      <td>33904</td>\n",
       "    </tr>\n",
       "    <tr>\n",
       "      <th>4</th>\n",
       "      <td>Angola</td>\n",
       "      <td>722610</td>\n",
       "    </tr>\n",
       "  </tbody>\n",
       "</table>\n",
       "</div>"
      ],
      "text/plain": [
       "  country_vaccinations  people_fully_vaccinated\n",
       "0          Afghanistan                      nan\n",
       "1              Albania                   560007\n",
       "2              Algeria                   724812\n",
       "3              Andorra                    33904\n",
       "4               Angola                   722610"
      ]
     },
     "execution_count": 146,
     "metadata": {},
     "output_type": "execute_result"
    }
   ],
   "source": [
    "df_both_sort = df_both[['country','people_fully_vaccinated']]\n",
    "df_both_sort = df_both_sort.rename(columns={'country':'country_vaccinations'})\n",
    "df_both_sort.reset_index(drop=True, inplace=True)\n",
    "df_both_sort.head()"
   ]
  },
  {
   "cell_type": "markdown",
   "metadata": {},
   "source": [
    "Concatenating the resulting dataframe to the World Population's"
   ]
  },
  {
   "cell_type": "code",
   "execution_count": 147,
   "metadata": {},
   "outputs": [],
   "source": [
    "wp_2 = pd.concat([wp, df_both])\n",
    "wp_2 = wp_2[wp_2.groupby('country').country.transform(len) > 1]\n",
    "wp_2 = wp_2.drop_duplicates('country', keep = 'first')"
   ]
  },
  {
   "cell_type": "markdown",
   "metadata": {},
   "source": [
    "Sorting them out and renaming columns"
   ]
  },
  {
   "cell_type": "code",
   "execution_count": 148,
   "metadata": {},
   "outputs": [
    {
     "data": {
      "text/html": [
       "<div>\n",
       "<style scoped>\n",
       "    .dataframe tbody tr th:only-of-type {\n",
       "        vertical-align: middle;\n",
       "    }\n",
       "\n",
       "    .dataframe tbody tr th {\n",
       "        vertical-align: top;\n",
       "    }\n",
       "\n",
       "    .dataframe thead th {\n",
       "        text-align: right;\n",
       "    }\n",
       "</style>\n",
       "<table border=\"1\" class=\"dataframe\">\n",
       "  <thead>\n",
       "    <tr style=\"text-align: right;\">\n",
       "      <th></th>\n",
       "      <th>country</th>\n",
       "      <th>2021_last_updated</th>\n",
       "    </tr>\n",
       "  </thead>\n",
       "  <tbody>\n",
       "    <tr>\n",
       "      <th>0</th>\n",
       "      <td>Afghanistan</td>\n",
       "      <td>39,929,284</td>\n",
       "    </tr>\n",
       "    <tr>\n",
       "      <th>1</th>\n",
       "      <td>Albania</td>\n",
       "      <td>2,872,370</td>\n",
       "    </tr>\n",
       "    <tr>\n",
       "      <th>2</th>\n",
       "      <td>Algeria</td>\n",
       "      <td>44,694,125</td>\n",
       "    </tr>\n",
       "    <tr>\n",
       "      <th>3</th>\n",
       "      <td>Andorra</td>\n",
       "      <td>77,355</td>\n",
       "    </tr>\n",
       "    <tr>\n",
       "      <th>4</th>\n",
       "      <td>Angola</td>\n",
       "      <td>34,043,709</td>\n",
       "    </tr>\n",
       "  </tbody>\n",
       "</table>\n",
       "</div>"
      ],
      "text/plain": [
       "       country 2021_last_updated\n",
       "0  Afghanistan        39,929,284\n",
       "1      Albania         2,872,370\n",
       "2      Algeria        44,694,125\n",
       "3      Andorra            77,355\n",
       "4       Angola        34,043,709"
      ]
     },
     "execution_count": 148,
     "metadata": {},
     "output_type": "execute_result"
    }
   ],
   "source": [
    "wp_2_sort = wp_2[['country','2021_last_updated']]\n",
    "wp_2_sort = wp_2_sort.sort_values('country')\n",
    "wp_2_sort.reset_index(drop=True,inplace=True)\n",
    "wp_2_sort.head()"
   ]
  },
  {
   "cell_type": "markdown",
   "metadata": {},
   "source": [
    "Concatenating the clean and sorted new dataframes"
   ]
  },
  {
   "cell_type": "code",
   "execution_count": 149,
   "metadata": {},
   "outputs": [
    {
     "data": {
      "text/html": [
       "<div>\n",
       "<style scoped>\n",
       "    .dataframe tbody tr th:only-of-type {\n",
       "        vertical-align: middle;\n",
       "    }\n",
       "\n",
       "    .dataframe tbody tr th {\n",
       "        vertical-align: top;\n",
       "    }\n",
       "\n",
       "    .dataframe thead th {\n",
       "        text-align: right;\n",
       "    }\n",
       "</style>\n",
       "<table border=\"1\" class=\"dataframe\">\n",
       "  <thead>\n",
       "    <tr style=\"text-align: right;\">\n",
       "      <th></th>\n",
       "      <th>country</th>\n",
       "      <th>2021_last_updated</th>\n",
       "      <th>country_vaccinations</th>\n",
       "      <th>people_fully_vaccinated</th>\n",
       "    </tr>\n",
       "  </thead>\n",
       "  <tbody>\n",
       "    <tr>\n",
       "      <th>0</th>\n",
       "      <td>Afghanistan</td>\n",
       "      <td>39,929,284</td>\n",
       "      <td>Afghanistan</td>\n",
       "      <td>nan</td>\n",
       "    </tr>\n",
       "    <tr>\n",
       "      <th>1</th>\n",
       "      <td>Albania</td>\n",
       "      <td>2,872,370</td>\n",
       "      <td>Albania</td>\n",
       "      <td>560007</td>\n",
       "    </tr>\n",
       "    <tr>\n",
       "      <th>2</th>\n",
       "      <td>Algeria</td>\n",
       "      <td>44,694,125</td>\n",
       "      <td>Algeria</td>\n",
       "      <td>724812</td>\n",
       "    </tr>\n",
       "    <tr>\n",
       "      <th>3</th>\n",
       "      <td>Andorra</td>\n",
       "      <td>77,355</td>\n",
       "      <td>Andorra</td>\n",
       "      <td>33904</td>\n",
       "    </tr>\n",
       "    <tr>\n",
       "      <th>4</th>\n",
       "      <td>Angola</td>\n",
       "      <td>34,043,709</td>\n",
       "      <td>Angola</td>\n",
       "      <td>722610</td>\n",
       "    </tr>\n",
       "  </tbody>\n",
       "</table>\n",
       "</div>"
      ],
      "text/plain": [
       "       country 2021_last_updated country_vaccinations  people_fully_vaccinated\n",
       "0  Afghanistan        39,929,284          Afghanistan                      nan\n",
       "1      Albania         2,872,370              Albania                   560007\n",
       "2      Algeria        44,694,125              Algeria                   724812\n",
       "3      Andorra            77,355              Andorra                    33904\n",
       "4       Angola        34,043,709               Angola                   722610"
      ]
     },
     "execution_count": 149,
     "metadata": {},
     "output_type": "execute_result"
    }
   ],
   "source": [
    "main1 = pd.concat([wp_2_sort,df_both_sort],axis=1)\n",
    "main1.head()"
   ]
  },
  {
   "cell_type": "markdown",
   "metadata": {},
   "source": [
    "### Checking the Main Dataframe for nulls and data type"
   ]
  },
  {
   "cell_type": "code",
   "execution_count": 22,
   "metadata": {},
   "outputs": [
    {
     "data": {
      "text/plain": [
       "country                     0\n",
       "2021_last_updated           0\n",
       "country_vaccinations        0\n",
       "people_fully_vaccinated    19\n",
       "dtype: int64"
      ]
     },
     "execution_count": 22,
     "metadata": {},
     "output_type": "execute_result"
    }
   ],
   "source": [
    "main1.isna().sum()"
   ]
  },
  {
   "cell_type": "markdown",
   "metadata": {},
   "source": [
    "Dropping the nulls"
   ]
  },
  {
   "cell_type": "code",
   "execution_count": 150,
   "metadata": {},
   "outputs": [
    {
     "data": {
      "text/html": [
       "<div>\n",
       "<style scoped>\n",
       "    .dataframe tbody tr th:only-of-type {\n",
       "        vertical-align: middle;\n",
       "    }\n",
       "\n",
       "    .dataframe tbody tr th {\n",
       "        vertical-align: top;\n",
       "    }\n",
       "\n",
       "    .dataframe thead th {\n",
       "        text-align: right;\n",
       "    }\n",
       "</style>\n",
       "<table border=\"1\" class=\"dataframe\">\n",
       "  <thead>\n",
       "    <tr style=\"text-align: right;\">\n",
       "      <th></th>\n",
       "      <th>index</th>\n",
       "      <th>country</th>\n",
       "      <th>2021_last_updated</th>\n",
       "      <th>country_vaccinations</th>\n",
       "      <th>people_fully_vaccinated</th>\n",
       "    </tr>\n",
       "  </thead>\n",
       "  <tbody>\n",
       "    <tr>\n",
       "      <th>0</th>\n",
       "      <td>1</td>\n",
       "      <td>Albania</td>\n",
       "      <td>2,872,370</td>\n",
       "      <td>Albania</td>\n",
       "      <td>560007</td>\n",
       "    </tr>\n",
       "    <tr>\n",
       "      <th>1</th>\n",
       "      <td>2</td>\n",
       "      <td>Algeria</td>\n",
       "      <td>44,694,125</td>\n",
       "      <td>Algeria</td>\n",
       "      <td>724812</td>\n",
       "    </tr>\n",
       "    <tr>\n",
       "      <th>2</th>\n",
       "      <td>3</td>\n",
       "      <td>Andorra</td>\n",
       "      <td>77,355</td>\n",
       "      <td>Andorra</td>\n",
       "      <td>33904</td>\n",
       "    </tr>\n",
       "    <tr>\n",
       "      <th>3</th>\n",
       "      <td>4</td>\n",
       "      <td>Angola</td>\n",
       "      <td>34,043,709</td>\n",
       "      <td>Angola</td>\n",
       "      <td>722610</td>\n",
       "    </tr>\n",
       "    <tr>\n",
       "      <th>4</th>\n",
       "      <td>5</td>\n",
       "      <td>Anguilla</td>\n",
       "      <td>15,117</td>\n",
       "      <td>Anguilla</td>\n",
       "      <td>8965</td>\n",
       "    </tr>\n",
       "  </tbody>\n",
       "</table>\n",
       "</div>"
      ],
      "text/plain": [
       "   index   country 2021_last_updated country_vaccinations  \\\n",
       "0      1   Albania         2,872,370              Albania   \n",
       "1      2   Algeria        44,694,125              Algeria   \n",
       "2      3   Andorra            77,355              Andorra   \n",
       "3      4    Angola        34,043,709               Angola   \n",
       "4      5  Anguilla            15,117             Anguilla   \n",
       "\n",
       "   people_fully_vaccinated  \n",
       "0                   560007  \n",
       "1                   724812  \n",
       "2                    33904  \n",
       "3                   722610  \n",
       "4                     8965  "
      ]
     },
     "execution_count": 150,
     "metadata": {},
     "output_type": "execute_result"
    }
   ],
   "source": [
    "main1 = main1.dropna()\n",
    "main1 = main1.reset_index()\n",
    "main1.head()"
   ]
  },
  {
   "cell_type": "code",
   "execution_count": 24,
   "metadata": {},
   "outputs": [
    {
     "name": "stdout",
     "output_type": "stream",
     "text": [
      "<class 'pandas.core.frame.DataFrame'>\n",
      "RangeIndex: 172 entries, 0 to 171\n",
      "Data columns (total 5 columns):\n",
      " #   Column                   Non-Null Count  Dtype  \n",
      "---  ------                   --------------  -----  \n",
      " 0   index                    172 non-null    int64  \n",
      " 1   country                  172 non-null    object \n",
      " 2   2021_last_updated        172 non-null    object \n",
      " 3   country_vaccinations     172 non-null    object \n",
      " 4   people_fully_vaccinated  172 non-null    float64\n",
      "dtypes: float64(1), int64(1), object(3)\n",
      "memory usage: 6.8+ KB\n"
     ]
    }
   ],
   "source": [
    "main1.info()"
   ]
  },
  {
   "cell_type": "markdown",
   "metadata": {},
   "source": [
    "Converting the 2021_last_updated column from object to float"
   ]
  },
  {
   "cell_type": "code",
   "execution_count": 151,
   "metadata": {},
   "outputs": [
    {
     "data": {
      "text/html": [
       "<div>\n",
       "<style scoped>\n",
       "    .dataframe tbody tr th:only-of-type {\n",
       "        vertical-align: middle;\n",
       "    }\n",
       "\n",
       "    .dataframe tbody tr th {\n",
       "        vertical-align: top;\n",
       "    }\n",
       "\n",
       "    .dataframe thead th {\n",
       "        text-align: right;\n",
       "    }\n",
       "</style>\n",
       "<table border=\"1\" class=\"dataframe\">\n",
       "  <thead>\n",
       "    <tr style=\"text-align: right;\">\n",
       "      <th></th>\n",
       "      <th>index</th>\n",
       "      <th>country</th>\n",
       "      <th>2021_last_updated</th>\n",
       "      <th>country_vaccinations</th>\n",
       "      <th>people_fully_vaccinated</th>\n",
       "    </tr>\n",
       "  </thead>\n",
       "  <tbody>\n",
       "    <tr>\n",
       "      <th>0</th>\n",
       "      <td>1</td>\n",
       "      <td>Albania</td>\n",
       "      <td>2872370</td>\n",
       "      <td>Albania</td>\n",
       "      <td>560007</td>\n",
       "    </tr>\n",
       "    <tr>\n",
       "      <th>1</th>\n",
       "      <td>2</td>\n",
       "      <td>Algeria</td>\n",
       "      <td>44694125</td>\n",
       "      <td>Algeria</td>\n",
       "      <td>724812</td>\n",
       "    </tr>\n",
       "    <tr>\n",
       "      <th>2</th>\n",
       "      <td>3</td>\n",
       "      <td>Andorra</td>\n",
       "      <td>77355</td>\n",
       "      <td>Andorra</td>\n",
       "      <td>33904</td>\n",
       "    </tr>\n",
       "    <tr>\n",
       "      <th>3</th>\n",
       "      <td>4</td>\n",
       "      <td>Angola</td>\n",
       "      <td>34043709</td>\n",
       "      <td>Angola</td>\n",
       "      <td>722610</td>\n",
       "    </tr>\n",
       "    <tr>\n",
       "      <th>4</th>\n",
       "      <td>5</td>\n",
       "      <td>Anguilla</td>\n",
       "      <td>15117</td>\n",
       "      <td>Anguilla</td>\n",
       "      <td>8965</td>\n",
       "    </tr>\n",
       "    <tr>\n",
       "      <th>...</th>\n",
       "      <td>...</td>\n",
       "      <td>...</td>\n",
       "      <td>...</td>\n",
       "      <td>...</td>\n",
       "      <td>...</td>\n",
       "    </tr>\n",
       "    <tr>\n",
       "      <th>167</th>\n",
       "      <td>186</td>\n",
       "      <td>Venezuela</td>\n",
       "      <td>28728962</td>\n",
       "      <td>Venezuela</td>\n",
       "      <td>1100000</td>\n",
       "    </tr>\n",
       "    <tr>\n",
       "      <th>168</th>\n",
       "      <td>187</td>\n",
       "      <td>Vietnam</td>\n",
       "      <td>98253611</td>\n",
       "      <td>Vietnam</td>\n",
       "      <td>1271973</td>\n",
       "    </tr>\n",
       "    <tr>\n",
       "      <th>169</th>\n",
       "      <td>188</td>\n",
       "      <td>Yemen</td>\n",
       "      <td>30558838</td>\n",
       "      <td>Yemen</td>\n",
       "      <td>13322</td>\n",
       "    </tr>\n",
       "    <tr>\n",
       "      <th>170</th>\n",
       "      <td>189</td>\n",
       "      <td>Zambia</td>\n",
       "      <td>18975907</td>\n",
       "      <td>Zambia</td>\n",
       "      <td>212694</td>\n",
       "    </tr>\n",
       "    <tr>\n",
       "      <th>171</th>\n",
       "      <td>190</td>\n",
       "      <td>Zimbabwe</td>\n",
       "      <td>15116142</td>\n",
       "      <td>Zimbabwe</td>\n",
       "      <td>1180207</td>\n",
       "    </tr>\n",
       "  </tbody>\n",
       "</table>\n",
       "<p>172 rows × 5 columns</p>\n",
       "</div>"
      ],
      "text/plain": [
       "     index    country  2021_last_updated country_vaccinations  \\\n",
       "0        1    Albania            2872370              Albania   \n",
       "1        2    Algeria           44694125              Algeria   \n",
       "2        3    Andorra              77355              Andorra   \n",
       "3        4     Angola           34043709               Angola   \n",
       "4        5   Anguilla              15117             Anguilla   \n",
       "..     ...        ...                ...                  ...   \n",
       "167    186  Venezuela           28728962            Venezuela   \n",
       "168    187    Vietnam           98253611              Vietnam   \n",
       "169    188      Yemen           30558838                Yemen   \n",
       "170    189     Zambia           18975907               Zambia   \n",
       "171    190   Zimbabwe           15116142             Zimbabwe   \n",
       "\n",
       "     people_fully_vaccinated  \n",
       "0                     560007  \n",
       "1                     724812  \n",
       "2                      33904  \n",
       "3                     722610  \n",
       "4                       8965  \n",
       "..                       ...  \n",
       "167                  1100000  \n",
       "168                  1271973  \n",
       "169                    13322  \n",
       "170                   212694  \n",
       "171                  1180207  \n",
       "\n",
       "[172 rows x 5 columns]"
      ]
     },
     "execution_count": 151,
     "metadata": {},
     "output_type": "execute_result"
    }
   ],
   "source": [
    "main1.replace(',','',regex=True,inplace=True)\n",
    "main1['2021_last_updated'] = main1['2021_last_updated'].map(lambda x: float(x))\n",
    "main1"
   ]
  },
  {
   "cell_type": "code",
   "execution_count": 26,
   "metadata": {},
   "outputs": [
    {
     "name": "stdout",
     "output_type": "stream",
     "text": [
      "<class 'pandas.core.frame.DataFrame'>\n",
      "RangeIndex: 172 entries, 0 to 171\n",
      "Data columns (total 5 columns):\n",
      " #   Column                   Non-Null Count  Dtype  \n",
      "---  ------                   --------------  -----  \n",
      " 0   index                    172 non-null    int64  \n",
      " 1   country                  172 non-null    object \n",
      " 2   2021_last_updated        172 non-null    float64\n",
      " 3   country_vaccinations     172 non-null    object \n",
      " 4   people_fully_vaccinated  172 non-null    float64\n",
      "dtypes: float64(2), int64(1), object(2)\n",
      "memory usage: 6.8+ KB\n"
     ]
    }
   ],
   "source": [
    "main1.info()"
   ]
  },
  {
   "cell_type": "markdown",
   "metadata": {},
   "source": [
    "Checking for data logic compliance and cleaning any non-compliance"
   ]
  },
  {
   "cell_type": "code",
   "execution_count": 152,
   "metadata": {},
   "outputs": [
    {
     "data": {
      "text/html": [
       "<div>\n",
       "<style scoped>\n",
       "    .dataframe tbody tr th:only-of-type {\n",
       "        vertical-align: middle;\n",
       "    }\n",
       "\n",
       "    .dataframe tbody tr th {\n",
       "        vertical-align: top;\n",
       "    }\n",
       "\n",
       "    .dataframe thead th {\n",
       "        text-align: right;\n",
       "    }\n",
       "</style>\n",
       "<table border=\"1\" class=\"dataframe\">\n",
       "  <thead>\n",
       "    <tr style=\"text-align: right;\">\n",
       "      <th></th>\n",
       "      <th>index</th>\n",
       "      <th>country</th>\n",
       "      <th>2021_last_updated</th>\n",
       "      <th>country_vaccinations</th>\n",
       "      <th>people_fully_vaccinated</th>\n",
       "    </tr>\n",
       "  </thead>\n",
       "  <tbody>\n",
       "    <tr>\n",
       "      <th>62</th>\n",
       "      <td>65</td>\n",
       "      <td>Gibraltar</td>\n",
       "      <td>33698</td>\n",
       "      <td>Gibraltar</td>\n",
       "      <td>39168</td>\n",
       "    </tr>\n",
       "  </tbody>\n",
       "</table>\n",
       "</div>"
      ],
      "text/plain": [
       "    index    country  2021_last_updated country_vaccinations  \\\n",
       "62     65  Gibraltar              33698            Gibraltar   \n",
       "\n",
       "    people_fully_vaccinated  \n",
       "62                    39168  "
      ]
     },
     "execution_count": 152,
     "metadata": {},
     "output_type": "execute_result"
    }
   ],
   "source": [
    "main1[main1['2021_last_updated'] < main1['people_fully_vaccinated']]"
   ]
  },
  {
   "cell_type": "code",
   "execution_count": 28,
   "metadata": {},
   "outputs": [],
   "source": [
    "main1 = main1.drop(index=[62])"
   ]
  },
  {
   "cell_type": "markdown",
   "metadata": {},
   "source": [
    "## Data Analysis"
   ]
  },
  {
   "cell_type": "markdown",
   "metadata": {},
   "source": [
    "### Top 5 Countries in terms of Total Number of Vaccines Administered"
   ]
  },
  {
   "cell_type": "code",
   "execution_count": 29,
   "metadata": {},
   "outputs": [
    {
     "data": {
      "text/html": [
       "<div>\n",
       "<style scoped>\n",
       "    .dataframe tbody tr th:only-of-type {\n",
       "        vertical-align: middle;\n",
       "    }\n",
       "\n",
       "    .dataframe tbody tr th {\n",
       "        vertical-align: top;\n",
       "    }\n",
       "\n",
       "    .dataframe thead th {\n",
       "        text-align: right;\n",
       "    }\n",
       "</style>\n",
       "<table border=\"1\" class=\"dataframe\">\n",
       "  <thead>\n",
       "    <tr style=\"text-align: right;\">\n",
       "      <th></th>\n",
       "      <th>country</th>\n",
       "      <th>total_vaccinations</th>\n",
       "    </tr>\n",
       "  </thead>\n",
       "  <tbody>\n",
       "    <tr>\n",
       "      <th>40</th>\n",
       "      <td>China</td>\n",
       "      <td>1853839000</td>\n",
       "    </tr>\n",
       "    <tr>\n",
       "      <th>90</th>\n",
       "      <td>India</td>\n",
       "      <td>543846290</td>\n",
       "    </tr>\n",
       "    <tr>\n",
       "      <th>211</th>\n",
       "      <td>United States</td>\n",
       "      <td>355768825</td>\n",
       "    </tr>\n",
       "    <tr>\n",
       "      <th>27</th>\n",
       "      <td>Brazil</td>\n",
       "      <td>163452602</td>\n",
       "    </tr>\n",
       "    <tr>\n",
       "      <th>99</th>\n",
       "      <td>Japan</td>\n",
       "      <td>108179498</td>\n",
       "    </tr>\n",
       "  </tbody>\n",
       "</table>\n",
       "</div>"
      ],
      "text/plain": [
       "           country  total_vaccinations\n",
       "40           China          1853839000\n",
       "90           India           543846290\n",
       "211  United States           355768825\n",
       "27          Brazil           163452602\n",
       "99           Japan           108179498"
      ]
     },
     "execution_count": 29,
     "metadata": {},
     "output_type": "execute_result"
    }
   ],
   "source": [
    "tnva = vcn.groupby('country')['total_vaccinations'].max().reset_index()\n",
    "tnva_sort = tnva.sort_values('total_vaccinations',ascending=False).head(5)\n",
    "pd.set_option('display.float_format', lambda x: '%.0f'% x)\n",
    "tnva_sort.head()"
   ]
  },
  {
   "cell_type": "code",
   "execution_count": 122,
   "metadata": {
    "scrolled": false
   },
   "outputs": [
    {
     "data": {
      "application/vnd.plotly.v1+json": {
       "config": {
        "plotlyServerURL": "https://plot.ly"
       },
       "data": [
        {
         "alignmentgroup": "True",
         "hovertemplate": "Country=%{x}<br>Total Number of Vaccines Administered=%{marker.color}<extra></extra>",
         "legendgroup": "",
         "marker": {
          "color": [
           1853839000,
           543846290,
           355768825,
           163452602,
           108179498
          ],
          "coloraxis": "coloraxis",
          "pattern": {
           "shape": ""
          }
         },
         "name": "",
         "offsetgroup": "",
         "orientation": "v",
         "showlegend": false,
         "textposition": "auto",
         "type": "bar",
         "x": [
          "China",
          "India",
          "United States",
          "Brazil",
          "Japan"
         ],
         "xaxis": "x",
         "y": [
          1853839000,
          543846290,
          355768825,
          163452602,
          108179498
         ],
         "yaxis": "y"
        }
       ],
       "layout": {
        "barmode": "relative",
        "coloraxis": {
         "colorbar": {
          "title": {
           "text": "Total Number of Vaccines Administered"
          }
         },
         "colorscale": [
          [
           0,
           "#0d0887"
          ],
          [
           0.1111111111111111,
           "#46039f"
          ],
          [
           0.2222222222222222,
           "#7201a8"
          ],
          [
           0.3333333333333333,
           "#9c179e"
          ],
          [
           0.4444444444444444,
           "#bd3786"
          ],
          [
           0.5555555555555556,
           "#d8576b"
          ],
          [
           0.6666666666666666,
           "#ed7953"
          ],
          [
           0.7777777777777778,
           "#fb9f3a"
          ],
          [
           0.8888888888888888,
           "#fdca26"
          ],
          [
           1,
           "#f0f921"
          ]
         ]
        },
        "legend": {
         "tracegroupgap": 0
        },
        "template": {
         "data": {
          "bar": [
           {
            "error_x": {
             "color": "#2a3f5f"
            },
            "error_y": {
             "color": "#2a3f5f"
            },
            "marker": {
             "line": {
              "color": "#E5ECF6",
              "width": 0.5
             },
             "pattern": {
              "fillmode": "overlay",
              "size": 10,
              "solidity": 0.2
             }
            },
            "type": "bar"
           }
          ],
          "barpolar": [
           {
            "marker": {
             "line": {
              "color": "#E5ECF6",
              "width": 0.5
             },
             "pattern": {
              "fillmode": "overlay",
              "size": 10,
              "solidity": 0.2
             }
            },
            "type": "barpolar"
           }
          ],
          "carpet": [
           {
            "aaxis": {
             "endlinecolor": "#2a3f5f",
             "gridcolor": "white",
             "linecolor": "white",
             "minorgridcolor": "white",
             "startlinecolor": "#2a3f5f"
            },
            "baxis": {
             "endlinecolor": "#2a3f5f",
             "gridcolor": "white",
             "linecolor": "white",
             "minorgridcolor": "white",
             "startlinecolor": "#2a3f5f"
            },
            "type": "carpet"
           }
          ],
          "choropleth": [
           {
            "colorbar": {
             "outlinewidth": 0,
             "ticks": ""
            },
            "type": "choropleth"
           }
          ],
          "contour": [
           {
            "colorbar": {
             "outlinewidth": 0,
             "ticks": ""
            },
            "colorscale": [
             [
              0,
              "#0d0887"
             ],
             [
              0.1111111111111111,
              "#46039f"
             ],
             [
              0.2222222222222222,
              "#7201a8"
             ],
             [
              0.3333333333333333,
              "#9c179e"
             ],
             [
              0.4444444444444444,
              "#bd3786"
             ],
             [
              0.5555555555555556,
              "#d8576b"
             ],
             [
              0.6666666666666666,
              "#ed7953"
             ],
             [
              0.7777777777777778,
              "#fb9f3a"
             ],
             [
              0.8888888888888888,
              "#fdca26"
             ],
             [
              1,
              "#f0f921"
             ]
            ],
            "type": "contour"
           }
          ],
          "contourcarpet": [
           {
            "colorbar": {
             "outlinewidth": 0,
             "ticks": ""
            },
            "type": "contourcarpet"
           }
          ],
          "heatmap": [
           {
            "colorbar": {
             "outlinewidth": 0,
             "ticks": ""
            },
            "colorscale": [
             [
              0,
              "#0d0887"
             ],
             [
              0.1111111111111111,
              "#46039f"
             ],
             [
              0.2222222222222222,
              "#7201a8"
             ],
             [
              0.3333333333333333,
              "#9c179e"
             ],
             [
              0.4444444444444444,
              "#bd3786"
             ],
             [
              0.5555555555555556,
              "#d8576b"
             ],
             [
              0.6666666666666666,
              "#ed7953"
             ],
             [
              0.7777777777777778,
              "#fb9f3a"
             ],
             [
              0.8888888888888888,
              "#fdca26"
             ],
             [
              1,
              "#f0f921"
             ]
            ],
            "type": "heatmap"
           }
          ],
          "heatmapgl": [
           {
            "colorbar": {
             "outlinewidth": 0,
             "ticks": ""
            },
            "colorscale": [
             [
              0,
              "#0d0887"
             ],
             [
              0.1111111111111111,
              "#46039f"
             ],
             [
              0.2222222222222222,
              "#7201a8"
             ],
             [
              0.3333333333333333,
              "#9c179e"
             ],
             [
              0.4444444444444444,
              "#bd3786"
             ],
             [
              0.5555555555555556,
              "#d8576b"
             ],
             [
              0.6666666666666666,
              "#ed7953"
             ],
             [
              0.7777777777777778,
              "#fb9f3a"
             ],
             [
              0.8888888888888888,
              "#fdca26"
             ],
             [
              1,
              "#f0f921"
             ]
            ],
            "type": "heatmapgl"
           }
          ],
          "histogram": [
           {
            "marker": {
             "pattern": {
              "fillmode": "overlay",
              "size": 10,
              "solidity": 0.2
             }
            },
            "type": "histogram"
           }
          ],
          "histogram2d": [
           {
            "colorbar": {
             "outlinewidth": 0,
             "ticks": ""
            },
            "colorscale": [
             [
              0,
              "#0d0887"
             ],
             [
              0.1111111111111111,
              "#46039f"
             ],
             [
              0.2222222222222222,
              "#7201a8"
             ],
             [
              0.3333333333333333,
              "#9c179e"
             ],
             [
              0.4444444444444444,
              "#bd3786"
             ],
             [
              0.5555555555555556,
              "#d8576b"
             ],
             [
              0.6666666666666666,
              "#ed7953"
             ],
             [
              0.7777777777777778,
              "#fb9f3a"
             ],
             [
              0.8888888888888888,
              "#fdca26"
             ],
             [
              1,
              "#f0f921"
             ]
            ],
            "type": "histogram2d"
           }
          ],
          "histogram2dcontour": [
           {
            "colorbar": {
             "outlinewidth": 0,
             "ticks": ""
            },
            "colorscale": [
             [
              0,
              "#0d0887"
             ],
             [
              0.1111111111111111,
              "#46039f"
             ],
             [
              0.2222222222222222,
              "#7201a8"
             ],
             [
              0.3333333333333333,
              "#9c179e"
             ],
             [
              0.4444444444444444,
              "#bd3786"
             ],
             [
              0.5555555555555556,
              "#d8576b"
             ],
             [
              0.6666666666666666,
              "#ed7953"
             ],
             [
              0.7777777777777778,
              "#fb9f3a"
             ],
             [
              0.8888888888888888,
              "#fdca26"
             ],
             [
              1,
              "#f0f921"
             ]
            ],
            "type": "histogram2dcontour"
           }
          ],
          "mesh3d": [
           {
            "colorbar": {
             "outlinewidth": 0,
             "ticks": ""
            },
            "type": "mesh3d"
           }
          ],
          "parcoords": [
           {
            "line": {
             "colorbar": {
              "outlinewidth": 0,
              "ticks": ""
             }
            },
            "type": "parcoords"
           }
          ],
          "pie": [
           {
            "automargin": true,
            "type": "pie"
           }
          ],
          "scatter": [
           {
            "marker": {
             "colorbar": {
              "outlinewidth": 0,
              "ticks": ""
             }
            },
            "type": "scatter"
           }
          ],
          "scatter3d": [
           {
            "line": {
             "colorbar": {
              "outlinewidth": 0,
              "ticks": ""
             }
            },
            "marker": {
             "colorbar": {
              "outlinewidth": 0,
              "ticks": ""
             }
            },
            "type": "scatter3d"
           }
          ],
          "scattercarpet": [
           {
            "marker": {
             "colorbar": {
              "outlinewidth": 0,
              "ticks": ""
             }
            },
            "type": "scattercarpet"
           }
          ],
          "scattergeo": [
           {
            "marker": {
             "colorbar": {
              "outlinewidth": 0,
              "ticks": ""
             }
            },
            "type": "scattergeo"
           }
          ],
          "scattergl": [
           {
            "marker": {
             "colorbar": {
              "outlinewidth": 0,
              "ticks": ""
             }
            },
            "type": "scattergl"
           }
          ],
          "scattermapbox": [
           {
            "marker": {
             "colorbar": {
              "outlinewidth": 0,
              "ticks": ""
             }
            },
            "type": "scattermapbox"
           }
          ],
          "scatterpolar": [
           {
            "marker": {
             "colorbar": {
              "outlinewidth": 0,
              "ticks": ""
             }
            },
            "type": "scatterpolar"
           }
          ],
          "scatterpolargl": [
           {
            "marker": {
             "colorbar": {
              "outlinewidth": 0,
              "ticks": ""
             }
            },
            "type": "scatterpolargl"
           }
          ],
          "scatterternary": [
           {
            "marker": {
             "colorbar": {
              "outlinewidth": 0,
              "ticks": ""
             }
            },
            "type": "scatterternary"
           }
          ],
          "surface": [
           {
            "colorbar": {
             "outlinewidth": 0,
             "ticks": ""
            },
            "colorscale": [
             [
              0,
              "#0d0887"
             ],
             [
              0.1111111111111111,
              "#46039f"
             ],
             [
              0.2222222222222222,
              "#7201a8"
             ],
             [
              0.3333333333333333,
              "#9c179e"
             ],
             [
              0.4444444444444444,
              "#bd3786"
             ],
             [
              0.5555555555555556,
              "#d8576b"
             ],
             [
              0.6666666666666666,
              "#ed7953"
             ],
             [
              0.7777777777777778,
              "#fb9f3a"
             ],
             [
              0.8888888888888888,
              "#fdca26"
             ],
             [
              1,
              "#f0f921"
             ]
            ],
            "type": "surface"
           }
          ],
          "table": [
           {
            "cells": {
             "fill": {
              "color": "#EBF0F8"
             },
             "line": {
              "color": "white"
             }
            },
            "header": {
             "fill": {
              "color": "#C8D4E3"
             },
             "line": {
              "color": "white"
             }
            },
            "type": "table"
           }
          ]
         },
         "layout": {
          "annotationdefaults": {
           "arrowcolor": "#2a3f5f",
           "arrowhead": 0,
           "arrowwidth": 1
          },
          "autotypenumbers": "strict",
          "coloraxis": {
           "colorbar": {
            "outlinewidth": 0,
            "ticks": ""
           }
          },
          "colorscale": {
           "diverging": [
            [
             0,
             "#8e0152"
            ],
            [
             0.1,
             "#c51b7d"
            ],
            [
             0.2,
             "#de77ae"
            ],
            [
             0.3,
             "#f1b6da"
            ],
            [
             0.4,
             "#fde0ef"
            ],
            [
             0.5,
             "#f7f7f7"
            ],
            [
             0.6,
             "#e6f5d0"
            ],
            [
             0.7,
             "#b8e186"
            ],
            [
             0.8,
             "#7fbc41"
            ],
            [
             0.9,
             "#4d9221"
            ],
            [
             1,
             "#276419"
            ]
           ],
           "sequential": [
            [
             0,
             "#0d0887"
            ],
            [
             0.1111111111111111,
             "#46039f"
            ],
            [
             0.2222222222222222,
             "#7201a8"
            ],
            [
             0.3333333333333333,
             "#9c179e"
            ],
            [
             0.4444444444444444,
             "#bd3786"
            ],
            [
             0.5555555555555556,
             "#d8576b"
            ],
            [
             0.6666666666666666,
             "#ed7953"
            ],
            [
             0.7777777777777778,
             "#fb9f3a"
            ],
            [
             0.8888888888888888,
             "#fdca26"
            ],
            [
             1,
             "#f0f921"
            ]
           ],
           "sequentialminus": [
            [
             0,
             "#0d0887"
            ],
            [
             0.1111111111111111,
             "#46039f"
            ],
            [
             0.2222222222222222,
             "#7201a8"
            ],
            [
             0.3333333333333333,
             "#9c179e"
            ],
            [
             0.4444444444444444,
             "#bd3786"
            ],
            [
             0.5555555555555556,
             "#d8576b"
            ],
            [
             0.6666666666666666,
             "#ed7953"
            ],
            [
             0.7777777777777778,
             "#fb9f3a"
            ],
            [
             0.8888888888888888,
             "#fdca26"
            ],
            [
             1,
             "#f0f921"
            ]
           ]
          },
          "colorway": [
           "#636efa",
           "#EF553B",
           "#00cc96",
           "#ab63fa",
           "#FFA15A",
           "#19d3f3",
           "#FF6692",
           "#B6E880",
           "#FF97FF",
           "#FECB52"
          ],
          "font": {
           "color": "#2a3f5f"
          },
          "geo": {
           "bgcolor": "white",
           "lakecolor": "white",
           "landcolor": "#E5ECF6",
           "showlakes": true,
           "showland": true,
           "subunitcolor": "white"
          },
          "hoverlabel": {
           "align": "left"
          },
          "hovermode": "closest",
          "mapbox": {
           "style": "light"
          },
          "paper_bgcolor": "white",
          "plot_bgcolor": "#E5ECF6",
          "polar": {
           "angularaxis": {
            "gridcolor": "white",
            "linecolor": "white",
            "ticks": ""
           },
           "bgcolor": "#E5ECF6",
           "radialaxis": {
            "gridcolor": "white",
            "linecolor": "white",
            "ticks": ""
           }
          },
          "scene": {
           "xaxis": {
            "backgroundcolor": "#E5ECF6",
            "gridcolor": "white",
            "gridwidth": 2,
            "linecolor": "white",
            "showbackground": true,
            "ticks": "",
            "zerolinecolor": "white"
           },
           "yaxis": {
            "backgroundcolor": "#E5ECF6",
            "gridcolor": "white",
            "gridwidth": 2,
            "linecolor": "white",
            "showbackground": true,
            "ticks": "",
            "zerolinecolor": "white"
           },
           "zaxis": {
            "backgroundcolor": "#E5ECF6",
            "gridcolor": "white",
            "gridwidth": 2,
            "linecolor": "white",
            "showbackground": true,
            "ticks": "",
            "zerolinecolor": "white"
           }
          },
          "shapedefaults": {
           "line": {
            "color": "#2a3f5f"
           }
          },
          "ternary": {
           "aaxis": {
            "gridcolor": "white",
            "linecolor": "white",
            "ticks": ""
           },
           "baxis": {
            "gridcolor": "white",
            "linecolor": "white",
            "ticks": ""
           },
           "bgcolor": "#E5ECF6",
           "caxis": {
            "gridcolor": "white",
            "linecolor": "white",
            "ticks": ""
           }
          },
          "title": {
           "x": 0.05
          },
          "xaxis": {
           "automargin": true,
           "gridcolor": "white",
           "linecolor": "white",
           "ticks": "",
           "title": {
            "standoff": 15
           },
           "zerolinecolor": "white",
           "zerolinewidth": 2
          },
          "yaxis": {
           "automargin": true,
           "gridcolor": "white",
           "linecolor": "white",
           "ticks": "",
           "title": {
            "standoff": 15
           },
           "zerolinecolor": "white",
           "zerolinewidth": 2
          }
         }
        },
        "title": {
         "text": "Top 5 Countries in terms of Number of Vaccines Administered"
        },
        "xaxis": {
         "anchor": "y",
         "domain": [
          0,
          1
         ],
         "title": {
          "text": "Country"
         }
        },
        "yaxis": {
         "anchor": "x",
         "domain": [
          0,
          1
         ],
         "title": {
          "text": "Total Number of Vaccines Administered"
         }
        }
       }
      },
      "text/html": [
       "<div>                            <div id=\"c693f0e8-c769-4c6d-a172-1d26f881b6d7\" class=\"plotly-graph-div\" style=\"height:525px; width:100%;\"></div>            <script type=\"text/javascript\">                require([\"plotly\"], function(Plotly) {                    window.PLOTLYENV=window.PLOTLYENV || {};                                    if (document.getElementById(\"c693f0e8-c769-4c6d-a172-1d26f881b6d7\")) {                    Plotly.newPlot(                        \"c693f0e8-c769-4c6d-a172-1d26f881b6d7\",                        [{\"alignmentgroup\":\"True\",\"hovertemplate\":\"Country=%{x}<br>Total Number of Vaccines Administered=%{marker.color}<extra></extra>\",\"legendgroup\":\"\",\"marker\":{\"color\":[1853839000.0,543846290.0,355768825.0,163452602.0,108179498.0],\"coloraxis\":\"coloraxis\",\"pattern\":{\"shape\":\"\"}},\"name\":\"\",\"offsetgroup\":\"\",\"orientation\":\"v\",\"showlegend\":false,\"textposition\":\"auto\",\"type\":\"bar\",\"x\":[\"China\",\"India\",\"United States\",\"Brazil\",\"Japan\"],\"xaxis\":\"x\",\"y\":[1853839000.0,543846290.0,355768825.0,163452602.0,108179498.0],\"yaxis\":\"y\"}],                        {\"barmode\":\"relative\",\"coloraxis\":{\"colorbar\":{\"title\":{\"text\":\"Total Number of Vaccines Administered\"}},\"colorscale\":[[0.0,\"#0d0887\"],[0.1111111111111111,\"#46039f\"],[0.2222222222222222,\"#7201a8\"],[0.3333333333333333,\"#9c179e\"],[0.4444444444444444,\"#bd3786\"],[0.5555555555555556,\"#d8576b\"],[0.6666666666666666,\"#ed7953\"],[0.7777777777777778,\"#fb9f3a\"],[0.8888888888888888,\"#fdca26\"],[1.0,\"#f0f921\"]]},\"legend\":{\"tracegroupgap\":0},\"template\":{\"data\":{\"bar\":[{\"error_x\":{\"color\":\"#2a3f5f\"},\"error_y\":{\"color\":\"#2a3f5f\"},\"marker\":{\"line\":{\"color\":\"#E5ECF6\",\"width\":0.5},\"pattern\":{\"fillmode\":\"overlay\",\"size\":10,\"solidity\":0.2}},\"type\":\"bar\"}],\"barpolar\":[{\"marker\":{\"line\":{\"color\":\"#E5ECF6\",\"width\":0.5},\"pattern\":{\"fillmode\":\"overlay\",\"size\":10,\"solidity\":0.2}},\"type\":\"barpolar\"}],\"carpet\":[{\"aaxis\":{\"endlinecolor\":\"#2a3f5f\",\"gridcolor\":\"white\",\"linecolor\":\"white\",\"minorgridcolor\":\"white\",\"startlinecolor\":\"#2a3f5f\"},\"baxis\":{\"endlinecolor\":\"#2a3f5f\",\"gridcolor\":\"white\",\"linecolor\":\"white\",\"minorgridcolor\":\"white\",\"startlinecolor\":\"#2a3f5f\"},\"type\":\"carpet\"}],\"choropleth\":[{\"colorbar\":{\"outlinewidth\":0,\"ticks\":\"\"},\"type\":\"choropleth\"}],\"contour\":[{\"colorbar\":{\"outlinewidth\":0,\"ticks\":\"\"},\"colorscale\":[[0.0,\"#0d0887\"],[0.1111111111111111,\"#46039f\"],[0.2222222222222222,\"#7201a8\"],[0.3333333333333333,\"#9c179e\"],[0.4444444444444444,\"#bd3786\"],[0.5555555555555556,\"#d8576b\"],[0.6666666666666666,\"#ed7953\"],[0.7777777777777778,\"#fb9f3a\"],[0.8888888888888888,\"#fdca26\"],[1.0,\"#f0f921\"]],\"type\":\"contour\"}],\"contourcarpet\":[{\"colorbar\":{\"outlinewidth\":0,\"ticks\":\"\"},\"type\":\"contourcarpet\"}],\"heatmap\":[{\"colorbar\":{\"outlinewidth\":0,\"ticks\":\"\"},\"colorscale\":[[0.0,\"#0d0887\"],[0.1111111111111111,\"#46039f\"],[0.2222222222222222,\"#7201a8\"],[0.3333333333333333,\"#9c179e\"],[0.4444444444444444,\"#bd3786\"],[0.5555555555555556,\"#d8576b\"],[0.6666666666666666,\"#ed7953\"],[0.7777777777777778,\"#fb9f3a\"],[0.8888888888888888,\"#fdca26\"],[1.0,\"#f0f921\"]],\"type\":\"heatmap\"}],\"heatmapgl\":[{\"colorbar\":{\"outlinewidth\":0,\"ticks\":\"\"},\"colorscale\":[[0.0,\"#0d0887\"],[0.1111111111111111,\"#46039f\"],[0.2222222222222222,\"#7201a8\"],[0.3333333333333333,\"#9c179e\"],[0.4444444444444444,\"#bd3786\"],[0.5555555555555556,\"#d8576b\"],[0.6666666666666666,\"#ed7953\"],[0.7777777777777778,\"#fb9f3a\"],[0.8888888888888888,\"#fdca26\"],[1.0,\"#f0f921\"]],\"type\":\"heatmapgl\"}],\"histogram\":[{\"marker\":{\"pattern\":{\"fillmode\":\"overlay\",\"size\":10,\"solidity\":0.2}},\"type\":\"histogram\"}],\"histogram2d\":[{\"colorbar\":{\"outlinewidth\":0,\"ticks\":\"\"},\"colorscale\":[[0.0,\"#0d0887\"],[0.1111111111111111,\"#46039f\"],[0.2222222222222222,\"#7201a8\"],[0.3333333333333333,\"#9c179e\"],[0.4444444444444444,\"#bd3786\"],[0.5555555555555556,\"#d8576b\"],[0.6666666666666666,\"#ed7953\"],[0.7777777777777778,\"#fb9f3a\"],[0.8888888888888888,\"#fdca26\"],[1.0,\"#f0f921\"]],\"type\":\"histogram2d\"}],\"histogram2dcontour\":[{\"colorbar\":{\"outlinewidth\":0,\"ticks\":\"\"},\"colorscale\":[[0.0,\"#0d0887\"],[0.1111111111111111,\"#46039f\"],[0.2222222222222222,\"#7201a8\"],[0.3333333333333333,\"#9c179e\"],[0.4444444444444444,\"#bd3786\"],[0.5555555555555556,\"#d8576b\"],[0.6666666666666666,\"#ed7953\"],[0.7777777777777778,\"#fb9f3a\"],[0.8888888888888888,\"#fdca26\"],[1.0,\"#f0f921\"]],\"type\":\"histogram2dcontour\"}],\"mesh3d\":[{\"colorbar\":{\"outlinewidth\":0,\"ticks\":\"\"},\"type\":\"mesh3d\"}],\"parcoords\":[{\"line\":{\"colorbar\":{\"outlinewidth\":0,\"ticks\":\"\"}},\"type\":\"parcoords\"}],\"pie\":[{\"automargin\":true,\"type\":\"pie\"}],\"scatter\":[{\"marker\":{\"colorbar\":{\"outlinewidth\":0,\"ticks\":\"\"}},\"type\":\"scatter\"}],\"scatter3d\":[{\"line\":{\"colorbar\":{\"outlinewidth\":0,\"ticks\":\"\"}},\"marker\":{\"colorbar\":{\"outlinewidth\":0,\"ticks\":\"\"}},\"type\":\"scatter3d\"}],\"scattercarpet\":[{\"marker\":{\"colorbar\":{\"outlinewidth\":0,\"ticks\":\"\"}},\"type\":\"scattercarpet\"}],\"scattergeo\":[{\"marker\":{\"colorbar\":{\"outlinewidth\":0,\"ticks\":\"\"}},\"type\":\"scattergeo\"}],\"scattergl\":[{\"marker\":{\"colorbar\":{\"outlinewidth\":0,\"ticks\":\"\"}},\"type\":\"scattergl\"}],\"scattermapbox\":[{\"marker\":{\"colorbar\":{\"outlinewidth\":0,\"ticks\":\"\"}},\"type\":\"scattermapbox\"}],\"scatterpolar\":[{\"marker\":{\"colorbar\":{\"outlinewidth\":0,\"ticks\":\"\"}},\"type\":\"scatterpolar\"}],\"scatterpolargl\":[{\"marker\":{\"colorbar\":{\"outlinewidth\":0,\"ticks\":\"\"}},\"type\":\"scatterpolargl\"}],\"scatterternary\":[{\"marker\":{\"colorbar\":{\"outlinewidth\":0,\"ticks\":\"\"}},\"type\":\"scatterternary\"}],\"surface\":[{\"colorbar\":{\"outlinewidth\":0,\"ticks\":\"\"},\"colorscale\":[[0.0,\"#0d0887\"],[0.1111111111111111,\"#46039f\"],[0.2222222222222222,\"#7201a8\"],[0.3333333333333333,\"#9c179e\"],[0.4444444444444444,\"#bd3786\"],[0.5555555555555556,\"#d8576b\"],[0.6666666666666666,\"#ed7953\"],[0.7777777777777778,\"#fb9f3a\"],[0.8888888888888888,\"#fdca26\"],[1.0,\"#f0f921\"]],\"type\":\"surface\"}],\"table\":[{\"cells\":{\"fill\":{\"color\":\"#EBF0F8\"},\"line\":{\"color\":\"white\"}},\"header\":{\"fill\":{\"color\":\"#C8D4E3\"},\"line\":{\"color\":\"white\"}},\"type\":\"table\"}]},\"layout\":{\"annotationdefaults\":{\"arrowcolor\":\"#2a3f5f\",\"arrowhead\":0,\"arrowwidth\":1},\"autotypenumbers\":\"strict\",\"coloraxis\":{\"colorbar\":{\"outlinewidth\":0,\"ticks\":\"\"}},\"colorscale\":{\"diverging\":[[0,\"#8e0152\"],[0.1,\"#c51b7d\"],[0.2,\"#de77ae\"],[0.3,\"#f1b6da\"],[0.4,\"#fde0ef\"],[0.5,\"#f7f7f7\"],[0.6,\"#e6f5d0\"],[0.7,\"#b8e186\"],[0.8,\"#7fbc41\"],[0.9,\"#4d9221\"],[1,\"#276419\"]],\"sequential\":[[0.0,\"#0d0887\"],[0.1111111111111111,\"#46039f\"],[0.2222222222222222,\"#7201a8\"],[0.3333333333333333,\"#9c179e\"],[0.4444444444444444,\"#bd3786\"],[0.5555555555555556,\"#d8576b\"],[0.6666666666666666,\"#ed7953\"],[0.7777777777777778,\"#fb9f3a\"],[0.8888888888888888,\"#fdca26\"],[1.0,\"#f0f921\"]],\"sequentialminus\":[[0.0,\"#0d0887\"],[0.1111111111111111,\"#46039f\"],[0.2222222222222222,\"#7201a8\"],[0.3333333333333333,\"#9c179e\"],[0.4444444444444444,\"#bd3786\"],[0.5555555555555556,\"#d8576b\"],[0.6666666666666666,\"#ed7953\"],[0.7777777777777778,\"#fb9f3a\"],[0.8888888888888888,\"#fdca26\"],[1.0,\"#f0f921\"]]},\"colorway\":[\"#636efa\",\"#EF553B\",\"#00cc96\",\"#ab63fa\",\"#FFA15A\",\"#19d3f3\",\"#FF6692\",\"#B6E880\",\"#FF97FF\",\"#FECB52\"],\"font\":{\"color\":\"#2a3f5f\"},\"geo\":{\"bgcolor\":\"white\",\"lakecolor\":\"white\",\"landcolor\":\"#E5ECF6\",\"showlakes\":true,\"showland\":true,\"subunitcolor\":\"white\"},\"hoverlabel\":{\"align\":\"left\"},\"hovermode\":\"closest\",\"mapbox\":{\"style\":\"light\"},\"paper_bgcolor\":\"white\",\"plot_bgcolor\":\"#E5ECF6\",\"polar\":{\"angularaxis\":{\"gridcolor\":\"white\",\"linecolor\":\"white\",\"ticks\":\"\"},\"bgcolor\":\"#E5ECF6\",\"radialaxis\":{\"gridcolor\":\"white\",\"linecolor\":\"white\",\"ticks\":\"\"}},\"scene\":{\"xaxis\":{\"backgroundcolor\":\"#E5ECF6\",\"gridcolor\":\"white\",\"gridwidth\":2,\"linecolor\":\"white\",\"showbackground\":true,\"ticks\":\"\",\"zerolinecolor\":\"white\"},\"yaxis\":{\"backgroundcolor\":\"#E5ECF6\",\"gridcolor\":\"white\",\"gridwidth\":2,\"linecolor\":\"white\",\"showbackground\":true,\"ticks\":\"\",\"zerolinecolor\":\"white\"},\"zaxis\":{\"backgroundcolor\":\"#E5ECF6\",\"gridcolor\":\"white\",\"gridwidth\":2,\"linecolor\":\"white\",\"showbackground\":true,\"ticks\":\"\",\"zerolinecolor\":\"white\"}},\"shapedefaults\":{\"line\":{\"color\":\"#2a3f5f\"}},\"ternary\":{\"aaxis\":{\"gridcolor\":\"white\",\"linecolor\":\"white\",\"ticks\":\"\"},\"baxis\":{\"gridcolor\":\"white\",\"linecolor\":\"white\",\"ticks\":\"\"},\"bgcolor\":\"#E5ECF6\",\"caxis\":{\"gridcolor\":\"white\",\"linecolor\":\"white\",\"ticks\":\"\"}},\"title\":{\"x\":0.05},\"xaxis\":{\"automargin\":true,\"gridcolor\":\"white\",\"linecolor\":\"white\",\"ticks\":\"\",\"title\":{\"standoff\":15},\"zerolinecolor\":\"white\",\"zerolinewidth\":2},\"yaxis\":{\"automargin\":true,\"gridcolor\":\"white\",\"linecolor\":\"white\",\"ticks\":\"\",\"title\":{\"standoff\":15},\"zerolinecolor\":\"white\",\"zerolinewidth\":2}}},\"title\":{\"text\":\"Top 5 Countries in terms of Number of Vaccines Administered\"},\"xaxis\":{\"anchor\":\"y\",\"domain\":[0.0,1.0],\"title\":{\"text\":\"Country\"}},\"yaxis\":{\"anchor\":\"x\",\"domain\":[0.0,1.0],\"title\":{\"text\":\"Total Number of Vaccines Administered\"}}},                        {\"responsive\": true}                    ).then(function(){\n",
       "                            \n",
       "var gd = document.getElementById('c693f0e8-c769-4c6d-a172-1d26f881b6d7');\n",
       "var x = new MutationObserver(function (mutations, observer) {{\n",
       "        var display = window.getComputedStyle(gd).display;\n",
       "        if (!display || display === 'none') {{\n",
       "            console.log([gd, 'removed!']);\n",
       "            Plotly.purge(gd);\n",
       "            observer.disconnect();\n",
       "        }}\n",
       "}});\n",
       "\n",
       "// Listen for the removal of the full notebook cells\n",
       "var notebookContainer = gd.closest('#notebook-container');\n",
       "if (notebookContainer) {{\n",
       "    x.observe(notebookContainer, {childList: true});\n",
       "}}\n",
       "\n",
       "// Listen for the clearing of the current output cell\n",
       "var outputEl = gd.closest('.output');\n",
       "if (outputEl) {{\n",
       "    x.observe(outputEl, {childList: true});\n",
       "}}\n",
       "\n",
       "                        })                };                });            </script>        </div>"
      ]
     },
     "metadata": {},
     "output_type": "display_data"
    }
   ],
   "source": [
    "fig = px.bar(tnva_sort,\n",
    "    x='country',\n",
    "    y='total_vaccinations',    \n",
    "    labels = {'country':'Country', 'total_vaccinations':'Total Number of Vaccines Administered'},\n",
    "    title = 'Top 5 Countries in terms of Number of Vaccines Administered',\n",
    "    color='total_vaccinations'\n",
    ")\n",
    "#fig.update_traces(texttemplate=tnva_sort['total_vaccinations'].map('{:,}'.format),textposition='outside')\n",
    "fig.show()"
   ]
  },
  {
   "cell_type": "markdown",
   "metadata": {},
   "source": [
    "### World Map of Number of Vaccines Administered\n",
    "For this plot, we will be using another instance of our Vaccination Progress dataset"
   ]
  },
  {
   "cell_type": "code",
   "execution_count": 124,
   "metadata": {},
   "outputs": [
    {
     "name": "stderr",
     "output_type": "stream",
     "text": [
      "<ipython-input-124-a24265454a60>:1: FutureWarning:\n",
      "\n",
      "Indexing with multiple keys (implicitly converted to a tuple of keys) will be deprecated, use a list instead.\n",
      "\n"
     ]
    },
    {
     "data": {
      "application/vnd.plotly.v1+json": {
       "config": {
        "plotlyServerURL": "https://plot.ly"
       },
       "data": [
        {
         "geo": "geo",
         "hovertemplate": "iso_code=%{location}<br>total_vaccinations=%{marker.size}<extra></extra>",
         "legendgroup": "ABW",
         "locations": [
          "ABW"
         ],
         "marker": {
          "color": "#636efa",
          "size": [
           141611
          ],
          "sizemode": "area",
          "sizeref": 4634597.5,
          "symbol": "circle"
         },
         "mode": "markers",
         "name": "ABW",
         "showlegend": true,
         "type": "scattergeo"
        },
        {
         "geo": "geo",
         "hovertemplate": "iso_code=%{location}<br>total_vaccinations=%{marker.size}<extra></extra>",
         "legendgroup": "AFG",
         "locations": [
          "AFG"
         ],
         "marker": {
          "color": "#EF553B",
          "size": [
           1809517
          ],
          "sizemode": "area",
          "sizeref": 4634597.5,
          "symbol": "circle"
         },
         "mode": "markers",
         "name": "AFG",
         "showlegend": true,
         "type": "scattergeo"
        },
        {
         "geo": "geo",
         "hovertemplate": "iso_code=%{location}<br>total_vaccinations=%{marker.size}<extra></extra>",
         "legendgroup": "AGO",
         "locations": [
          "AGO"
         ],
         "marker": {
          "color": "#00cc96",
          "size": [
           1695588
          ],
          "sizemode": "area",
          "sizeref": 4634597.5,
          "symbol": "circle"
         },
         "mode": "markers",
         "name": "AGO",
         "showlegend": true,
         "type": "scattergeo"
        },
        {
         "geo": "geo",
         "hovertemplate": "iso_code=%{location}<br>total_vaccinations=%{marker.size}<extra></extra>",
         "legendgroup": "AIA",
         "locations": [
          "AIA"
         ],
         "marker": {
          "color": "#ab63fa",
          "size": [
           18457
          ],
          "sizemode": "area",
          "sizeref": 4634597.5,
          "symbol": "circle"
         },
         "mode": "markers",
         "name": "AIA",
         "showlegend": true,
         "type": "scattergeo"
        },
        {
         "geo": "geo",
         "hovertemplate": "iso_code=%{location}<br>total_vaccinations=%{marker.size}<extra></extra>",
         "legendgroup": "ALB",
         "locations": [
          "ALB"
         ],
         "marker": {
          "color": "#FFA15A",
          "size": [
           1280239
          ],
          "sizemode": "area",
          "sizeref": 4634597.5,
          "symbol": "circle"
         },
         "mode": "markers",
         "name": "ALB",
         "showlegend": true,
         "type": "scattergeo"
        },
        {
         "geo": "geo",
         "hovertemplate": "iso_code=%{location}<br>total_vaccinations=%{marker.size}<extra></extra>",
         "legendgroup": "AND",
         "locations": [
          "AND"
         ],
         "marker": {
          "color": "#19d3f3",
          "size": [
           82349
          ],
          "sizemode": "area",
          "sizeref": 4634597.5,
          "symbol": "circle"
         },
         "mode": "markers",
         "name": "AND",
         "showlegend": true,
         "type": "scattergeo"
        },
        {
         "geo": "geo",
         "hovertemplate": "iso_code=%{location}<br>total_vaccinations=%{marker.size}<extra></extra>",
         "legendgroup": "ARE",
         "locations": [
          "ARE"
         ],
         "marker": {
          "color": "#FF6692",
          "size": [
           17363341
          ],
          "sizemode": "area",
          "sizeref": 4634597.5,
          "symbol": "circle"
         },
         "mode": "markers",
         "name": "ARE",
         "showlegend": true,
         "type": "scattergeo"
        },
        {
         "geo": "geo",
         "hovertemplate": "iso_code=%{location}<br>total_vaccinations=%{marker.size}<extra></extra>",
         "legendgroup": "ARG",
         "locations": [
          "ARG"
         ],
         "marker": {
          "color": "#B6E880",
          "size": [
           36387897
          ],
          "sizemode": "area",
          "sizeref": 4634597.5,
          "symbol": "circle"
         },
         "mode": "markers",
         "name": "ARG",
         "showlegend": true,
         "type": "scattergeo"
        },
        {
         "geo": "geo",
         "hovertemplate": "iso_code=%{location}<br>total_vaccinations=%{marker.size}<extra></extra>",
         "legendgroup": "ARM",
         "locations": [
          "ARM"
         ],
         "marker": {
          "color": "#FF97FF",
          "size": [
           194902
          ],
          "sizemode": "area",
          "sizeref": 4634597.5,
          "symbol": "circle"
         },
         "mode": "markers",
         "name": "ARM",
         "showlegend": true,
         "type": "scattergeo"
        },
        {
         "geo": "geo",
         "hovertemplate": "iso_code=%{location}<br>total_vaccinations=%{marker.size}<extra></extra>",
         "legendgroup": "ATG",
         "locations": [
          "ATG"
         ],
         "marker": {
          "color": "#FECB52",
          "size": [
           70019
          ],
          "sizemode": "area",
          "sizeref": 4634597.5,
          "symbol": "circle"
         },
         "mode": "markers",
         "name": "ATG",
         "showlegend": true,
         "type": "scattergeo"
        },
        {
         "geo": "geo",
         "hovertemplate": "iso_code=%{location}<br>total_vaccinations=%{marker.size}<extra></extra>",
         "legendgroup": "AUS",
         "locations": [
          "AUS"
         ],
         "marker": {
          "color": "#636efa",
          "size": [
           15012023
          ],
          "sizemode": "area",
          "sizeref": 4634597.5,
          "symbol": "circle"
         },
         "mode": "markers",
         "name": "AUS",
         "showlegend": true,
         "type": "scattergeo"
        },
        {
         "geo": "geo",
         "hovertemplate": "iso_code=%{location}<br>total_vaccinations=%{marker.size}<extra></extra>",
         "legendgroup": "AUT",
         "locations": [
          "AUT"
         ],
         "marker": {
          "color": "#EF553B",
          "size": [
           10155942
          ],
          "sizemode": "area",
          "sizeref": 4634597.5,
          "symbol": "circle"
         },
         "mode": "markers",
         "name": "AUT",
         "showlegend": true,
         "type": "scattergeo"
        },
        {
         "geo": "geo",
         "hovertemplate": "iso_code=%{location}<br>total_vaccinations=%{marker.size}<extra></extra>",
         "legendgroup": "AZE",
         "locations": [
          "AZE"
         ],
         "marker": {
          "color": "#00cc96",
          "size": [
           5739342
          ],
          "sizemode": "area",
          "sizeref": 4634597.5,
          "symbol": "circle"
         },
         "mode": "markers",
         "name": "AZE",
         "showlegend": true,
         "type": "scattergeo"
        },
        {
         "geo": "geo",
         "hovertemplate": "iso_code=%{location}<br>total_vaccinations=%{marker.size}<extra></extra>",
         "legendgroup": "BEL",
         "locations": [
          "BEL"
         ],
         "marker": {
          "color": "#ab63fa",
          "size": [
           15495398
          ],
          "sizemode": "area",
          "sizeref": 4634597.5,
          "symbol": "circle"
         },
         "mode": "markers",
         "name": "BEL",
         "showlegend": true,
         "type": "scattergeo"
        },
        {
         "geo": "geo",
         "hovertemplate": "iso_code=%{location}<br>total_vaccinations=%{marker.size}<extra></extra>",
         "legendgroup": "BEN",
         "locations": [
          "BEN"
         ],
         "marker": {
          "color": "#FFA15A",
          "size": [
           70323
          ],
          "sizemode": "area",
          "sizeref": 4634597.5,
          "symbol": "circle"
         },
         "mode": "markers",
         "name": "BEN",
         "showlegend": true,
         "type": "scattergeo"
        },
        {
         "geo": "geo",
         "hovertemplate": "iso_code=%{location}<br>total_vaccinations=%{marker.size}<extra></extra>",
         "legendgroup": "BES",
         "locations": [
          "BES"
         ],
         "marker": {
          "color": "#19d3f3",
          "size": [
           7391
          ],
          "sizemode": "area",
          "sizeref": 4634597.5,
          "symbol": "circle"
         },
         "mode": "markers",
         "name": "BES",
         "showlegend": true,
         "type": "scattergeo"
        },
        {
         "geo": "geo",
         "hovertemplate": "iso_code=%{location}<br>total_vaccinations=%{marker.size}<extra></extra>",
         "legendgroup": "BFA",
         "locations": [
          "BFA"
         ],
         "marker": {
          "color": "#FF6692",
          "size": [
           38405
          ],
          "sizemode": "area",
          "sizeref": 4634597.5,
          "symbol": "circle"
         },
         "mode": "markers",
         "name": "BFA",
         "showlegend": true,
         "type": "scattergeo"
        },
        {
         "geo": "geo",
         "hovertemplate": "iso_code=%{location}<br>total_vaccinations=%{marker.size}<extra></extra>",
         "legendgroup": "BGD",
         "locations": [
          "BGD"
         ],
         "marker": {
          "color": "#B6E880",
          "size": [
           20641652
          ],
          "sizemode": "area",
          "sizeref": 4634597.5,
          "symbol": "circle"
         },
         "mode": "markers",
         "name": "BGD",
         "showlegend": true,
         "type": "scattergeo"
        },
        {
         "geo": "geo",
         "hovertemplate": "iso_code=%{location}<br>total_vaccinations=%{marker.size}<extra></extra>",
         "legendgroup": "BGR",
         "locations": [
          "BGR"
         ],
         "marker": {
          "color": "#FF97FF",
          "size": [
           2152638
          ],
          "sizemode": "area",
          "sizeref": 4634597.5,
          "symbol": "circle"
         },
         "mode": "markers",
         "name": "BGR",
         "showlegend": true,
         "type": "scattergeo"
        },
        {
         "geo": "geo",
         "hovertemplate": "iso_code=%{location}<br>total_vaccinations=%{marker.size}<extra></extra>",
         "legendgroup": "BHR",
         "locations": [
          "BHR"
         ],
         "marker": {
          "color": "#FECB52",
          "size": [
           2418313
          ],
          "sizemode": "area",
          "sizeref": 4634597.5,
          "symbol": "circle"
         },
         "mode": "markers",
         "name": "BHR",
         "showlegend": true,
         "type": "scattergeo"
        },
        {
         "geo": "geo",
         "hovertemplate": "iso_code=%{location}<br>total_vaccinations=%{marker.size}<extra></extra>",
         "legendgroup": "BHS",
         "locations": [
          "BHS"
         ],
         "marker": {
          "color": "#636efa",
          "size": [
           110443
          ],
          "sizemode": "area",
          "sizeref": 4634597.5,
          "symbol": "circle"
         },
         "mode": "markers",
         "name": "BHS",
         "showlegend": true,
         "type": "scattergeo"
        },
        {
         "geo": "geo",
         "hovertemplate": "iso_code=%{location}<br>total_vaccinations=%{marker.size}<extra></extra>",
         "legendgroup": "BIH",
         "locations": [
          "BIH"
         ],
         "marker": {
          "color": "#EF553B",
          "size": [
           865306
          ],
          "sizemode": "area",
          "sizeref": 4634597.5,
          "symbol": "circle"
         },
         "mode": "markers",
         "name": "BIH",
         "showlegend": true,
         "type": "scattergeo"
        },
        {
         "geo": "geo",
         "hovertemplate": "iso_code=%{location}<br>total_vaccinations=%{marker.size}<extra></extra>",
         "legendgroup": "BLR",
         "locations": [
          "BLR"
         ],
         "marker": {
          "color": "#00cc96",
          "size": [
           2541745
          ],
          "sizemode": "area",
          "sizeref": 4634597.5,
          "symbol": "circle"
         },
         "mode": "markers",
         "name": "BLR",
         "showlegend": true,
         "type": "scattergeo"
        },
        {
         "geo": "geo",
         "hovertemplate": "iso_code=%{location}<br>total_vaccinations=%{marker.size}<extra></extra>",
         "legendgroup": "BLZ",
         "locations": [
          "BLZ"
         ],
         "marker": {
          "color": "#ab63fa",
          "size": [
           202797
          ],
          "sizemode": "area",
          "sizeref": 4634597.5,
          "symbol": "circle"
         },
         "mode": "markers",
         "name": "BLZ",
         "showlegend": true,
         "type": "scattergeo"
        },
        {
         "geo": "geo",
         "hovertemplate": "iso_code=%{location}<br>total_vaccinations=%{marker.size}<extra></extra>",
         "legendgroup": "BMU",
         "locations": [
          "BMU"
         ],
         "marker": {
          "color": "#FFA15A",
          "size": [
           83297
          ],
          "sizemode": "area",
          "sizeref": 4634597.5,
          "symbol": "circle"
         },
         "mode": "markers",
         "name": "BMU",
         "showlegend": true,
         "type": "scattergeo"
        },
        {
         "geo": "geo",
         "hovertemplate": "iso_code=%{location}<br>total_vaccinations=%{marker.size}<extra></extra>",
         "legendgroup": "BOL",
         "locations": [
          "BOL"
         ],
         "marker": {
          "color": "#19d3f3",
          "size": [
           5004937
          ],
          "sizemode": "area",
          "sizeref": 4634597.5,
          "symbol": "circle"
         },
         "mode": "markers",
         "name": "BOL",
         "showlegend": true,
         "type": "scattergeo"
        },
        {
         "geo": "geo",
         "hovertemplate": "iso_code=%{location}<br>total_vaccinations=%{marker.size}<extra></extra>",
         "legendgroup": "BRA",
         "locations": [
          "BRA"
         ],
         "marker": {
          "color": "#FF6692",
          "size": [
           163452602
          ],
          "sizemode": "area",
          "sizeref": 4634597.5,
          "symbol": "circle"
         },
         "mode": "markers",
         "name": "BRA",
         "showlegend": true,
         "type": "scattergeo"
        },
        {
         "geo": "geo",
         "hovertemplate": "iso_code=%{location}<br>total_vaccinations=%{marker.size}<extra></extra>",
         "legendgroup": "BRB",
         "locations": [
          "BRB"
         ],
         "marker": {
          "color": "#B6E880",
          "size": [
           183493
          ],
          "sizemode": "area",
          "sizeref": 4634597.5,
          "symbol": "circle"
         },
         "mode": "markers",
         "name": "BRB",
         "showlegend": true,
         "type": "scattergeo"
        },
        {
         "geo": "geo",
         "hovertemplate": "iso_code=%{location}<br>total_vaccinations=%{marker.size}<extra></extra>",
         "legendgroup": "BRN",
         "locations": [
          "BRN"
         ],
         "marker": {
          "color": "#FF97FF",
          "size": [
           201441
          ],
          "sizemode": "area",
          "sizeref": 4634597.5,
          "symbol": "circle"
         },
         "mode": "markers",
         "name": "BRN",
         "showlegend": true,
         "type": "scattergeo"
        },
        {
         "geo": "geo",
         "hovertemplate": "iso_code=%{location}<br>total_vaccinations=%{marker.size}<extra></extra>",
         "legendgroup": "BTN",
         "locations": [
          "BTN"
         ],
         "marker": {
          "color": "#FECB52",
          "size": [
           1010129
          ],
          "sizemode": "area",
          "sizeref": 4634597.5,
          "symbol": "circle"
         },
         "mode": "markers",
         "name": "BTN",
         "showlegend": true,
         "type": "scattergeo"
        },
        {
         "geo": "geo",
         "hovertemplate": "iso_code=%{location}<br>total_vaccinations=%{marker.size}<extra></extra>",
         "legendgroup": "BWA",
         "locations": [
          "BWA"
         ],
         "marker": {
          "color": "#636efa",
          "size": [
           391360
          ],
          "sizemode": "area",
          "sizeref": 4634597.5,
          "symbol": "circle"
         },
         "mode": "markers",
         "name": "BWA",
         "showlegend": true,
         "type": "scattergeo"
        },
        {
         "geo": "geo",
         "hovertemplate": "iso_code=%{location}<br>total_vaccinations=%{marker.size}<extra></extra>",
         "legendgroup": "CAF",
         "locations": [
          "CAF"
         ],
         "marker": {
          "color": "#EF553B",
          "size": [
           95282
          ],
          "sizemode": "area",
          "sizeref": 4634597.5,
          "symbol": "circle"
         },
         "mode": "markers",
         "name": "CAF",
         "showlegend": true,
         "type": "scattergeo"
        },
        {
         "geo": "geo",
         "hovertemplate": "iso_code=%{location}<br>total_vaccinations=%{marker.size}<extra></extra>",
         "legendgroup": "CAN",
         "locations": [
          "CAN"
         ],
         "marker": {
          "color": "#00cc96",
          "size": [
           51402274
          ],
          "sizemode": "area",
          "sizeref": 4634597.5,
          "symbol": "circle"
         },
         "mode": "markers",
         "name": "CAN",
         "showlegend": true,
         "type": "scattergeo"
        },
        {
         "geo": "geo",
         "hovertemplate": "iso_code=%{location}<br>total_vaccinations=%{marker.size}<extra></extra>",
         "legendgroup": "CHE",
         "locations": [
          "CHE"
         ],
         "marker": {
          "color": "#ab63fa",
          "size": [
           9218419
          ],
          "sizemode": "area",
          "sizeref": 4634597.5,
          "symbol": "circle"
         },
         "mode": "markers",
         "name": "CHE",
         "showlegend": true,
         "type": "scattergeo"
        },
        {
         "geo": "geo",
         "hovertemplate": "iso_code=%{location}<br>total_vaccinations=%{marker.size}<extra></extra>",
         "legendgroup": "CHL",
         "locations": [
          "CHL"
         ],
         "marker": {
          "color": "#FFA15A",
          "size": [
           26671675
          ],
          "sizemode": "area",
          "sizeref": 4634597.5,
          "symbol": "circle"
         },
         "mode": "markers",
         "name": "CHL",
         "showlegend": true,
         "type": "scattergeo"
        },
        {
         "geo": "geo",
         "hovertemplate": "iso_code=%{location}<br>total_vaccinations=%{marker.size}<extra></extra>",
         "legendgroup": "CHN",
         "locations": [
          "CHN"
         ],
         "marker": {
          "color": "#19d3f3",
          "size": [
           1853839000
          ],
          "sizemode": "area",
          "sizeref": 4634597.5,
          "symbol": "circle"
         },
         "mode": "markers",
         "name": "CHN",
         "showlegend": true,
         "type": "scattergeo"
        },
        {
         "geo": "geo",
         "hovertemplate": "iso_code=%{location}<br>total_vaccinations=%{marker.size}<extra></extra>",
         "legendgroup": "CIV",
         "locations": [
          "CIV"
         ],
         "marker": {
          "color": "#FF6692",
          "size": [
           1194760
          ],
          "sizemode": "area",
          "sizeref": 4634597.5,
          "symbol": "circle"
         },
         "mode": "markers",
         "name": "CIV",
         "showlegend": true,
         "type": "scattergeo"
        },
        {
         "geo": "geo",
         "hovertemplate": "iso_code=%{location}<br>total_vaccinations=%{marker.size}<extra></extra>",
         "legendgroup": "CMR",
         "locations": [
          "CMR"
         ],
         "marker": {
          "color": "#B6E880",
          "size": [
           368280
          ],
          "sizemode": "area",
          "sizeref": 4634597.5,
          "symbol": "circle"
         },
         "mode": "markers",
         "name": "CMR",
         "showlegend": true,
         "type": "scattergeo"
        },
        {
         "geo": "geo",
         "hovertemplate": "iso_code=%{location}<br>total_vaccinations=%{marker.size}<extra></extra>",
         "legendgroup": "COD",
         "locations": [
          "COD"
         ],
         "marker": {
          "color": "#FF97FF",
          "size": [
           86244
          ],
          "sizemode": "area",
          "sizeref": 4634597.5,
          "symbol": "circle"
         },
         "mode": "markers",
         "name": "COD",
         "showlegend": true,
         "type": "scattergeo"
        },
        {
         "geo": "geo",
         "hovertemplate": "iso_code=%{location}<br>total_vaccinations=%{marker.size}<extra></extra>",
         "legendgroup": "COG",
         "locations": [
          "COG"
         ],
         "marker": {
          "color": "#FECB52",
          "size": [
           255988
          ],
          "sizemode": "area",
          "sizeref": 4634597.5,
          "symbol": "circle"
         },
         "mode": "markers",
         "name": "COG",
         "showlegend": true,
         "type": "scattergeo"
        },
        {
         "geo": "geo",
         "hovertemplate": "iso_code=%{location}<br>total_vaccinations=%{marker.size}<extra></extra>",
         "legendgroup": "COK",
         "locations": [
          "COK"
         ],
         "marker": {
          "color": "#636efa",
          "size": [
           20509
          ],
          "sizemode": "area",
          "sizeref": 4634597.5,
          "symbol": "circle"
         },
         "mode": "markers",
         "name": "COK",
         "showlegend": true,
         "type": "scattergeo"
        },
        {
         "geo": "geo",
         "hovertemplate": "iso_code=%{location}<br>total_vaccinations=%{marker.size}<extra></extra>",
         "legendgroup": "COL",
         "locations": [
          "COL"
         ],
         "marker": {
          "color": "#EF553B",
          "size": [
           31376085
          ],
          "sizemode": "area",
          "sizeref": 4634597.5,
          "symbol": "circle"
         },
         "mode": "markers",
         "name": "COL",
         "showlegend": true,
         "type": "scattergeo"
        },
        {
         "geo": "geo",
         "hovertemplate": "iso_code=%{location}<br>total_vaccinations=%{marker.size}<extra></extra>",
         "legendgroup": "COM",
         "locations": [
          "COM"
         ],
         "marker": {
          "color": "#00cc96",
          "size": [
           188875
          ],
          "sizemode": "area",
          "sizeref": 4634597.5,
          "symbol": "circle"
         },
         "mode": "markers",
         "name": "COM",
         "showlegend": true,
         "type": "scattergeo"
        },
        {
         "geo": "geo",
         "hovertemplate": "iso_code=%{location}<br>total_vaccinations=%{marker.size}<extra></extra>",
         "legendgroup": "CPV",
         "locations": [
          "CPV"
         ],
         "marker": {
          "color": "#ab63fa",
          "size": [
           204780
          ],
          "sizemode": "area",
          "sizeref": 4634597.5,
          "symbol": "circle"
         },
         "mode": "markers",
         "name": "CPV",
         "showlegend": true,
         "type": "scattergeo"
        },
        {
         "geo": "geo",
         "hovertemplate": "iso_code=%{location}<br>total_vaccinations=%{marker.size}<extra></extra>",
         "legendgroup": "CRI",
         "locations": [
          "CRI"
         ],
         "marker": {
          "color": "#FFA15A",
          "size": [
           3643509
          ],
          "sizemode": "area",
          "sizeref": 4634597.5,
          "symbol": "circle"
         },
         "mode": "markers",
         "name": "CRI",
         "showlegend": true,
         "type": "scattergeo"
        },
        {
         "geo": "geo",
         "hovertemplate": "iso_code=%{location}<br>total_vaccinations=%{marker.size}<extra></extra>",
         "legendgroup": "CUB",
         "locations": [
          "CUB"
         ],
         "marker": {
          "color": "#19d3f3",
          "size": [
           11233885
          ],
          "sizemode": "area",
          "sizeref": 4634597.5,
          "symbol": "circle"
         },
         "mode": "markers",
         "name": "CUB",
         "showlegend": true,
         "type": "scattergeo"
        },
        {
         "geo": "geo",
         "hovertemplate": "iso_code=%{location}<br>total_vaccinations=%{marker.size}<extra></extra>",
         "legendgroup": "CUW",
         "locations": [
          "CUW"
         ],
         "marker": {
          "color": "#FF6692",
          "size": [
           179137
          ],
          "sizemode": "area",
          "sizeref": 4634597.5,
          "symbol": "circle"
         },
         "mode": "markers",
         "name": "CUW",
         "showlegend": true,
         "type": "scattergeo"
        },
        {
         "geo": "geo",
         "hovertemplate": "iso_code=%{location}<br>total_vaccinations=%{marker.size}<extra></extra>",
         "legendgroup": "CYM",
         "locations": [
          "CYM"
         ],
         "marker": {
          "color": "#B6E880",
          "size": [
           99194
          ],
          "sizemode": "area",
          "sizeref": 4634597.5,
          "symbol": "circle"
         },
         "mode": "markers",
         "name": "CYM",
         "showlegend": true,
         "type": "scattergeo"
        },
        {
         "geo": "geo",
         "hovertemplate": "iso_code=%{location}<br>total_vaccinations=%{marker.size}<extra></extra>",
         "legendgroup": "CYP",
         "locations": [
          "CYP"
         ],
         "marker": {
          "color": "#FF97FF",
          "size": [
           1040915
          ],
          "sizemode": "area",
          "sizeref": 4634597.5,
          "symbol": "circle"
         },
         "mode": "markers",
         "name": "CYP",
         "showlegend": true,
         "type": "scattergeo"
        },
        {
         "geo": "geo",
         "hovertemplate": "iso_code=%{location}<br>total_vaccinations=%{marker.size}<extra></extra>",
         "legendgroup": "CZE",
         "locations": [
          "CZE"
         ],
         "marker": {
          "color": "#FECB52",
          "size": [
           10953149
          ],
          "sizemode": "area",
          "sizeref": 4634597.5,
          "symbol": "circle"
         },
         "mode": "markers",
         "name": "CZE",
         "showlegend": true,
         "type": "scattergeo"
        },
        {
         "geo": "geo",
         "hovertemplate": "iso_code=%{location}<br>total_vaccinations=%{marker.size}<extra></extra>",
         "legendgroup": "DEU",
         "locations": [
          "DEU"
         ],
         "marker": {
          "color": "#636efa",
          "size": [
           97263881
          ],
          "sizemode": "area",
          "sizeref": 4634597.5,
          "symbol": "circle"
         },
         "mode": "markers",
         "name": "DEU",
         "showlegend": true,
         "type": "scattergeo"
        },
        {
         "geo": "geo",
         "hovertemplate": "iso_code=%{location}<br>total_vaccinations=%{marker.size}<extra></extra>",
         "legendgroup": "DJI",
         "locations": [
          "DJI"
         ],
         "marker": {
          "color": "#EF553B",
          "size": [
           53064
          ],
          "sizemode": "area",
          "sizeref": 4634597.5,
          "symbol": "circle"
         },
         "mode": "markers",
         "name": "DJI",
         "showlegend": true,
         "type": "scattergeo"
        },
        {
         "geo": "geo",
         "hovertemplate": "iso_code=%{location}<br>total_vaccinations=%{marker.size}<extra></extra>",
         "legendgroup": "DMA",
         "locations": [
          "DMA"
         ],
         "marker": {
          "color": "#00cc96",
          "size": [
           40795
          ],
          "sizemode": "area",
          "sizeref": 4634597.5,
          "symbol": "circle"
         },
         "mode": "markers",
         "name": "DMA",
         "showlegend": true,
         "type": "scattergeo"
        },
        {
         "geo": "geo",
         "hovertemplate": "iso_code=%{location}<br>total_vaccinations=%{marker.size}<extra></extra>",
         "legendgroup": "DNK",
         "locations": [
          "DNK"
         ],
         "marker": {
          "color": "#ab63fa",
          "size": [
           8028257
          ],
          "sizemode": "area",
          "sizeref": 4634597.5,
          "symbol": "circle"
         },
         "mode": "markers",
         "name": "DNK",
         "showlegend": true,
         "type": "scattergeo"
        },
        {
         "geo": "geo",
         "hovertemplate": "iso_code=%{location}<br>total_vaccinations=%{marker.size}<extra></extra>",
         "legendgroup": "DOM",
         "locations": [
          "DOM"
         ],
         "marker": {
          "color": "#FFA15A",
          "size": [
           10638203
          ],
          "sizemode": "area",
          "sizeref": 4634597.5,
          "symbol": "circle"
         },
         "mode": "markers",
         "name": "DOM",
         "showlegend": true,
         "type": "scattergeo"
        },
        {
         "geo": "geo",
         "hovertemplate": "iso_code=%{location}<br>total_vaccinations=%{marker.size}<extra></extra>",
         "legendgroup": "DZA",
         "locations": [
          "DZA"
         ],
         "marker": {
          "color": "#19d3f3",
          "size": [
           4146091
          ],
          "sizemode": "area",
          "sizeref": 4634597.5,
          "symbol": "circle"
         },
         "mode": "markers",
         "name": "DZA",
         "showlegend": true,
         "type": "scattergeo"
        },
        {
         "geo": "geo",
         "hovertemplate": "iso_code=%{location}<br>total_vaccinations=%{marker.size}<extra></extra>",
         "legendgroup": "ECU",
         "locations": [
          "ECU"
         ],
         "marker": {
          "color": "#FF6692",
          "size": [
           14578314
          ],
          "sizemode": "area",
          "sizeref": 4634597.5,
          "symbol": "circle"
         },
         "mode": "markers",
         "name": "ECU",
         "showlegend": true,
         "type": "scattergeo"
        },
        {
         "geo": "geo",
         "hovertemplate": "iso_code=%{location}<br>total_vaccinations=%{marker.size}<extra></extra>",
         "legendgroup": "EGY",
         "locations": [
          "EGY"
         ],
         "marker": {
          "color": "#B6E880",
          "size": [
           5750549
          ],
          "sizemode": "area",
          "sizeref": 4634597.5,
          "symbol": "circle"
         },
         "mode": "markers",
         "name": "EGY",
         "showlegend": true,
         "type": "scattergeo"
        },
        {
         "geo": "geo",
         "hovertemplate": "iso_code=%{location}<br>total_vaccinations=%{marker.size}<extra></extra>",
         "legendgroup": "ESP",
         "locations": [
          "ESP"
         ],
         "marker": {
          "color": "#FF97FF",
          "size": [
           60919867
          ],
          "sizemode": "area",
          "sizeref": 4634597.5,
          "symbol": "circle"
         },
         "mode": "markers",
         "name": "ESP",
         "showlegend": true,
         "type": "scattergeo"
        },
        {
         "geo": "geo",
         "hovertemplate": "iso_code=%{location}<br>total_vaccinations=%{marker.size}<extra></extra>",
         "legendgroup": "EST",
         "locations": [
          "EST"
         ],
         "marker": {
          "color": "#FECB52",
          "size": [
           1206351
          ],
          "sizemode": "area",
          "sizeref": 4634597.5,
          "symbol": "circle"
         },
         "mode": "markers",
         "name": "EST",
         "showlegend": true,
         "type": "scattergeo"
        },
        {
         "geo": "geo",
         "hovertemplate": "iso_code=%{location}<br>total_vaccinations=%{marker.size}<extra></extra>",
         "legendgroup": "ETH",
         "locations": [
          "ETH"
         ],
         "marker": {
          "color": "#636efa",
          "size": [
           2302496
          ],
          "sizemode": "area",
          "sizeref": 4634597.5,
          "symbol": "circle"
         },
         "mode": "markers",
         "name": "ETH",
         "showlegend": true,
         "type": "scattergeo"
        },
        {
         "geo": "geo",
         "hovertemplate": "iso_code=%{location}<br>total_vaccinations=%{marker.size}<extra></extra>",
         "legendgroup": "FIN",
         "locations": [
          "FIN"
         ],
         "marker": {
          "color": "#EF553B",
          "size": [
           6178954
          ],
          "sizemode": "area",
          "sizeref": 4634597.5,
          "symbol": "circle"
         },
         "mode": "markers",
         "name": "FIN",
         "showlegend": true,
         "type": "scattergeo"
        },
        {
         "geo": "geo",
         "hovertemplate": "iso_code=%{location}<br>total_vaccinations=%{marker.size}<extra></extra>",
         "legendgroup": "FJI",
         "locations": [
          "FJI"
         ],
         "marker": {
          "color": "#00cc96",
          "size": [
           690888
          ],
          "sizemode": "area",
          "sizeref": 4634597.5,
          "symbol": "circle"
         },
         "mode": "markers",
         "name": "FJI",
         "showlegend": true,
         "type": "scattergeo"
        },
        {
         "geo": "geo",
         "hovertemplate": "iso_code=%{location}<br>total_vaccinations=%{marker.size}<extra></extra>",
         "legendgroup": "FLK",
         "locations": [
          "FLK"
         ],
         "marker": {
          "color": "#ab63fa",
          "size": [
           4407
          ],
          "sizemode": "area",
          "sizeref": 4634597.5,
          "symbol": "circle"
         },
         "mode": "markers",
         "name": "FLK",
         "showlegend": true,
         "type": "scattergeo"
        },
        {
         "geo": "geo",
         "hovertemplate": "iso_code=%{location}<br>total_vaccinations=%{marker.size}<extra></extra>",
         "legendgroup": "FRA",
         "locations": [
          "FRA"
         ],
         "marker": {
          "color": "#FFA15A",
          "size": [
           79839977
          ],
          "sizemode": "area",
          "sizeref": 4634597.5,
          "symbol": "circle"
         },
         "mode": "markers",
         "name": "FRA",
         "showlegend": true,
         "type": "scattergeo"
        },
        {
         "geo": "geo",
         "hovertemplate": "iso_code=%{location}<br>total_vaccinations=%{marker.size}<extra></extra>",
         "legendgroup": "FRO",
         "locations": [
          "FRO"
         ],
         "marker": {
          "color": "#19d3f3",
          "size": [
           68843
          ],
          "sizemode": "area",
          "sizeref": 4634597.5,
          "symbol": "circle"
         },
         "mode": "markers",
         "name": "FRO",
         "showlegend": true,
         "type": "scattergeo"
        },
        {
         "geo": "geo",
         "hovertemplate": "iso_code=%{location}<br>total_vaccinations=%{marker.size}<extra></extra>",
         "legendgroup": "GAB",
         "locations": [
          "GAB"
         ],
         "marker": {
          "color": "#FF6692",
          "size": [
           120627
          ],
          "sizemode": "area",
          "sizeref": 4634597.5,
          "symbol": "circle"
         },
         "mode": "markers",
         "name": "GAB",
         "showlegend": true,
         "type": "scattergeo"
        },
        {
         "geo": "geo",
         "hovertemplate": "iso_code=%{location}<br>total_vaccinations=%{marker.size}<extra></extra>",
         "legendgroup": "GBR",
         "locations": [
          "GBR"
         ],
         "marker": {
          "color": "#B6E880",
          "size": [
           87627380
          ],
          "sizemode": "area",
          "sizeref": 4634597.5,
          "symbol": "circle"
         },
         "mode": "markers",
         "name": "GBR",
         "showlegend": true,
         "type": "scattergeo"
        },
        {
         "geo": "geo",
         "hovertemplate": "iso_code=%{location}<br>total_vaccinations=%{marker.size}<extra></extra>",
         "legendgroup": "GEO",
         "locations": [
          "GEO"
         ],
         "marker": {
          "color": "#FF97FF",
          "size": [
           791863
          ],
          "sizemode": "area",
          "sizeref": 4634597.5,
          "symbol": "circle"
         },
         "mode": "markers",
         "name": "GEO",
         "showlegend": true,
         "type": "scattergeo"
        },
        {
         "geo": "geo",
         "hovertemplate": "iso_code=%{location}<br>total_vaccinations=%{marker.size}<extra></extra>",
         "legendgroup": "GGY",
         "locations": [
          "GGY"
         ],
         "marker": {
          "color": "#FECB52",
          "size": [
           96687
          ],
          "sizemode": "area",
          "sizeref": 4634597.5,
          "symbol": "circle"
         },
         "mode": "markers",
         "name": "GGY",
         "showlegend": true,
         "type": "scattergeo"
        },
        {
         "geo": "geo",
         "hovertemplate": "iso_code=%{location}<br>total_vaccinations=%{marker.size}<extra></extra>",
         "legendgroup": "GHA",
         "locations": [
          "GHA"
         ],
         "marker": {
          "color": "#636efa",
          "size": [
           1271393
          ],
          "sizemode": "area",
          "sizeref": 4634597.5,
          "symbol": "circle"
         },
         "mode": "markers",
         "name": "GHA",
         "showlegend": true,
         "type": "scattergeo"
        },
        {
         "geo": "geo",
         "hovertemplate": "iso_code=%{location}<br>total_vaccinations=%{marker.size}<extra></extra>",
         "legendgroup": "GIB",
         "locations": [
          "GIB"
         ],
         "marker": {
          "color": "#EF553B",
          "size": [
           78535
          ],
          "sizemode": "area",
          "sizeref": 4634597.5,
          "symbol": "circle"
         },
         "mode": "markers",
         "name": "GIB",
         "showlegend": true,
         "type": "scattergeo"
        },
        {
         "geo": "geo",
         "hovertemplate": "iso_code=%{location}<br>total_vaccinations=%{marker.size}<extra></extra>",
         "legendgroup": "GIN",
         "locations": [
          "GIN"
         ],
         "marker": {
          "color": "#00cc96",
          "size": [
           938537
          ],
          "sizemode": "area",
          "sizeref": 4634597.5,
          "symbol": "circle"
         },
         "mode": "markers",
         "name": "GIN",
         "showlegend": true,
         "type": "scattergeo"
        },
        {
         "geo": "geo",
         "hovertemplate": "iso_code=%{location}<br>total_vaccinations=%{marker.size}<extra></extra>",
         "legendgroup": "GMB",
         "locations": [
          "GMB"
         ],
         "marker": {
          "color": "#ab63fa",
          "size": [
           43557
          ],
          "sizemode": "area",
          "sizeref": 4634597.5,
          "symbol": "circle"
         },
         "mode": "markers",
         "name": "GMB",
         "showlegend": true,
         "type": "scattergeo"
        },
        {
         "geo": "geo",
         "hovertemplate": "iso_code=%{location}<br>total_vaccinations=%{marker.size}<extra></extra>",
         "legendgroup": "GNB",
         "locations": [
          "GNB"
         ],
         "marker": {
          "color": "#FFA15A",
          "size": [
           30471
          ],
          "sizemode": "area",
          "sizeref": 4634597.5,
          "symbol": "circle"
         },
         "mode": "markers",
         "name": "GNB",
         "showlegend": true,
         "type": "scattergeo"
        },
        {
         "geo": "geo",
         "hovertemplate": "iso_code=%{location}<br>total_vaccinations=%{marker.size}<extra></extra>",
         "legendgroup": "GNQ",
         "locations": [
          "GNQ"
         ],
         "marker": {
          "color": "#19d3f3",
          "size": [
           322447
          ],
          "sizemode": "area",
          "sizeref": 4634597.5,
          "symbol": "circle"
         },
         "mode": "markers",
         "name": "GNQ",
         "showlegend": true,
         "type": "scattergeo"
        },
        {
         "geo": "geo",
         "hovertemplate": "iso_code=%{location}<br>total_vaccinations=%{marker.size}<extra></extra>",
         "legendgroup": "GRC",
         "locations": [
          "GRC"
         ],
         "marker": {
          "color": "#FF6692",
          "size": [
           10988409
          ],
          "sizemode": "area",
          "sizeref": 4634597.5,
          "symbol": "circle"
         },
         "mode": "markers",
         "name": "GRC",
         "showlegend": true,
         "type": "scattergeo"
        },
        {
         "geo": "geo",
         "hovertemplate": "iso_code=%{location}<br>total_vaccinations=%{marker.size}<extra></extra>",
         "legendgroup": "GRD",
         "locations": [
          "GRD"
         ],
         "marker": {
          "color": "#B6E880",
          "size": [
           38872
          ],
          "sizemode": "area",
          "sizeref": 4634597.5,
          "symbol": "circle"
         },
         "mode": "markers",
         "name": "GRD",
         "showlegend": true,
         "type": "scattergeo"
        },
        {
         "geo": "geo",
         "hovertemplate": "iso_code=%{location}<br>total_vaccinations=%{marker.size}<extra></extra>",
         "legendgroup": "GRL",
         "locations": [
          "GRL"
         ],
         "marker": {
          "color": "#FF97FF",
          "size": [
           67849
          ],
          "sizemode": "area",
          "sizeref": 4634597.5,
          "symbol": "circle"
         },
         "mode": "markers",
         "name": "GRL",
         "showlegend": true,
         "type": "scattergeo"
        },
        {
         "geo": "geo",
         "hovertemplate": "iso_code=%{location}<br>total_vaccinations=%{marker.size}<extra></extra>",
         "legendgroup": "GTM",
         "locations": [
          "GTM"
         ],
         "marker": {
          "color": "#FECB52",
          "size": [
           3177622
          ],
          "sizemode": "area",
          "sizeref": 4634597.5,
          "symbol": "circle"
         },
         "mode": "markers",
         "name": "GTM",
         "showlegend": true,
         "type": "scattergeo"
        },
        {
         "geo": "geo",
         "hovertemplate": "iso_code=%{location}<br>total_vaccinations=%{marker.size}<extra></extra>",
         "legendgroup": "GUY",
         "locations": [
          "GUY"
         ],
         "marker": {
          "color": "#636efa",
          "size": [
           425580
          ],
          "sizemode": "area",
          "sizeref": 4634597.5,
          "symbol": "circle"
         },
         "mode": "markers",
         "name": "GUY",
         "showlegend": true,
         "type": "scattergeo"
        },
        {
         "geo": "geo",
         "hovertemplate": "iso_code=%{location}<br>total_vaccinations=%{marker.size}<extra></extra>",
         "legendgroup": "HKG",
         "locations": [
          "HKG"
         ],
         "marker": {
          "color": "#EF553B",
          "size": [
           6579642
          ],
          "sizemode": "area",
          "sizeref": 4634597.5,
          "symbol": "circle"
         },
         "mode": "markers",
         "name": "HKG",
         "showlegend": true,
         "type": "scattergeo"
        },
        {
         "geo": "geo",
         "hovertemplate": "iso_code=%{location}<br>total_vaccinations=%{marker.size}<extra></extra>",
         "legendgroup": "HND",
         "locations": [
          "HND"
         ],
         "marker": {
          "color": "#00cc96",
          "size": [
           2806063
          ],
          "sizemode": "area",
          "sizeref": 4634597.5,
          "symbol": "circle"
         },
         "mode": "markers",
         "name": "HND",
         "showlegend": true,
         "type": "scattergeo"
        },
        {
         "geo": "geo",
         "hovertemplate": "iso_code=%{location}<br>total_vaccinations=%{marker.size}<extra></extra>",
         "legendgroup": "HRV",
         "locations": [
          "HRV"
         ],
         "marker": {
          "color": "#ab63fa",
          "size": [
           3166258
          ],
          "sizemode": "area",
          "sizeref": 4634597.5,
          "symbol": "circle"
         },
         "mode": "markers",
         "name": "HRV",
         "showlegend": true,
         "type": "scattergeo"
        },
        {
         "geo": "geo",
         "hovertemplate": "iso_code=%{location}<br>total_vaccinations=%{marker.size}<extra></extra>",
         "legendgroup": "HTI",
         "locations": [
          "HTI"
         ],
         "marker": {
          "color": "#FFA15A",
          "size": [
           19182
          ],
          "sizemode": "area",
          "sizeref": 4634597.5,
          "symbol": "circle"
         },
         "mode": "markers",
         "name": "HTI",
         "showlegend": true,
         "type": "scattergeo"
        },
        {
         "geo": "geo",
         "hovertemplate": "iso_code=%{location}<br>total_vaccinations=%{marker.size}<extra></extra>",
         "legendgroup": "HUN",
         "locations": [
          "HUN"
         ],
         "marker": {
          "color": "#19d3f3",
          "size": [
           10481449
          ],
          "sizemode": "area",
          "sizeref": 4634597.5,
          "symbol": "circle"
         },
         "mode": "markers",
         "name": "HUN",
         "showlegend": true,
         "type": "scattergeo"
        },
        {
         "geo": "geo",
         "hovertemplate": "iso_code=%{location}<br>total_vaccinations=%{marker.size}<extra></extra>",
         "legendgroup": "IDN",
         "locations": [
          "IDN"
         ],
         "marker": {
          "color": "#FF6692",
          "size": [
           81412426
          ],
          "sizemode": "area",
          "sizeref": 4634597.5,
          "symbol": "circle"
         },
         "mode": "markers",
         "name": "IDN",
         "showlegend": true,
         "type": "scattergeo"
        },
        {
         "geo": "geo",
         "hovertemplate": "iso_code=%{location}<br>total_vaccinations=%{marker.size}<extra></extra>",
         "legendgroup": "IMN",
         "locations": [
          "IMN"
         ],
         "marker": {
          "color": "#B6E880",
          "size": [
           125593
          ],
          "sizemode": "area",
          "sizeref": 4634597.5,
          "symbol": "circle"
         },
         "mode": "markers",
         "name": "IMN",
         "showlegend": true,
         "type": "scattergeo"
        },
        {
         "geo": "geo",
         "hovertemplate": "iso_code=%{location}<br>total_vaccinations=%{marker.size}<extra></extra>",
         "legendgroup": "IND",
         "locations": [
          "IND"
         ],
         "marker": {
          "color": "#FF97FF",
          "size": [
           543846290
          ],
          "sizemode": "area",
          "sizeref": 4634597.5,
          "symbol": "circle"
         },
         "mode": "markers",
         "name": "IND",
         "showlegend": true,
         "type": "scattergeo"
        },
        {
         "geo": "geo",
         "hovertemplate": "iso_code=%{location}<br>total_vaccinations=%{marker.size}<extra></extra>",
         "legendgroup": "IRL",
         "locations": [
          "IRL"
         ],
         "marker": {
          "color": "#FECB52",
          "size": [
           6326226
          ],
          "sizemode": "area",
          "sizeref": 4634597.5,
          "symbol": "circle"
         },
         "mode": "markers",
         "name": "IRL",
         "showlegend": true,
         "type": "scattergeo"
        },
        {
         "geo": "geo",
         "hovertemplate": "iso_code=%{location}<br>total_vaccinations=%{marker.size}<extra></extra>",
         "legendgroup": "IRN",
         "locations": [
          "IRN"
         ],
         "marker": {
          "color": "#636efa",
          "size": [
           16213714
          ],
          "sizemode": "area",
          "sizeref": 4634597.5,
          "symbol": "circle"
         },
         "mode": "markers",
         "name": "IRN",
         "showlegend": true,
         "type": "scattergeo"
        },
        {
         "geo": "geo",
         "hovertemplate": "iso_code=%{location}<br>total_vaccinations=%{marker.size}<extra></extra>",
         "legendgroup": "IRQ",
         "locations": [
          "IRQ"
         ],
         "marker": {
          "color": "#EF553B",
          "size": [
           2102550
          ],
          "sizemode": "area",
          "sizeref": 4634597.5,
          "symbol": "circle"
         },
         "mode": "markers",
         "name": "IRQ",
         "showlegend": true,
         "type": "scattergeo"
        },
        {
         "geo": "geo",
         "hovertemplate": "iso_code=%{location}<br>total_vaccinations=%{marker.size}<extra></extra>",
         "legendgroup": "ISL",
         "locations": [
          "ISL"
         ],
         "marker": {
          "color": "#00cc96",
          "size": [
           477205
          ],
          "sizemode": "area",
          "sizeref": 4634597.5,
          "symbol": "circle"
         },
         "mode": "markers",
         "name": "ISL",
         "showlegend": true,
         "type": "scattergeo"
        },
        {
         "geo": "geo",
         "hovertemplate": "iso_code=%{location}<br>total_vaccinations=%{marker.size}<extra></extra>",
         "legendgroup": "ISR",
         "locations": [
          "ISR"
         ],
         "marker": {
          "color": "#ab63fa",
          "size": [
           12119437
          ],
          "sizemode": "area",
          "sizeref": 4634597.5,
          "symbol": "circle"
         },
         "mode": "markers",
         "name": "ISR",
         "showlegend": true,
         "type": "scattergeo"
        },
        {
         "geo": "geo",
         "hovertemplate": "iso_code=%{location}<br>total_vaccinations=%{marker.size}<extra></extra>",
         "legendgroup": "ITA",
         "locations": [
          "ITA"
         ],
         "marker": {
          "color": "#FFA15A",
          "size": [
           73718833
          ],
          "sizemode": "area",
          "sizeref": 4634597.5,
          "symbol": "circle"
         },
         "mode": "markers",
         "name": "ITA",
         "showlegend": true,
         "type": "scattergeo"
        },
        {
         "geo": "geo",
         "hovertemplate": "iso_code=%{location}<br>total_vaccinations=%{marker.size}<extra></extra>",
         "legendgroup": "JAM",
         "locations": [
          "JAM"
         ],
         "marker": {
          "color": "#19d3f3",
          "size": [
           391076
          ],
          "sizemode": "area",
          "sizeref": 4634597.5,
          "symbol": "circle"
         },
         "mode": "markers",
         "name": "JAM",
         "showlegend": true,
         "type": "scattergeo"
        },
        {
         "geo": "geo",
         "hovertemplate": "iso_code=%{location}<br>total_vaccinations=%{marker.size}<extra></extra>",
         "legendgroup": "JEY",
         "locations": [
          "JEY"
         ],
         "marker": {
          "color": "#FF6692",
          "size": [
           144896
          ],
          "sizemode": "area",
          "sizeref": 4634597.5,
          "symbol": "circle"
         },
         "mode": "markers",
         "name": "JEY",
         "showlegend": true,
         "type": "scattergeo"
        },
        {
         "geo": "geo",
         "hovertemplate": "iso_code=%{location}<br>total_vaccinations=%{marker.size}<extra></extra>",
         "legendgroup": "JOR",
         "locations": [
          "JOR"
         ],
         "marker": {
          "color": "#B6E880",
          "size": [
           5741689
          ],
          "sizemode": "area",
          "sizeref": 4634597.5,
          "symbol": "circle"
         },
         "mode": "markers",
         "name": "JOR",
         "showlegend": true,
         "type": "scattergeo"
        },
        {
         "geo": "geo",
         "hovertemplate": "iso_code=%{location}<br>total_vaccinations=%{marker.size}<extra></extra>",
         "legendgroup": "JPN",
         "locations": [
          "JPN"
         ],
         "marker": {
          "color": "#FF97FF",
          "size": [
           108179498
          ],
          "sizemode": "area",
          "sizeref": 4634597.5,
          "symbol": "circle"
         },
         "mode": "markers",
         "name": "JPN",
         "showlegend": true,
         "type": "scattergeo"
        },
        {
         "geo": "geo",
         "hovertemplate": "iso_code=%{location}<br>total_vaccinations=%{marker.size}<extra></extra>",
         "legendgroup": "KAZ",
         "locations": [
          "KAZ"
         ],
         "marker": {
          "color": "#FECB52",
          "size": [
           10712219
          ],
          "sizemode": "area",
          "sizeref": 4634597.5,
          "symbol": "circle"
         },
         "mode": "markers",
         "name": "KAZ",
         "showlegend": true,
         "type": "scattergeo"
        },
        {
         "geo": "geo",
         "hovertemplate": "iso_code=%{location}<br>total_vaccinations=%{marker.size}<extra></extra>",
         "legendgroup": "KEN",
         "locations": [
          "KEN"
         ],
         "marker": {
          "color": "#636efa",
          "size": [
           1922085
          ],
          "sizemode": "area",
          "sizeref": 4634597.5,
          "symbol": "circle"
         },
         "mode": "markers",
         "name": "KEN",
         "showlegend": true,
         "type": "scattergeo"
        },
        {
         "geo": "geo",
         "hovertemplate": "iso_code=%{location}<br>total_vaccinations=%{marker.size}<extra></extra>",
         "legendgroup": "KGZ",
         "locations": [
          "KGZ"
         ],
         "marker": {
          "color": "#EF553B",
          "size": [
           848085
          ],
          "sizemode": "area",
          "sizeref": 4634597.5,
          "symbol": "circle"
         },
         "mode": "markers",
         "name": "KGZ",
         "showlegend": true,
         "type": "scattergeo"
        },
        {
         "geo": "geo",
         "hovertemplate": "iso_code=%{location}<br>total_vaccinations=%{marker.size}<extra></extra>",
         "legendgroup": "KHM",
         "locations": [
          "KHM"
         ],
         "marker": {
          "color": "#00cc96",
          "size": [
           15372439
          ],
          "sizemode": "area",
          "sizeref": 4634597.5,
          "symbol": "circle"
         },
         "mode": "markers",
         "name": "KHM",
         "showlegend": true,
         "type": "scattergeo"
        },
        {
         "geo": "geo",
         "hovertemplate": "iso_code=%{location}<br>total_vaccinations=%{marker.size}<extra></extra>",
         "legendgroup": "KIR",
         "locations": [
          "KIR"
         ],
         "marker": {
          "color": "#ab63fa",
          "size": [
           13970
          ],
          "sizemode": "area",
          "sizeref": 4634597.5,
          "symbol": "circle"
         },
         "mode": "markers",
         "name": "KIR",
         "showlegend": true,
         "type": "scattergeo"
        },
        {
         "geo": "geo",
         "hovertemplate": "iso_code=%{location}<br>total_vaccinations=%{marker.size}<extra></extra>",
         "legendgroup": "KNA",
         "locations": [
          "KNA"
         ],
         "marker": {
          "color": "#FFA15A",
          "size": [
           43966
          ],
          "sizemode": "area",
          "sizeref": 4634597.5,
          "symbol": "circle"
         },
         "mode": "markers",
         "name": "KNA",
         "showlegend": true,
         "type": "scattergeo"
        },
        {
         "geo": "geo",
         "hovertemplate": "iso_code=%{location}<br>total_vaccinations=%{marker.size}<extra></extra>",
         "legendgroup": "KOR",
         "locations": [
          "KOR"
         ],
         "marker": {
          "color": "#19d3f3",
          "size": [
           30974836
          ],
          "sizemode": "area",
          "sizeref": 4634597.5,
          "symbol": "circle"
         },
         "mode": "markers",
         "name": "KOR",
         "showlegend": true,
         "type": "scattergeo"
        },
        {
         "geo": "geo",
         "hovertemplate": "iso_code=%{location}<br>total_vaccinations=%{marker.size}<extra></extra>",
         "legendgroup": "KWT",
         "locations": [
          "KWT"
         ],
         "marker": {
          "color": "#FF6692",
          "size": [
           2375455
          ],
          "sizemode": "area",
          "sizeref": 4634597.5,
          "symbol": "circle"
         },
         "mode": "markers",
         "name": "KWT",
         "showlegend": true,
         "type": "scattergeo"
        },
        {
         "geo": "geo",
         "hovertemplate": "iso_code=%{location}<br>total_vaccinations=%{marker.size}<extra></extra>",
         "legendgroup": "LAO",
         "locations": [
          "LAO"
         ],
         "marker": {
          "color": "#B6E880",
          "size": [
           3118472
          ],
          "sizemode": "area",
          "sizeref": 4634597.5,
          "symbol": "circle"
         },
         "mode": "markers",
         "name": "LAO",
         "showlegend": true,
         "type": "scattergeo"
        },
        {
         "geo": "geo",
         "hovertemplate": "iso_code=%{location}<br>total_vaccinations=%{marker.size}<extra></extra>",
         "legendgroup": "LBN",
         "locations": [
          "LBN"
         ],
         "marker": {
          "color": "#FF97FF",
          "size": [
           2192119
          ],
          "sizemode": "area",
          "sizeref": 4634597.5,
          "symbol": "circle"
         },
         "mode": "markers",
         "name": "LBN",
         "showlegend": true,
         "type": "scattergeo"
        },
        {
         "geo": "geo",
         "hovertemplate": "iso_code=%{location}<br>total_vaccinations=%{marker.size}<extra></extra>",
         "legendgroup": "LBR",
         "locations": [
          "LBR"
         ],
         "marker": {
          "color": "#FECB52",
          "size": [
           95423
          ],
          "sizemode": "area",
          "sizeref": 4634597.5,
          "symbol": "circle"
         },
         "mode": "markers",
         "name": "LBR",
         "showlegend": true,
         "type": "scattergeo"
        },
        {
         "geo": "geo",
         "hovertemplate": "iso_code=%{location}<br>total_vaccinations=%{marker.size}<extra></extra>",
         "legendgroup": "LBY",
         "locations": [
          "LBY"
         ],
         "marker": {
          "color": "#636efa",
          "size": [
           764233
          ],
          "sizemode": "area",
          "sizeref": 4634597.5,
          "symbol": "circle"
         },
         "mode": "markers",
         "name": "LBY",
         "showlegend": true,
         "type": "scattergeo"
        },
        {
         "geo": "geo",
         "hovertemplate": "iso_code=%{location}<br>total_vaccinations=%{marker.size}<extra></extra>",
         "legendgroup": "LCA",
         "locations": [
          "LCA"
         ],
         "marker": {
          "color": "#EF553B",
          "size": [
           59537
          ],
          "sizemode": "area",
          "sizeref": 4634597.5,
          "symbol": "circle"
         },
         "mode": "markers",
         "name": "LCA",
         "showlegend": true,
         "type": "scattergeo"
        },
        {
         "geo": "geo",
         "hovertemplate": "iso_code=%{location}<br>total_vaccinations=%{marker.size}<extra></extra>",
         "legendgroup": "LIE",
         "locations": [
          "LIE"
         ],
         "marker": {
          "color": "#00cc96",
          "size": [
           40614
          ],
          "sizemode": "area",
          "sizeref": 4634597.5,
          "symbol": "circle"
         },
         "mode": "markers",
         "name": "LIE",
         "showlegend": true,
         "type": "scattergeo"
        },
        {
         "geo": "geo",
         "hovertemplate": "iso_code=%{location}<br>total_vaccinations=%{marker.size}<extra></extra>",
         "legendgroup": "LKA",
         "locations": [
          "LKA"
         ],
         "marker": {
          "color": "#ab63fa",
          "size": [
           15310726
          ],
          "sizemode": "area",
          "sizeref": 4634597.5,
          "symbol": "circle"
         },
         "mode": "markers",
         "name": "LKA",
         "showlegend": true,
         "type": "scattergeo"
        },
        {
         "geo": "geo",
         "hovertemplate": "iso_code=%{location}<br>total_vaccinations=%{marker.size}<extra></extra>",
         "legendgroup": "LSO",
         "locations": [
          "LSO"
         ],
         "marker": {
          "color": "#FFA15A",
          "size": [
           72948
          ],
          "sizemode": "area",
          "sizeref": 4634597.5,
          "symbol": "circle"
         },
         "mode": "markers",
         "name": "LSO",
         "showlegend": true,
         "type": "scattergeo"
        },
        {
         "geo": "geo",
         "hovertemplate": "iso_code=%{location}<br>total_vaccinations=%{marker.size}<extra></extra>",
         "legendgroup": "LTU",
         "locations": [
          "LTU"
         ],
         "marker": {
          "color": "#19d3f3",
          "size": [
           2916963
          ],
          "sizemode": "area",
          "sizeref": 4634597.5,
          "symbol": "circle"
         },
         "mode": "markers",
         "name": "LTU",
         "showlegend": true,
         "type": "scattergeo"
        },
        {
         "geo": "geo",
         "hovertemplate": "iso_code=%{location}<br>total_vaccinations=%{marker.size}<extra></extra>",
         "legendgroup": "LUX",
         "locations": [
          "LUX"
         ],
         "marker": {
          "color": "#FF6692",
          "size": [
           741948
          ],
          "sizemode": "area",
          "sizeref": 4634597.5,
          "symbol": "circle"
         },
         "mode": "markers",
         "name": "LUX",
         "showlegend": true,
         "type": "scattergeo"
        },
        {
         "geo": "geo",
         "hovertemplate": "iso_code=%{location}<br>total_vaccinations=%{marker.size}<extra></extra>",
         "legendgroup": "LVA",
         "locations": [
          "LVA"
         ],
         "marker": {
          "color": "#B6E880",
          "size": [
           1418214
          ],
          "sizemode": "area",
          "sizeref": 4634597.5,
          "symbol": "circle"
         },
         "mode": "markers",
         "name": "LVA",
         "showlegend": true,
         "type": "scattergeo"
        },
        {
         "geo": "geo",
         "hovertemplate": "iso_code=%{location}<br>total_vaccinations=%{marker.size}<extra></extra>",
         "legendgroup": "MAC",
         "locations": [
          "MAC"
         ],
         "marker": {
          "color": "#FF97FF",
          "size": [
           547953
          ],
          "sizemode": "area",
          "sizeref": 4634597.5,
          "symbol": "circle"
         },
         "mode": "markers",
         "name": "MAC",
         "showlegend": true,
         "type": "scattergeo"
        },
        {
         "geo": "geo",
         "hovertemplate": "iso_code=%{location}<br>total_vaccinations=%{marker.size}<extra></extra>",
         "legendgroup": "MAR",
         "locations": [
          "MAR"
         ],
         "marker": {
          "color": "#FECB52",
          "size": [
           27630059
          ],
          "sizemode": "area",
          "sizeref": 4634597.5,
          "symbol": "circle"
         },
         "mode": "markers",
         "name": "MAR",
         "showlegend": true,
         "type": "scattergeo"
        },
        {
         "geo": "geo",
         "hovertemplate": "iso_code=%{location}<br>total_vaccinations=%{marker.size}<extra></extra>",
         "legendgroup": "MCO",
         "locations": [
          "MCO"
         ],
         "marker": {
          "color": "#636efa",
          "size": [
           44060
          ],
          "sizemode": "area",
          "sizeref": 4634597.5,
          "symbol": "circle"
         },
         "mode": "markers",
         "name": "MCO",
         "showlegend": true,
         "type": "scattergeo"
        },
        {
         "geo": "geo",
         "hovertemplate": "iso_code=%{location}<br>total_vaccinations=%{marker.size}<extra></extra>",
         "legendgroup": "MDA",
         "locations": [
          "MDA"
         ],
         "marker": {
          "color": "#EF553B",
          "size": [
           1143669
          ],
          "sizemode": "area",
          "sizeref": 4634597.5,
          "symbol": "circle"
         },
         "mode": "markers",
         "name": "MDA",
         "showlegend": true,
         "type": "scattergeo"
        },
        {
         "geo": "geo",
         "hovertemplate": "iso_code=%{location}<br>total_vaccinations=%{marker.size}<extra></extra>",
         "legendgroup": "MDG",
         "locations": [
          "MDG"
         ],
         "marker": {
          "color": "#00cc96",
          "size": [
           197001
          ],
          "sizemode": "area",
          "sizeref": 4634597.5,
          "symbol": "circle"
         },
         "mode": "markers",
         "name": "MDG",
         "showlegend": true,
         "type": "scattergeo"
        },
        {
         "geo": "geo",
         "hovertemplate": "iso_code=%{location}<br>total_vaccinations=%{marker.size}<extra></extra>",
         "legendgroup": "MDV",
         "locations": [
          "MDV"
         ],
         "marker": {
          "color": "#ab63fa",
          "size": [
           633914
          ],
          "sizemode": "area",
          "sizeref": 4634597.5,
          "symbol": "circle"
         },
         "mode": "markers",
         "name": "MDV",
         "showlegend": true,
         "type": "scattergeo"
        },
        {
         "geo": "geo",
         "hovertemplate": "iso_code=%{location}<br>total_vaccinations=%{marker.size}<extra></extra>",
         "legendgroup": "MEX",
         "locations": [
          "MEX"
         ],
         "marker": {
          "color": "#FFA15A",
          "size": [
           76587422
          ],
          "sizemode": "area",
          "sizeref": 4634597.5,
          "symbol": "circle"
         },
         "mode": "markers",
         "name": "MEX",
         "showlegend": true,
         "type": "scattergeo"
        },
        {
         "geo": "geo",
         "hovertemplate": "iso_code=%{location}<br>total_vaccinations=%{marker.size}<extra></extra>",
         "legendgroup": "MKD",
         "locations": [
          "MKD"
         ],
         "marker": {
          "color": "#19d3f3",
          "size": [
           1033584
          ],
          "sizemode": "area",
          "sizeref": 4634597.5,
          "symbol": "circle"
         },
         "mode": "markers",
         "name": "MKD",
         "showlegend": true,
         "type": "scattergeo"
        },
        {
         "geo": "geo",
         "hovertemplate": "iso_code=%{location}<br>total_vaccinations=%{marker.size}<extra></extra>",
         "legendgroup": "MLI",
         "locations": [
          "MLI"
         ],
         "marker": {
          "color": "#FF6692",
          "size": [
           259719
          ],
          "sizemode": "area",
          "sizeref": 4634597.5,
          "symbol": "circle"
         },
         "mode": "markers",
         "name": "MLI",
         "showlegend": true,
         "type": "scattergeo"
        },
        {
         "geo": "geo",
         "hovertemplate": "iso_code=%{location}<br>total_vaccinations=%{marker.size}<extra></extra>",
         "legendgroup": "MLT",
         "locations": [
          "MLT"
         ],
         "marker": {
          "color": "#B6E880",
          "size": [
           783983
          ],
          "sizemode": "area",
          "sizeref": 4634597.5,
          "symbol": "circle"
         },
         "mode": "markers",
         "name": "MLT",
         "showlegend": true,
         "type": "scattergeo"
        },
        {
         "geo": "geo",
         "hovertemplate": "iso_code=%{location}<br>total_vaccinations=%{marker.size}<extra></extra>",
         "legendgroup": "MMR",
         "locations": [
          "MMR"
         ],
         "marker": {
          "color": "#FF97FF",
          "size": [
           3500000
          ],
          "sizemode": "area",
          "sizeref": 4634597.5,
          "symbol": "circle"
         },
         "mode": "markers",
         "name": "MMR",
         "showlegend": true,
         "type": "scattergeo"
        },
        {
         "geo": "geo",
         "hovertemplate": "iso_code=%{location}<br>total_vaccinations=%{marker.size}<extra></extra>",
         "legendgroup": "MNE",
         "locations": [
          "MNE"
         ],
         "marker": {
          "color": "#FECB52",
          "size": [
           358224
          ],
          "sizemode": "area",
          "sizeref": 4634597.5,
          "symbol": "circle"
         },
         "mode": "markers",
         "name": "MNE",
         "showlegend": true,
         "type": "scattergeo"
        },
        {
         "geo": "geo",
         "hovertemplate": "iso_code=%{location}<br>total_vaccinations=%{marker.size}<extra></extra>",
         "legendgroup": "MNG",
         "locations": [
          "MNG"
         ],
         "marker": {
          "color": "#636efa",
          "size": [
           4235613
          ],
          "sizemode": "area",
          "sizeref": 4634597.5,
          "symbol": "circle"
         },
         "mode": "markers",
         "name": "MNG",
         "showlegend": true,
         "type": "scattergeo"
        },
        {
         "geo": "geo",
         "hovertemplate": "iso_code=%{location}<br>total_vaccinations=%{marker.size}<extra></extra>",
         "legendgroup": "MOZ",
         "locations": [
          "MOZ"
         ],
         "marker": {
          "color": "#EF553B",
          "size": [
           1386326
          ],
          "sizemode": "area",
          "sizeref": 4634597.5,
          "symbol": "circle"
         },
         "mode": "markers",
         "name": "MOZ",
         "showlegend": true,
         "type": "scattergeo"
        },
        {
         "geo": "geo",
         "hovertemplate": "iso_code=%{location}<br>total_vaccinations=%{marker.size}<extra></extra>",
         "legendgroup": "MRT",
         "locations": [
          "MRT"
         ],
         "marker": {
          "color": "#00cc96",
          "size": [
           242626
          ],
          "sizemode": "area",
          "sizeref": 4634597.5,
          "symbol": "circle"
         },
         "mode": "markers",
         "name": "MRT",
         "showlegend": true,
         "type": "scattergeo"
        },
        {
         "geo": "geo",
         "hovertemplate": "iso_code=%{location}<br>total_vaccinations=%{marker.size}<extra></extra>",
         "legendgroup": "MSR",
         "locations": [
          "MSR"
         ],
         "marker": {
          "color": "#ab63fa",
          "size": [
           2828
          ],
          "sizemode": "area",
          "sizeref": 4634597.5,
          "symbol": "circle"
         },
         "mode": "markers",
         "name": "MSR",
         "showlegend": true,
         "type": "scattergeo"
        },
        {
         "geo": "geo",
         "hovertemplate": "iso_code=%{location}<br>total_vaccinations=%{marker.size}<extra></extra>",
         "legendgroup": "MUS",
         "locations": [
          "MUS"
         ],
         "marker": {
          "color": "#FFA15A",
          "size": [
           1297090
          ],
          "sizemode": "area",
          "sizeref": 4634597.5,
          "symbol": "circle"
         },
         "mode": "markers",
         "name": "MUS",
         "showlegend": true,
         "type": "scattergeo"
        },
        {
         "geo": "geo",
         "hovertemplate": "iso_code=%{location}<br>total_vaccinations=%{marker.size}<extra></extra>",
         "legendgroup": "MWI",
         "locations": [
          "MWI"
         ],
         "marker": {
          "color": "#19d3f3",
          "size": [
           683097
          ],
          "sizemode": "area",
          "sizeref": 4634597.5,
          "symbol": "circle"
         },
         "mode": "markers",
         "name": "MWI",
         "showlegend": true,
         "type": "scattergeo"
        },
        {
         "geo": "geo",
         "hovertemplate": "iso_code=%{location}<br>total_vaccinations=%{marker.size}<extra></extra>",
         "legendgroup": "MYS",
         "locations": [
          "MYS"
         ],
         "marker": {
          "color": "#FF6692",
          "size": [
           27293915
          ],
          "sizemode": "area",
          "sizeref": 4634597.5,
          "symbol": "circle"
         },
         "mode": "markers",
         "name": "MYS",
         "showlegend": true,
         "type": "scattergeo"
        },
        {
         "geo": "geo",
         "hovertemplate": "iso_code=%{location}<br>total_vaccinations=%{marker.size}<extra></extra>",
         "legendgroup": "NAM",
         "locations": [
          "NAM"
         ],
         "marker": {
          "color": "#B6E880",
          "size": [
           244880
          ],
          "sizemode": "area",
          "sizeref": 4634597.5,
          "symbol": "circle"
         },
         "mode": "markers",
         "name": "NAM",
         "showlegend": true,
         "type": "scattergeo"
        },
        {
         "geo": "geo",
         "hovertemplate": "iso_code=%{location}<br>total_vaccinations=%{marker.size}<extra></extra>",
         "legendgroup": "NCL",
         "locations": [
          "NCL"
         ],
         "marker": {
          "color": "#FF97FF",
          "size": [
           133804
          ],
          "sizemode": "area",
          "sizeref": 4634597.5,
          "symbol": "circle"
         },
         "mode": "markers",
         "name": "NCL",
         "showlegend": true,
         "type": "scattergeo"
        },
        {
         "geo": "geo",
         "hovertemplate": "iso_code=%{location}<br>total_vaccinations=%{marker.size}<extra></extra>",
         "legendgroup": "NER",
         "locations": [
          "NER"
         ],
         "marker": {
          "color": "#FECB52",
          "size": [
           425483
          ],
          "sizemode": "area",
          "sizeref": 4634597.5,
          "symbol": "circle"
         },
         "mode": "markers",
         "name": "NER",
         "showlegend": true,
         "type": "scattergeo"
        },
        {
         "geo": "geo",
         "hovertemplate": "iso_code=%{location}<br>total_vaccinations=%{marker.size}<extra></extra>",
         "legendgroup": "NGA",
         "locations": [
          "NGA"
         ],
         "marker": {
          "color": "#636efa",
          "size": [
           3967013
          ],
          "sizemode": "area",
          "sizeref": 4634597.5,
          "symbol": "circle"
         },
         "mode": "markers",
         "name": "NGA",
         "showlegend": true,
         "type": "scattergeo"
        },
        {
         "geo": "geo",
         "hovertemplate": "iso_code=%{location}<br>total_vaccinations=%{marker.size}<extra></extra>",
         "legendgroup": "NIC",
         "locations": [
          "NIC"
         ],
         "marker": {
          "color": "#EF553B",
          "size": [
           919275
          ],
          "sizemode": "area",
          "sizeref": 4634597.5,
          "symbol": "circle"
         },
         "mode": "markers",
         "name": "NIC",
         "showlegend": true,
         "type": "scattergeo"
        },
        {
         "geo": "geo",
         "hovertemplate": "iso_code=%{location}<br>total_vaccinations=%{marker.size}<extra></extra>",
         "legendgroup": "NIU",
         "locations": [
          "NIU"
         ],
         "marker": {
          "color": "#00cc96",
          "size": [
           2406
          ],
          "sizemode": "area",
          "sizeref": 4634597.5,
          "symbol": "circle"
         },
         "mode": "markers",
         "name": "NIU",
         "showlegend": true,
         "type": "scattergeo"
        },
        {
         "geo": "geo",
         "hovertemplate": "iso_code=%{location}<br>total_vaccinations=%{marker.size}<extra></extra>",
         "legendgroup": "NLD",
         "locations": [
          "NLD"
         ],
         "marker": {
          "color": "#ab63fa",
          "size": [
           21348406
          ],
          "sizemode": "area",
          "sizeref": 4634597.5,
          "symbol": "circle"
         },
         "mode": "markers",
         "name": "NLD",
         "showlegend": true,
         "type": "scattergeo"
        },
        {
         "geo": "geo",
         "hovertemplate": "iso_code=%{location}<br>total_vaccinations=%{marker.size}<extra></extra>",
         "legendgroup": "NOR",
         "locations": [
          "NOR"
         ],
         "marker": {
          "color": "#FFA15A",
          "size": [
           5911464
          ],
          "sizemode": "area",
          "sizeref": 4634597.5,
          "symbol": "circle"
         },
         "mode": "markers",
         "name": "NOR",
         "showlegend": true,
         "type": "scattergeo"
        },
        {
         "geo": "geo",
         "hovertemplate": "iso_code=%{location}<br>total_vaccinations=%{marker.size}<extra></extra>",
         "legendgroup": "NPL",
         "locations": [
          "NPL"
         ],
         "marker": {
          "color": "#19d3f3",
          "size": [
           7977896
          ],
          "sizemode": "area",
          "sizeref": 4634597.5,
          "symbol": "circle"
         },
         "mode": "markers",
         "name": "NPL",
         "showlegend": true,
         "type": "scattergeo"
        },
        {
         "geo": "geo",
         "hovertemplate": "iso_code=%{location}<br>total_vaccinations=%{marker.size}<extra></extra>",
         "legendgroup": "NRU",
         "locations": [
          "NRU"
         ],
         "marker": {
          "color": "#FF6692",
          "size": [
           14784
          ],
          "sizemode": "area",
          "sizeref": 4634597.5,
          "symbol": "circle"
         },
         "mode": "markers",
         "name": "NRU",
         "showlegend": true,
         "type": "scattergeo"
        },
        {
         "geo": "geo",
         "hovertemplate": "iso_code=%{location}<br>total_vaccinations=%{marker.size}<extra></extra>",
         "legendgroup": "NZL",
         "locations": [
          "NZL"
         ],
         "marker": {
          "color": "#B6E880",
          "size": [
           2293301
          ],
          "sizemode": "area",
          "sizeref": 4634597.5,
          "symbol": "circle"
         },
         "mode": "markers",
         "name": "NZL",
         "showlegend": true,
         "type": "scattergeo"
        },
        {
         "geo": "geo",
         "hovertemplate": "iso_code=%{location}<br>total_vaccinations=%{marker.size}<extra></extra>",
         "legendgroup": "OMN",
         "locations": [
          "OMN"
         ],
         "marker": {
          "color": "#FF97FF",
          "size": [
           2656658
          ],
          "sizemode": "area",
          "sizeref": 4634597.5,
          "symbol": "circle"
         },
         "mode": "markers",
         "name": "OMN",
         "showlegend": true,
         "type": "scattergeo"
        },
        {
         "geo": "geo",
         "hovertemplate": "iso_code=%{location}<br>total_vaccinations=%{marker.size}<extra></extra>",
         "legendgroup": "OWID_CYN",
         "locations": [
          "OWID_CYN"
         ],
         "marker": {
          "color": "#FECB52",
          "size": [
           194782
          ],
          "sizemode": "area",
          "sizeref": 4634597.5,
          "symbol": "circle"
         },
         "mode": "markers",
         "name": "OWID_CYN",
         "showlegend": true,
         "type": "scattergeo"
        },
        {
         "geo": "geo",
         "hovertemplate": "iso_code=%{location}<br>total_vaccinations=%{marker.size}<extra></extra>",
         "legendgroup": "OWID_ENG",
         "locations": [
          "OWID_ENG"
         ],
         "marker": {
          "color": "#636efa",
          "size": [
           73340932
          ],
          "sizemode": "area",
          "sizeref": 4634597.5,
          "symbol": "circle"
         },
         "mode": "markers",
         "name": "OWID_ENG",
         "showlegend": true,
         "type": "scattergeo"
        },
        {
         "geo": "geo",
         "hovertemplate": "iso_code=%{location}<br>total_vaccinations=%{marker.size}<extra></extra>",
         "legendgroup": "OWID_KOS",
         "locations": [
          "OWID_KOS"
         ],
         "marker": {
          "color": "#EF553B",
          "size": [
           539752
          ],
          "sizemode": "area",
          "sizeref": 4634597.5,
          "symbol": "circle"
         },
         "mode": "markers",
         "name": "OWID_KOS",
         "showlegend": true,
         "type": "scattergeo"
        },
        {
         "geo": "geo",
         "hovertemplate": "iso_code=%{location}<br>total_vaccinations=%{marker.size}<extra></extra>",
         "legendgroup": "OWID_NIR",
         "locations": [
          "OWID_NIR"
         ],
         "marker": {
          "color": "#00cc96",
          "size": [
           2362361
          ],
          "sizemode": "area",
          "sizeref": 4634597.5,
          "symbol": "circle"
         },
         "mode": "markers",
         "name": "OWID_NIR",
         "showlegend": true,
         "type": "scattergeo"
        },
        {
         "geo": "geo",
         "hovertemplate": "iso_code=%{location}<br>total_vaccinations=%{marker.size}<extra></extra>",
         "legendgroup": "OWID_SCT",
         "locations": [
          "OWID_SCT"
         ],
         "marker": {
          "color": "#ab63fa",
          "size": [
           7481073
          ],
          "sizemode": "area",
          "sizeref": 4634597.5,
          "symbol": "circle"
         },
         "mode": "markers",
         "name": "OWID_SCT",
         "showlegend": true,
         "type": "scattergeo"
        },
        {
         "geo": "geo",
         "hovertemplate": "iso_code=%{location}<br>total_vaccinations=%{marker.size}<extra></extra>",
         "legendgroup": "OWID_WLS",
         "locations": [
          "OWID_WLS"
         ],
         "marker": {
          "color": "#FFA15A",
          "size": [
           4443014
          ],
          "sizemode": "area",
          "sizeref": 4634597.5,
          "symbol": "circle"
         },
         "mode": "markers",
         "name": "OWID_WLS",
         "showlegend": true,
         "type": "scattergeo"
        },
        {
         "geo": "geo",
         "hovertemplate": "iso_code=%{location}<br>total_vaccinations=%{marker.size}<extra></extra>",
         "legendgroup": "PAK",
         "locations": [
          "PAK"
         ],
         "marker": {
          "color": "#19d3f3",
          "size": [
           42173424
          ],
          "sizemode": "area",
          "sizeref": 4634597.5,
          "symbol": "circle"
         },
         "mode": "markers",
         "name": "PAK",
         "showlegend": true,
         "type": "scattergeo"
        },
        {
         "geo": "geo",
         "hovertemplate": "iso_code=%{location}<br>total_vaccinations=%{marker.size}<extra></extra>",
         "legendgroup": "PAN",
         "locations": [
          "PAN"
         ],
         "marker": {
          "color": "#FF6692",
          "size": [
           3292229
          ],
          "sizemode": "area",
          "sizeref": 4634597.5,
          "symbol": "circle"
         },
         "mode": "markers",
         "name": "PAN",
         "showlegend": true,
         "type": "scattergeo"
        },
        {
         "geo": "geo",
         "hovertemplate": "iso_code=%{location}<br>total_vaccinations=%{marker.size}<extra></extra>",
         "legendgroup": "PCN",
         "locations": [
          "PCN"
         ],
         "marker": {
          "color": "#B6E880",
          "size": [
           83
          ],
          "sizemode": "area",
          "sizeref": 4634597.5,
          "symbol": "circle"
         },
         "mode": "markers",
         "name": "PCN",
         "showlegend": true,
         "type": "scattergeo"
        },
        {
         "geo": "geo",
         "hovertemplate": "iso_code=%{location}<br>total_vaccinations=%{marker.size}<extra></extra>",
         "legendgroup": "PER",
         "locations": [
          "PER"
         ],
         "marker": {
          "color": "#FF97FF",
          "size": [
           15790785
          ],
          "sizemode": "area",
          "sizeref": 4634597.5,
          "symbol": "circle"
         },
         "mode": "markers",
         "name": "PER",
         "showlegend": true,
         "type": "scattergeo"
        },
        {
         "geo": "geo",
         "hovertemplate": "iso_code=%{location}<br>total_vaccinations=%{marker.size}<extra></extra>",
         "legendgroup": "PHL",
         "locations": [
          "PHL"
         ],
         "marker": {
          "color": "#FECB52",
          "size": [
           26127502
          ],
          "sizemode": "area",
          "sizeref": 4634597.5,
          "symbol": "circle"
         },
         "mode": "markers",
         "name": "PHL",
         "showlegend": true,
         "type": "scattergeo"
        },
        {
         "geo": "geo",
         "hovertemplate": "iso_code=%{location}<br>total_vaccinations=%{marker.size}<extra></extra>",
         "legendgroup": "PNG",
         "locations": [
          "PNG"
         ],
         "marker": {
          "color": "#636efa",
          "size": [
           100409
          ],
          "sizemode": "area",
          "sizeref": 4634597.5,
          "symbol": "circle"
         },
         "mode": "markers",
         "name": "PNG",
         "showlegend": true,
         "type": "scattergeo"
        },
        {
         "geo": "geo",
         "hovertemplate": "iso_code=%{location}<br>total_vaccinations=%{marker.size}<extra></extra>",
         "legendgroup": "POL",
         "locations": [
          "POL"
         ],
         "marker": {
          "color": "#EF553B",
          "size": [
           35409730
          ],
          "sizemode": "area",
          "sizeref": 4634597.5,
          "symbol": "circle"
         },
         "mode": "markers",
         "name": "POL",
         "showlegend": true,
         "type": "scattergeo"
        },
        {
         "geo": "geo",
         "hovertemplate": "iso_code=%{location}<br>total_vaccinations=%{marker.size}<extra></extra>",
         "legendgroup": "PRT",
         "locations": [
          "PRT"
         ],
         "marker": {
          "color": "#00cc96",
          "size": [
           13426233
          ],
          "sizemode": "area",
          "sizeref": 4634597.5,
          "symbol": "circle"
         },
         "mode": "markers",
         "name": "PRT",
         "showlegend": true,
         "type": "scattergeo"
        },
        {
         "geo": "geo",
         "hovertemplate": "iso_code=%{location}<br>total_vaccinations=%{marker.size}<extra></extra>",
         "legendgroup": "PRY",
         "locations": [
          "PRY"
         ],
         "marker": {
          "color": "#ab63fa",
          "size": [
           2214138
          ],
          "sizemode": "area",
          "sizeref": 4634597.5,
          "symbol": "circle"
         },
         "mode": "markers",
         "name": "PRY",
         "showlegend": true,
         "type": "scattergeo"
        },
        {
         "geo": "geo",
         "hovertemplate": "iso_code=%{location}<br>total_vaccinations=%{marker.size}<extra></extra>",
         "legendgroup": "PSE",
         "locations": [
          "PSE"
         ],
         "marker": {
          "color": "#FFA15A",
          "size": [
           1053252
          ],
          "sizemode": "area",
          "sizeref": 4634597.5,
          "symbol": "circle"
         },
         "mode": "markers",
         "name": "PSE",
         "showlegend": true,
         "type": "scattergeo"
        },
        {
         "geo": "geo",
         "hovertemplate": "iso_code=%{location}<br>total_vaccinations=%{marker.size}<extra></extra>",
         "legendgroup": "PYF",
         "locations": [
          "PYF"
         ],
         "marker": {
          "color": "#19d3f3",
          "size": [
           174127
          ],
          "sizemode": "area",
          "sizeref": 4634597.5,
          "symbol": "circle"
         },
         "mode": "markers",
         "name": "PYF",
         "showlegend": true,
         "type": "scattergeo"
        },
        {
         "geo": "geo",
         "hovertemplate": "iso_code=%{location}<br>total_vaccinations=%{marker.size}<extra></extra>",
         "legendgroup": "QAT",
         "locations": [
          "QAT"
         ],
         "marker": {
          "color": "#FF6692",
          "size": [
           4076666
          ],
          "sizemode": "area",
          "sizeref": 4634597.5,
          "symbol": "circle"
         },
         "mode": "markers",
         "name": "QAT",
         "showlegend": true,
         "type": "scattergeo"
        },
        {
         "geo": "geo",
         "hovertemplate": "iso_code=%{location}<br>total_vaccinations=%{marker.size}<extra></extra>",
         "legendgroup": "ROU",
         "locations": [
          "ROU"
         ],
         "marker": {
          "color": "#B6E880",
          "size": [
           9573496
          ],
          "sizemode": "area",
          "sizeref": 4634597.5,
          "symbol": "circle"
         },
         "mode": "markers",
         "name": "ROU",
         "showlegend": true,
         "type": "scattergeo"
        },
        {
         "geo": "geo",
         "hovertemplate": "iso_code=%{location}<br>total_vaccinations=%{marker.size}<extra></extra>",
         "legendgroup": "RUS",
         "locations": [
          "RUS"
         ],
         "marker": {
          "color": "#FF97FF",
          "size": [
           72895650
          ],
          "sizemode": "area",
          "sizeref": 4634597.5,
          "symbol": "circle"
         },
         "mode": "markers",
         "name": "RUS",
         "showlegend": true,
         "type": "scattergeo"
        },
        {
         "geo": "geo",
         "hovertemplate": "iso_code=%{location}<br>total_vaccinations=%{marker.size}<extra></extra>",
         "legendgroup": "RWA",
         "locations": [
          "RWA"
         ],
         "marker": {
          "color": "#FECB52",
          "size": [
           854194
          ],
          "sizemode": "area",
          "sizeref": 4634597.5,
          "symbol": "circle"
         },
         "mode": "markers",
         "name": "RWA",
         "showlegend": true,
         "type": "scattergeo"
        },
        {
         "geo": "geo",
         "hovertemplate": "iso_code=%{location}<br>total_vaccinations=%{marker.size}<extra></extra>",
         "legendgroup": "SAU",
         "locations": [
          "SAU"
         ],
         "marker": {
          "color": "#636efa",
          "size": [
           31654206
          ],
          "sizemode": "area",
          "sizeref": 4634597.5,
          "symbol": "circle"
         },
         "mode": "markers",
         "name": "SAU",
         "showlegend": true,
         "type": "scattergeo"
        },
        {
         "geo": "geo",
         "hovertemplate": "iso_code=%{location}<br>total_vaccinations=%{marker.size}<extra></extra>",
         "legendgroup": "SDN",
         "locations": [
          "SDN"
         ],
         "marker": {
          "color": "#EF553B",
          "size": [
           823881
          ],
          "sizemode": "area",
          "sizeref": 4634597.5,
          "symbol": "circle"
         },
         "mode": "markers",
         "name": "SDN",
         "showlegend": true,
         "type": "scattergeo"
        },
        {
         "geo": "geo",
         "hovertemplate": "iso_code=%{location}<br>total_vaccinations=%{marker.size}<extra></extra>",
         "legendgroup": "SEN",
         "locations": [
          "SEN"
         ],
         "marker": {
          "color": "#00cc96",
          "size": [
           1360095
          ],
          "sizemode": "area",
          "sizeref": 4634597.5,
          "symbol": "circle"
         },
         "mode": "markers",
         "name": "SEN",
         "showlegend": true,
         "type": "scattergeo"
        },
        {
         "geo": "geo",
         "hovertemplate": "iso_code=%{location}<br>total_vaccinations=%{marker.size}<extra></extra>",
         "legendgroup": "SGP",
         "locations": [
          "SGP"
         ],
         "marker": {
          "color": "#ab63fa",
          "size": [
           8429249
          ],
          "sizemode": "area",
          "sizeref": 4634597.5,
          "symbol": "circle"
         },
         "mode": "markers",
         "name": "SGP",
         "showlegend": true,
         "type": "scattergeo"
        },
        {
         "geo": "geo",
         "hovertemplate": "iso_code=%{location}<br>total_vaccinations=%{marker.size}<extra></extra>",
         "legendgroup": "SHN",
         "locations": [
          "SHN"
         ],
         "marker": {
          "color": "#FFA15A",
          "size": [
           7892
          ],
          "sizemode": "area",
          "sizeref": 4634597.5,
          "symbol": "circle"
         },
         "mode": "markers",
         "name": "SHN",
         "showlegend": true,
         "type": "scattergeo"
        },
        {
         "geo": "geo",
         "hovertemplate": "iso_code=%{location}<br>total_vaccinations=%{marker.size}<extra></extra>",
         "legendgroup": "SLB",
         "locations": [
          "SLB"
         ],
         "marker": {
          "color": "#19d3f3",
          "size": [
           56621
          ],
          "sizemode": "area",
          "sizeref": 4634597.5,
          "symbol": "circle"
         },
         "mode": "markers",
         "name": "SLB",
         "showlegend": true,
         "type": "scattergeo"
        },
        {
         "geo": "geo",
         "hovertemplate": "iso_code=%{location}<br>total_vaccinations=%{marker.size}<extra></extra>",
         "legendgroup": "SLE",
         "locations": [
          "SLE"
         ],
         "marker": {
          "color": "#FF6692",
          "size": [
           225380
          ],
          "sizemode": "area",
          "sizeref": 4634597.5,
          "symbol": "circle"
         },
         "mode": "markers",
         "name": "SLE",
         "showlegend": true,
         "type": "scattergeo"
        },
        {
         "geo": "geo",
         "hovertemplate": "iso_code=%{location}<br>total_vaccinations=%{marker.size}<extra></extra>",
         "legendgroup": "SLV",
         "locations": [
          "SLV"
         ],
         "marker": {
          "color": "#B6E880",
          "size": [
           5143912
          ],
          "sizemode": "area",
          "sizeref": 4634597.5,
          "symbol": "circle"
         },
         "mode": "markers",
         "name": "SLV",
         "showlegend": true,
         "type": "scattergeo"
        },
        {
         "geo": "geo",
         "hovertemplate": "iso_code=%{location}<br>total_vaccinations=%{marker.size}<extra></extra>",
         "legendgroup": "SMR",
         "locations": [
          "SMR"
         ],
         "marker": {
          "color": "#FF97FF",
          "size": [
           46057
          ],
          "sizemode": "area",
          "sizeref": 4634597.5,
          "symbol": "circle"
         },
         "mode": "markers",
         "name": "SMR",
         "showlegend": true,
         "type": "scattergeo"
        },
        {
         "geo": "geo",
         "hovertemplate": "iso_code=%{location}<br>total_vaccinations=%{marker.size}<extra></extra>",
         "legendgroup": "SOM",
         "locations": [
          "SOM"
         ],
         "marker": {
          "color": "#FECB52",
          "size": [
           279869
          ],
          "sizemode": "area",
          "sizeref": 4634597.5,
          "symbol": "circle"
         },
         "mode": "markers",
         "name": "SOM",
         "showlegend": true,
         "type": "scattergeo"
        },
        {
         "geo": "geo",
         "hovertemplate": "iso_code=%{location}<br>total_vaccinations=%{marker.size}<extra></extra>",
         "legendgroup": "SRB",
         "locations": [
          "SRB"
         ],
         "marker": {
          "color": "#636efa",
          "size": [
           5626081
          ],
          "sizemode": "area",
          "sizeref": 4634597.5,
          "symbol": "circle"
         },
         "mode": "markers",
         "name": "SRB",
         "showlegend": true,
         "type": "scattergeo"
        },
        {
         "geo": "geo",
         "hovertemplate": "iso_code=%{location}<br>total_vaccinations=%{marker.size}<extra></extra>",
         "legendgroup": "SSD",
         "locations": [
          "SSD"
         ],
         "marker": {
          "color": "#EF553B",
          "size": [
           56989
          ],
          "sizemode": "area",
          "sizeref": 4634597.5,
          "symbol": "circle"
         },
         "mode": "markers",
         "name": "SSD",
         "showlegend": true,
         "type": "scattergeo"
        },
        {
         "geo": "geo",
         "hovertemplate": "iso_code=%{location}<br>total_vaccinations=%{marker.size}<extra></extra>",
         "legendgroup": "STP",
         "locations": [
          "STP"
         ],
         "marker": {
          "color": "#00cc96",
          "size": [
           43978
          ],
          "sizemode": "area",
          "sizeref": 4634597.5,
          "symbol": "circle"
         },
         "mode": "markers",
         "name": "STP",
         "showlegend": true,
         "type": "scattergeo"
        },
        {
         "geo": "geo",
         "hovertemplate": "iso_code=%{location}<br>total_vaccinations=%{marker.size}<extra></extra>",
         "legendgroup": "SUR",
         "locations": [
          "SUR"
         ],
         "marker": {
          "color": "#ab63fa",
          "size": [
           275723
          ],
          "sizemode": "area",
          "sizeref": 4634597.5,
          "symbol": "circle"
         },
         "mode": "markers",
         "name": "SUR",
         "showlegend": true,
         "type": "scattergeo"
        },
        {
         "geo": "geo",
         "hovertemplate": "iso_code=%{location}<br>total_vaccinations=%{marker.size}<extra></extra>",
         "legendgroup": "SVK",
         "locations": [
          "SVK"
         ],
         "marker": {
          "color": "#FFA15A",
          "size": [
           4390776
          ],
          "sizemode": "area",
          "sizeref": 4634597.5,
          "symbol": "circle"
         },
         "mode": "markers",
         "name": "SVK",
         "showlegend": true,
         "type": "scattergeo"
        },
        {
         "geo": "geo",
         "hovertemplate": "iso_code=%{location}<br>total_vaccinations=%{marker.size}<extra></extra>",
         "legendgroup": "SVN",
         "locations": [
          "SVN"
         ],
         "marker": {
          "color": "#19d3f3",
          "size": [
           1805223
          ],
          "sizemode": "area",
          "sizeref": 4634597.5,
          "symbol": "circle"
         },
         "mode": "markers",
         "name": "SVN",
         "showlegend": true,
         "type": "scattergeo"
        },
        {
         "geo": "geo",
         "hovertemplate": "iso_code=%{location}<br>total_vaccinations=%{marker.size}<extra></extra>",
         "legendgroup": "SWE",
         "locations": [
          "SWE"
         ],
         "marker": {
          "color": "#FF6692",
          "size": [
           11431885
          ],
          "sizemode": "area",
          "sizeref": 4634597.5,
          "symbol": "circle"
         },
         "mode": "markers",
         "name": "SWE",
         "showlegend": true,
         "type": "scattergeo"
        },
        {
         "geo": "geo",
         "hovertemplate": "iso_code=%{location}<br>total_vaccinations=%{marker.size}<extra></extra>",
         "legendgroup": "SWZ",
         "locations": [
          "SWZ"
         ],
         "marker": {
          "color": "#B6E880",
          "size": [
           181290
          ],
          "sizemode": "area",
          "sizeref": 4634597.5,
          "symbol": "circle"
         },
         "mode": "markers",
         "name": "SWZ",
         "showlegend": true,
         "type": "scattergeo"
        },
        {
         "geo": "geo",
         "hovertemplate": "iso_code=%{location}<br>total_vaccinations=%{marker.size}<extra></extra>",
         "legendgroup": "SXM",
         "locations": [
          "SXM"
         ],
         "marker": {
          "color": "#FF97FF",
          "size": [
           46616
          ],
          "sizemode": "area",
          "sizeref": 4634597.5,
          "symbol": "circle"
         },
         "mode": "markers",
         "name": "SXM",
         "showlegend": true,
         "type": "scattergeo"
        },
        {
         "geo": "geo",
         "hovertemplate": "iso_code=%{location}<br>total_vaccinations=%{marker.size}<extra></extra>",
         "legendgroup": "SYC",
         "locations": [
          "SYC"
         ],
         "marker": {
          "color": "#FECB52",
          "size": [
           141435
          ],
          "sizemode": "area",
          "sizeref": 4634597.5,
          "symbol": "circle"
         },
         "mode": "markers",
         "name": "SYC",
         "showlegend": true,
         "type": "scattergeo"
        },
        {
         "geo": "geo",
         "hovertemplate": "iso_code=%{location}<br>total_vaccinations=%{marker.size}<extra></extra>",
         "legendgroup": "SYR",
         "locations": [
          "SYR"
         ],
         "marker": {
          "color": "#636efa",
          "size": [
           355000
          ],
          "sizemode": "area",
          "sizeref": 4634597.5,
          "symbol": "circle"
         },
         "mode": "markers",
         "name": "SYR",
         "showlegend": true,
         "type": "scattergeo"
        },
        {
         "geo": "geo",
         "hovertemplate": "iso_code=%{location}<br>total_vaccinations=%{marker.size}<extra></extra>",
         "legendgroup": "TCA",
         "locations": [
          "TCA"
         ],
         "marker": {
          "color": "#EF553B",
          "size": [
           47263
          ],
          "sizemode": "area",
          "sizeref": 4634597.5,
          "symbol": "circle"
         },
         "mode": "markers",
         "name": "TCA",
         "showlegend": true,
         "type": "scattergeo"
        },
        {
         "geo": "geo",
         "hovertemplate": "iso_code=%{location}<br>total_vaccinations=%{marker.size}<extra></extra>",
         "legendgroup": "TCD",
         "locations": [
          "TCD"
         ],
         "marker": {
          "color": "#00cc96",
          "size": [
           40649
          ],
          "sizemode": "area",
          "sizeref": 4634597.5,
          "symbol": "circle"
         },
         "mode": "markers",
         "name": "TCD",
         "showlegend": true,
         "type": "scattergeo"
        },
        {
         "geo": "geo",
         "hovertemplate": "iso_code=%{location}<br>total_vaccinations=%{marker.size}<extra></extra>",
         "legendgroup": "TGO",
         "locations": [
          "TGO"
         ],
         "marker": {
          "color": "#ab63fa",
          "size": [
           474776
          ],
          "sizemode": "area",
          "sizeref": 4634597.5,
          "symbol": "circle"
         },
         "mode": "markers",
         "name": "TGO",
         "showlegend": true,
         "type": "scattergeo"
        },
        {
         "geo": "geo",
         "hovertemplate": "iso_code=%{location}<br>total_vaccinations=%{marker.size}<extra></extra>",
         "legendgroup": "THA",
         "locations": [
          "THA"
         ],
         "marker": {
          "color": "#FFA15A",
          "size": [
           23192491
          ],
          "sizemode": "area",
          "sizeref": 4634597.5,
          "symbol": "circle"
         },
         "mode": "markers",
         "name": "THA",
         "showlegend": true,
         "type": "scattergeo"
        },
        {
         "geo": "geo",
         "hovertemplate": "iso_code=%{location}<br>total_vaccinations=%{marker.size}<extra></extra>",
         "legendgroup": "TJK",
         "locations": [
          "TJK"
         ],
         "marker": {
          "color": "#19d3f3",
          "size": [
           1671475
          ],
          "sizemode": "area",
          "sizeref": 4634597.5,
          "symbol": "circle"
         },
         "mode": "markers",
         "name": "TJK",
         "showlegend": true,
         "type": "scattergeo"
        },
        {
         "geo": "geo",
         "hovertemplate": "iso_code=%{location}<br>total_vaccinations=%{marker.size}<extra></extra>",
         "legendgroup": "TKL",
         "locations": [
          "TKL"
         ],
         "marker": {
          "color": "#FF6692",
          "size": [
           953
          ],
          "sizemode": "area",
          "sizeref": 4634597.5,
          "symbol": "circle"
         },
         "mode": "markers",
         "name": "TKL",
         "showlegend": true,
         "type": "scattergeo"
        },
        {
         "geo": "geo",
         "hovertemplate": "iso_code=%{location}<br>total_vaccinations=%{marker.size}<extra></extra>",
         "legendgroup": "TKM",
         "locations": [
          "TKM"
         ],
         "marker": {
          "color": "#B6E880",
          "size": [
           41993
          ],
          "sizemode": "area",
          "sizeref": 4634597.5,
          "symbol": "circle"
         },
         "mode": "markers",
         "name": "TKM",
         "showlegend": true,
         "type": "scattergeo"
        },
        {
         "geo": "geo",
         "hovertemplate": "iso_code=%{location}<br>total_vaccinations=%{marker.size}<extra></extra>",
         "legendgroup": "TLS",
         "locations": [
          "TLS"
         ],
         "marker": {
          "color": "#FF97FF",
          "size": [
           443729
          ],
          "sizemode": "area",
          "sizeref": 4634597.5,
          "symbol": "circle"
         },
         "mode": "markers",
         "name": "TLS",
         "showlegend": true,
         "type": "scattergeo"
        },
        {
         "geo": "geo",
         "hovertemplate": "iso_code=%{location}<br>total_vaccinations=%{marker.size}<extra></extra>",
         "legendgroup": "TON",
         "locations": [
          "TON"
         ],
         "marker": {
          "color": "#FECB52",
          "size": [
           47553
          ],
          "sizemode": "area",
          "sizeref": 4634597.5,
          "symbol": "circle"
         },
         "mode": "markers",
         "name": "TON",
         "showlegend": true,
         "type": "scattergeo"
        },
        {
         "geo": "geo",
         "hovertemplate": "iso_code=%{location}<br>total_vaccinations=%{marker.size}<extra></extra>",
         "legendgroup": "TTO",
         "locations": [
          "TTO"
         ],
         "marker": {
          "color": "#636efa",
          "size": [
           741984
          ],
          "sizemode": "area",
          "sizeref": 4634597.5,
          "symbol": "circle"
         },
         "mode": "markers",
         "name": "TTO",
         "showlegend": true,
         "type": "scattergeo"
        },
        {
         "geo": "geo",
         "hovertemplate": "iso_code=%{location}<br>total_vaccinations=%{marker.size}<extra></extra>",
         "legendgroup": "TUN",
         "locations": [
          "TUN"
         ],
         "marker": {
          "color": "#EF553B",
          "size": [
           4075678
          ],
          "sizemode": "area",
          "sizeref": 4634597.5,
          "symbol": "circle"
         },
         "mode": "markers",
         "name": "TUN",
         "showlegend": true,
         "type": "scattergeo"
        },
        {
         "geo": "geo",
         "hovertemplate": "iso_code=%{location}<br>total_vaccinations=%{marker.size}<extra></extra>",
         "legendgroup": "TUR",
         "locations": [
          "TUR"
         ],
         "marker": {
          "color": "#00cc96",
          "size": [
           82865497
          ],
          "sizemode": "area",
          "sizeref": 4634597.5,
          "symbol": "circle"
         },
         "mode": "markers",
         "name": "TUR",
         "showlegend": true,
         "type": "scattergeo"
        },
        {
         "geo": "geo",
         "hovertemplate": "iso_code=%{location}<br>total_vaccinations=%{marker.size}<extra></extra>",
         "legendgroup": "TUV",
         "locations": [
          "TUV"
         ],
         "marker": {
          "color": "#ab63fa",
          "size": [
           4772
          ],
          "sizemode": "area",
          "sizeref": 4634597.5,
          "symbol": "circle"
         },
         "mode": "markers",
         "name": "TUV",
         "showlegend": true,
         "type": "scattergeo"
        },
        {
         "geo": "geo",
         "hovertemplate": "iso_code=%{location}<br>total_vaccinations=%{marker.size}<extra></extra>",
         "legendgroup": "TWN",
         "locations": [
          "TWN"
         ],
         "marker": {
          "color": "#FFA15A",
          "size": [
           9749241
          ],
          "sizemode": "area",
          "sizeref": 4634597.5,
          "symbol": "circle"
         },
         "mode": "markers",
         "name": "TWN",
         "showlegend": true,
         "type": "scattergeo"
        },
        {
         "geo": "geo",
         "hovertemplate": "iso_code=%{location}<br>total_vaccinations=%{marker.size}<extra></extra>",
         "legendgroup": "TZA",
         "locations": [
          "TZA"
         ],
         "marker": {
          "color": "#19d3f3",
          "size": [
           105745
          ],
          "sizemode": "area",
          "sizeref": 4634597.5,
          "symbol": "circle"
         },
         "mode": "markers",
         "name": "TZA",
         "showlegend": true,
         "type": "scattergeo"
        },
        {
         "geo": "geo",
         "hovertemplate": "iso_code=%{location}<br>total_vaccinations=%{marker.size}<extra></extra>",
         "legendgroup": "UGA",
         "locations": [
          "UGA"
         ],
         "marker": {
          "color": "#FF6692",
          "size": [
           1155265
          ],
          "sizemode": "area",
          "sizeref": 4634597.5,
          "symbol": "circle"
         },
         "mode": "markers",
         "name": "UGA",
         "showlegend": true,
         "type": "scattergeo"
        },
        {
         "geo": "geo",
         "hovertemplate": "iso_code=%{location}<br>total_vaccinations=%{marker.size}<extra></extra>",
         "legendgroup": "UKR",
         "locations": [
          "UKR"
         ],
         "marker": {
          "color": "#B6E880",
          "size": [
           7409698
          ],
          "sizemode": "area",
          "sizeref": 4634597.5,
          "symbol": "circle"
         },
         "mode": "markers",
         "name": "UKR",
         "showlegend": true,
         "type": "scattergeo"
        },
        {
         "geo": "geo",
         "hovertemplate": "iso_code=%{location}<br>total_vaccinations=%{marker.size}<extra></extra>",
         "legendgroup": "URY",
         "locations": [
          "URY"
         ],
         "marker": {
          "color": "#FF97FF",
          "size": [
           5016447
          ],
          "sizemode": "area",
          "sizeref": 4634597.5,
          "symbol": "circle"
         },
         "mode": "markers",
         "name": "URY",
         "showlegend": true,
         "type": "scattergeo"
        },
        {
         "geo": "geo",
         "hovertemplate": "iso_code=%{location}<br>total_vaccinations=%{marker.size}<extra></extra>",
         "legendgroup": "USA",
         "locations": [
          "USA"
         ],
         "marker": {
          "color": "#FECB52",
          "size": [
           355768825
          ],
          "sizemode": "area",
          "sizeref": 4634597.5,
          "symbol": "circle"
         },
         "mode": "markers",
         "name": "USA",
         "showlegend": true,
         "type": "scattergeo"
        },
        {
         "geo": "geo",
         "hovertemplate": "iso_code=%{location}<br>total_vaccinations=%{marker.size}<extra></extra>",
         "legendgroup": "UZB",
         "locations": [
          "UZB"
         ],
         "marker": {
          "color": "#636efa",
          "size": [
           11382468
          ],
          "sizemode": "area",
          "sizeref": 4634597.5,
          "symbol": "circle"
         },
         "mode": "markers",
         "name": "UZB",
         "showlegend": true,
         "type": "scattergeo"
        },
        {
         "geo": "geo",
         "hovertemplate": "iso_code=%{location}<br>total_vaccinations=%{marker.size}<extra></extra>",
         "legendgroup": "VCT",
         "locations": [
          "VCT"
         ],
         "marker": {
          "color": "#EF553B",
          "size": [
           25796
          ],
          "sizemode": "area",
          "sizeref": 4634597.5,
          "symbol": "circle"
         },
         "mode": "markers",
         "name": "VCT",
         "showlegend": true,
         "type": "scattergeo"
        },
        {
         "geo": "geo",
         "hovertemplate": "iso_code=%{location}<br>total_vaccinations=%{marker.size}<extra></extra>",
         "legendgroup": "VEN",
         "locations": [
          "VEN"
         ],
         "marker": {
          "color": "#00cc96",
          "size": [
           4000000
          ],
          "sizemode": "area",
          "sizeref": 4634597.5,
          "symbol": "circle"
         },
         "mode": "markers",
         "name": "VEN",
         "showlegend": true,
         "type": "scattergeo"
        },
        {
         "geo": "geo",
         "hovertemplate": "iso_code=%{location}<br>total_vaccinations=%{marker.size}<extra></extra>",
         "legendgroup": "VGB",
         "locations": [
          "VGB"
         ],
         "marker": {
          "color": "#ab63fa",
          "size": [
           28777
          ],
          "sizemode": "area",
          "sizeref": 4634597.5,
          "symbol": "circle"
         },
         "mode": "markers",
         "name": "VGB",
         "showlegend": true,
         "type": "scattergeo"
        },
        {
         "geo": "geo",
         "hovertemplate": "iso_code=%{location}<br>total_vaccinations=%{marker.size}<extra></extra>",
         "legendgroup": "VNM",
         "locations": [
          "VNM"
         ],
         "marker": {
          "color": "#FFA15A",
          "size": [
           13772920
          ],
          "sizemode": "area",
          "sizeref": 4634597.5,
          "symbol": "circle"
         },
         "mode": "markers",
         "name": "VNM",
         "showlegend": true,
         "type": "scattergeo"
        },
        {
         "geo": "geo",
         "hovertemplate": "iso_code=%{location}<br>total_vaccinations=%{marker.size}<extra></extra>",
         "legendgroup": "VUT",
         "locations": [
          "VUT"
         ],
         "marker": {
          "color": "#19d3f3",
          "size": [
           23995
          ],
          "sizemode": "area",
          "sizeref": 4634597.5,
          "symbol": "circle"
         },
         "mode": "markers",
         "name": "VUT",
         "showlegend": true,
         "type": "scattergeo"
        },
        {
         "geo": "geo",
         "hovertemplate": "iso_code=%{location}<br>total_vaccinations=%{marker.size}<extra></extra>",
         "legendgroup": "WLF",
         "locations": [
          "WLF"
         ],
         "marker": {
          "color": "#FF6692",
          "size": [
           9439
          ],
          "sizemode": "area",
          "sizeref": 4634597.5,
          "symbol": "circle"
         },
         "mode": "markers",
         "name": "WLF",
         "showlegend": true,
         "type": "scattergeo"
        },
        {
         "geo": "geo",
         "hovertemplate": "iso_code=%{location}<br>total_vaccinations=%{marker.size}<extra></extra>",
         "legendgroup": "WSM",
         "locations": [
          "WSM"
         ],
         "marker": {
          "color": "#B6E880",
          "size": [
           100610
          ],
          "sizemode": "area",
          "sizeref": 4634597.5,
          "symbol": "circle"
         },
         "mode": "markers",
         "name": "WSM",
         "showlegend": true,
         "type": "scattergeo"
        },
        {
         "geo": "geo",
         "hovertemplate": "iso_code=%{location}<br>total_vaccinations=%{marker.size}<extra></extra>",
         "legendgroup": "YEM",
         "locations": [
          "YEM"
         ],
         "marker": {
          "color": "#FF97FF",
          "size": [
           311483
          ],
          "sizemode": "area",
          "sizeref": 4634597.5,
          "symbol": "circle"
         },
         "mode": "markers",
         "name": "YEM",
         "showlegend": true,
         "type": "scattergeo"
        },
        {
         "geo": "geo",
         "hovertemplate": "iso_code=%{location}<br>total_vaccinations=%{marker.size}<extra></extra>",
         "legendgroup": "ZAF",
         "locations": [
          "ZAF"
         ],
         "marker": {
          "color": "#FECB52",
          "size": [
           9185756
          ],
          "sizemode": "area",
          "sizeref": 4634597.5,
          "symbol": "circle"
         },
         "mode": "markers",
         "name": "ZAF",
         "showlegend": true,
         "type": "scattergeo"
        },
        {
         "geo": "geo",
         "hovertemplate": "iso_code=%{location}<br>total_vaccinations=%{marker.size}<extra></extra>",
         "legendgroup": "ZMB",
         "locations": [
          "ZMB"
         ],
         "marker": {
          "color": "#636efa",
          "size": [
           520283
          ],
          "sizemode": "area",
          "sizeref": 4634597.5,
          "symbol": "circle"
         },
         "mode": "markers",
         "name": "ZMB",
         "showlegend": true,
         "type": "scattergeo"
        },
        {
         "geo": "geo",
         "hovertemplate": "iso_code=%{location}<br>total_vaccinations=%{marker.size}<extra></extra>",
         "legendgroup": "ZWE",
         "locations": [
          "ZWE"
         ],
         "marker": {
          "color": "#EF553B",
          "size": [
           3193256
          ],
          "sizemode": "area",
          "sizeref": 4634597.5,
          "symbol": "circle"
         },
         "mode": "markers",
         "name": "ZWE",
         "showlegend": true,
         "type": "scattergeo"
        }
       ],
       "layout": {
        "geo": {
         "center": {},
         "domain": {
          "x": [
           0,
           1
          ],
          "y": [
           0,
           1
          ]
         },
         "projection": {
          "type": "mercator"
         }
        },
        "legend": {
         "itemsizing": "constant",
         "title": {
          "text": "iso_code"
         },
         "tracegroupgap": 0
        },
        "template": {
         "data": {
          "bar": [
           {
            "error_x": {
             "color": "#2a3f5f"
            },
            "error_y": {
             "color": "#2a3f5f"
            },
            "marker": {
             "line": {
              "color": "#E5ECF6",
              "width": 0.5
             },
             "pattern": {
              "fillmode": "overlay",
              "size": 10,
              "solidity": 0.2
             }
            },
            "type": "bar"
           }
          ],
          "barpolar": [
           {
            "marker": {
             "line": {
              "color": "#E5ECF6",
              "width": 0.5
             },
             "pattern": {
              "fillmode": "overlay",
              "size": 10,
              "solidity": 0.2
             }
            },
            "type": "barpolar"
           }
          ],
          "carpet": [
           {
            "aaxis": {
             "endlinecolor": "#2a3f5f",
             "gridcolor": "white",
             "linecolor": "white",
             "minorgridcolor": "white",
             "startlinecolor": "#2a3f5f"
            },
            "baxis": {
             "endlinecolor": "#2a3f5f",
             "gridcolor": "white",
             "linecolor": "white",
             "minorgridcolor": "white",
             "startlinecolor": "#2a3f5f"
            },
            "type": "carpet"
           }
          ],
          "choropleth": [
           {
            "colorbar": {
             "outlinewidth": 0,
             "ticks": ""
            },
            "type": "choropleth"
           }
          ],
          "contour": [
           {
            "colorbar": {
             "outlinewidth": 0,
             "ticks": ""
            },
            "colorscale": [
             [
              0,
              "#0d0887"
             ],
             [
              0.1111111111111111,
              "#46039f"
             ],
             [
              0.2222222222222222,
              "#7201a8"
             ],
             [
              0.3333333333333333,
              "#9c179e"
             ],
             [
              0.4444444444444444,
              "#bd3786"
             ],
             [
              0.5555555555555556,
              "#d8576b"
             ],
             [
              0.6666666666666666,
              "#ed7953"
             ],
             [
              0.7777777777777778,
              "#fb9f3a"
             ],
             [
              0.8888888888888888,
              "#fdca26"
             ],
             [
              1,
              "#f0f921"
             ]
            ],
            "type": "contour"
           }
          ],
          "contourcarpet": [
           {
            "colorbar": {
             "outlinewidth": 0,
             "ticks": ""
            },
            "type": "contourcarpet"
           }
          ],
          "heatmap": [
           {
            "colorbar": {
             "outlinewidth": 0,
             "ticks": ""
            },
            "colorscale": [
             [
              0,
              "#0d0887"
             ],
             [
              0.1111111111111111,
              "#46039f"
             ],
             [
              0.2222222222222222,
              "#7201a8"
             ],
             [
              0.3333333333333333,
              "#9c179e"
             ],
             [
              0.4444444444444444,
              "#bd3786"
             ],
             [
              0.5555555555555556,
              "#d8576b"
             ],
             [
              0.6666666666666666,
              "#ed7953"
             ],
             [
              0.7777777777777778,
              "#fb9f3a"
             ],
             [
              0.8888888888888888,
              "#fdca26"
             ],
             [
              1,
              "#f0f921"
             ]
            ],
            "type": "heatmap"
           }
          ],
          "heatmapgl": [
           {
            "colorbar": {
             "outlinewidth": 0,
             "ticks": ""
            },
            "colorscale": [
             [
              0,
              "#0d0887"
             ],
             [
              0.1111111111111111,
              "#46039f"
             ],
             [
              0.2222222222222222,
              "#7201a8"
             ],
             [
              0.3333333333333333,
              "#9c179e"
             ],
             [
              0.4444444444444444,
              "#bd3786"
             ],
             [
              0.5555555555555556,
              "#d8576b"
             ],
             [
              0.6666666666666666,
              "#ed7953"
             ],
             [
              0.7777777777777778,
              "#fb9f3a"
             ],
             [
              0.8888888888888888,
              "#fdca26"
             ],
             [
              1,
              "#f0f921"
             ]
            ],
            "type": "heatmapgl"
           }
          ],
          "histogram": [
           {
            "marker": {
             "pattern": {
              "fillmode": "overlay",
              "size": 10,
              "solidity": 0.2
             }
            },
            "type": "histogram"
           }
          ],
          "histogram2d": [
           {
            "colorbar": {
             "outlinewidth": 0,
             "ticks": ""
            },
            "colorscale": [
             [
              0,
              "#0d0887"
             ],
             [
              0.1111111111111111,
              "#46039f"
             ],
             [
              0.2222222222222222,
              "#7201a8"
             ],
             [
              0.3333333333333333,
              "#9c179e"
             ],
             [
              0.4444444444444444,
              "#bd3786"
             ],
             [
              0.5555555555555556,
              "#d8576b"
             ],
             [
              0.6666666666666666,
              "#ed7953"
             ],
             [
              0.7777777777777778,
              "#fb9f3a"
             ],
             [
              0.8888888888888888,
              "#fdca26"
             ],
             [
              1,
              "#f0f921"
             ]
            ],
            "type": "histogram2d"
           }
          ],
          "histogram2dcontour": [
           {
            "colorbar": {
             "outlinewidth": 0,
             "ticks": ""
            },
            "colorscale": [
             [
              0,
              "#0d0887"
             ],
             [
              0.1111111111111111,
              "#46039f"
             ],
             [
              0.2222222222222222,
              "#7201a8"
             ],
             [
              0.3333333333333333,
              "#9c179e"
             ],
             [
              0.4444444444444444,
              "#bd3786"
             ],
             [
              0.5555555555555556,
              "#d8576b"
             ],
             [
              0.6666666666666666,
              "#ed7953"
             ],
             [
              0.7777777777777778,
              "#fb9f3a"
             ],
             [
              0.8888888888888888,
              "#fdca26"
             ],
             [
              1,
              "#f0f921"
             ]
            ],
            "type": "histogram2dcontour"
           }
          ],
          "mesh3d": [
           {
            "colorbar": {
             "outlinewidth": 0,
             "ticks": ""
            },
            "type": "mesh3d"
           }
          ],
          "parcoords": [
           {
            "line": {
             "colorbar": {
              "outlinewidth": 0,
              "ticks": ""
             }
            },
            "type": "parcoords"
           }
          ],
          "pie": [
           {
            "automargin": true,
            "type": "pie"
           }
          ],
          "scatter": [
           {
            "marker": {
             "colorbar": {
              "outlinewidth": 0,
              "ticks": ""
             }
            },
            "type": "scatter"
           }
          ],
          "scatter3d": [
           {
            "line": {
             "colorbar": {
              "outlinewidth": 0,
              "ticks": ""
             }
            },
            "marker": {
             "colorbar": {
              "outlinewidth": 0,
              "ticks": ""
             }
            },
            "type": "scatter3d"
           }
          ],
          "scattercarpet": [
           {
            "marker": {
             "colorbar": {
              "outlinewidth": 0,
              "ticks": ""
             }
            },
            "type": "scattercarpet"
           }
          ],
          "scattergeo": [
           {
            "marker": {
             "colorbar": {
              "outlinewidth": 0,
              "ticks": ""
             }
            },
            "type": "scattergeo"
           }
          ],
          "scattergl": [
           {
            "marker": {
             "colorbar": {
              "outlinewidth": 0,
              "ticks": ""
             }
            },
            "type": "scattergl"
           }
          ],
          "scattermapbox": [
           {
            "marker": {
             "colorbar": {
              "outlinewidth": 0,
              "ticks": ""
             }
            },
            "type": "scattermapbox"
           }
          ],
          "scatterpolar": [
           {
            "marker": {
             "colorbar": {
              "outlinewidth": 0,
              "ticks": ""
             }
            },
            "type": "scatterpolar"
           }
          ],
          "scatterpolargl": [
           {
            "marker": {
             "colorbar": {
              "outlinewidth": 0,
              "ticks": ""
             }
            },
            "type": "scatterpolargl"
           }
          ],
          "scatterternary": [
           {
            "marker": {
             "colorbar": {
              "outlinewidth": 0,
              "ticks": ""
             }
            },
            "type": "scatterternary"
           }
          ],
          "surface": [
           {
            "colorbar": {
             "outlinewidth": 0,
             "ticks": ""
            },
            "colorscale": [
             [
              0,
              "#0d0887"
             ],
             [
              0.1111111111111111,
              "#46039f"
             ],
             [
              0.2222222222222222,
              "#7201a8"
             ],
             [
              0.3333333333333333,
              "#9c179e"
             ],
             [
              0.4444444444444444,
              "#bd3786"
             ],
             [
              0.5555555555555556,
              "#d8576b"
             ],
             [
              0.6666666666666666,
              "#ed7953"
             ],
             [
              0.7777777777777778,
              "#fb9f3a"
             ],
             [
              0.8888888888888888,
              "#fdca26"
             ],
             [
              1,
              "#f0f921"
             ]
            ],
            "type": "surface"
           }
          ],
          "table": [
           {
            "cells": {
             "fill": {
              "color": "#EBF0F8"
             },
             "line": {
              "color": "white"
             }
            },
            "header": {
             "fill": {
              "color": "#C8D4E3"
             },
             "line": {
              "color": "white"
             }
            },
            "type": "table"
           }
          ]
         },
         "layout": {
          "annotationdefaults": {
           "arrowcolor": "#2a3f5f",
           "arrowhead": 0,
           "arrowwidth": 1
          },
          "autotypenumbers": "strict",
          "coloraxis": {
           "colorbar": {
            "outlinewidth": 0,
            "ticks": ""
           }
          },
          "colorscale": {
           "diverging": [
            [
             0,
             "#8e0152"
            ],
            [
             0.1,
             "#c51b7d"
            ],
            [
             0.2,
             "#de77ae"
            ],
            [
             0.3,
             "#f1b6da"
            ],
            [
             0.4,
             "#fde0ef"
            ],
            [
             0.5,
             "#f7f7f7"
            ],
            [
             0.6,
             "#e6f5d0"
            ],
            [
             0.7,
             "#b8e186"
            ],
            [
             0.8,
             "#7fbc41"
            ],
            [
             0.9,
             "#4d9221"
            ],
            [
             1,
             "#276419"
            ]
           ],
           "sequential": [
            [
             0,
             "#0d0887"
            ],
            [
             0.1111111111111111,
             "#46039f"
            ],
            [
             0.2222222222222222,
             "#7201a8"
            ],
            [
             0.3333333333333333,
             "#9c179e"
            ],
            [
             0.4444444444444444,
             "#bd3786"
            ],
            [
             0.5555555555555556,
             "#d8576b"
            ],
            [
             0.6666666666666666,
             "#ed7953"
            ],
            [
             0.7777777777777778,
             "#fb9f3a"
            ],
            [
             0.8888888888888888,
             "#fdca26"
            ],
            [
             1,
             "#f0f921"
            ]
           ],
           "sequentialminus": [
            [
             0,
             "#0d0887"
            ],
            [
             0.1111111111111111,
             "#46039f"
            ],
            [
             0.2222222222222222,
             "#7201a8"
            ],
            [
             0.3333333333333333,
             "#9c179e"
            ],
            [
             0.4444444444444444,
             "#bd3786"
            ],
            [
             0.5555555555555556,
             "#d8576b"
            ],
            [
             0.6666666666666666,
             "#ed7953"
            ],
            [
             0.7777777777777778,
             "#fb9f3a"
            ],
            [
             0.8888888888888888,
             "#fdca26"
            ],
            [
             1,
             "#f0f921"
            ]
           ]
          },
          "colorway": [
           "#636efa",
           "#EF553B",
           "#00cc96",
           "#ab63fa",
           "#FFA15A",
           "#19d3f3",
           "#FF6692",
           "#B6E880",
           "#FF97FF",
           "#FECB52"
          ],
          "font": {
           "color": "#2a3f5f"
          },
          "geo": {
           "bgcolor": "white",
           "lakecolor": "white",
           "landcolor": "#E5ECF6",
           "showlakes": true,
           "showland": true,
           "subunitcolor": "white"
          },
          "hoverlabel": {
           "align": "left"
          },
          "hovermode": "closest",
          "mapbox": {
           "style": "light"
          },
          "paper_bgcolor": "white",
          "plot_bgcolor": "#E5ECF6",
          "polar": {
           "angularaxis": {
            "gridcolor": "white",
            "linecolor": "white",
            "ticks": ""
           },
           "bgcolor": "#E5ECF6",
           "radialaxis": {
            "gridcolor": "white",
            "linecolor": "white",
            "ticks": ""
           }
          },
          "scene": {
           "xaxis": {
            "backgroundcolor": "#E5ECF6",
            "gridcolor": "white",
            "gridwidth": 2,
            "linecolor": "white",
            "showbackground": true,
            "ticks": "",
            "zerolinecolor": "white"
           },
           "yaxis": {
            "backgroundcolor": "#E5ECF6",
            "gridcolor": "white",
            "gridwidth": 2,
            "linecolor": "white",
            "showbackground": true,
            "ticks": "",
            "zerolinecolor": "white"
           },
           "zaxis": {
            "backgroundcolor": "#E5ECF6",
            "gridcolor": "white",
            "gridwidth": 2,
            "linecolor": "white",
            "showbackground": true,
            "ticks": "",
            "zerolinecolor": "white"
           }
          },
          "shapedefaults": {
           "line": {
            "color": "#2a3f5f"
           }
          },
          "ternary": {
           "aaxis": {
            "gridcolor": "white",
            "linecolor": "white",
            "ticks": ""
           },
           "baxis": {
            "gridcolor": "white",
            "linecolor": "white",
            "ticks": ""
           },
           "bgcolor": "#E5ECF6",
           "caxis": {
            "gridcolor": "white",
            "linecolor": "white",
            "ticks": ""
           }
          },
          "title": {
           "x": 0.05
          },
          "xaxis": {
           "automargin": true,
           "gridcolor": "white",
           "linecolor": "white",
           "ticks": "",
           "title": {
            "standoff": 15
           },
           "zerolinecolor": "white",
           "zerolinewidth": 2
          },
          "yaxis": {
           "automargin": true,
           "gridcolor": "white",
           "linecolor": "white",
           "ticks": "",
           "title": {
            "standoff": 15
           },
           "zerolinecolor": "white",
           "zerolinewidth": 2
          }
         }
        },
        "title": {
         "text": "Total Vaccinations"
        }
       }
      },
      "text/html": [
       "<div>                            <div id=\"10659f3d-739c-4fac-990e-3bca53038d19\" class=\"plotly-graph-div\" style=\"height:525px; width:100%;\"></div>            <script type=\"text/javascript\">                require([\"plotly\"], function(Plotly) {                    window.PLOTLYENV=window.PLOTLYENV || {};                                    if (document.getElementById(\"10659f3d-739c-4fac-990e-3bca53038d19\")) {                    Plotly.newPlot(                        \"10659f3d-739c-4fac-990e-3bca53038d19\",                        [{\"geo\":\"geo\",\"hovertemplate\":\"iso_code=%{location}<br>total_vaccinations=%{marker.size}<extra></extra>\",\"legendgroup\":\"ABW\",\"locations\":[\"ABW\"],\"marker\":{\"color\":\"#636efa\",\"size\":[141611.0],\"sizemode\":\"area\",\"sizeref\":4634597.5,\"symbol\":\"circle\"},\"mode\":\"markers\",\"name\":\"ABW\",\"showlegend\":true,\"type\":\"scattergeo\"},{\"geo\":\"geo\",\"hovertemplate\":\"iso_code=%{location}<br>total_vaccinations=%{marker.size}<extra></extra>\",\"legendgroup\":\"AFG\",\"locations\":[\"AFG\"],\"marker\":{\"color\":\"#EF553B\",\"size\":[1809517.0],\"sizemode\":\"area\",\"sizeref\":4634597.5,\"symbol\":\"circle\"},\"mode\":\"markers\",\"name\":\"AFG\",\"showlegend\":true,\"type\":\"scattergeo\"},{\"geo\":\"geo\",\"hovertemplate\":\"iso_code=%{location}<br>total_vaccinations=%{marker.size}<extra></extra>\",\"legendgroup\":\"AGO\",\"locations\":[\"AGO\"],\"marker\":{\"color\":\"#00cc96\",\"size\":[1695588.0],\"sizemode\":\"area\",\"sizeref\":4634597.5,\"symbol\":\"circle\"},\"mode\":\"markers\",\"name\":\"AGO\",\"showlegend\":true,\"type\":\"scattergeo\"},{\"geo\":\"geo\",\"hovertemplate\":\"iso_code=%{location}<br>total_vaccinations=%{marker.size}<extra></extra>\",\"legendgroup\":\"AIA\",\"locations\":[\"AIA\"],\"marker\":{\"color\":\"#ab63fa\",\"size\":[18457.0],\"sizemode\":\"area\",\"sizeref\":4634597.5,\"symbol\":\"circle\"},\"mode\":\"markers\",\"name\":\"AIA\",\"showlegend\":true,\"type\":\"scattergeo\"},{\"geo\":\"geo\",\"hovertemplate\":\"iso_code=%{location}<br>total_vaccinations=%{marker.size}<extra></extra>\",\"legendgroup\":\"ALB\",\"locations\":[\"ALB\"],\"marker\":{\"color\":\"#FFA15A\",\"size\":[1280239.0],\"sizemode\":\"area\",\"sizeref\":4634597.5,\"symbol\":\"circle\"},\"mode\":\"markers\",\"name\":\"ALB\",\"showlegend\":true,\"type\":\"scattergeo\"},{\"geo\":\"geo\",\"hovertemplate\":\"iso_code=%{location}<br>total_vaccinations=%{marker.size}<extra></extra>\",\"legendgroup\":\"AND\",\"locations\":[\"AND\"],\"marker\":{\"color\":\"#19d3f3\",\"size\":[82349.0],\"sizemode\":\"area\",\"sizeref\":4634597.5,\"symbol\":\"circle\"},\"mode\":\"markers\",\"name\":\"AND\",\"showlegend\":true,\"type\":\"scattergeo\"},{\"geo\":\"geo\",\"hovertemplate\":\"iso_code=%{location}<br>total_vaccinations=%{marker.size}<extra></extra>\",\"legendgroup\":\"ARE\",\"locations\":[\"ARE\"],\"marker\":{\"color\":\"#FF6692\",\"size\":[17363341.0],\"sizemode\":\"area\",\"sizeref\":4634597.5,\"symbol\":\"circle\"},\"mode\":\"markers\",\"name\":\"ARE\",\"showlegend\":true,\"type\":\"scattergeo\"},{\"geo\":\"geo\",\"hovertemplate\":\"iso_code=%{location}<br>total_vaccinations=%{marker.size}<extra></extra>\",\"legendgroup\":\"ARG\",\"locations\":[\"ARG\"],\"marker\":{\"color\":\"#B6E880\",\"size\":[36387897.0],\"sizemode\":\"area\",\"sizeref\":4634597.5,\"symbol\":\"circle\"},\"mode\":\"markers\",\"name\":\"ARG\",\"showlegend\":true,\"type\":\"scattergeo\"},{\"geo\":\"geo\",\"hovertemplate\":\"iso_code=%{location}<br>total_vaccinations=%{marker.size}<extra></extra>\",\"legendgroup\":\"ARM\",\"locations\":[\"ARM\"],\"marker\":{\"color\":\"#FF97FF\",\"size\":[194902.0],\"sizemode\":\"area\",\"sizeref\":4634597.5,\"symbol\":\"circle\"},\"mode\":\"markers\",\"name\":\"ARM\",\"showlegend\":true,\"type\":\"scattergeo\"},{\"geo\":\"geo\",\"hovertemplate\":\"iso_code=%{location}<br>total_vaccinations=%{marker.size}<extra></extra>\",\"legendgroup\":\"ATG\",\"locations\":[\"ATG\"],\"marker\":{\"color\":\"#FECB52\",\"size\":[70019.0],\"sizemode\":\"area\",\"sizeref\":4634597.5,\"symbol\":\"circle\"},\"mode\":\"markers\",\"name\":\"ATG\",\"showlegend\":true,\"type\":\"scattergeo\"},{\"geo\":\"geo\",\"hovertemplate\":\"iso_code=%{location}<br>total_vaccinations=%{marker.size}<extra></extra>\",\"legendgroup\":\"AUS\",\"locations\":[\"AUS\"],\"marker\":{\"color\":\"#636efa\",\"size\":[15012023.0],\"sizemode\":\"area\",\"sizeref\":4634597.5,\"symbol\":\"circle\"},\"mode\":\"markers\",\"name\":\"AUS\",\"showlegend\":true,\"type\":\"scattergeo\"},{\"geo\":\"geo\",\"hovertemplate\":\"iso_code=%{location}<br>total_vaccinations=%{marker.size}<extra></extra>\",\"legendgroup\":\"AUT\",\"locations\":[\"AUT\"],\"marker\":{\"color\":\"#EF553B\",\"size\":[10155942.0],\"sizemode\":\"area\",\"sizeref\":4634597.5,\"symbol\":\"circle\"},\"mode\":\"markers\",\"name\":\"AUT\",\"showlegend\":true,\"type\":\"scattergeo\"},{\"geo\":\"geo\",\"hovertemplate\":\"iso_code=%{location}<br>total_vaccinations=%{marker.size}<extra></extra>\",\"legendgroup\":\"AZE\",\"locations\":[\"AZE\"],\"marker\":{\"color\":\"#00cc96\",\"size\":[5739342.0],\"sizemode\":\"area\",\"sizeref\":4634597.5,\"symbol\":\"circle\"},\"mode\":\"markers\",\"name\":\"AZE\",\"showlegend\":true,\"type\":\"scattergeo\"},{\"geo\":\"geo\",\"hovertemplate\":\"iso_code=%{location}<br>total_vaccinations=%{marker.size}<extra></extra>\",\"legendgroup\":\"BEL\",\"locations\":[\"BEL\"],\"marker\":{\"color\":\"#ab63fa\",\"size\":[15495398.0],\"sizemode\":\"area\",\"sizeref\":4634597.5,\"symbol\":\"circle\"},\"mode\":\"markers\",\"name\":\"BEL\",\"showlegend\":true,\"type\":\"scattergeo\"},{\"geo\":\"geo\",\"hovertemplate\":\"iso_code=%{location}<br>total_vaccinations=%{marker.size}<extra></extra>\",\"legendgroup\":\"BEN\",\"locations\":[\"BEN\"],\"marker\":{\"color\":\"#FFA15A\",\"size\":[70323.0],\"sizemode\":\"area\",\"sizeref\":4634597.5,\"symbol\":\"circle\"},\"mode\":\"markers\",\"name\":\"BEN\",\"showlegend\":true,\"type\":\"scattergeo\"},{\"geo\":\"geo\",\"hovertemplate\":\"iso_code=%{location}<br>total_vaccinations=%{marker.size}<extra></extra>\",\"legendgroup\":\"BES\",\"locations\":[\"BES\"],\"marker\":{\"color\":\"#19d3f3\",\"size\":[7391.0],\"sizemode\":\"area\",\"sizeref\":4634597.5,\"symbol\":\"circle\"},\"mode\":\"markers\",\"name\":\"BES\",\"showlegend\":true,\"type\":\"scattergeo\"},{\"geo\":\"geo\",\"hovertemplate\":\"iso_code=%{location}<br>total_vaccinations=%{marker.size}<extra></extra>\",\"legendgroup\":\"BFA\",\"locations\":[\"BFA\"],\"marker\":{\"color\":\"#FF6692\",\"size\":[38405.0],\"sizemode\":\"area\",\"sizeref\":4634597.5,\"symbol\":\"circle\"},\"mode\":\"markers\",\"name\":\"BFA\",\"showlegend\":true,\"type\":\"scattergeo\"},{\"geo\":\"geo\",\"hovertemplate\":\"iso_code=%{location}<br>total_vaccinations=%{marker.size}<extra></extra>\",\"legendgroup\":\"BGD\",\"locations\":[\"BGD\"],\"marker\":{\"color\":\"#B6E880\",\"size\":[20641652.0],\"sizemode\":\"area\",\"sizeref\":4634597.5,\"symbol\":\"circle\"},\"mode\":\"markers\",\"name\":\"BGD\",\"showlegend\":true,\"type\":\"scattergeo\"},{\"geo\":\"geo\",\"hovertemplate\":\"iso_code=%{location}<br>total_vaccinations=%{marker.size}<extra></extra>\",\"legendgroup\":\"BGR\",\"locations\":[\"BGR\"],\"marker\":{\"color\":\"#FF97FF\",\"size\":[2152638.0],\"sizemode\":\"area\",\"sizeref\":4634597.5,\"symbol\":\"circle\"},\"mode\":\"markers\",\"name\":\"BGR\",\"showlegend\":true,\"type\":\"scattergeo\"},{\"geo\":\"geo\",\"hovertemplate\":\"iso_code=%{location}<br>total_vaccinations=%{marker.size}<extra></extra>\",\"legendgroup\":\"BHR\",\"locations\":[\"BHR\"],\"marker\":{\"color\":\"#FECB52\",\"size\":[2418313.0],\"sizemode\":\"area\",\"sizeref\":4634597.5,\"symbol\":\"circle\"},\"mode\":\"markers\",\"name\":\"BHR\",\"showlegend\":true,\"type\":\"scattergeo\"},{\"geo\":\"geo\",\"hovertemplate\":\"iso_code=%{location}<br>total_vaccinations=%{marker.size}<extra></extra>\",\"legendgroup\":\"BHS\",\"locations\":[\"BHS\"],\"marker\":{\"color\":\"#636efa\",\"size\":[110443.0],\"sizemode\":\"area\",\"sizeref\":4634597.5,\"symbol\":\"circle\"},\"mode\":\"markers\",\"name\":\"BHS\",\"showlegend\":true,\"type\":\"scattergeo\"},{\"geo\":\"geo\",\"hovertemplate\":\"iso_code=%{location}<br>total_vaccinations=%{marker.size}<extra></extra>\",\"legendgroup\":\"BIH\",\"locations\":[\"BIH\"],\"marker\":{\"color\":\"#EF553B\",\"size\":[865306.0],\"sizemode\":\"area\",\"sizeref\":4634597.5,\"symbol\":\"circle\"},\"mode\":\"markers\",\"name\":\"BIH\",\"showlegend\":true,\"type\":\"scattergeo\"},{\"geo\":\"geo\",\"hovertemplate\":\"iso_code=%{location}<br>total_vaccinations=%{marker.size}<extra></extra>\",\"legendgroup\":\"BLR\",\"locations\":[\"BLR\"],\"marker\":{\"color\":\"#00cc96\",\"size\":[2541745.0],\"sizemode\":\"area\",\"sizeref\":4634597.5,\"symbol\":\"circle\"},\"mode\":\"markers\",\"name\":\"BLR\",\"showlegend\":true,\"type\":\"scattergeo\"},{\"geo\":\"geo\",\"hovertemplate\":\"iso_code=%{location}<br>total_vaccinations=%{marker.size}<extra></extra>\",\"legendgroup\":\"BLZ\",\"locations\":[\"BLZ\"],\"marker\":{\"color\":\"#ab63fa\",\"size\":[202797.0],\"sizemode\":\"area\",\"sizeref\":4634597.5,\"symbol\":\"circle\"},\"mode\":\"markers\",\"name\":\"BLZ\",\"showlegend\":true,\"type\":\"scattergeo\"},{\"geo\":\"geo\",\"hovertemplate\":\"iso_code=%{location}<br>total_vaccinations=%{marker.size}<extra></extra>\",\"legendgroup\":\"BMU\",\"locations\":[\"BMU\"],\"marker\":{\"color\":\"#FFA15A\",\"size\":[83297.0],\"sizemode\":\"area\",\"sizeref\":4634597.5,\"symbol\":\"circle\"},\"mode\":\"markers\",\"name\":\"BMU\",\"showlegend\":true,\"type\":\"scattergeo\"},{\"geo\":\"geo\",\"hovertemplate\":\"iso_code=%{location}<br>total_vaccinations=%{marker.size}<extra></extra>\",\"legendgroup\":\"BOL\",\"locations\":[\"BOL\"],\"marker\":{\"color\":\"#19d3f3\",\"size\":[5004937.0],\"sizemode\":\"area\",\"sizeref\":4634597.5,\"symbol\":\"circle\"},\"mode\":\"markers\",\"name\":\"BOL\",\"showlegend\":true,\"type\":\"scattergeo\"},{\"geo\":\"geo\",\"hovertemplate\":\"iso_code=%{location}<br>total_vaccinations=%{marker.size}<extra></extra>\",\"legendgroup\":\"BRA\",\"locations\":[\"BRA\"],\"marker\":{\"color\":\"#FF6692\",\"size\":[163452602.0],\"sizemode\":\"area\",\"sizeref\":4634597.5,\"symbol\":\"circle\"},\"mode\":\"markers\",\"name\":\"BRA\",\"showlegend\":true,\"type\":\"scattergeo\"},{\"geo\":\"geo\",\"hovertemplate\":\"iso_code=%{location}<br>total_vaccinations=%{marker.size}<extra></extra>\",\"legendgroup\":\"BRB\",\"locations\":[\"BRB\"],\"marker\":{\"color\":\"#B6E880\",\"size\":[183493.0],\"sizemode\":\"area\",\"sizeref\":4634597.5,\"symbol\":\"circle\"},\"mode\":\"markers\",\"name\":\"BRB\",\"showlegend\":true,\"type\":\"scattergeo\"},{\"geo\":\"geo\",\"hovertemplate\":\"iso_code=%{location}<br>total_vaccinations=%{marker.size}<extra></extra>\",\"legendgroup\":\"BRN\",\"locations\":[\"BRN\"],\"marker\":{\"color\":\"#FF97FF\",\"size\":[201441.0],\"sizemode\":\"area\",\"sizeref\":4634597.5,\"symbol\":\"circle\"},\"mode\":\"markers\",\"name\":\"BRN\",\"showlegend\":true,\"type\":\"scattergeo\"},{\"geo\":\"geo\",\"hovertemplate\":\"iso_code=%{location}<br>total_vaccinations=%{marker.size}<extra></extra>\",\"legendgroup\":\"BTN\",\"locations\":[\"BTN\"],\"marker\":{\"color\":\"#FECB52\",\"size\":[1010129.0],\"sizemode\":\"area\",\"sizeref\":4634597.5,\"symbol\":\"circle\"},\"mode\":\"markers\",\"name\":\"BTN\",\"showlegend\":true,\"type\":\"scattergeo\"},{\"geo\":\"geo\",\"hovertemplate\":\"iso_code=%{location}<br>total_vaccinations=%{marker.size}<extra></extra>\",\"legendgroup\":\"BWA\",\"locations\":[\"BWA\"],\"marker\":{\"color\":\"#636efa\",\"size\":[391360.0],\"sizemode\":\"area\",\"sizeref\":4634597.5,\"symbol\":\"circle\"},\"mode\":\"markers\",\"name\":\"BWA\",\"showlegend\":true,\"type\":\"scattergeo\"},{\"geo\":\"geo\",\"hovertemplate\":\"iso_code=%{location}<br>total_vaccinations=%{marker.size}<extra></extra>\",\"legendgroup\":\"CAF\",\"locations\":[\"CAF\"],\"marker\":{\"color\":\"#EF553B\",\"size\":[95282.0],\"sizemode\":\"area\",\"sizeref\":4634597.5,\"symbol\":\"circle\"},\"mode\":\"markers\",\"name\":\"CAF\",\"showlegend\":true,\"type\":\"scattergeo\"},{\"geo\":\"geo\",\"hovertemplate\":\"iso_code=%{location}<br>total_vaccinations=%{marker.size}<extra></extra>\",\"legendgroup\":\"CAN\",\"locations\":[\"CAN\"],\"marker\":{\"color\":\"#00cc96\",\"size\":[51402274.0],\"sizemode\":\"area\",\"sizeref\":4634597.5,\"symbol\":\"circle\"},\"mode\":\"markers\",\"name\":\"CAN\",\"showlegend\":true,\"type\":\"scattergeo\"},{\"geo\":\"geo\",\"hovertemplate\":\"iso_code=%{location}<br>total_vaccinations=%{marker.size}<extra></extra>\",\"legendgroup\":\"CHE\",\"locations\":[\"CHE\"],\"marker\":{\"color\":\"#ab63fa\",\"size\":[9218419.0],\"sizemode\":\"area\",\"sizeref\":4634597.5,\"symbol\":\"circle\"},\"mode\":\"markers\",\"name\":\"CHE\",\"showlegend\":true,\"type\":\"scattergeo\"},{\"geo\":\"geo\",\"hovertemplate\":\"iso_code=%{location}<br>total_vaccinations=%{marker.size}<extra></extra>\",\"legendgroup\":\"CHL\",\"locations\":[\"CHL\"],\"marker\":{\"color\":\"#FFA15A\",\"size\":[26671675.0],\"sizemode\":\"area\",\"sizeref\":4634597.5,\"symbol\":\"circle\"},\"mode\":\"markers\",\"name\":\"CHL\",\"showlegend\":true,\"type\":\"scattergeo\"},{\"geo\":\"geo\",\"hovertemplate\":\"iso_code=%{location}<br>total_vaccinations=%{marker.size}<extra></extra>\",\"legendgroup\":\"CHN\",\"locations\":[\"CHN\"],\"marker\":{\"color\":\"#19d3f3\",\"size\":[1853839000.0],\"sizemode\":\"area\",\"sizeref\":4634597.5,\"symbol\":\"circle\"},\"mode\":\"markers\",\"name\":\"CHN\",\"showlegend\":true,\"type\":\"scattergeo\"},{\"geo\":\"geo\",\"hovertemplate\":\"iso_code=%{location}<br>total_vaccinations=%{marker.size}<extra></extra>\",\"legendgroup\":\"CIV\",\"locations\":[\"CIV\"],\"marker\":{\"color\":\"#FF6692\",\"size\":[1194760.0],\"sizemode\":\"area\",\"sizeref\":4634597.5,\"symbol\":\"circle\"},\"mode\":\"markers\",\"name\":\"CIV\",\"showlegend\":true,\"type\":\"scattergeo\"},{\"geo\":\"geo\",\"hovertemplate\":\"iso_code=%{location}<br>total_vaccinations=%{marker.size}<extra></extra>\",\"legendgroup\":\"CMR\",\"locations\":[\"CMR\"],\"marker\":{\"color\":\"#B6E880\",\"size\":[368280.0],\"sizemode\":\"area\",\"sizeref\":4634597.5,\"symbol\":\"circle\"},\"mode\":\"markers\",\"name\":\"CMR\",\"showlegend\":true,\"type\":\"scattergeo\"},{\"geo\":\"geo\",\"hovertemplate\":\"iso_code=%{location}<br>total_vaccinations=%{marker.size}<extra></extra>\",\"legendgroup\":\"COD\",\"locations\":[\"COD\"],\"marker\":{\"color\":\"#FF97FF\",\"size\":[86244.0],\"sizemode\":\"area\",\"sizeref\":4634597.5,\"symbol\":\"circle\"},\"mode\":\"markers\",\"name\":\"COD\",\"showlegend\":true,\"type\":\"scattergeo\"},{\"geo\":\"geo\",\"hovertemplate\":\"iso_code=%{location}<br>total_vaccinations=%{marker.size}<extra></extra>\",\"legendgroup\":\"COG\",\"locations\":[\"COG\"],\"marker\":{\"color\":\"#FECB52\",\"size\":[255988.0],\"sizemode\":\"area\",\"sizeref\":4634597.5,\"symbol\":\"circle\"},\"mode\":\"markers\",\"name\":\"COG\",\"showlegend\":true,\"type\":\"scattergeo\"},{\"geo\":\"geo\",\"hovertemplate\":\"iso_code=%{location}<br>total_vaccinations=%{marker.size}<extra></extra>\",\"legendgroup\":\"COK\",\"locations\":[\"COK\"],\"marker\":{\"color\":\"#636efa\",\"size\":[20509.0],\"sizemode\":\"area\",\"sizeref\":4634597.5,\"symbol\":\"circle\"},\"mode\":\"markers\",\"name\":\"COK\",\"showlegend\":true,\"type\":\"scattergeo\"},{\"geo\":\"geo\",\"hovertemplate\":\"iso_code=%{location}<br>total_vaccinations=%{marker.size}<extra></extra>\",\"legendgroup\":\"COL\",\"locations\":[\"COL\"],\"marker\":{\"color\":\"#EF553B\",\"size\":[31376085.0],\"sizemode\":\"area\",\"sizeref\":4634597.5,\"symbol\":\"circle\"},\"mode\":\"markers\",\"name\":\"COL\",\"showlegend\":true,\"type\":\"scattergeo\"},{\"geo\":\"geo\",\"hovertemplate\":\"iso_code=%{location}<br>total_vaccinations=%{marker.size}<extra></extra>\",\"legendgroup\":\"COM\",\"locations\":[\"COM\"],\"marker\":{\"color\":\"#00cc96\",\"size\":[188875.0],\"sizemode\":\"area\",\"sizeref\":4634597.5,\"symbol\":\"circle\"},\"mode\":\"markers\",\"name\":\"COM\",\"showlegend\":true,\"type\":\"scattergeo\"},{\"geo\":\"geo\",\"hovertemplate\":\"iso_code=%{location}<br>total_vaccinations=%{marker.size}<extra></extra>\",\"legendgroup\":\"CPV\",\"locations\":[\"CPV\"],\"marker\":{\"color\":\"#ab63fa\",\"size\":[204780.0],\"sizemode\":\"area\",\"sizeref\":4634597.5,\"symbol\":\"circle\"},\"mode\":\"markers\",\"name\":\"CPV\",\"showlegend\":true,\"type\":\"scattergeo\"},{\"geo\":\"geo\",\"hovertemplate\":\"iso_code=%{location}<br>total_vaccinations=%{marker.size}<extra></extra>\",\"legendgroup\":\"CRI\",\"locations\":[\"CRI\"],\"marker\":{\"color\":\"#FFA15A\",\"size\":[3643509.0],\"sizemode\":\"area\",\"sizeref\":4634597.5,\"symbol\":\"circle\"},\"mode\":\"markers\",\"name\":\"CRI\",\"showlegend\":true,\"type\":\"scattergeo\"},{\"geo\":\"geo\",\"hovertemplate\":\"iso_code=%{location}<br>total_vaccinations=%{marker.size}<extra></extra>\",\"legendgroup\":\"CUB\",\"locations\":[\"CUB\"],\"marker\":{\"color\":\"#19d3f3\",\"size\":[11233885.0],\"sizemode\":\"area\",\"sizeref\":4634597.5,\"symbol\":\"circle\"},\"mode\":\"markers\",\"name\":\"CUB\",\"showlegend\":true,\"type\":\"scattergeo\"},{\"geo\":\"geo\",\"hovertemplate\":\"iso_code=%{location}<br>total_vaccinations=%{marker.size}<extra></extra>\",\"legendgroup\":\"CUW\",\"locations\":[\"CUW\"],\"marker\":{\"color\":\"#FF6692\",\"size\":[179137.0],\"sizemode\":\"area\",\"sizeref\":4634597.5,\"symbol\":\"circle\"},\"mode\":\"markers\",\"name\":\"CUW\",\"showlegend\":true,\"type\":\"scattergeo\"},{\"geo\":\"geo\",\"hovertemplate\":\"iso_code=%{location}<br>total_vaccinations=%{marker.size}<extra></extra>\",\"legendgroup\":\"CYM\",\"locations\":[\"CYM\"],\"marker\":{\"color\":\"#B6E880\",\"size\":[99194.0],\"sizemode\":\"area\",\"sizeref\":4634597.5,\"symbol\":\"circle\"},\"mode\":\"markers\",\"name\":\"CYM\",\"showlegend\":true,\"type\":\"scattergeo\"},{\"geo\":\"geo\",\"hovertemplate\":\"iso_code=%{location}<br>total_vaccinations=%{marker.size}<extra></extra>\",\"legendgroup\":\"CYP\",\"locations\":[\"CYP\"],\"marker\":{\"color\":\"#FF97FF\",\"size\":[1040915.0],\"sizemode\":\"area\",\"sizeref\":4634597.5,\"symbol\":\"circle\"},\"mode\":\"markers\",\"name\":\"CYP\",\"showlegend\":true,\"type\":\"scattergeo\"},{\"geo\":\"geo\",\"hovertemplate\":\"iso_code=%{location}<br>total_vaccinations=%{marker.size}<extra></extra>\",\"legendgroup\":\"CZE\",\"locations\":[\"CZE\"],\"marker\":{\"color\":\"#FECB52\",\"size\":[10953149.0],\"sizemode\":\"area\",\"sizeref\":4634597.5,\"symbol\":\"circle\"},\"mode\":\"markers\",\"name\":\"CZE\",\"showlegend\":true,\"type\":\"scattergeo\"},{\"geo\":\"geo\",\"hovertemplate\":\"iso_code=%{location}<br>total_vaccinations=%{marker.size}<extra></extra>\",\"legendgroup\":\"DEU\",\"locations\":[\"DEU\"],\"marker\":{\"color\":\"#636efa\",\"size\":[97263881.0],\"sizemode\":\"area\",\"sizeref\":4634597.5,\"symbol\":\"circle\"},\"mode\":\"markers\",\"name\":\"DEU\",\"showlegend\":true,\"type\":\"scattergeo\"},{\"geo\":\"geo\",\"hovertemplate\":\"iso_code=%{location}<br>total_vaccinations=%{marker.size}<extra></extra>\",\"legendgroup\":\"DJI\",\"locations\":[\"DJI\"],\"marker\":{\"color\":\"#EF553B\",\"size\":[53064.0],\"sizemode\":\"area\",\"sizeref\":4634597.5,\"symbol\":\"circle\"},\"mode\":\"markers\",\"name\":\"DJI\",\"showlegend\":true,\"type\":\"scattergeo\"},{\"geo\":\"geo\",\"hovertemplate\":\"iso_code=%{location}<br>total_vaccinations=%{marker.size}<extra></extra>\",\"legendgroup\":\"DMA\",\"locations\":[\"DMA\"],\"marker\":{\"color\":\"#00cc96\",\"size\":[40795.0],\"sizemode\":\"area\",\"sizeref\":4634597.5,\"symbol\":\"circle\"},\"mode\":\"markers\",\"name\":\"DMA\",\"showlegend\":true,\"type\":\"scattergeo\"},{\"geo\":\"geo\",\"hovertemplate\":\"iso_code=%{location}<br>total_vaccinations=%{marker.size}<extra></extra>\",\"legendgroup\":\"DNK\",\"locations\":[\"DNK\"],\"marker\":{\"color\":\"#ab63fa\",\"size\":[8028257.0],\"sizemode\":\"area\",\"sizeref\":4634597.5,\"symbol\":\"circle\"},\"mode\":\"markers\",\"name\":\"DNK\",\"showlegend\":true,\"type\":\"scattergeo\"},{\"geo\":\"geo\",\"hovertemplate\":\"iso_code=%{location}<br>total_vaccinations=%{marker.size}<extra></extra>\",\"legendgroup\":\"DOM\",\"locations\":[\"DOM\"],\"marker\":{\"color\":\"#FFA15A\",\"size\":[10638203.0],\"sizemode\":\"area\",\"sizeref\":4634597.5,\"symbol\":\"circle\"},\"mode\":\"markers\",\"name\":\"DOM\",\"showlegend\":true,\"type\":\"scattergeo\"},{\"geo\":\"geo\",\"hovertemplate\":\"iso_code=%{location}<br>total_vaccinations=%{marker.size}<extra></extra>\",\"legendgroup\":\"DZA\",\"locations\":[\"DZA\"],\"marker\":{\"color\":\"#19d3f3\",\"size\":[4146091.0],\"sizemode\":\"area\",\"sizeref\":4634597.5,\"symbol\":\"circle\"},\"mode\":\"markers\",\"name\":\"DZA\",\"showlegend\":true,\"type\":\"scattergeo\"},{\"geo\":\"geo\",\"hovertemplate\":\"iso_code=%{location}<br>total_vaccinations=%{marker.size}<extra></extra>\",\"legendgroup\":\"ECU\",\"locations\":[\"ECU\"],\"marker\":{\"color\":\"#FF6692\",\"size\":[14578314.0],\"sizemode\":\"area\",\"sizeref\":4634597.5,\"symbol\":\"circle\"},\"mode\":\"markers\",\"name\":\"ECU\",\"showlegend\":true,\"type\":\"scattergeo\"},{\"geo\":\"geo\",\"hovertemplate\":\"iso_code=%{location}<br>total_vaccinations=%{marker.size}<extra></extra>\",\"legendgroup\":\"EGY\",\"locations\":[\"EGY\"],\"marker\":{\"color\":\"#B6E880\",\"size\":[5750549.0],\"sizemode\":\"area\",\"sizeref\":4634597.5,\"symbol\":\"circle\"},\"mode\":\"markers\",\"name\":\"EGY\",\"showlegend\":true,\"type\":\"scattergeo\"},{\"geo\":\"geo\",\"hovertemplate\":\"iso_code=%{location}<br>total_vaccinations=%{marker.size}<extra></extra>\",\"legendgroup\":\"ESP\",\"locations\":[\"ESP\"],\"marker\":{\"color\":\"#FF97FF\",\"size\":[60919867.0],\"sizemode\":\"area\",\"sizeref\":4634597.5,\"symbol\":\"circle\"},\"mode\":\"markers\",\"name\":\"ESP\",\"showlegend\":true,\"type\":\"scattergeo\"},{\"geo\":\"geo\",\"hovertemplate\":\"iso_code=%{location}<br>total_vaccinations=%{marker.size}<extra></extra>\",\"legendgroup\":\"EST\",\"locations\":[\"EST\"],\"marker\":{\"color\":\"#FECB52\",\"size\":[1206351.0],\"sizemode\":\"area\",\"sizeref\":4634597.5,\"symbol\":\"circle\"},\"mode\":\"markers\",\"name\":\"EST\",\"showlegend\":true,\"type\":\"scattergeo\"},{\"geo\":\"geo\",\"hovertemplate\":\"iso_code=%{location}<br>total_vaccinations=%{marker.size}<extra></extra>\",\"legendgroup\":\"ETH\",\"locations\":[\"ETH\"],\"marker\":{\"color\":\"#636efa\",\"size\":[2302496.0],\"sizemode\":\"area\",\"sizeref\":4634597.5,\"symbol\":\"circle\"},\"mode\":\"markers\",\"name\":\"ETH\",\"showlegend\":true,\"type\":\"scattergeo\"},{\"geo\":\"geo\",\"hovertemplate\":\"iso_code=%{location}<br>total_vaccinations=%{marker.size}<extra></extra>\",\"legendgroup\":\"FIN\",\"locations\":[\"FIN\"],\"marker\":{\"color\":\"#EF553B\",\"size\":[6178954.0],\"sizemode\":\"area\",\"sizeref\":4634597.5,\"symbol\":\"circle\"},\"mode\":\"markers\",\"name\":\"FIN\",\"showlegend\":true,\"type\":\"scattergeo\"},{\"geo\":\"geo\",\"hovertemplate\":\"iso_code=%{location}<br>total_vaccinations=%{marker.size}<extra></extra>\",\"legendgroup\":\"FJI\",\"locations\":[\"FJI\"],\"marker\":{\"color\":\"#00cc96\",\"size\":[690888.0],\"sizemode\":\"area\",\"sizeref\":4634597.5,\"symbol\":\"circle\"},\"mode\":\"markers\",\"name\":\"FJI\",\"showlegend\":true,\"type\":\"scattergeo\"},{\"geo\":\"geo\",\"hovertemplate\":\"iso_code=%{location}<br>total_vaccinations=%{marker.size}<extra></extra>\",\"legendgroup\":\"FLK\",\"locations\":[\"FLK\"],\"marker\":{\"color\":\"#ab63fa\",\"size\":[4407.0],\"sizemode\":\"area\",\"sizeref\":4634597.5,\"symbol\":\"circle\"},\"mode\":\"markers\",\"name\":\"FLK\",\"showlegend\":true,\"type\":\"scattergeo\"},{\"geo\":\"geo\",\"hovertemplate\":\"iso_code=%{location}<br>total_vaccinations=%{marker.size}<extra></extra>\",\"legendgroup\":\"FRA\",\"locations\":[\"FRA\"],\"marker\":{\"color\":\"#FFA15A\",\"size\":[79839977.0],\"sizemode\":\"area\",\"sizeref\":4634597.5,\"symbol\":\"circle\"},\"mode\":\"markers\",\"name\":\"FRA\",\"showlegend\":true,\"type\":\"scattergeo\"},{\"geo\":\"geo\",\"hovertemplate\":\"iso_code=%{location}<br>total_vaccinations=%{marker.size}<extra></extra>\",\"legendgroup\":\"FRO\",\"locations\":[\"FRO\"],\"marker\":{\"color\":\"#19d3f3\",\"size\":[68843.0],\"sizemode\":\"area\",\"sizeref\":4634597.5,\"symbol\":\"circle\"},\"mode\":\"markers\",\"name\":\"FRO\",\"showlegend\":true,\"type\":\"scattergeo\"},{\"geo\":\"geo\",\"hovertemplate\":\"iso_code=%{location}<br>total_vaccinations=%{marker.size}<extra></extra>\",\"legendgroup\":\"GAB\",\"locations\":[\"GAB\"],\"marker\":{\"color\":\"#FF6692\",\"size\":[120627.0],\"sizemode\":\"area\",\"sizeref\":4634597.5,\"symbol\":\"circle\"},\"mode\":\"markers\",\"name\":\"GAB\",\"showlegend\":true,\"type\":\"scattergeo\"},{\"geo\":\"geo\",\"hovertemplate\":\"iso_code=%{location}<br>total_vaccinations=%{marker.size}<extra></extra>\",\"legendgroup\":\"GBR\",\"locations\":[\"GBR\"],\"marker\":{\"color\":\"#B6E880\",\"size\":[87627380.0],\"sizemode\":\"area\",\"sizeref\":4634597.5,\"symbol\":\"circle\"},\"mode\":\"markers\",\"name\":\"GBR\",\"showlegend\":true,\"type\":\"scattergeo\"},{\"geo\":\"geo\",\"hovertemplate\":\"iso_code=%{location}<br>total_vaccinations=%{marker.size}<extra></extra>\",\"legendgroup\":\"GEO\",\"locations\":[\"GEO\"],\"marker\":{\"color\":\"#FF97FF\",\"size\":[791863.0],\"sizemode\":\"area\",\"sizeref\":4634597.5,\"symbol\":\"circle\"},\"mode\":\"markers\",\"name\":\"GEO\",\"showlegend\":true,\"type\":\"scattergeo\"},{\"geo\":\"geo\",\"hovertemplate\":\"iso_code=%{location}<br>total_vaccinations=%{marker.size}<extra></extra>\",\"legendgroup\":\"GGY\",\"locations\":[\"GGY\"],\"marker\":{\"color\":\"#FECB52\",\"size\":[96687.0],\"sizemode\":\"area\",\"sizeref\":4634597.5,\"symbol\":\"circle\"},\"mode\":\"markers\",\"name\":\"GGY\",\"showlegend\":true,\"type\":\"scattergeo\"},{\"geo\":\"geo\",\"hovertemplate\":\"iso_code=%{location}<br>total_vaccinations=%{marker.size}<extra></extra>\",\"legendgroup\":\"GHA\",\"locations\":[\"GHA\"],\"marker\":{\"color\":\"#636efa\",\"size\":[1271393.0],\"sizemode\":\"area\",\"sizeref\":4634597.5,\"symbol\":\"circle\"},\"mode\":\"markers\",\"name\":\"GHA\",\"showlegend\":true,\"type\":\"scattergeo\"},{\"geo\":\"geo\",\"hovertemplate\":\"iso_code=%{location}<br>total_vaccinations=%{marker.size}<extra></extra>\",\"legendgroup\":\"GIB\",\"locations\":[\"GIB\"],\"marker\":{\"color\":\"#EF553B\",\"size\":[78535.0],\"sizemode\":\"area\",\"sizeref\":4634597.5,\"symbol\":\"circle\"},\"mode\":\"markers\",\"name\":\"GIB\",\"showlegend\":true,\"type\":\"scattergeo\"},{\"geo\":\"geo\",\"hovertemplate\":\"iso_code=%{location}<br>total_vaccinations=%{marker.size}<extra></extra>\",\"legendgroup\":\"GIN\",\"locations\":[\"GIN\"],\"marker\":{\"color\":\"#00cc96\",\"size\":[938537.0],\"sizemode\":\"area\",\"sizeref\":4634597.5,\"symbol\":\"circle\"},\"mode\":\"markers\",\"name\":\"GIN\",\"showlegend\":true,\"type\":\"scattergeo\"},{\"geo\":\"geo\",\"hovertemplate\":\"iso_code=%{location}<br>total_vaccinations=%{marker.size}<extra></extra>\",\"legendgroup\":\"GMB\",\"locations\":[\"GMB\"],\"marker\":{\"color\":\"#ab63fa\",\"size\":[43557.0],\"sizemode\":\"area\",\"sizeref\":4634597.5,\"symbol\":\"circle\"},\"mode\":\"markers\",\"name\":\"GMB\",\"showlegend\":true,\"type\":\"scattergeo\"},{\"geo\":\"geo\",\"hovertemplate\":\"iso_code=%{location}<br>total_vaccinations=%{marker.size}<extra></extra>\",\"legendgroup\":\"GNB\",\"locations\":[\"GNB\"],\"marker\":{\"color\":\"#FFA15A\",\"size\":[30471.0],\"sizemode\":\"area\",\"sizeref\":4634597.5,\"symbol\":\"circle\"},\"mode\":\"markers\",\"name\":\"GNB\",\"showlegend\":true,\"type\":\"scattergeo\"},{\"geo\":\"geo\",\"hovertemplate\":\"iso_code=%{location}<br>total_vaccinations=%{marker.size}<extra></extra>\",\"legendgroup\":\"GNQ\",\"locations\":[\"GNQ\"],\"marker\":{\"color\":\"#19d3f3\",\"size\":[322447.0],\"sizemode\":\"area\",\"sizeref\":4634597.5,\"symbol\":\"circle\"},\"mode\":\"markers\",\"name\":\"GNQ\",\"showlegend\":true,\"type\":\"scattergeo\"},{\"geo\":\"geo\",\"hovertemplate\":\"iso_code=%{location}<br>total_vaccinations=%{marker.size}<extra></extra>\",\"legendgroup\":\"GRC\",\"locations\":[\"GRC\"],\"marker\":{\"color\":\"#FF6692\",\"size\":[10988409.0],\"sizemode\":\"area\",\"sizeref\":4634597.5,\"symbol\":\"circle\"},\"mode\":\"markers\",\"name\":\"GRC\",\"showlegend\":true,\"type\":\"scattergeo\"},{\"geo\":\"geo\",\"hovertemplate\":\"iso_code=%{location}<br>total_vaccinations=%{marker.size}<extra></extra>\",\"legendgroup\":\"GRD\",\"locations\":[\"GRD\"],\"marker\":{\"color\":\"#B6E880\",\"size\":[38872.0],\"sizemode\":\"area\",\"sizeref\":4634597.5,\"symbol\":\"circle\"},\"mode\":\"markers\",\"name\":\"GRD\",\"showlegend\":true,\"type\":\"scattergeo\"},{\"geo\":\"geo\",\"hovertemplate\":\"iso_code=%{location}<br>total_vaccinations=%{marker.size}<extra></extra>\",\"legendgroup\":\"GRL\",\"locations\":[\"GRL\"],\"marker\":{\"color\":\"#FF97FF\",\"size\":[67849.0],\"sizemode\":\"area\",\"sizeref\":4634597.5,\"symbol\":\"circle\"},\"mode\":\"markers\",\"name\":\"GRL\",\"showlegend\":true,\"type\":\"scattergeo\"},{\"geo\":\"geo\",\"hovertemplate\":\"iso_code=%{location}<br>total_vaccinations=%{marker.size}<extra></extra>\",\"legendgroup\":\"GTM\",\"locations\":[\"GTM\"],\"marker\":{\"color\":\"#FECB52\",\"size\":[3177622.0],\"sizemode\":\"area\",\"sizeref\":4634597.5,\"symbol\":\"circle\"},\"mode\":\"markers\",\"name\":\"GTM\",\"showlegend\":true,\"type\":\"scattergeo\"},{\"geo\":\"geo\",\"hovertemplate\":\"iso_code=%{location}<br>total_vaccinations=%{marker.size}<extra></extra>\",\"legendgroup\":\"GUY\",\"locations\":[\"GUY\"],\"marker\":{\"color\":\"#636efa\",\"size\":[425580.0],\"sizemode\":\"area\",\"sizeref\":4634597.5,\"symbol\":\"circle\"},\"mode\":\"markers\",\"name\":\"GUY\",\"showlegend\":true,\"type\":\"scattergeo\"},{\"geo\":\"geo\",\"hovertemplate\":\"iso_code=%{location}<br>total_vaccinations=%{marker.size}<extra></extra>\",\"legendgroup\":\"HKG\",\"locations\":[\"HKG\"],\"marker\":{\"color\":\"#EF553B\",\"size\":[6579642.0],\"sizemode\":\"area\",\"sizeref\":4634597.5,\"symbol\":\"circle\"},\"mode\":\"markers\",\"name\":\"HKG\",\"showlegend\":true,\"type\":\"scattergeo\"},{\"geo\":\"geo\",\"hovertemplate\":\"iso_code=%{location}<br>total_vaccinations=%{marker.size}<extra></extra>\",\"legendgroup\":\"HND\",\"locations\":[\"HND\"],\"marker\":{\"color\":\"#00cc96\",\"size\":[2806063.0],\"sizemode\":\"area\",\"sizeref\":4634597.5,\"symbol\":\"circle\"},\"mode\":\"markers\",\"name\":\"HND\",\"showlegend\":true,\"type\":\"scattergeo\"},{\"geo\":\"geo\",\"hovertemplate\":\"iso_code=%{location}<br>total_vaccinations=%{marker.size}<extra></extra>\",\"legendgroup\":\"HRV\",\"locations\":[\"HRV\"],\"marker\":{\"color\":\"#ab63fa\",\"size\":[3166258.0],\"sizemode\":\"area\",\"sizeref\":4634597.5,\"symbol\":\"circle\"},\"mode\":\"markers\",\"name\":\"HRV\",\"showlegend\":true,\"type\":\"scattergeo\"},{\"geo\":\"geo\",\"hovertemplate\":\"iso_code=%{location}<br>total_vaccinations=%{marker.size}<extra></extra>\",\"legendgroup\":\"HTI\",\"locations\":[\"HTI\"],\"marker\":{\"color\":\"#FFA15A\",\"size\":[19182.0],\"sizemode\":\"area\",\"sizeref\":4634597.5,\"symbol\":\"circle\"},\"mode\":\"markers\",\"name\":\"HTI\",\"showlegend\":true,\"type\":\"scattergeo\"},{\"geo\":\"geo\",\"hovertemplate\":\"iso_code=%{location}<br>total_vaccinations=%{marker.size}<extra></extra>\",\"legendgroup\":\"HUN\",\"locations\":[\"HUN\"],\"marker\":{\"color\":\"#19d3f3\",\"size\":[10481449.0],\"sizemode\":\"area\",\"sizeref\":4634597.5,\"symbol\":\"circle\"},\"mode\":\"markers\",\"name\":\"HUN\",\"showlegend\":true,\"type\":\"scattergeo\"},{\"geo\":\"geo\",\"hovertemplate\":\"iso_code=%{location}<br>total_vaccinations=%{marker.size}<extra></extra>\",\"legendgroup\":\"IDN\",\"locations\":[\"IDN\"],\"marker\":{\"color\":\"#FF6692\",\"size\":[81412426.0],\"sizemode\":\"area\",\"sizeref\":4634597.5,\"symbol\":\"circle\"},\"mode\":\"markers\",\"name\":\"IDN\",\"showlegend\":true,\"type\":\"scattergeo\"},{\"geo\":\"geo\",\"hovertemplate\":\"iso_code=%{location}<br>total_vaccinations=%{marker.size}<extra></extra>\",\"legendgroup\":\"IMN\",\"locations\":[\"IMN\"],\"marker\":{\"color\":\"#B6E880\",\"size\":[125593.0],\"sizemode\":\"area\",\"sizeref\":4634597.5,\"symbol\":\"circle\"},\"mode\":\"markers\",\"name\":\"IMN\",\"showlegend\":true,\"type\":\"scattergeo\"},{\"geo\":\"geo\",\"hovertemplate\":\"iso_code=%{location}<br>total_vaccinations=%{marker.size}<extra></extra>\",\"legendgroup\":\"IND\",\"locations\":[\"IND\"],\"marker\":{\"color\":\"#FF97FF\",\"size\":[543846290.0],\"sizemode\":\"area\",\"sizeref\":4634597.5,\"symbol\":\"circle\"},\"mode\":\"markers\",\"name\":\"IND\",\"showlegend\":true,\"type\":\"scattergeo\"},{\"geo\":\"geo\",\"hovertemplate\":\"iso_code=%{location}<br>total_vaccinations=%{marker.size}<extra></extra>\",\"legendgroup\":\"IRL\",\"locations\":[\"IRL\"],\"marker\":{\"color\":\"#FECB52\",\"size\":[6326226.0],\"sizemode\":\"area\",\"sizeref\":4634597.5,\"symbol\":\"circle\"},\"mode\":\"markers\",\"name\":\"IRL\",\"showlegend\":true,\"type\":\"scattergeo\"},{\"geo\":\"geo\",\"hovertemplate\":\"iso_code=%{location}<br>total_vaccinations=%{marker.size}<extra></extra>\",\"legendgroup\":\"IRN\",\"locations\":[\"IRN\"],\"marker\":{\"color\":\"#636efa\",\"size\":[16213714.0],\"sizemode\":\"area\",\"sizeref\":4634597.5,\"symbol\":\"circle\"},\"mode\":\"markers\",\"name\":\"IRN\",\"showlegend\":true,\"type\":\"scattergeo\"},{\"geo\":\"geo\",\"hovertemplate\":\"iso_code=%{location}<br>total_vaccinations=%{marker.size}<extra></extra>\",\"legendgroup\":\"IRQ\",\"locations\":[\"IRQ\"],\"marker\":{\"color\":\"#EF553B\",\"size\":[2102550.0],\"sizemode\":\"area\",\"sizeref\":4634597.5,\"symbol\":\"circle\"},\"mode\":\"markers\",\"name\":\"IRQ\",\"showlegend\":true,\"type\":\"scattergeo\"},{\"geo\":\"geo\",\"hovertemplate\":\"iso_code=%{location}<br>total_vaccinations=%{marker.size}<extra></extra>\",\"legendgroup\":\"ISL\",\"locations\":[\"ISL\"],\"marker\":{\"color\":\"#00cc96\",\"size\":[477205.0],\"sizemode\":\"area\",\"sizeref\":4634597.5,\"symbol\":\"circle\"},\"mode\":\"markers\",\"name\":\"ISL\",\"showlegend\":true,\"type\":\"scattergeo\"},{\"geo\":\"geo\",\"hovertemplate\":\"iso_code=%{location}<br>total_vaccinations=%{marker.size}<extra></extra>\",\"legendgroup\":\"ISR\",\"locations\":[\"ISR\"],\"marker\":{\"color\":\"#ab63fa\",\"size\":[12119437.0],\"sizemode\":\"area\",\"sizeref\":4634597.5,\"symbol\":\"circle\"},\"mode\":\"markers\",\"name\":\"ISR\",\"showlegend\":true,\"type\":\"scattergeo\"},{\"geo\":\"geo\",\"hovertemplate\":\"iso_code=%{location}<br>total_vaccinations=%{marker.size}<extra></extra>\",\"legendgroup\":\"ITA\",\"locations\":[\"ITA\"],\"marker\":{\"color\":\"#FFA15A\",\"size\":[73718833.0],\"sizemode\":\"area\",\"sizeref\":4634597.5,\"symbol\":\"circle\"},\"mode\":\"markers\",\"name\":\"ITA\",\"showlegend\":true,\"type\":\"scattergeo\"},{\"geo\":\"geo\",\"hovertemplate\":\"iso_code=%{location}<br>total_vaccinations=%{marker.size}<extra></extra>\",\"legendgroup\":\"JAM\",\"locations\":[\"JAM\"],\"marker\":{\"color\":\"#19d3f3\",\"size\":[391076.0],\"sizemode\":\"area\",\"sizeref\":4634597.5,\"symbol\":\"circle\"},\"mode\":\"markers\",\"name\":\"JAM\",\"showlegend\":true,\"type\":\"scattergeo\"},{\"geo\":\"geo\",\"hovertemplate\":\"iso_code=%{location}<br>total_vaccinations=%{marker.size}<extra></extra>\",\"legendgroup\":\"JEY\",\"locations\":[\"JEY\"],\"marker\":{\"color\":\"#FF6692\",\"size\":[144896.0],\"sizemode\":\"area\",\"sizeref\":4634597.5,\"symbol\":\"circle\"},\"mode\":\"markers\",\"name\":\"JEY\",\"showlegend\":true,\"type\":\"scattergeo\"},{\"geo\":\"geo\",\"hovertemplate\":\"iso_code=%{location}<br>total_vaccinations=%{marker.size}<extra></extra>\",\"legendgroup\":\"JOR\",\"locations\":[\"JOR\"],\"marker\":{\"color\":\"#B6E880\",\"size\":[5741689.0],\"sizemode\":\"area\",\"sizeref\":4634597.5,\"symbol\":\"circle\"},\"mode\":\"markers\",\"name\":\"JOR\",\"showlegend\":true,\"type\":\"scattergeo\"},{\"geo\":\"geo\",\"hovertemplate\":\"iso_code=%{location}<br>total_vaccinations=%{marker.size}<extra></extra>\",\"legendgroup\":\"JPN\",\"locations\":[\"JPN\"],\"marker\":{\"color\":\"#FF97FF\",\"size\":[108179498.0],\"sizemode\":\"area\",\"sizeref\":4634597.5,\"symbol\":\"circle\"},\"mode\":\"markers\",\"name\":\"JPN\",\"showlegend\":true,\"type\":\"scattergeo\"},{\"geo\":\"geo\",\"hovertemplate\":\"iso_code=%{location}<br>total_vaccinations=%{marker.size}<extra></extra>\",\"legendgroup\":\"KAZ\",\"locations\":[\"KAZ\"],\"marker\":{\"color\":\"#FECB52\",\"size\":[10712219.0],\"sizemode\":\"area\",\"sizeref\":4634597.5,\"symbol\":\"circle\"},\"mode\":\"markers\",\"name\":\"KAZ\",\"showlegend\":true,\"type\":\"scattergeo\"},{\"geo\":\"geo\",\"hovertemplate\":\"iso_code=%{location}<br>total_vaccinations=%{marker.size}<extra></extra>\",\"legendgroup\":\"KEN\",\"locations\":[\"KEN\"],\"marker\":{\"color\":\"#636efa\",\"size\":[1922085.0],\"sizemode\":\"area\",\"sizeref\":4634597.5,\"symbol\":\"circle\"},\"mode\":\"markers\",\"name\":\"KEN\",\"showlegend\":true,\"type\":\"scattergeo\"},{\"geo\":\"geo\",\"hovertemplate\":\"iso_code=%{location}<br>total_vaccinations=%{marker.size}<extra></extra>\",\"legendgroup\":\"KGZ\",\"locations\":[\"KGZ\"],\"marker\":{\"color\":\"#EF553B\",\"size\":[848085.0],\"sizemode\":\"area\",\"sizeref\":4634597.5,\"symbol\":\"circle\"},\"mode\":\"markers\",\"name\":\"KGZ\",\"showlegend\":true,\"type\":\"scattergeo\"},{\"geo\":\"geo\",\"hovertemplate\":\"iso_code=%{location}<br>total_vaccinations=%{marker.size}<extra></extra>\",\"legendgroup\":\"KHM\",\"locations\":[\"KHM\"],\"marker\":{\"color\":\"#00cc96\",\"size\":[15372439.0],\"sizemode\":\"area\",\"sizeref\":4634597.5,\"symbol\":\"circle\"},\"mode\":\"markers\",\"name\":\"KHM\",\"showlegend\":true,\"type\":\"scattergeo\"},{\"geo\":\"geo\",\"hovertemplate\":\"iso_code=%{location}<br>total_vaccinations=%{marker.size}<extra></extra>\",\"legendgroup\":\"KIR\",\"locations\":[\"KIR\"],\"marker\":{\"color\":\"#ab63fa\",\"size\":[13970.0],\"sizemode\":\"area\",\"sizeref\":4634597.5,\"symbol\":\"circle\"},\"mode\":\"markers\",\"name\":\"KIR\",\"showlegend\":true,\"type\":\"scattergeo\"},{\"geo\":\"geo\",\"hovertemplate\":\"iso_code=%{location}<br>total_vaccinations=%{marker.size}<extra></extra>\",\"legendgroup\":\"KNA\",\"locations\":[\"KNA\"],\"marker\":{\"color\":\"#FFA15A\",\"size\":[43966.0],\"sizemode\":\"area\",\"sizeref\":4634597.5,\"symbol\":\"circle\"},\"mode\":\"markers\",\"name\":\"KNA\",\"showlegend\":true,\"type\":\"scattergeo\"},{\"geo\":\"geo\",\"hovertemplate\":\"iso_code=%{location}<br>total_vaccinations=%{marker.size}<extra></extra>\",\"legendgroup\":\"KOR\",\"locations\":[\"KOR\"],\"marker\":{\"color\":\"#19d3f3\",\"size\":[30974836.0],\"sizemode\":\"area\",\"sizeref\":4634597.5,\"symbol\":\"circle\"},\"mode\":\"markers\",\"name\":\"KOR\",\"showlegend\":true,\"type\":\"scattergeo\"},{\"geo\":\"geo\",\"hovertemplate\":\"iso_code=%{location}<br>total_vaccinations=%{marker.size}<extra></extra>\",\"legendgroup\":\"KWT\",\"locations\":[\"KWT\"],\"marker\":{\"color\":\"#FF6692\",\"size\":[2375455.0],\"sizemode\":\"area\",\"sizeref\":4634597.5,\"symbol\":\"circle\"},\"mode\":\"markers\",\"name\":\"KWT\",\"showlegend\":true,\"type\":\"scattergeo\"},{\"geo\":\"geo\",\"hovertemplate\":\"iso_code=%{location}<br>total_vaccinations=%{marker.size}<extra></extra>\",\"legendgroup\":\"LAO\",\"locations\":[\"LAO\"],\"marker\":{\"color\":\"#B6E880\",\"size\":[3118472.0],\"sizemode\":\"area\",\"sizeref\":4634597.5,\"symbol\":\"circle\"},\"mode\":\"markers\",\"name\":\"LAO\",\"showlegend\":true,\"type\":\"scattergeo\"},{\"geo\":\"geo\",\"hovertemplate\":\"iso_code=%{location}<br>total_vaccinations=%{marker.size}<extra></extra>\",\"legendgroup\":\"LBN\",\"locations\":[\"LBN\"],\"marker\":{\"color\":\"#FF97FF\",\"size\":[2192119.0],\"sizemode\":\"area\",\"sizeref\":4634597.5,\"symbol\":\"circle\"},\"mode\":\"markers\",\"name\":\"LBN\",\"showlegend\":true,\"type\":\"scattergeo\"},{\"geo\":\"geo\",\"hovertemplate\":\"iso_code=%{location}<br>total_vaccinations=%{marker.size}<extra></extra>\",\"legendgroup\":\"LBR\",\"locations\":[\"LBR\"],\"marker\":{\"color\":\"#FECB52\",\"size\":[95423.0],\"sizemode\":\"area\",\"sizeref\":4634597.5,\"symbol\":\"circle\"},\"mode\":\"markers\",\"name\":\"LBR\",\"showlegend\":true,\"type\":\"scattergeo\"},{\"geo\":\"geo\",\"hovertemplate\":\"iso_code=%{location}<br>total_vaccinations=%{marker.size}<extra></extra>\",\"legendgroup\":\"LBY\",\"locations\":[\"LBY\"],\"marker\":{\"color\":\"#636efa\",\"size\":[764233.0],\"sizemode\":\"area\",\"sizeref\":4634597.5,\"symbol\":\"circle\"},\"mode\":\"markers\",\"name\":\"LBY\",\"showlegend\":true,\"type\":\"scattergeo\"},{\"geo\":\"geo\",\"hovertemplate\":\"iso_code=%{location}<br>total_vaccinations=%{marker.size}<extra></extra>\",\"legendgroup\":\"LCA\",\"locations\":[\"LCA\"],\"marker\":{\"color\":\"#EF553B\",\"size\":[59537.0],\"sizemode\":\"area\",\"sizeref\":4634597.5,\"symbol\":\"circle\"},\"mode\":\"markers\",\"name\":\"LCA\",\"showlegend\":true,\"type\":\"scattergeo\"},{\"geo\":\"geo\",\"hovertemplate\":\"iso_code=%{location}<br>total_vaccinations=%{marker.size}<extra></extra>\",\"legendgroup\":\"LIE\",\"locations\":[\"LIE\"],\"marker\":{\"color\":\"#00cc96\",\"size\":[40614.0],\"sizemode\":\"area\",\"sizeref\":4634597.5,\"symbol\":\"circle\"},\"mode\":\"markers\",\"name\":\"LIE\",\"showlegend\":true,\"type\":\"scattergeo\"},{\"geo\":\"geo\",\"hovertemplate\":\"iso_code=%{location}<br>total_vaccinations=%{marker.size}<extra></extra>\",\"legendgroup\":\"LKA\",\"locations\":[\"LKA\"],\"marker\":{\"color\":\"#ab63fa\",\"size\":[15310726.0],\"sizemode\":\"area\",\"sizeref\":4634597.5,\"symbol\":\"circle\"},\"mode\":\"markers\",\"name\":\"LKA\",\"showlegend\":true,\"type\":\"scattergeo\"},{\"geo\":\"geo\",\"hovertemplate\":\"iso_code=%{location}<br>total_vaccinations=%{marker.size}<extra></extra>\",\"legendgroup\":\"LSO\",\"locations\":[\"LSO\"],\"marker\":{\"color\":\"#FFA15A\",\"size\":[72948.0],\"sizemode\":\"area\",\"sizeref\":4634597.5,\"symbol\":\"circle\"},\"mode\":\"markers\",\"name\":\"LSO\",\"showlegend\":true,\"type\":\"scattergeo\"},{\"geo\":\"geo\",\"hovertemplate\":\"iso_code=%{location}<br>total_vaccinations=%{marker.size}<extra></extra>\",\"legendgroup\":\"LTU\",\"locations\":[\"LTU\"],\"marker\":{\"color\":\"#19d3f3\",\"size\":[2916963.0],\"sizemode\":\"area\",\"sizeref\":4634597.5,\"symbol\":\"circle\"},\"mode\":\"markers\",\"name\":\"LTU\",\"showlegend\":true,\"type\":\"scattergeo\"},{\"geo\":\"geo\",\"hovertemplate\":\"iso_code=%{location}<br>total_vaccinations=%{marker.size}<extra></extra>\",\"legendgroup\":\"LUX\",\"locations\":[\"LUX\"],\"marker\":{\"color\":\"#FF6692\",\"size\":[741948.0],\"sizemode\":\"area\",\"sizeref\":4634597.5,\"symbol\":\"circle\"},\"mode\":\"markers\",\"name\":\"LUX\",\"showlegend\":true,\"type\":\"scattergeo\"},{\"geo\":\"geo\",\"hovertemplate\":\"iso_code=%{location}<br>total_vaccinations=%{marker.size}<extra></extra>\",\"legendgroup\":\"LVA\",\"locations\":[\"LVA\"],\"marker\":{\"color\":\"#B6E880\",\"size\":[1418214.0],\"sizemode\":\"area\",\"sizeref\":4634597.5,\"symbol\":\"circle\"},\"mode\":\"markers\",\"name\":\"LVA\",\"showlegend\":true,\"type\":\"scattergeo\"},{\"geo\":\"geo\",\"hovertemplate\":\"iso_code=%{location}<br>total_vaccinations=%{marker.size}<extra></extra>\",\"legendgroup\":\"MAC\",\"locations\":[\"MAC\"],\"marker\":{\"color\":\"#FF97FF\",\"size\":[547953.0],\"sizemode\":\"area\",\"sizeref\":4634597.5,\"symbol\":\"circle\"},\"mode\":\"markers\",\"name\":\"MAC\",\"showlegend\":true,\"type\":\"scattergeo\"},{\"geo\":\"geo\",\"hovertemplate\":\"iso_code=%{location}<br>total_vaccinations=%{marker.size}<extra></extra>\",\"legendgroup\":\"MAR\",\"locations\":[\"MAR\"],\"marker\":{\"color\":\"#FECB52\",\"size\":[27630059.0],\"sizemode\":\"area\",\"sizeref\":4634597.5,\"symbol\":\"circle\"},\"mode\":\"markers\",\"name\":\"MAR\",\"showlegend\":true,\"type\":\"scattergeo\"},{\"geo\":\"geo\",\"hovertemplate\":\"iso_code=%{location}<br>total_vaccinations=%{marker.size}<extra></extra>\",\"legendgroup\":\"MCO\",\"locations\":[\"MCO\"],\"marker\":{\"color\":\"#636efa\",\"size\":[44060.0],\"sizemode\":\"area\",\"sizeref\":4634597.5,\"symbol\":\"circle\"},\"mode\":\"markers\",\"name\":\"MCO\",\"showlegend\":true,\"type\":\"scattergeo\"},{\"geo\":\"geo\",\"hovertemplate\":\"iso_code=%{location}<br>total_vaccinations=%{marker.size}<extra></extra>\",\"legendgroup\":\"MDA\",\"locations\":[\"MDA\"],\"marker\":{\"color\":\"#EF553B\",\"size\":[1143669.0],\"sizemode\":\"area\",\"sizeref\":4634597.5,\"symbol\":\"circle\"},\"mode\":\"markers\",\"name\":\"MDA\",\"showlegend\":true,\"type\":\"scattergeo\"},{\"geo\":\"geo\",\"hovertemplate\":\"iso_code=%{location}<br>total_vaccinations=%{marker.size}<extra></extra>\",\"legendgroup\":\"MDG\",\"locations\":[\"MDG\"],\"marker\":{\"color\":\"#00cc96\",\"size\":[197001.0],\"sizemode\":\"area\",\"sizeref\":4634597.5,\"symbol\":\"circle\"},\"mode\":\"markers\",\"name\":\"MDG\",\"showlegend\":true,\"type\":\"scattergeo\"},{\"geo\":\"geo\",\"hovertemplate\":\"iso_code=%{location}<br>total_vaccinations=%{marker.size}<extra></extra>\",\"legendgroup\":\"MDV\",\"locations\":[\"MDV\"],\"marker\":{\"color\":\"#ab63fa\",\"size\":[633914.0],\"sizemode\":\"area\",\"sizeref\":4634597.5,\"symbol\":\"circle\"},\"mode\":\"markers\",\"name\":\"MDV\",\"showlegend\":true,\"type\":\"scattergeo\"},{\"geo\":\"geo\",\"hovertemplate\":\"iso_code=%{location}<br>total_vaccinations=%{marker.size}<extra></extra>\",\"legendgroup\":\"MEX\",\"locations\":[\"MEX\"],\"marker\":{\"color\":\"#FFA15A\",\"size\":[76587422.0],\"sizemode\":\"area\",\"sizeref\":4634597.5,\"symbol\":\"circle\"},\"mode\":\"markers\",\"name\":\"MEX\",\"showlegend\":true,\"type\":\"scattergeo\"},{\"geo\":\"geo\",\"hovertemplate\":\"iso_code=%{location}<br>total_vaccinations=%{marker.size}<extra></extra>\",\"legendgroup\":\"MKD\",\"locations\":[\"MKD\"],\"marker\":{\"color\":\"#19d3f3\",\"size\":[1033584.0],\"sizemode\":\"area\",\"sizeref\":4634597.5,\"symbol\":\"circle\"},\"mode\":\"markers\",\"name\":\"MKD\",\"showlegend\":true,\"type\":\"scattergeo\"},{\"geo\":\"geo\",\"hovertemplate\":\"iso_code=%{location}<br>total_vaccinations=%{marker.size}<extra></extra>\",\"legendgroup\":\"MLI\",\"locations\":[\"MLI\"],\"marker\":{\"color\":\"#FF6692\",\"size\":[259719.0],\"sizemode\":\"area\",\"sizeref\":4634597.5,\"symbol\":\"circle\"},\"mode\":\"markers\",\"name\":\"MLI\",\"showlegend\":true,\"type\":\"scattergeo\"},{\"geo\":\"geo\",\"hovertemplate\":\"iso_code=%{location}<br>total_vaccinations=%{marker.size}<extra></extra>\",\"legendgroup\":\"MLT\",\"locations\":[\"MLT\"],\"marker\":{\"color\":\"#B6E880\",\"size\":[783983.0],\"sizemode\":\"area\",\"sizeref\":4634597.5,\"symbol\":\"circle\"},\"mode\":\"markers\",\"name\":\"MLT\",\"showlegend\":true,\"type\":\"scattergeo\"},{\"geo\":\"geo\",\"hovertemplate\":\"iso_code=%{location}<br>total_vaccinations=%{marker.size}<extra></extra>\",\"legendgroup\":\"MMR\",\"locations\":[\"MMR\"],\"marker\":{\"color\":\"#FF97FF\",\"size\":[3500000.0],\"sizemode\":\"area\",\"sizeref\":4634597.5,\"symbol\":\"circle\"},\"mode\":\"markers\",\"name\":\"MMR\",\"showlegend\":true,\"type\":\"scattergeo\"},{\"geo\":\"geo\",\"hovertemplate\":\"iso_code=%{location}<br>total_vaccinations=%{marker.size}<extra></extra>\",\"legendgroup\":\"MNE\",\"locations\":[\"MNE\"],\"marker\":{\"color\":\"#FECB52\",\"size\":[358224.0],\"sizemode\":\"area\",\"sizeref\":4634597.5,\"symbol\":\"circle\"},\"mode\":\"markers\",\"name\":\"MNE\",\"showlegend\":true,\"type\":\"scattergeo\"},{\"geo\":\"geo\",\"hovertemplate\":\"iso_code=%{location}<br>total_vaccinations=%{marker.size}<extra></extra>\",\"legendgroup\":\"MNG\",\"locations\":[\"MNG\"],\"marker\":{\"color\":\"#636efa\",\"size\":[4235613.0],\"sizemode\":\"area\",\"sizeref\":4634597.5,\"symbol\":\"circle\"},\"mode\":\"markers\",\"name\":\"MNG\",\"showlegend\":true,\"type\":\"scattergeo\"},{\"geo\":\"geo\",\"hovertemplate\":\"iso_code=%{location}<br>total_vaccinations=%{marker.size}<extra></extra>\",\"legendgroup\":\"MOZ\",\"locations\":[\"MOZ\"],\"marker\":{\"color\":\"#EF553B\",\"size\":[1386326.0],\"sizemode\":\"area\",\"sizeref\":4634597.5,\"symbol\":\"circle\"},\"mode\":\"markers\",\"name\":\"MOZ\",\"showlegend\":true,\"type\":\"scattergeo\"},{\"geo\":\"geo\",\"hovertemplate\":\"iso_code=%{location}<br>total_vaccinations=%{marker.size}<extra></extra>\",\"legendgroup\":\"MRT\",\"locations\":[\"MRT\"],\"marker\":{\"color\":\"#00cc96\",\"size\":[242626.0],\"sizemode\":\"area\",\"sizeref\":4634597.5,\"symbol\":\"circle\"},\"mode\":\"markers\",\"name\":\"MRT\",\"showlegend\":true,\"type\":\"scattergeo\"},{\"geo\":\"geo\",\"hovertemplate\":\"iso_code=%{location}<br>total_vaccinations=%{marker.size}<extra></extra>\",\"legendgroup\":\"MSR\",\"locations\":[\"MSR\"],\"marker\":{\"color\":\"#ab63fa\",\"size\":[2828.0],\"sizemode\":\"area\",\"sizeref\":4634597.5,\"symbol\":\"circle\"},\"mode\":\"markers\",\"name\":\"MSR\",\"showlegend\":true,\"type\":\"scattergeo\"},{\"geo\":\"geo\",\"hovertemplate\":\"iso_code=%{location}<br>total_vaccinations=%{marker.size}<extra></extra>\",\"legendgroup\":\"MUS\",\"locations\":[\"MUS\"],\"marker\":{\"color\":\"#FFA15A\",\"size\":[1297090.0],\"sizemode\":\"area\",\"sizeref\":4634597.5,\"symbol\":\"circle\"},\"mode\":\"markers\",\"name\":\"MUS\",\"showlegend\":true,\"type\":\"scattergeo\"},{\"geo\":\"geo\",\"hovertemplate\":\"iso_code=%{location}<br>total_vaccinations=%{marker.size}<extra></extra>\",\"legendgroup\":\"MWI\",\"locations\":[\"MWI\"],\"marker\":{\"color\":\"#19d3f3\",\"size\":[683097.0],\"sizemode\":\"area\",\"sizeref\":4634597.5,\"symbol\":\"circle\"},\"mode\":\"markers\",\"name\":\"MWI\",\"showlegend\":true,\"type\":\"scattergeo\"},{\"geo\":\"geo\",\"hovertemplate\":\"iso_code=%{location}<br>total_vaccinations=%{marker.size}<extra></extra>\",\"legendgroup\":\"MYS\",\"locations\":[\"MYS\"],\"marker\":{\"color\":\"#FF6692\",\"size\":[27293915.0],\"sizemode\":\"area\",\"sizeref\":4634597.5,\"symbol\":\"circle\"},\"mode\":\"markers\",\"name\":\"MYS\",\"showlegend\":true,\"type\":\"scattergeo\"},{\"geo\":\"geo\",\"hovertemplate\":\"iso_code=%{location}<br>total_vaccinations=%{marker.size}<extra></extra>\",\"legendgroup\":\"NAM\",\"locations\":[\"NAM\"],\"marker\":{\"color\":\"#B6E880\",\"size\":[244880.0],\"sizemode\":\"area\",\"sizeref\":4634597.5,\"symbol\":\"circle\"},\"mode\":\"markers\",\"name\":\"NAM\",\"showlegend\":true,\"type\":\"scattergeo\"},{\"geo\":\"geo\",\"hovertemplate\":\"iso_code=%{location}<br>total_vaccinations=%{marker.size}<extra></extra>\",\"legendgroup\":\"NCL\",\"locations\":[\"NCL\"],\"marker\":{\"color\":\"#FF97FF\",\"size\":[133804.0],\"sizemode\":\"area\",\"sizeref\":4634597.5,\"symbol\":\"circle\"},\"mode\":\"markers\",\"name\":\"NCL\",\"showlegend\":true,\"type\":\"scattergeo\"},{\"geo\":\"geo\",\"hovertemplate\":\"iso_code=%{location}<br>total_vaccinations=%{marker.size}<extra></extra>\",\"legendgroup\":\"NER\",\"locations\":[\"NER\"],\"marker\":{\"color\":\"#FECB52\",\"size\":[425483.0],\"sizemode\":\"area\",\"sizeref\":4634597.5,\"symbol\":\"circle\"},\"mode\":\"markers\",\"name\":\"NER\",\"showlegend\":true,\"type\":\"scattergeo\"},{\"geo\":\"geo\",\"hovertemplate\":\"iso_code=%{location}<br>total_vaccinations=%{marker.size}<extra></extra>\",\"legendgroup\":\"NGA\",\"locations\":[\"NGA\"],\"marker\":{\"color\":\"#636efa\",\"size\":[3967013.0],\"sizemode\":\"area\",\"sizeref\":4634597.5,\"symbol\":\"circle\"},\"mode\":\"markers\",\"name\":\"NGA\",\"showlegend\":true,\"type\":\"scattergeo\"},{\"geo\":\"geo\",\"hovertemplate\":\"iso_code=%{location}<br>total_vaccinations=%{marker.size}<extra></extra>\",\"legendgroup\":\"NIC\",\"locations\":[\"NIC\"],\"marker\":{\"color\":\"#EF553B\",\"size\":[919275.0],\"sizemode\":\"area\",\"sizeref\":4634597.5,\"symbol\":\"circle\"},\"mode\":\"markers\",\"name\":\"NIC\",\"showlegend\":true,\"type\":\"scattergeo\"},{\"geo\":\"geo\",\"hovertemplate\":\"iso_code=%{location}<br>total_vaccinations=%{marker.size}<extra></extra>\",\"legendgroup\":\"NIU\",\"locations\":[\"NIU\"],\"marker\":{\"color\":\"#00cc96\",\"size\":[2406.0],\"sizemode\":\"area\",\"sizeref\":4634597.5,\"symbol\":\"circle\"},\"mode\":\"markers\",\"name\":\"NIU\",\"showlegend\":true,\"type\":\"scattergeo\"},{\"geo\":\"geo\",\"hovertemplate\":\"iso_code=%{location}<br>total_vaccinations=%{marker.size}<extra></extra>\",\"legendgroup\":\"NLD\",\"locations\":[\"NLD\"],\"marker\":{\"color\":\"#ab63fa\",\"size\":[21348406.0],\"sizemode\":\"area\",\"sizeref\":4634597.5,\"symbol\":\"circle\"},\"mode\":\"markers\",\"name\":\"NLD\",\"showlegend\":true,\"type\":\"scattergeo\"},{\"geo\":\"geo\",\"hovertemplate\":\"iso_code=%{location}<br>total_vaccinations=%{marker.size}<extra></extra>\",\"legendgroup\":\"NOR\",\"locations\":[\"NOR\"],\"marker\":{\"color\":\"#FFA15A\",\"size\":[5911464.0],\"sizemode\":\"area\",\"sizeref\":4634597.5,\"symbol\":\"circle\"},\"mode\":\"markers\",\"name\":\"NOR\",\"showlegend\":true,\"type\":\"scattergeo\"},{\"geo\":\"geo\",\"hovertemplate\":\"iso_code=%{location}<br>total_vaccinations=%{marker.size}<extra></extra>\",\"legendgroup\":\"NPL\",\"locations\":[\"NPL\"],\"marker\":{\"color\":\"#19d3f3\",\"size\":[7977896.0],\"sizemode\":\"area\",\"sizeref\":4634597.5,\"symbol\":\"circle\"},\"mode\":\"markers\",\"name\":\"NPL\",\"showlegend\":true,\"type\":\"scattergeo\"},{\"geo\":\"geo\",\"hovertemplate\":\"iso_code=%{location}<br>total_vaccinations=%{marker.size}<extra></extra>\",\"legendgroup\":\"NRU\",\"locations\":[\"NRU\"],\"marker\":{\"color\":\"#FF6692\",\"size\":[14784.0],\"sizemode\":\"area\",\"sizeref\":4634597.5,\"symbol\":\"circle\"},\"mode\":\"markers\",\"name\":\"NRU\",\"showlegend\":true,\"type\":\"scattergeo\"},{\"geo\":\"geo\",\"hovertemplate\":\"iso_code=%{location}<br>total_vaccinations=%{marker.size}<extra></extra>\",\"legendgroup\":\"NZL\",\"locations\":[\"NZL\"],\"marker\":{\"color\":\"#B6E880\",\"size\":[2293301.0],\"sizemode\":\"area\",\"sizeref\":4634597.5,\"symbol\":\"circle\"},\"mode\":\"markers\",\"name\":\"NZL\",\"showlegend\":true,\"type\":\"scattergeo\"},{\"geo\":\"geo\",\"hovertemplate\":\"iso_code=%{location}<br>total_vaccinations=%{marker.size}<extra></extra>\",\"legendgroup\":\"OMN\",\"locations\":[\"OMN\"],\"marker\":{\"color\":\"#FF97FF\",\"size\":[2656658.0],\"sizemode\":\"area\",\"sizeref\":4634597.5,\"symbol\":\"circle\"},\"mode\":\"markers\",\"name\":\"OMN\",\"showlegend\":true,\"type\":\"scattergeo\"},{\"geo\":\"geo\",\"hovertemplate\":\"iso_code=%{location}<br>total_vaccinations=%{marker.size}<extra></extra>\",\"legendgroup\":\"OWID_CYN\",\"locations\":[\"OWID_CYN\"],\"marker\":{\"color\":\"#FECB52\",\"size\":[194782.0],\"sizemode\":\"area\",\"sizeref\":4634597.5,\"symbol\":\"circle\"},\"mode\":\"markers\",\"name\":\"OWID_CYN\",\"showlegend\":true,\"type\":\"scattergeo\"},{\"geo\":\"geo\",\"hovertemplate\":\"iso_code=%{location}<br>total_vaccinations=%{marker.size}<extra></extra>\",\"legendgroup\":\"OWID_ENG\",\"locations\":[\"OWID_ENG\"],\"marker\":{\"color\":\"#636efa\",\"size\":[73340932.0],\"sizemode\":\"area\",\"sizeref\":4634597.5,\"symbol\":\"circle\"},\"mode\":\"markers\",\"name\":\"OWID_ENG\",\"showlegend\":true,\"type\":\"scattergeo\"},{\"geo\":\"geo\",\"hovertemplate\":\"iso_code=%{location}<br>total_vaccinations=%{marker.size}<extra></extra>\",\"legendgroup\":\"OWID_KOS\",\"locations\":[\"OWID_KOS\"],\"marker\":{\"color\":\"#EF553B\",\"size\":[539752.0],\"sizemode\":\"area\",\"sizeref\":4634597.5,\"symbol\":\"circle\"},\"mode\":\"markers\",\"name\":\"OWID_KOS\",\"showlegend\":true,\"type\":\"scattergeo\"},{\"geo\":\"geo\",\"hovertemplate\":\"iso_code=%{location}<br>total_vaccinations=%{marker.size}<extra></extra>\",\"legendgroup\":\"OWID_NIR\",\"locations\":[\"OWID_NIR\"],\"marker\":{\"color\":\"#00cc96\",\"size\":[2362361.0],\"sizemode\":\"area\",\"sizeref\":4634597.5,\"symbol\":\"circle\"},\"mode\":\"markers\",\"name\":\"OWID_NIR\",\"showlegend\":true,\"type\":\"scattergeo\"},{\"geo\":\"geo\",\"hovertemplate\":\"iso_code=%{location}<br>total_vaccinations=%{marker.size}<extra></extra>\",\"legendgroup\":\"OWID_SCT\",\"locations\":[\"OWID_SCT\"],\"marker\":{\"color\":\"#ab63fa\",\"size\":[7481073.0],\"sizemode\":\"area\",\"sizeref\":4634597.5,\"symbol\":\"circle\"},\"mode\":\"markers\",\"name\":\"OWID_SCT\",\"showlegend\":true,\"type\":\"scattergeo\"},{\"geo\":\"geo\",\"hovertemplate\":\"iso_code=%{location}<br>total_vaccinations=%{marker.size}<extra></extra>\",\"legendgroup\":\"OWID_WLS\",\"locations\":[\"OWID_WLS\"],\"marker\":{\"color\":\"#FFA15A\",\"size\":[4443014.0],\"sizemode\":\"area\",\"sizeref\":4634597.5,\"symbol\":\"circle\"},\"mode\":\"markers\",\"name\":\"OWID_WLS\",\"showlegend\":true,\"type\":\"scattergeo\"},{\"geo\":\"geo\",\"hovertemplate\":\"iso_code=%{location}<br>total_vaccinations=%{marker.size}<extra></extra>\",\"legendgroup\":\"PAK\",\"locations\":[\"PAK\"],\"marker\":{\"color\":\"#19d3f3\",\"size\":[42173424.0],\"sizemode\":\"area\",\"sizeref\":4634597.5,\"symbol\":\"circle\"},\"mode\":\"markers\",\"name\":\"PAK\",\"showlegend\":true,\"type\":\"scattergeo\"},{\"geo\":\"geo\",\"hovertemplate\":\"iso_code=%{location}<br>total_vaccinations=%{marker.size}<extra></extra>\",\"legendgroup\":\"PAN\",\"locations\":[\"PAN\"],\"marker\":{\"color\":\"#FF6692\",\"size\":[3292229.0],\"sizemode\":\"area\",\"sizeref\":4634597.5,\"symbol\":\"circle\"},\"mode\":\"markers\",\"name\":\"PAN\",\"showlegend\":true,\"type\":\"scattergeo\"},{\"geo\":\"geo\",\"hovertemplate\":\"iso_code=%{location}<br>total_vaccinations=%{marker.size}<extra></extra>\",\"legendgroup\":\"PCN\",\"locations\":[\"PCN\"],\"marker\":{\"color\":\"#B6E880\",\"size\":[83.0],\"sizemode\":\"area\",\"sizeref\":4634597.5,\"symbol\":\"circle\"},\"mode\":\"markers\",\"name\":\"PCN\",\"showlegend\":true,\"type\":\"scattergeo\"},{\"geo\":\"geo\",\"hovertemplate\":\"iso_code=%{location}<br>total_vaccinations=%{marker.size}<extra></extra>\",\"legendgroup\":\"PER\",\"locations\":[\"PER\"],\"marker\":{\"color\":\"#FF97FF\",\"size\":[15790785.0],\"sizemode\":\"area\",\"sizeref\":4634597.5,\"symbol\":\"circle\"},\"mode\":\"markers\",\"name\":\"PER\",\"showlegend\":true,\"type\":\"scattergeo\"},{\"geo\":\"geo\",\"hovertemplate\":\"iso_code=%{location}<br>total_vaccinations=%{marker.size}<extra></extra>\",\"legendgroup\":\"PHL\",\"locations\":[\"PHL\"],\"marker\":{\"color\":\"#FECB52\",\"size\":[26127502.0],\"sizemode\":\"area\",\"sizeref\":4634597.5,\"symbol\":\"circle\"},\"mode\":\"markers\",\"name\":\"PHL\",\"showlegend\":true,\"type\":\"scattergeo\"},{\"geo\":\"geo\",\"hovertemplate\":\"iso_code=%{location}<br>total_vaccinations=%{marker.size}<extra></extra>\",\"legendgroup\":\"PNG\",\"locations\":[\"PNG\"],\"marker\":{\"color\":\"#636efa\",\"size\":[100409.0],\"sizemode\":\"area\",\"sizeref\":4634597.5,\"symbol\":\"circle\"},\"mode\":\"markers\",\"name\":\"PNG\",\"showlegend\":true,\"type\":\"scattergeo\"},{\"geo\":\"geo\",\"hovertemplate\":\"iso_code=%{location}<br>total_vaccinations=%{marker.size}<extra></extra>\",\"legendgroup\":\"POL\",\"locations\":[\"POL\"],\"marker\":{\"color\":\"#EF553B\",\"size\":[35409730.0],\"sizemode\":\"area\",\"sizeref\":4634597.5,\"symbol\":\"circle\"},\"mode\":\"markers\",\"name\":\"POL\",\"showlegend\":true,\"type\":\"scattergeo\"},{\"geo\":\"geo\",\"hovertemplate\":\"iso_code=%{location}<br>total_vaccinations=%{marker.size}<extra></extra>\",\"legendgroup\":\"PRT\",\"locations\":[\"PRT\"],\"marker\":{\"color\":\"#00cc96\",\"size\":[13426233.0],\"sizemode\":\"area\",\"sizeref\":4634597.5,\"symbol\":\"circle\"},\"mode\":\"markers\",\"name\":\"PRT\",\"showlegend\":true,\"type\":\"scattergeo\"},{\"geo\":\"geo\",\"hovertemplate\":\"iso_code=%{location}<br>total_vaccinations=%{marker.size}<extra></extra>\",\"legendgroup\":\"PRY\",\"locations\":[\"PRY\"],\"marker\":{\"color\":\"#ab63fa\",\"size\":[2214138.0],\"sizemode\":\"area\",\"sizeref\":4634597.5,\"symbol\":\"circle\"},\"mode\":\"markers\",\"name\":\"PRY\",\"showlegend\":true,\"type\":\"scattergeo\"},{\"geo\":\"geo\",\"hovertemplate\":\"iso_code=%{location}<br>total_vaccinations=%{marker.size}<extra></extra>\",\"legendgroup\":\"PSE\",\"locations\":[\"PSE\"],\"marker\":{\"color\":\"#FFA15A\",\"size\":[1053252.0],\"sizemode\":\"area\",\"sizeref\":4634597.5,\"symbol\":\"circle\"},\"mode\":\"markers\",\"name\":\"PSE\",\"showlegend\":true,\"type\":\"scattergeo\"},{\"geo\":\"geo\",\"hovertemplate\":\"iso_code=%{location}<br>total_vaccinations=%{marker.size}<extra></extra>\",\"legendgroup\":\"PYF\",\"locations\":[\"PYF\"],\"marker\":{\"color\":\"#19d3f3\",\"size\":[174127.0],\"sizemode\":\"area\",\"sizeref\":4634597.5,\"symbol\":\"circle\"},\"mode\":\"markers\",\"name\":\"PYF\",\"showlegend\":true,\"type\":\"scattergeo\"},{\"geo\":\"geo\",\"hovertemplate\":\"iso_code=%{location}<br>total_vaccinations=%{marker.size}<extra></extra>\",\"legendgroup\":\"QAT\",\"locations\":[\"QAT\"],\"marker\":{\"color\":\"#FF6692\",\"size\":[4076666.0],\"sizemode\":\"area\",\"sizeref\":4634597.5,\"symbol\":\"circle\"},\"mode\":\"markers\",\"name\":\"QAT\",\"showlegend\":true,\"type\":\"scattergeo\"},{\"geo\":\"geo\",\"hovertemplate\":\"iso_code=%{location}<br>total_vaccinations=%{marker.size}<extra></extra>\",\"legendgroup\":\"ROU\",\"locations\":[\"ROU\"],\"marker\":{\"color\":\"#B6E880\",\"size\":[9573496.0],\"sizemode\":\"area\",\"sizeref\":4634597.5,\"symbol\":\"circle\"},\"mode\":\"markers\",\"name\":\"ROU\",\"showlegend\":true,\"type\":\"scattergeo\"},{\"geo\":\"geo\",\"hovertemplate\":\"iso_code=%{location}<br>total_vaccinations=%{marker.size}<extra></extra>\",\"legendgroup\":\"RUS\",\"locations\":[\"RUS\"],\"marker\":{\"color\":\"#FF97FF\",\"size\":[72895650.0],\"sizemode\":\"area\",\"sizeref\":4634597.5,\"symbol\":\"circle\"},\"mode\":\"markers\",\"name\":\"RUS\",\"showlegend\":true,\"type\":\"scattergeo\"},{\"geo\":\"geo\",\"hovertemplate\":\"iso_code=%{location}<br>total_vaccinations=%{marker.size}<extra></extra>\",\"legendgroup\":\"RWA\",\"locations\":[\"RWA\"],\"marker\":{\"color\":\"#FECB52\",\"size\":[854194.0],\"sizemode\":\"area\",\"sizeref\":4634597.5,\"symbol\":\"circle\"},\"mode\":\"markers\",\"name\":\"RWA\",\"showlegend\":true,\"type\":\"scattergeo\"},{\"geo\":\"geo\",\"hovertemplate\":\"iso_code=%{location}<br>total_vaccinations=%{marker.size}<extra></extra>\",\"legendgroup\":\"SAU\",\"locations\":[\"SAU\"],\"marker\":{\"color\":\"#636efa\",\"size\":[31654206.0],\"sizemode\":\"area\",\"sizeref\":4634597.5,\"symbol\":\"circle\"},\"mode\":\"markers\",\"name\":\"SAU\",\"showlegend\":true,\"type\":\"scattergeo\"},{\"geo\":\"geo\",\"hovertemplate\":\"iso_code=%{location}<br>total_vaccinations=%{marker.size}<extra></extra>\",\"legendgroup\":\"SDN\",\"locations\":[\"SDN\"],\"marker\":{\"color\":\"#EF553B\",\"size\":[823881.0],\"sizemode\":\"area\",\"sizeref\":4634597.5,\"symbol\":\"circle\"},\"mode\":\"markers\",\"name\":\"SDN\",\"showlegend\":true,\"type\":\"scattergeo\"},{\"geo\":\"geo\",\"hovertemplate\":\"iso_code=%{location}<br>total_vaccinations=%{marker.size}<extra></extra>\",\"legendgroup\":\"SEN\",\"locations\":[\"SEN\"],\"marker\":{\"color\":\"#00cc96\",\"size\":[1360095.0],\"sizemode\":\"area\",\"sizeref\":4634597.5,\"symbol\":\"circle\"},\"mode\":\"markers\",\"name\":\"SEN\",\"showlegend\":true,\"type\":\"scattergeo\"},{\"geo\":\"geo\",\"hovertemplate\":\"iso_code=%{location}<br>total_vaccinations=%{marker.size}<extra></extra>\",\"legendgroup\":\"SGP\",\"locations\":[\"SGP\"],\"marker\":{\"color\":\"#ab63fa\",\"size\":[8429249.0],\"sizemode\":\"area\",\"sizeref\":4634597.5,\"symbol\":\"circle\"},\"mode\":\"markers\",\"name\":\"SGP\",\"showlegend\":true,\"type\":\"scattergeo\"},{\"geo\":\"geo\",\"hovertemplate\":\"iso_code=%{location}<br>total_vaccinations=%{marker.size}<extra></extra>\",\"legendgroup\":\"SHN\",\"locations\":[\"SHN\"],\"marker\":{\"color\":\"#FFA15A\",\"size\":[7892.0],\"sizemode\":\"area\",\"sizeref\":4634597.5,\"symbol\":\"circle\"},\"mode\":\"markers\",\"name\":\"SHN\",\"showlegend\":true,\"type\":\"scattergeo\"},{\"geo\":\"geo\",\"hovertemplate\":\"iso_code=%{location}<br>total_vaccinations=%{marker.size}<extra></extra>\",\"legendgroup\":\"SLB\",\"locations\":[\"SLB\"],\"marker\":{\"color\":\"#19d3f3\",\"size\":[56621.0],\"sizemode\":\"area\",\"sizeref\":4634597.5,\"symbol\":\"circle\"},\"mode\":\"markers\",\"name\":\"SLB\",\"showlegend\":true,\"type\":\"scattergeo\"},{\"geo\":\"geo\",\"hovertemplate\":\"iso_code=%{location}<br>total_vaccinations=%{marker.size}<extra></extra>\",\"legendgroup\":\"SLE\",\"locations\":[\"SLE\"],\"marker\":{\"color\":\"#FF6692\",\"size\":[225380.0],\"sizemode\":\"area\",\"sizeref\":4634597.5,\"symbol\":\"circle\"},\"mode\":\"markers\",\"name\":\"SLE\",\"showlegend\":true,\"type\":\"scattergeo\"},{\"geo\":\"geo\",\"hovertemplate\":\"iso_code=%{location}<br>total_vaccinations=%{marker.size}<extra></extra>\",\"legendgroup\":\"SLV\",\"locations\":[\"SLV\"],\"marker\":{\"color\":\"#B6E880\",\"size\":[5143912.0],\"sizemode\":\"area\",\"sizeref\":4634597.5,\"symbol\":\"circle\"},\"mode\":\"markers\",\"name\":\"SLV\",\"showlegend\":true,\"type\":\"scattergeo\"},{\"geo\":\"geo\",\"hovertemplate\":\"iso_code=%{location}<br>total_vaccinations=%{marker.size}<extra></extra>\",\"legendgroup\":\"SMR\",\"locations\":[\"SMR\"],\"marker\":{\"color\":\"#FF97FF\",\"size\":[46057.0],\"sizemode\":\"area\",\"sizeref\":4634597.5,\"symbol\":\"circle\"},\"mode\":\"markers\",\"name\":\"SMR\",\"showlegend\":true,\"type\":\"scattergeo\"},{\"geo\":\"geo\",\"hovertemplate\":\"iso_code=%{location}<br>total_vaccinations=%{marker.size}<extra></extra>\",\"legendgroup\":\"SOM\",\"locations\":[\"SOM\"],\"marker\":{\"color\":\"#FECB52\",\"size\":[279869.0],\"sizemode\":\"area\",\"sizeref\":4634597.5,\"symbol\":\"circle\"},\"mode\":\"markers\",\"name\":\"SOM\",\"showlegend\":true,\"type\":\"scattergeo\"},{\"geo\":\"geo\",\"hovertemplate\":\"iso_code=%{location}<br>total_vaccinations=%{marker.size}<extra></extra>\",\"legendgroup\":\"SRB\",\"locations\":[\"SRB\"],\"marker\":{\"color\":\"#636efa\",\"size\":[5626081.0],\"sizemode\":\"area\",\"sizeref\":4634597.5,\"symbol\":\"circle\"},\"mode\":\"markers\",\"name\":\"SRB\",\"showlegend\":true,\"type\":\"scattergeo\"},{\"geo\":\"geo\",\"hovertemplate\":\"iso_code=%{location}<br>total_vaccinations=%{marker.size}<extra></extra>\",\"legendgroup\":\"SSD\",\"locations\":[\"SSD\"],\"marker\":{\"color\":\"#EF553B\",\"size\":[56989.0],\"sizemode\":\"area\",\"sizeref\":4634597.5,\"symbol\":\"circle\"},\"mode\":\"markers\",\"name\":\"SSD\",\"showlegend\":true,\"type\":\"scattergeo\"},{\"geo\":\"geo\",\"hovertemplate\":\"iso_code=%{location}<br>total_vaccinations=%{marker.size}<extra></extra>\",\"legendgroup\":\"STP\",\"locations\":[\"STP\"],\"marker\":{\"color\":\"#00cc96\",\"size\":[43978.0],\"sizemode\":\"area\",\"sizeref\":4634597.5,\"symbol\":\"circle\"},\"mode\":\"markers\",\"name\":\"STP\",\"showlegend\":true,\"type\":\"scattergeo\"},{\"geo\":\"geo\",\"hovertemplate\":\"iso_code=%{location}<br>total_vaccinations=%{marker.size}<extra></extra>\",\"legendgroup\":\"SUR\",\"locations\":[\"SUR\"],\"marker\":{\"color\":\"#ab63fa\",\"size\":[275723.0],\"sizemode\":\"area\",\"sizeref\":4634597.5,\"symbol\":\"circle\"},\"mode\":\"markers\",\"name\":\"SUR\",\"showlegend\":true,\"type\":\"scattergeo\"},{\"geo\":\"geo\",\"hovertemplate\":\"iso_code=%{location}<br>total_vaccinations=%{marker.size}<extra></extra>\",\"legendgroup\":\"SVK\",\"locations\":[\"SVK\"],\"marker\":{\"color\":\"#FFA15A\",\"size\":[4390776.0],\"sizemode\":\"area\",\"sizeref\":4634597.5,\"symbol\":\"circle\"},\"mode\":\"markers\",\"name\":\"SVK\",\"showlegend\":true,\"type\":\"scattergeo\"},{\"geo\":\"geo\",\"hovertemplate\":\"iso_code=%{location}<br>total_vaccinations=%{marker.size}<extra></extra>\",\"legendgroup\":\"SVN\",\"locations\":[\"SVN\"],\"marker\":{\"color\":\"#19d3f3\",\"size\":[1805223.0],\"sizemode\":\"area\",\"sizeref\":4634597.5,\"symbol\":\"circle\"},\"mode\":\"markers\",\"name\":\"SVN\",\"showlegend\":true,\"type\":\"scattergeo\"},{\"geo\":\"geo\",\"hovertemplate\":\"iso_code=%{location}<br>total_vaccinations=%{marker.size}<extra></extra>\",\"legendgroup\":\"SWE\",\"locations\":[\"SWE\"],\"marker\":{\"color\":\"#FF6692\",\"size\":[11431885.0],\"sizemode\":\"area\",\"sizeref\":4634597.5,\"symbol\":\"circle\"},\"mode\":\"markers\",\"name\":\"SWE\",\"showlegend\":true,\"type\":\"scattergeo\"},{\"geo\":\"geo\",\"hovertemplate\":\"iso_code=%{location}<br>total_vaccinations=%{marker.size}<extra></extra>\",\"legendgroup\":\"SWZ\",\"locations\":[\"SWZ\"],\"marker\":{\"color\":\"#B6E880\",\"size\":[181290.0],\"sizemode\":\"area\",\"sizeref\":4634597.5,\"symbol\":\"circle\"},\"mode\":\"markers\",\"name\":\"SWZ\",\"showlegend\":true,\"type\":\"scattergeo\"},{\"geo\":\"geo\",\"hovertemplate\":\"iso_code=%{location}<br>total_vaccinations=%{marker.size}<extra></extra>\",\"legendgroup\":\"SXM\",\"locations\":[\"SXM\"],\"marker\":{\"color\":\"#FF97FF\",\"size\":[46616.0],\"sizemode\":\"area\",\"sizeref\":4634597.5,\"symbol\":\"circle\"},\"mode\":\"markers\",\"name\":\"SXM\",\"showlegend\":true,\"type\":\"scattergeo\"},{\"geo\":\"geo\",\"hovertemplate\":\"iso_code=%{location}<br>total_vaccinations=%{marker.size}<extra></extra>\",\"legendgroup\":\"SYC\",\"locations\":[\"SYC\"],\"marker\":{\"color\":\"#FECB52\",\"size\":[141435.0],\"sizemode\":\"area\",\"sizeref\":4634597.5,\"symbol\":\"circle\"},\"mode\":\"markers\",\"name\":\"SYC\",\"showlegend\":true,\"type\":\"scattergeo\"},{\"geo\":\"geo\",\"hovertemplate\":\"iso_code=%{location}<br>total_vaccinations=%{marker.size}<extra></extra>\",\"legendgroup\":\"SYR\",\"locations\":[\"SYR\"],\"marker\":{\"color\":\"#636efa\",\"size\":[355000.0],\"sizemode\":\"area\",\"sizeref\":4634597.5,\"symbol\":\"circle\"},\"mode\":\"markers\",\"name\":\"SYR\",\"showlegend\":true,\"type\":\"scattergeo\"},{\"geo\":\"geo\",\"hovertemplate\":\"iso_code=%{location}<br>total_vaccinations=%{marker.size}<extra></extra>\",\"legendgroup\":\"TCA\",\"locations\":[\"TCA\"],\"marker\":{\"color\":\"#EF553B\",\"size\":[47263.0],\"sizemode\":\"area\",\"sizeref\":4634597.5,\"symbol\":\"circle\"},\"mode\":\"markers\",\"name\":\"TCA\",\"showlegend\":true,\"type\":\"scattergeo\"},{\"geo\":\"geo\",\"hovertemplate\":\"iso_code=%{location}<br>total_vaccinations=%{marker.size}<extra></extra>\",\"legendgroup\":\"TCD\",\"locations\":[\"TCD\"],\"marker\":{\"color\":\"#00cc96\",\"size\":[40649.0],\"sizemode\":\"area\",\"sizeref\":4634597.5,\"symbol\":\"circle\"},\"mode\":\"markers\",\"name\":\"TCD\",\"showlegend\":true,\"type\":\"scattergeo\"},{\"geo\":\"geo\",\"hovertemplate\":\"iso_code=%{location}<br>total_vaccinations=%{marker.size}<extra></extra>\",\"legendgroup\":\"TGO\",\"locations\":[\"TGO\"],\"marker\":{\"color\":\"#ab63fa\",\"size\":[474776.0],\"sizemode\":\"area\",\"sizeref\":4634597.5,\"symbol\":\"circle\"},\"mode\":\"markers\",\"name\":\"TGO\",\"showlegend\":true,\"type\":\"scattergeo\"},{\"geo\":\"geo\",\"hovertemplate\":\"iso_code=%{location}<br>total_vaccinations=%{marker.size}<extra></extra>\",\"legendgroup\":\"THA\",\"locations\":[\"THA\"],\"marker\":{\"color\":\"#FFA15A\",\"size\":[23192491.0],\"sizemode\":\"area\",\"sizeref\":4634597.5,\"symbol\":\"circle\"},\"mode\":\"markers\",\"name\":\"THA\",\"showlegend\":true,\"type\":\"scattergeo\"},{\"geo\":\"geo\",\"hovertemplate\":\"iso_code=%{location}<br>total_vaccinations=%{marker.size}<extra></extra>\",\"legendgroup\":\"TJK\",\"locations\":[\"TJK\"],\"marker\":{\"color\":\"#19d3f3\",\"size\":[1671475.0],\"sizemode\":\"area\",\"sizeref\":4634597.5,\"symbol\":\"circle\"},\"mode\":\"markers\",\"name\":\"TJK\",\"showlegend\":true,\"type\":\"scattergeo\"},{\"geo\":\"geo\",\"hovertemplate\":\"iso_code=%{location}<br>total_vaccinations=%{marker.size}<extra></extra>\",\"legendgroup\":\"TKL\",\"locations\":[\"TKL\"],\"marker\":{\"color\":\"#FF6692\",\"size\":[953.0],\"sizemode\":\"area\",\"sizeref\":4634597.5,\"symbol\":\"circle\"},\"mode\":\"markers\",\"name\":\"TKL\",\"showlegend\":true,\"type\":\"scattergeo\"},{\"geo\":\"geo\",\"hovertemplate\":\"iso_code=%{location}<br>total_vaccinations=%{marker.size}<extra></extra>\",\"legendgroup\":\"TKM\",\"locations\":[\"TKM\"],\"marker\":{\"color\":\"#B6E880\",\"size\":[41993.0],\"sizemode\":\"area\",\"sizeref\":4634597.5,\"symbol\":\"circle\"},\"mode\":\"markers\",\"name\":\"TKM\",\"showlegend\":true,\"type\":\"scattergeo\"},{\"geo\":\"geo\",\"hovertemplate\":\"iso_code=%{location}<br>total_vaccinations=%{marker.size}<extra></extra>\",\"legendgroup\":\"TLS\",\"locations\":[\"TLS\"],\"marker\":{\"color\":\"#FF97FF\",\"size\":[443729.0],\"sizemode\":\"area\",\"sizeref\":4634597.5,\"symbol\":\"circle\"},\"mode\":\"markers\",\"name\":\"TLS\",\"showlegend\":true,\"type\":\"scattergeo\"},{\"geo\":\"geo\",\"hovertemplate\":\"iso_code=%{location}<br>total_vaccinations=%{marker.size}<extra></extra>\",\"legendgroup\":\"TON\",\"locations\":[\"TON\"],\"marker\":{\"color\":\"#FECB52\",\"size\":[47553.0],\"sizemode\":\"area\",\"sizeref\":4634597.5,\"symbol\":\"circle\"},\"mode\":\"markers\",\"name\":\"TON\",\"showlegend\":true,\"type\":\"scattergeo\"},{\"geo\":\"geo\",\"hovertemplate\":\"iso_code=%{location}<br>total_vaccinations=%{marker.size}<extra></extra>\",\"legendgroup\":\"TTO\",\"locations\":[\"TTO\"],\"marker\":{\"color\":\"#636efa\",\"size\":[741984.0],\"sizemode\":\"area\",\"sizeref\":4634597.5,\"symbol\":\"circle\"},\"mode\":\"markers\",\"name\":\"TTO\",\"showlegend\":true,\"type\":\"scattergeo\"},{\"geo\":\"geo\",\"hovertemplate\":\"iso_code=%{location}<br>total_vaccinations=%{marker.size}<extra></extra>\",\"legendgroup\":\"TUN\",\"locations\":[\"TUN\"],\"marker\":{\"color\":\"#EF553B\",\"size\":[4075678.0],\"sizemode\":\"area\",\"sizeref\":4634597.5,\"symbol\":\"circle\"},\"mode\":\"markers\",\"name\":\"TUN\",\"showlegend\":true,\"type\":\"scattergeo\"},{\"geo\":\"geo\",\"hovertemplate\":\"iso_code=%{location}<br>total_vaccinations=%{marker.size}<extra></extra>\",\"legendgroup\":\"TUR\",\"locations\":[\"TUR\"],\"marker\":{\"color\":\"#00cc96\",\"size\":[82865497.0],\"sizemode\":\"area\",\"sizeref\":4634597.5,\"symbol\":\"circle\"},\"mode\":\"markers\",\"name\":\"TUR\",\"showlegend\":true,\"type\":\"scattergeo\"},{\"geo\":\"geo\",\"hovertemplate\":\"iso_code=%{location}<br>total_vaccinations=%{marker.size}<extra></extra>\",\"legendgroup\":\"TUV\",\"locations\":[\"TUV\"],\"marker\":{\"color\":\"#ab63fa\",\"size\":[4772.0],\"sizemode\":\"area\",\"sizeref\":4634597.5,\"symbol\":\"circle\"},\"mode\":\"markers\",\"name\":\"TUV\",\"showlegend\":true,\"type\":\"scattergeo\"},{\"geo\":\"geo\",\"hovertemplate\":\"iso_code=%{location}<br>total_vaccinations=%{marker.size}<extra></extra>\",\"legendgroup\":\"TWN\",\"locations\":[\"TWN\"],\"marker\":{\"color\":\"#FFA15A\",\"size\":[9749241.0],\"sizemode\":\"area\",\"sizeref\":4634597.5,\"symbol\":\"circle\"},\"mode\":\"markers\",\"name\":\"TWN\",\"showlegend\":true,\"type\":\"scattergeo\"},{\"geo\":\"geo\",\"hovertemplate\":\"iso_code=%{location}<br>total_vaccinations=%{marker.size}<extra></extra>\",\"legendgroup\":\"TZA\",\"locations\":[\"TZA\"],\"marker\":{\"color\":\"#19d3f3\",\"size\":[105745.0],\"sizemode\":\"area\",\"sizeref\":4634597.5,\"symbol\":\"circle\"},\"mode\":\"markers\",\"name\":\"TZA\",\"showlegend\":true,\"type\":\"scattergeo\"},{\"geo\":\"geo\",\"hovertemplate\":\"iso_code=%{location}<br>total_vaccinations=%{marker.size}<extra></extra>\",\"legendgroup\":\"UGA\",\"locations\":[\"UGA\"],\"marker\":{\"color\":\"#FF6692\",\"size\":[1155265.0],\"sizemode\":\"area\",\"sizeref\":4634597.5,\"symbol\":\"circle\"},\"mode\":\"markers\",\"name\":\"UGA\",\"showlegend\":true,\"type\":\"scattergeo\"},{\"geo\":\"geo\",\"hovertemplate\":\"iso_code=%{location}<br>total_vaccinations=%{marker.size}<extra></extra>\",\"legendgroup\":\"UKR\",\"locations\":[\"UKR\"],\"marker\":{\"color\":\"#B6E880\",\"size\":[7409698.0],\"sizemode\":\"area\",\"sizeref\":4634597.5,\"symbol\":\"circle\"},\"mode\":\"markers\",\"name\":\"UKR\",\"showlegend\":true,\"type\":\"scattergeo\"},{\"geo\":\"geo\",\"hovertemplate\":\"iso_code=%{location}<br>total_vaccinations=%{marker.size}<extra></extra>\",\"legendgroup\":\"URY\",\"locations\":[\"URY\"],\"marker\":{\"color\":\"#FF97FF\",\"size\":[5016447.0],\"sizemode\":\"area\",\"sizeref\":4634597.5,\"symbol\":\"circle\"},\"mode\":\"markers\",\"name\":\"URY\",\"showlegend\":true,\"type\":\"scattergeo\"},{\"geo\":\"geo\",\"hovertemplate\":\"iso_code=%{location}<br>total_vaccinations=%{marker.size}<extra></extra>\",\"legendgroup\":\"USA\",\"locations\":[\"USA\"],\"marker\":{\"color\":\"#FECB52\",\"size\":[355768825.0],\"sizemode\":\"area\",\"sizeref\":4634597.5,\"symbol\":\"circle\"},\"mode\":\"markers\",\"name\":\"USA\",\"showlegend\":true,\"type\":\"scattergeo\"},{\"geo\":\"geo\",\"hovertemplate\":\"iso_code=%{location}<br>total_vaccinations=%{marker.size}<extra></extra>\",\"legendgroup\":\"UZB\",\"locations\":[\"UZB\"],\"marker\":{\"color\":\"#636efa\",\"size\":[11382468.0],\"sizemode\":\"area\",\"sizeref\":4634597.5,\"symbol\":\"circle\"},\"mode\":\"markers\",\"name\":\"UZB\",\"showlegend\":true,\"type\":\"scattergeo\"},{\"geo\":\"geo\",\"hovertemplate\":\"iso_code=%{location}<br>total_vaccinations=%{marker.size}<extra></extra>\",\"legendgroup\":\"VCT\",\"locations\":[\"VCT\"],\"marker\":{\"color\":\"#EF553B\",\"size\":[25796.0],\"sizemode\":\"area\",\"sizeref\":4634597.5,\"symbol\":\"circle\"},\"mode\":\"markers\",\"name\":\"VCT\",\"showlegend\":true,\"type\":\"scattergeo\"},{\"geo\":\"geo\",\"hovertemplate\":\"iso_code=%{location}<br>total_vaccinations=%{marker.size}<extra></extra>\",\"legendgroup\":\"VEN\",\"locations\":[\"VEN\"],\"marker\":{\"color\":\"#00cc96\",\"size\":[4000000.0],\"sizemode\":\"area\",\"sizeref\":4634597.5,\"symbol\":\"circle\"},\"mode\":\"markers\",\"name\":\"VEN\",\"showlegend\":true,\"type\":\"scattergeo\"},{\"geo\":\"geo\",\"hovertemplate\":\"iso_code=%{location}<br>total_vaccinations=%{marker.size}<extra></extra>\",\"legendgroup\":\"VGB\",\"locations\":[\"VGB\"],\"marker\":{\"color\":\"#ab63fa\",\"size\":[28777.0],\"sizemode\":\"area\",\"sizeref\":4634597.5,\"symbol\":\"circle\"},\"mode\":\"markers\",\"name\":\"VGB\",\"showlegend\":true,\"type\":\"scattergeo\"},{\"geo\":\"geo\",\"hovertemplate\":\"iso_code=%{location}<br>total_vaccinations=%{marker.size}<extra></extra>\",\"legendgroup\":\"VNM\",\"locations\":[\"VNM\"],\"marker\":{\"color\":\"#FFA15A\",\"size\":[13772920.0],\"sizemode\":\"area\",\"sizeref\":4634597.5,\"symbol\":\"circle\"},\"mode\":\"markers\",\"name\":\"VNM\",\"showlegend\":true,\"type\":\"scattergeo\"},{\"geo\":\"geo\",\"hovertemplate\":\"iso_code=%{location}<br>total_vaccinations=%{marker.size}<extra></extra>\",\"legendgroup\":\"VUT\",\"locations\":[\"VUT\"],\"marker\":{\"color\":\"#19d3f3\",\"size\":[23995.0],\"sizemode\":\"area\",\"sizeref\":4634597.5,\"symbol\":\"circle\"},\"mode\":\"markers\",\"name\":\"VUT\",\"showlegend\":true,\"type\":\"scattergeo\"},{\"geo\":\"geo\",\"hovertemplate\":\"iso_code=%{location}<br>total_vaccinations=%{marker.size}<extra></extra>\",\"legendgroup\":\"WLF\",\"locations\":[\"WLF\"],\"marker\":{\"color\":\"#FF6692\",\"size\":[9439.0],\"sizemode\":\"area\",\"sizeref\":4634597.5,\"symbol\":\"circle\"},\"mode\":\"markers\",\"name\":\"WLF\",\"showlegend\":true,\"type\":\"scattergeo\"},{\"geo\":\"geo\",\"hovertemplate\":\"iso_code=%{location}<br>total_vaccinations=%{marker.size}<extra></extra>\",\"legendgroup\":\"WSM\",\"locations\":[\"WSM\"],\"marker\":{\"color\":\"#B6E880\",\"size\":[100610.0],\"sizemode\":\"area\",\"sizeref\":4634597.5,\"symbol\":\"circle\"},\"mode\":\"markers\",\"name\":\"WSM\",\"showlegend\":true,\"type\":\"scattergeo\"},{\"geo\":\"geo\",\"hovertemplate\":\"iso_code=%{location}<br>total_vaccinations=%{marker.size}<extra></extra>\",\"legendgroup\":\"YEM\",\"locations\":[\"YEM\"],\"marker\":{\"color\":\"#FF97FF\",\"size\":[311483.0],\"sizemode\":\"area\",\"sizeref\":4634597.5,\"symbol\":\"circle\"},\"mode\":\"markers\",\"name\":\"YEM\",\"showlegend\":true,\"type\":\"scattergeo\"},{\"geo\":\"geo\",\"hovertemplate\":\"iso_code=%{location}<br>total_vaccinations=%{marker.size}<extra></extra>\",\"legendgroup\":\"ZAF\",\"locations\":[\"ZAF\"],\"marker\":{\"color\":\"#FECB52\",\"size\":[9185756.0],\"sizemode\":\"area\",\"sizeref\":4634597.5,\"symbol\":\"circle\"},\"mode\":\"markers\",\"name\":\"ZAF\",\"showlegend\":true,\"type\":\"scattergeo\"},{\"geo\":\"geo\",\"hovertemplate\":\"iso_code=%{location}<br>total_vaccinations=%{marker.size}<extra></extra>\",\"legendgroup\":\"ZMB\",\"locations\":[\"ZMB\"],\"marker\":{\"color\":\"#636efa\",\"size\":[520283.0],\"sizemode\":\"area\",\"sizeref\":4634597.5,\"symbol\":\"circle\"},\"mode\":\"markers\",\"name\":\"ZMB\",\"showlegend\":true,\"type\":\"scattergeo\"},{\"geo\":\"geo\",\"hovertemplate\":\"iso_code=%{location}<br>total_vaccinations=%{marker.size}<extra></extra>\",\"legendgroup\":\"ZWE\",\"locations\":[\"ZWE\"],\"marker\":{\"color\":\"#EF553B\",\"size\":[3193256.0],\"sizemode\":\"area\",\"sizeref\":4634597.5,\"symbol\":\"circle\"},\"mode\":\"markers\",\"name\":\"ZWE\",\"showlegend\":true,\"type\":\"scattergeo\"}],                        {\"geo\":{\"center\":{},\"domain\":{\"x\":[0.0,1.0],\"y\":[0.0,1.0]},\"projection\":{\"type\":\"mercator\"}},\"legend\":{\"itemsizing\":\"constant\",\"title\":{\"text\":\"iso_code\"},\"tracegroupgap\":0},\"template\":{\"data\":{\"bar\":[{\"error_x\":{\"color\":\"#2a3f5f\"},\"error_y\":{\"color\":\"#2a3f5f\"},\"marker\":{\"line\":{\"color\":\"#E5ECF6\",\"width\":0.5},\"pattern\":{\"fillmode\":\"overlay\",\"size\":10,\"solidity\":0.2}},\"type\":\"bar\"}],\"barpolar\":[{\"marker\":{\"line\":{\"color\":\"#E5ECF6\",\"width\":0.5},\"pattern\":{\"fillmode\":\"overlay\",\"size\":10,\"solidity\":0.2}},\"type\":\"barpolar\"}],\"carpet\":[{\"aaxis\":{\"endlinecolor\":\"#2a3f5f\",\"gridcolor\":\"white\",\"linecolor\":\"white\",\"minorgridcolor\":\"white\",\"startlinecolor\":\"#2a3f5f\"},\"baxis\":{\"endlinecolor\":\"#2a3f5f\",\"gridcolor\":\"white\",\"linecolor\":\"white\",\"minorgridcolor\":\"white\",\"startlinecolor\":\"#2a3f5f\"},\"type\":\"carpet\"}],\"choropleth\":[{\"colorbar\":{\"outlinewidth\":0,\"ticks\":\"\"},\"type\":\"choropleth\"}],\"contour\":[{\"colorbar\":{\"outlinewidth\":0,\"ticks\":\"\"},\"colorscale\":[[0.0,\"#0d0887\"],[0.1111111111111111,\"#46039f\"],[0.2222222222222222,\"#7201a8\"],[0.3333333333333333,\"#9c179e\"],[0.4444444444444444,\"#bd3786\"],[0.5555555555555556,\"#d8576b\"],[0.6666666666666666,\"#ed7953\"],[0.7777777777777778,\"#fb9f3a\"],[0.8888888888888888,\"#fdca26\"],[1.0,\"#f0f921\"]],\"type\":\"contour\"}],\"contourcarpet\":[{\"colorbar\":{\"outlinewidth\":0,\"ticks\":\"\"},\"type\":\"contourcarpet\"}],\"heatmap\":[{\"colorbar\":{\"outlinewidth\":0,\"ticks\":\"\"},\"colorscale\":[[0.0,\"#0d0887\"],[0.1111111111111111,\"#46039f\"],[0.2222222222222222,\"#7201a8\"],[0.3333333333333333,\"#9c179e\"],[0.4444444444444444,\"#bd3786\"],[0.5555555555555556,\"#d8576b\"],[0.6666666666666666,\"#ed7953\"],[0.7777777777777778,\"#fb9f3a\"],[0.8888888888888888,\"#fdca26\"],[1.0,\"#f0f921\"]],\"type\":\"heatmap\"}],\"heatmapgl\":[{\"colorbar\":{\"outlinewidth\":0,\"ticks\":\"\"},\"colorscale\":[[0.0,\"#0d0887\"],[0.1111111111111111,\"#46039f\"],[0.2222222222222222,\"#7201a8\"],[0.3333333333333333,\"#9c179e\"],[0.4444444444444444,\"#bd3786\"],[0.5555555555555556,\"#d8576b\"],[0.6666666666666666,\"#ed7953\"],[0.7777777777777778,\"#fb9f3a\"],[0.8888888888888888,\"#fdca26\"],[1.0,\"#f0f921\"]],\"type\":\"heatmapgl\"}],\"histogram\":[{\"marker\":{\"pattern\":{\"fillmode\":\"overlay\",\"size\":10,\"solidity\":0.2}},\"type\":\"histogram\"}],\"histogram2d\":[{\"colorbar\":{\"outlinewidth\":0,\"ticks\":\"\"},\"colorscale\":[[0.0,\"#0d0887\"],[0.1111111111111111,\"#46039f\"],[0.2222222222222222,\"#7201a8\"],[0.3333333333333333,\"#9c179e\"],[0.4444444444444444,\"#bd3786\"],[0.5555555555555556,\"#d8576b\"],[0.6666666666666666,\"#ed7953\"],[0.7777777777777778,\"#fb9f3a\"],[0.8888888888888888,\"#fdca26\"],[1.0,\"#f0f921\"]],\"type\":\"histogram2d\"}],\"histogram2dcontour\":[{\"colorbar\":{\"outlinewidth\":0,\"ticks\":\"\"},\"colorscale\":[[0.0,\"#0d0887\"],[0.1111111111111111,\"#46039f\"],[0.2222222222222222,\"#7201a8\"],[0.3333333333333333,\"#9c179e\"],[0.4444444444444444,\"#bd3786\"],[0.5555555555555556,\"#d8576b\"],[0.6666666666666666,\"#ed7953\"],[0.7777777777777778,\"#fb9f3a\"],[0.8888888888888888,\"#fdca26\"],[1.0,\"#f0f921\"]],\"type\":\"histogram2dcontour\"}],\"mesh3d\":[{\"colorbar\":{\"outlinewidth\":0,\"ticks\":\"\"},\"type\":\"mesh3d\"}],\"parcoords\":[{\"line\":{\"colorbar\":{\"outlinewidth\":0,\"ticks\":\"\"}},\"type\":\"parcoords\"}],\"pie\":[{\"automargin\":true,\"type\":\"pie\"}],\"scatter\":[{\"marker\":{\"colorbar\":{\"outlinewidth\":0,\"ticks\":\"\"}},\"type\":\"scatter\"}],\"scatter3d\":[{\"line\":{\"colorbar\":{\"outlinewidth\":0,\"ticks\":\"\"}},\"marker\":{\"colorbar\":{\"outlinewidth\":0,\"ticks\":\"\"}},\"type\":\"scatter3d\"}],\"scattercarpet\":[{\"marker\":{\"colorbar\":{\"outlinewidth\":0,\"ticks\":\"\"}},\"type\":\"scattercarpet\"}],\"scattergeo\":[{\"marker\":{\"colorbar\":{\"outlinewidth\":0,\"ticks\":\"\"}},\"type\":\"scattergeo\"}],\"scattergl\":[{\"marker\":{\"colorbar\":{\"outlinewidth\":0,\"ticks\":\"\"}},\"type\":\"scattergl\"}],\"scattermapbox\":[{\"marker\":{\"colorbar\":{\"outlinewidth\":0,\"ticks\":\"\"}},\"type\":\"scattermapbox\"}],\"scatterpolar\":[{\"marker\":{\"colorbar\":{\"outlinewidth\":0,\"ticks\":\"\"}},\"type\":\"scatterpolar\"}],\"scatterpolargl\":[{\"marker\":{\"colorbar\":{\"outlinewidth\":0,\"ticks\":\"\"}},\"type\":\"scatterpolargl\"}],\"scatterternary\":[{\"marker\":{\"colorbar\":{\"outlinewidth\":0,\"ticks\":\"\"}},\"type\":\"scatterternary\"}],\"surface\":[{\"colorbar\":{\"outlinewidth\":0,\"ticks\":\"\"},\"colorscale\":[[0.0,\"#0d0887\"],[0.1111111111111111,\"#46039f\"],[0.2222222222222222,\"#7201a8\"],[0.3333333333333333,\"#9c179e\"],[0.4444444444444444,\"#bd3786\"],[0.5555555555555556,\"#d8576b\"],[0.6666666666666666,\"#ed7953\"],[0.7777777777777778,\"#fb9f3a\"],[0.8888888888888888,\"#fdca26\"],[1.0,\"#f0f921\"]],\"type\":\"surface\"}],\"table\":[{\"cells\":{\"fill\":{\"color\":\"#EBF0F8\"},\"line\":{\"color\":\"white\"}},\"header\":{\"fill\":{\"color\":\"#C8D4E3\"},\"line\":{\"color\":\"white\"}},\"type\":\"table\"}]},\"layout\":{\"annotationdefaults\":{\"arrowcolor\":\"#2a3f5f\",\"arrowhead\":0,\"arrowwidth\":1},\"autotypenumbers\":\"strict\",\"coloraxis\":{\"colorbar\":{\"outlinewidth\":0,\"ticks\":\"\"}},\"colorscale\":{\"diverging\":[[0,\"#8e0152\"],[0.1,\"#c51b7d\"],[0.2,\"#de77ae\"],[0.3,\"#f1b6da\"],[0.4,\"#fde0ef\"],[0.5,\"#f7f7f7\"],[0.6,\"#e6f5d0\"],[0.7,\"#b8e186\"],[0.8,\"#7fbc41\"],[0.9,\"#4d9221\"],[1,\"#276419\"]],\"sequential\":[[0.0,\"#0d0887\"],[0.1111111111111111,\"#46039f\"],[0.2222222222222222,\"#7201a8\"],[0.3333333333333333,\"#9c179e\"],[0.4444444444444444,\"#bd3786\"],[0.5555555555555556,\"#d8576b\"],[0.6666666666666666,\"#ed7953\"],[0.7777777777777778,\"#fb9f3a\"],[0.8888888888888888,\"#fdca26\"],[1.0,\"#f0f921\"]],\"sequentialminus\":[[0.0,\"#0d0887\"],[0.1111111111111111,\"#46039f\"],[0.2222222222222222,\"#7201a8\"],[0.3333333333333333,\"#9c179e\"],[0.4444444444444444,\"#bd3786\"],[0.5555555555555556,\"#d8576b\"],[0.6666666666666666,\"#ed7953\"],[0.7777777777777778,\"#fb9f3a\"],[0.8888888888888888,\"#fdca26\"],[1.0,\"#f0f921\"]]},\"colorway\":[\"#636efa\",\"#EF553B\",\"#00cc96\",\"#ab63fa\",\"#FFA15A\",\"#19d3f3\",\"#FF6692\",\"#B6E880\",\"#FF97FF\",\"#FECB52\"],\"font\":{\"color\":\"#2a3f5f\"},\"geo\":{\"bgcolor\":\"white\",\"lakecolor\":\"white\",\"landcolor\":\"#E5ECF6\",\"showlakes\":true,\"showland\":true,\"subunitcolor\":\"white\"},\"hoverlabel\":{\"align\":\"left\"},\"hovermode\":\"closest\",\"mapbox\":{\"style\":\"light\"},\"paper_bgcolor\":\"white\",\"plot_bgcolor\":\"#E5ECF6\",\"polar\":{\"angularaxis\":{\"gridcolor\":\"white\",\"linecolor\":\"white\",\"ticks\":\"\"},\"bgcolor\":\"#E5ECF6\",\"radialaxis\":{\"gridcolor\":\"white\",\"linecolor\":\"white\",\"ticks\":\"\"}},\"scene\":{\"xaxis\":{\"backgroundcolor\":\"#E5ECF6\",\"gridcolor\":\"white\",\"gridwidth\":2,\"linecolor\":\"white\",\"showbackground\":true,\"ticks\":\"\",\"zerolinecolor\":\"white\"},\"yaxis\":{\"backgroundcolor\":\"#E5ECF6\",\"gridcolor\":\"white\",\"gridwidth\":2,\"linecolor\":\"white\",\"showbackground\":true,\"ticks\":\"\",\"zerolinecolor\":\"white\"},\"zaxis\":{\"backgroundcolor\":\"#E5ECF6\",\"gridcolor\":\"white\",\"gridwidth\":2,\"linecolor\":\"white\",\"showbackground\":true,\"ticks\":\"\",\"zerolinecolor\":\"white\"}},\"shapedefaults\":{\"line\":{\"color\":\"#2a3f5f\"}},\"ternary\":{\"aaxis\":{\"gridcolor\":\"white\",\"linecolor\":\"white\",\"ticks\":\"\"},\"baxis\":{\"gridcolor\":\"white\",\"linecolor\":\"white\",\"ticks\":\"\"},\"bgcolor\":\"#E5ECF6\",\"caxis\":{\"gridcolor\":\"white\",\"linecolor\":\"white\",\"ticks\":\"\"}},\"title\":{\"x\":0.05},\"xaxis\":{\"automargin\":true,\"gridcolor\":\"white\",\"linecolor\":\"white\",\"ticks\":\"\",\"title\":{\"standoff\":15},\"zerolinecolor\":\"white\",\"zerolinewidth\":2},\"yaxis\":{\"automargin\":true,\"gridcolor\":\"white\",\"linecolor\":\"white\",\"ticks\":\"\",\"title\":{\"standoff\":15},\"zerolinecolor\":\"white\",\"zerolinewidth\":2}}},\"title\":{\"text\":\"Total Vaccinations\"}},                        {\"responsive\": true}                    ).then(function(){\n",
       "                            \n",
       "var gd = document.getElementById('10659f3d-739c-4fac-990e-3bca53038d19');\n",
       "var x = new MutationObserver(function (mutations, observer) {{\n",
       "        var display = window.getComputedStyle(gd).display;\n",
       "        if (!display || display === 'none') {{\n",
       "            console.log([gd, 'removed!']);\n",
       "            Plotly.purge(gd);\n",
       "            observer.disconnect();\n",
       "        }}\n",
       "}});\n",
       "\n",
       "// Listen for the removal of the full notebook cells\n",
       "var notebookContainer = gd.closest('#notebook-container');\n",
       "if (notebookContainer) {{\n",
       "    x.observe(notebookContainer, {childList: true});\n",
       "}}\n",
       "\n",
       "// Listen for the clearing of the current output cell\n",
       "var outputEl = gd.closest('.output');\n",
       "if (outputEl) {{\n",
       "    x.observe(outputEl, {childList: true});\n",
       "}}\n",
       "\n",
       "                        })                };                });            </script>        </div>"
      ]
     },
     "metadata": {},
     "output_type": "display_data"
    }
   ],
   "source": [
    "vcn_geo = vcn.groupby('iso_code')['total_vaccinations','people_fully_vaccinated','people_vaccinated'].max().reset_index()\n",
    "vcn_geo = vcn_geo.fillna(0)\n",
    "fig = px.scatter_geo(vcn_geo, locations=\"iso_code\", color=\"iso_code\",\n",
    "                     size=\"total_vaccinations\",title=\"Total Vaccinations\",\n",
    "                     projection='mercator')\n",
    "fig.show()"
   ]
  },
  {
   "cell_type": "markdown",
   "metadata": {},
   "source": [
    "### Top 5 Countries in terms of Population Fully Vaccinated"
   ]
  },
  {
   "cell_type": "code",
   "execution_count": 31,
   "metadata": {
    "scrolled": true
   },
   "outputs": [
    {
     "data": {
      "text/html": [
       "<div>\n",
       "<style scoped>\n",
       "    .dataframe tbody tr th:only-of-type {\n",
       "        vertical-align: middle;\n",
       "    }\n",
       "\n",
       "    .dataframe tbody tr th {\n",
       "        vertical-align: top;\n",
       "    }\n",
       "\n",
       "    .dataframe thead th {\n",
       "        text-align: right;\n",
       "    }\n",
       "</style>\n",
       "<table border=\"1\" class=\"dataframe\">\n",
       "  <thead>\n",
       "    <tr style=\"text-align: right;\">\n",
       "      <th></th>\n",
       "      <th>index</th>\n",
       "      <th>country</th>\n",
       "      <th>2021_last_updated</th>\n",
       "      <th>country_vaccinations</th>\n",
       "      <th>people_fully_vaccinated</th>\n",
       "    </tr>\n",
       "  </thead>\n",
       "  <tbody>\n",
       "    <tr>\n",
       "      <th>34</th>\n",
       "      <td>36</td>\n",
       "      <td>China</td>\n",
       "      <td>1444712023</td>\n",
       "      <td>China</td>\n",
       "      <td>223299000</td>\n",
       "    </tr>\n",
       "    <tr>\n",
       "      <th>164</th>\n",
       "      <td>182</td>\n",
       "      <td>United States</td>\n",
       "      <td>333114077</td>\n",
       "      <td>United States</td>\n",
       "      <td>168090925</td>\n",
       "    </tr>\n",
       "    <tr>\n",
       "      <th>74</th>\n",
       "      <td>77</td>\n",
       "      <td>India</td>\n",
       "      <td>1394784323</td>\n",
       "      <td>India</td>\n",
       "      <td>121270889</td>\n",
       "    </tr>\n",
       "    <tr>\n",
       "      <th>23</th>\n",
       "      <td>24</td>\n",
       "      <td>Brazil</td>\n",
       "      <td>214139548</td>\n",
       "      <td>Brazil</td>\n",
       "      <td>49297923</td>\n",
       "    </tr>\n",
       "    <tr>\n",
       "      <th>60</th>\n",
       "      <td>63</td>\n",
       "      <td>Germany</td>\n",
       "      <td>83913565</td>\n",
       "      <td>Germany</td>\n",
       "      <td>47367929</td>\n",
       "    </tr>\n",
       "  </tbody>\n",
       "</table>\n",
       "</div>"
      ],
      "text/plain": [
       "     index        country  2021_last_updated country_vaccinations  \\\n",
       "34      36          China         1444712023                China   \n",
       "164    182  United States          333114077        United States   \n",
       "74      77          India         1394784323                India   \n",
       "23      24         Brazil          214139548               Brazil   \n",
       "60      63        Germany           83913565              Germany   \n",
       "\n",
       "     people_fully_vaccinated  \n",
       "34                 223299000  \n",
       "164                168090925  \n",
       "74                 121270889  \n",
       "23                  49297923  \n",
       "60                  47367929  "
      ]
     },
     "execution_count": 31,
     "metadata": {},
     "output_type": "execute_result"
    }
   ],
   "source": [
    "top5vac = main1.sort_values('people_fully_vaccinated',ascending=False).head()\n",
    "top5vac.head()"
   ]
  },
  {
   "cell_type": "code",
   "execution_count": 129,
   "metadata": {},
   "outputs": [
    {
     "data": {
      "application/vnd.plotly.v1+json": {
       "config": {
        "plotlyServerURL": "https://plot.ly"
       },
       "data": [
        {
         "alignmentgroup": "True",
         "hovertemplate": "Country=%{x}<br>Total Population Vaccinated=%{marker.color}<extra></extra>",
         "legendgroup": "",
         "marker": {
          "color": [
           223299000,
           168090925,
           121270889,
           49297923,
           47367929
          ],
          "coloraxis": "coloraxis",
          "pattern": {
           "shape": ""
          }
         },
         "name": "",
         "offsetgroup": "",
         "orientation": "v",
         "showlegend": false,
         "textposition": "auto",
         "type": "bar",
         "x": [
          "China",
          "United States",
          "India",
          "Brazil",
          "Germany"
         ],
         "xaxis": "x",
         "y": [
          223299000,
          168090925,
          121270889,
          49297923,
          47367929
         ],
         "yaxis": "y"
        }
       ],
       "layout": {
        "barmode": "relative",
        "coloraxis": {
         "colorbar": {
          "title": {
           "text": "Total Population Vaccinated"
          }
         },
         "colorscale": [
          [
           0,
           "#0d0887"
          ],
          [
           0.1111111111111111,
           "#46039f"
          ],
          [
           0.2222222222222222,
           "#7201a8"
          ],
          [
           0.3333333333333333,
           "#9c179e"
          ],
          [
           0.4444444444444444,
           "#bd3786"
          ],
          [
           0.5555555555555556,
           "#d8576b"
          ],
          [
           0.6666666666666666,
           "#ed7953"
          ],
          [
           0.7777777777777778,
           "#fb9f3a"
          ],
          [
           0.8888888888888888,
           "#fdca26"
          ],
          [
           1,
           "#f0f921"
          ]
         ]
        },
        "legend": {
         "tracegroupgap": 0
        },
        "template": {
         "data": {
          "bar": [
           {
            "error_x": {
             "color": "#2a3f5f"
            },
            "error_y": {
             "color": "#2a3f5f"
            },
            "marker": {
             "line": {
              "color": "#E5ECF6",
              "width": 0.5
             },
             "pattern": {
              "fillmode": "overlay",
              "size": 10,
              "solidity": 0.2
             }
            },
            "type": "bar"
           }
          ],
          "barpolar": [
           {
            "marker": {
             "line": {
              "color": "#E5ECF6",
              "width": 0.5
             },
             "pattern": {
              "fillmode": "overlay",
              "size": 10,
              "solidity": 0.2
             }
            },
            "type": "barpolar"
           }
          ],
          "carpet": [
           {
            "aaxis": {
             "endlinecolor": "#2a3f5f",
             "gridcolor": "white",
             "linecolor": "white",
             "minorgridcolor": "white",
             "startlinecolor": "#2a3f5f"
            },
            "baxis": {
             "endlinecolor": "#2a3f5f",
             "gridcolor": "white",
             "linecolor": "white",
             "minorgridcolor": "white",
             "startlinecolor": "#2a3f5f"
            },
            "type": "carpet"
           }
          ],
          "choropleth": [
           {
            "colorbar": {
             "outlinewidth": 0,
             "ticks": ""
            },
            "type": "choropleth"
           }
          ],
          "contour": [
           {
            "colorbar": {
             "outlinewidth": 0,
             "ticks": ""
            },
            "colorscale": [
             [
              0,
              "#0d0887"
             ],
             [
              0.1111111111111111,
              "#46039f"
             ],
             [
              0.2222222222222222,
              "#7201a8"
             ],
             [
              0.3333333333333333,
              "#9c179e"
             ],
             [
              0.4444444444444444,
              "#bd3786"
             ],
             [
              0.5555555555555556,
              "#d8576b"
             ],
             [
              0.6666666666666666,
              "#ed7953"
             ],
             [
              0.7777777777777778,
              "#fb9f3a"
             ],
             [
              0.8888888888888888,
              "#fdca26"
             ],
             [
              1,
              "#f0f921"
             ]
            ],
            "type": "contour"
           }
          ],
          "contourcarpet": [
           {
            "colorbar": {
             "outlinewidth": 0,
             "ticks": ""
            },
            "type": "contourcarpet"
           }
          ],
          "heatmap": [
           {
            "colorbar": {
             "outlinewidth": 0,
             "ticks": ""
            },
            "colorscale": [
             [
              0,
              "#0d0887"
             ],
             [
              0.1111111111111111,
              "#46039f"
             ],
             [
              0.2222222222222222,
              "#7201a8"
             ],
             [
              0.3333333333333333,
              "#9c179e"
             ],
             [
              0.4444444444444444,
              "#bd3786"
             ],
             [
              0.5555555555555556,
              "#d8576b"
             ],
             [
              0.6666666666666666,
              "#ed7953"
             ],
             [
              0.7777777777777778,
              "#fb9f3a"
             ],
             [
              0.8888888888888888,
              "#fdca26"
             ],
             [
              1,
              "#f0f921"
             ]
            ],
            "type": "heatmap"
           }
          ],
          "heatmapgl": [
           {
            "colorbar": {
             "outlinewidth": 0,
             "ticks": ""
            },
            "colorscale": [
             [
              0,
              "#0d0887"
             ],
             [
              0.1111111111111111,
              "#46039f"
             ],
             [
              0.2222222222222222,
              "#7201a8"
             ],
             [
              0.3333333333333333,
              "#9c179e"
             ],
             [
              0.4444444444444444,
              "#bd3786"
             ],
             [
              0.5555555555555556,
              "#d8576b"
             ],
             [
              0.6666666666666666,
              "#ed7953"
             ],
             [
              0.7777777777777778,
              "#fb9f3a"
             ],
             [
              0.8888888888888888,
              "#fdca26"
             ],
             [
              1,
              "#f0f921"
             ]
            ],
            "type": "heatmapgl"
           }
          ],
          "histogram": [
           {
            "marker": {
             "pattern": {
              "fillmode": "overlay",
              "size": 10,
              "solidity": 0.2
             }
            },
            "type": "histogram"
           }
          ],
          "histogram2d": [
           {
            "colorbar": {
             "outlinewidth": 0,
             "ticks": ""
            },
            "colorscale": [
             [
              0,
              "#0d0887"
             ],
             [
              0.1111111111111111,
              "#46039f"
             ],
             [
              0.2222222222222222,
              "#7201a8"
             ],
             [
              0.3333333333333333,
              "#9c179e"
             ],
             [
              0.4444444444444444,
              "#bd3786"
             ],
             [
              0.5555555555555556,
              "#d8576b"
             ],
             [
              0.6666666666666666,
              "#ed7953"
             ],
             [
              0.7777777777777778,
              "#fb9f3a"
             ],
             [
              0.8888888888888888,
              "#fdca26"
             ],
             [
              1,
              "#f0f921"
             ]
            ],
            "type": "histogram2d"
           }
          ],
          "histogram2dcontour": [
           {
            "colorbar": {
             "outlinewidth": 0,
             "ticks": ""
            },
            "colorscale": [
             [
              0,
              "#0d0887"
             ],
             [
              0.1111111111111111,
              "#46039f"
             ],
             [
              0.2222222222222222,
              "#7201a8"
             ],
             [
              0.3333333333333333,
              "#9c179e"
             ],
             [
              0.4444444444444444,
              "#bd3786"
             ],
             [
              0.5555555555555556,
              "#d8576b"
             ],
             [
              0.6666666666666666,
              "#ed7953"
             ],
             [
              0.7777777777777778,
              "#fb9f3a"
             ],
             [
              0.8888888888888888,
              "#fdca26"
             ],
             [
              1,
              "#f0f921"
             ]
            ],
            "type": "histogram2dcontour"
           }
          ],
          "mesh3d": [
           {
            "colorbar": {
             "outlinewidth": 0,
             "ticks": ""
            },
            "type": "mesh3d"
           }
          ],
          "parcoords": [
           {
            "line": {
             "colorbar": {
              "outlinewidth": 0,
              "ticks": ""
             }
            },
            "type": "parcoords"
           }
          ],
          "pie": [
           {
            "automargin": true,
            "type": "pie"
           }
          ],
          "scatter": [
           {
            "marker": {
             "colorbar": {
              "outlinewidth": 0,
              "ticks": ""
             }
            },
            "type": "scatter"
           }
          ],
          "scatter3d": [
           {
            "line": {
             "colorbar": {
              "outlinewidth": 0,
              "ticks": ""
             }
            },
            "marker": {
             "colorbar": {
              "outlinewidth": 0,
              "ticks": ""
             }
            },
            "type": "scatter3d"
           }
          ],
          "scattercarpet": [
           {
            "marker": {
             "colorbar": {
              "outlinewidth": 0,
              "ticks": ""
             }
            },
            "type": "scattercarpet"
           }
          ],
          "scattergeo": [
           {
            "marker": {
             "colorbar": {
              "outlinewidth": 0,
              "ticks": ""
             }
            },
            "type": "scattergeo"
           }
          ],
          "scattergl": [
           {
            "marker": {
             "colorbar": {
              "outlinewidth": 0,
              "ticks": ""
             }
            },
            "type": "scattergl"
           }
          ],
          "scattermapbox": [
           {
            "marker": {
             "colorbar": {
              "outlinewidth": 0,
              "ticks": ""
             }
            },
            "type": "scattermapbox"
           }
          ],
          "scatterpolar": [
           {
            "marker": {
             "colorbar": {
              "outlinewidth": 0,
              "ticks": ""
             }
            },
            "type": "scatterpolar"
           }
          ],
          "scatterpolargl": [
           {
            "marker": {
             "colorbar": {
              "outlinewidth": 0,
              "ticks": ""
             }
            },
            "type": "scatterpolargl"
           }
          ],
          "scatterternary": [
           {
            "marker": {
             "colorbar": {
              "outlinewidth": 0,
              "ticks": ""
             }
            },
            "type": "scatterternary"
           }
          ],
          "surface": [
           {
            "colorbar": {
             "outlinewidth": 0,
             "ticks": ""
            },
            "colorscale": [
             [
              0,
              "#0d0887"
             ],
             [
              0.1111111111111111,
              "#46039f"
             ],
             [
              0.2222222222222222,
              "#7201a8"
             ],
             [
              0.3333333333333333,
              "#9c179e"
             ],
             [
              0.4444444444444444,
              "#bd3786"
             ],
             [
              0.5555555555555556,
              "#d8576b"
             ],
             [
              0.6666666666666666,
              "#ed7953"
             ],
             [
              0.7777777777777778,
              "#fb9f3a"
             ],
             [
              0.8888888888888888,
              "#fdca26"
             ],
             [
              1,
              "#f0f921"
             ]
            ],
            "type": "surface"
           }
          ],
          "table": [
           {
            "cells": {
             "fill": {
              "color": "#EBF0F8"
             },
             "line": {
              "color": "white"
             }
            },
            "header": {
             "fill": {
              "color": "#C8D4E3"
             },
             "line": {
              "color": "white"
             }
            },
            "type": "table"
           }
          ]
         },
         "layout": {
          "annotationdefaults": {
           "arrowcolor": "#2a3f5f",
           "arrowhead": 0,
           "arrowwidth": 1
          },
          "autotypenumbers": "strict",
          "coloraxis": {
           "colorbar": {
            "outlinewidth": 0,
            "ticks": ""
           }
          },
          "colorscale": {
           "diverging": [
            [
             0,
             "#8e0152"
            ],
            [
             0.1,
             "#c51b7d"
            ],
            [
             0.2,
             "#de77ae"
            ],
            [
             0.3,
             "#f1b6da"
            ],
            [
             0.4,
             "#fde0ef"
            ],
            [
             0.5,
             "#f7f7f7"
            ],
            [
             0.6,
             "#e6f5d0"
            ],
            [
             0.7,
             "#b8e186"
            ],
            [
             0.8,
             "#7fbc41"
            ],
            [
             0.9,
             "#4d9221"
            ],
            [
             1,
             "#276419"
            ]
           ],
           "sequential": [
            [
             0,
             "#0d0887"
            ],
            [
             0.1111111111111111,
             "#46039f"
            ],
            [
             0.2222222222222222,
             "#7201a8"
            ],
            [
             0.3333333333333333,
             "#9c179e"
            ],
            [
             0.4444444444444444,
             "#bd3786"
            ],
            [
             0.5555555555555556,
             "#d8576b"
            ],
            [
             0.6666666666666666,
             "#ed7953"
            ],
            [
             0.7777777777777778,
             "#fb9f3a"
            ],
            [
             0.8888888888888888,
             "#fdca26"
            ],
            [
             1,
             "#f0f921"
            ]
           ],
           "sequentialminus": [
            [
             0,
             "#0d0887"
            ],
            [
             0.1111111111111111,
             "#46039f"
            ],
            [
             0.2222222222222222,
             "#7201a8"
            ],
            [
             0.3333333333333333,
             "#9c179e"
            ],
            [
             0.4444444444444444,
             "#bd3786"
            ],
            [
             0.5555555555555556,
             "#d8576b"
            ],
            [
             0.6666666666666666,
             "#ed7953"
            ],
            [
             0.7777777777777778,
             "#fb9f3a"
            ],
            [
             0.8888888888888888,
             "#fdca26"
            ],
            [
             1,
             "#f0f921"
            ]
           ]
          },
          "colorway": [
           "#636efa",
           "#EF553B",
           "#00cc96",
           "#ab63fa",
           "#FFA15A",
           "#19d3f3",
           "#FF6692",
           "#B6E880",
           "#FF97FF",
           "#FECB52"
          ],
          "font": {
           "color": "#2a3f5f"
          },
          "geo": {
           "bgcolor": "white",
           "lakecolor": "white",
           "landcolor": "#E5ECF6",
           "showlakes": true,
           "showland": true,
           "subunitcolor": "white"
          },
          "hoverlabel": {
           "align": "left"
          },
          "hovermode": "closest",
          "mapbox": {
           "style": "light"
          },
          "paper_bgcolor": "white",
          "plot_bgcolor": "#E5ECF6",
          "polar": {
           "angularaxis": {
            "gridcolor": "white",
            "linecolor": "white",
            "ticks": ""
           },
           "bgcolor": "#E5ECF6",
           "radialaxis": {
            "gridcolor": "white",
            "linecolor": "white",
            "ticks": ""
           }
          },
          "scene": {
           "xaxis": {
            "backgroundcolor": "#E5ECF6",
            "gridcolor": "white",
            "gridwidth": 2,
            "linecolor": "white",
            "showbackground": true,
            "ticks": "",
            "zerolinecolor": "white"
           },
           "yaxis": {
            "backgroundcolor": "#E5ECF6",
            "gridcolor": "white",
            "gridwidth": 2,
            "linecolor": "white",
            "showbackground": true,
            "ticks": "",
            "zerolinecolor": "white"
           },
           "zaxis": {
            "backgroundcolor": "#E5ECF6",
            "gridcolor": "white",
            "gridwidth": 2,
            "linecolor": "white",
            "showbackground": true,
            "ticks": "",
            "zerolinecolor": "white"
           }
          },
          "shapedefaults": {
           "line": {
            "color": "#2a3f5f"
           }
          },
          "ternary": {
           "aaxis": {
            "gridcolor": "white",
            "linecolor": "white",
            "ticks": ""
           },
           "baxis": {
            "gridcolor": "white",
            "linecolor": "white",
            "ticks": ""
           },
           "bgcolor": "#E5ECF6",
           "caxis": {
            "gridcolor": "white",
            "linecolor": "white",
            "ticks": ""
           }
          },
          "title": {
           "x": 0.05
          },
          "xaxis": {
           "automargin": true,
           "gridcolor": "white",
           "linecolor": "white",
           "ticks": "",
           "title": {
            "standoff": 15
           },
           "zerolinecolor": "white",
           "zerolinewidth": 2
          },
          "yaxis": {
           "automargin": true,
           "gridcolor": "white",
           "linecolor": "white",
           "ticks": "",
           "title": {
            "standoff": 15
           },
           "zerolinecolor": "white",
           "zerolinewidth": 2
          }
         }
        },
        "title": {
         "text": "Top 5 Countries in terms of Number of People Fully Vaccinated"
        },
        "xaxis": {
         "anchor": "y",
         "domain": [
          0,
          1
         ],
         "title": {
          "text": "Country"
         }
        },
        "yaxis": {
         "anchor": "x",
         "domain": [
          0,
          1
         ],
         "title": {
          "text": "Total Population Vaccinated"
         }
        }
       }
      },
      "text/html": [
       "<div>                            <div id=\"dff66b57-4743-4e23-8de7-872876765dca\" class=\"plotly-graph-div\" style=\"height:525px; width:100%;\"></div>            <script type=\"text/javascript\">                require([\"plotly\"], function(Plotly) {                    window.PLOTLYENV=window.PLOTLYENV || {};                                    if (document.getElementById(\"dff66b57-4743-4e23-8de7-872876765dca\")) {                    Plotly.newPlot(                        \"dff66b57-4743-4e23-8de7-872876765dca\",                        [{\"alignmentgroup\":\"True\",\"hovertemplate\":\"Country=%{x}<br>Total Population Vaccinated=%{marker.color}<extra></extra>\",\"legendgroup\":\"\",\"marker\":{\"color\":[223299000.0,168090925.0,121270889.0,49297923.0,47367929.0],\"coloraxis\":\"coloraxis\",\"pattern\":{\"shape\":\"\"}},\"name\":\"\",\"offsetgroup\":\"\",\"orientation\":\"v\",\"showlegend\":false,\"textposition\":\"auto\",\"type\":\"bar\",\"x\":[\"China\",\"United States\",\"India\",\"Brazil\",\"Germany\"],\"xaxis\":\"x\",\"y\":[223299000.0,168090925.0,121270889.0,49297923.0,47367929.0],\"yaxis\":\"y\"}],                        {\"barmode\":\"relative\",\"coloraxis\":{\"colorbar\":{\"title\":{\"text\":\"Total Population Vaccinated\"}},\"colorscale\":[[0.0,\"#0d0887\"],[0.1111111111111111,\"#46039f\"],[0.2222222222222222,\"#7201a8\"],[0.3333333333333333,\"#9c179e\"],[0.4444444444444444,\"#bd3786\"],[0.5555555555555556,\"#d8576b\"],[0.6666666666666666,\"#ed7953\"],[0.7777777777777778,\"#fb9f3a\"],[0.8888888888888888,\"#fdca26\"],[1.0,\"#f0f921\"]]},\"legend\":{\"tracegroupgap\":0},\"template\":{\"data\":{\"bar\":[{\"error_x\":{\"color\":\"#2a3f5f\"},\"error_y\":{\"color\":\"#2a3f5f\"},\"marker\":{\"line\":{\"color\":\"#E5ECF6\",\"width\":0.5},\"pattern\":{\"fillmode\":\"overlay\",\"size\":10,\"solidity\":0.2}},\"type\":\"bar\"}],\"barpolar\":[{\"marker\":{\"line\":{\"color\":\"#E5ECF6\",\"width\":0.5},\"pattern\":{\"fillmode\":\"overlay\",\"size\":10,\"solidity\":0.2}},\"type\":\"barpolar\"}],\"carpet\":[{\"aaxis\":{\"endlinecolor\":\"#2a3f5f\",\"gridcolor\":\"white\",\"linecolor\":\"white\",\"minorgridcolor\":\"white\",\"startlinecolor\":\"#2a3f5f\"},\"baxis\":{\"endlinecolor\":\"#2a3f5f\",\"gridcolor\":\"white\",\"linecolor\":\"white\",\"minorgridcolor\":\"white\",\"startlinecolor\":\"#2a3f5f\"},\"type\":\"carpet\"}],\"choropleth\":[{\"colorbar\":{\"outlinewidth\":0,\"ticks\":\"\"},\"type\":\"choropleth\"}],\"contour\":[{\"colorbar\":{\"outlinewidth\":0,\"ticks\":\"\"},\"colorscale\":[[0.0,\"#0d0887\"],[0.1111111111111111,\"#46039f\"],[0.2222222222222222,\"#7201a8\"],[0.3333333333333333,\"#9c179e\"],[0.4444444444444444,\"#bd3786\"],[0.5555555555555556,\"#d8576b\"],[0.6666666666666666,\"#ed7953\"],[0.7777777777777778,\"#fb9f3a\"],[0.8888888888888888,\"#fdca26\"],[1.0,\"#f0f921\"]],\"type\":\"contour\"}],\"contourcarpet\":[{\"colorbar\":{\"outlinewidth\":0,\"ticks\":\"\"},\"type\":\"contourcarpet\"}],\"heatmap\":[{\"colorbar\":{\"outlinewidth\":0,\"ticks\":\"\"},\"colorscale\":[[0.0,\"#0d0887\"],[0.1111111111111111,\"#46039f\"],[0.2222222222222222,\"#7201a8\"],[0.3333333333333333,\"#9c179e\"],[0.4444444444444444,\"#bd3786\"],[0.5555555555555556,\"#d8576b\"],[0.6666666666666666,\"#ed7953\"],[0.7777777777777778,\"#fb9f3a\"],[0.8888888888888888,\"#fdca26\"],[1.0,\"#f0f921\"]],\"type\":\"heatmap\"}],\"heatmapgl\":[{\"colorbar\":{\"outlinewidth\":0,\"ticks\":\"\"},\"colorscale\":[[0.0,\"#0d0887\"],[0.1111111111111111,\"#46039f\"],[0.2222222222222222,\"#7201a8\"],[0.3333333333333333,\"#9c179e\"],[0.4444444444444444,\"#bd3786\"],[0.5555555555555556,\"#d8576b\"],[0.6666666666666666,\"#ed7953\"],[0.7777777777777778,\"#fb9f3a\"],[0.8888888888888888,\"#fdca26\"],[1.0,\"#f0f921\"]],\"type\":\"heatmapgl\"}],\"histogram\":[{\"marker\":{\"pattern\":{\"fillmode\":\"overlay\",\"size\":10,\"solidity\":0.2}},\"type\":\"histogram\"}],\"histogram2d\":[{\"colorbar\":{\"outlinewidth\":0,\"ticks\":\"\"},\"colorscale\":[[0.0,\"#0d0887\"],[0.1111111111111111,\"#46039f\"],[0.2222222222222222,\"#7201a8\"],[0.3333333333333333,\"#9c179e\"],[0.4444444444444444,\"#bd3786\"],[0.5555555555555556,\"#d8576b\"],[0.6666666666666666,\"#ed7953\"],[0.7777777777777778,\"#fb9f3a\"],[0.8888888888888888,\"#fdca26\"],[1.0,\"#f0f921\"]],\"type\":\"histogram2d\"}],\"histogram2dcontour\":[{\"colorbar\":{\"outlinewidth\":0,\"ticks\":\"\"},\"colorscale\":[[0.0,\"#0d0887\"],[0.1111111111111111,\"#46039f\"],[0.2222222222222222,\"#7201a8\"],[0.3333333333333333,\"#9c179e\"],[0.4444444444444444,\"#bd3786\"],[0.5555555555555556,\"#d8576b\"],[0.6666666666666666,\"#ed7953\"],[0.7777777777777778,\"#fb9f3a\"],[0.8888888888888888,\"#fdca26\"],[1.0,\"#f0f921\"]],\"type\":\"histogram2dcontour\"}],\"mesh3d\":[{\"colorbar\":{\"outlinewidth\":0,\"ticks\":\"\"},\"type\":\"mesh3d\"}],\"parcoords\":[{\"line\":{\"colorbar\":{\"outlinewidth\":0,\"ticks\":\"\"}},\"type\":\"parcoords\"}],\"pie\":[{\"automargin\":true,\"type\":\"pie\"}],\"scatter\":[{\"marker\":{\"colorbar\":{\"outlinewidth\":0,\"ticks\":\"\"}},\"type\":\"scatter\"}],\"scatter3d\":[{\"line\":{\"colorbar\":{\"outlinewidth\":0,\"ticks\":\"\"}},\"marker\":{\"colorbar\":{\"outlinewidth\":0,\"ticks\":\"\"}},\"type\":\"scatter3d\"}],\"scattercarpet\":[{\"marker\":{\"colorbar\":{\"outlinewidth\":0,\"ticks\":\"\"}},\"type\":\"scattercarpet\"}],\"scattergeo\":[{\"marker\":{\"colorbar\":{\"outlinewidth\":0,\"ticks\":\"\"}},\"type\":\"scattergeo\"}],\"scattergl\":[{\"marker\":{\"colorbar\":{\"outlinewidth\":0,\"ticks\":\"\"}},\"type\":\"scattergl\"}],\"scattermapbox\":[{\"marker\":{\"colorbar\":{\"outlinewidth\":0,\"ticks\":\"\"}},\"type\":\"scattermapbox\"}],\"scatterpolar\":[{\"marker\":{\"colorbar\":{\"outlinewidth\":0,\"ticks\":\"\"}},\"type\":\"scatterpolar\"}],\"scatterpolargl\":[{\"marker\":{\"colorbar\":{\"outlinewidth\":0,\"ticks\":\"\"}},\"type\":\"scatterpolargl\"}],\"scatterternary\":[{\"marker\":{\"colorbar\":{\"outlinewidth\":0,\"ticks\":\"\"}},\"type\":\"scatterternary\"}],\"surface\":[{\"colorbar\":{\"outlinewidth\":0,\"ticks\":\"\"},\"colorscale\":[[0.0,\"#0d0887\"],[0.1111111111111111,\"#46039f\"],[0.2222222222222222,\"#7201a8\"],[0.3333333333333333,\"#9c179e\"],[0.4444444444444444,\"#bd3786\"],[0.5555555555555556,\"#d8576b\"],[0.6666666666666666,\"#ed7953\"],[0.7777777777777778,\"#fb9f3a\"],[0.8888888888888888,\"#fdca26\"],[1.0,\"#f0f921\"]],\"type\":\"surface\"}],\"table\":[{\"cells\":{\"fill\":{\"color\":\"#EBF0F8\"},\"line\":{\"color\":\"white\"}},\"header\":{\"fill\":{\"color\":\"#C8D4E3\"},\"line\":{\"color\":\"white\"}},\"type\":\"table\"}]},\"layout\":{\"annotationdefaults\":{\"arrowcolor\":\"#2a3f5f\",\"arrowhead\":0,\"arrowwidth\":1},\"autotypenumbers\":\"strict\",\"coloraxis\":{\"colorbar\":{\"outlinewidth\":0,\"ticks\":\"\"}},\"colorscale\":{\"diverging\":[[0,\"#8e0152\"],[0.1,\"#c51b7d\"],[0.2,\"#de77ae\"],[0.3,\"#f1b6da\"],[0.4,\"#fde0ef\"],[0.5,\"#f7f7f7\"],[0.6,\"#e6f5d0\"],[0.7,\"#b8e186\"],[0.8,\"#7fbc41\"],[0.9,\"#4d9221\"],[1,\"#276419\"]],\"sequential\":[[0.0,\"#0d0887\"],[0.1111111111111111,\"#46039f\"],[0.2222222222222222,\"#7201a8\"],[0.3333333333333333,\"#9c179e\"],[0.4444444444444444,\"#bd3786\"],[0.5555555555555556,\"#d8576b\"],[0.6666666666666666,\"#ed7953\"],[0.7777777777777778,\"#fb9f3a\"],[0.8888888888888888,\"#fdca26\"],[1.0,\"#f0f921\"]],\"sequentialminus\":[[0.0,\"#0d0887\"],[0.1111111111111111,\"#46039f\"],[0.2222222222222222,\"#7201a8\"],[0.3333333333333333,\"#9c179e\"],[0.4444444444444444,\"#bd3786\"],[0.5555555555555556,\"#d8576b\"],[0.6666666666666666,\"#ed7953\"],[0.7777777777777778,\"#fb9f3a\"],[0.8888888888888888,\"#fdca26\"],[1.0,\"#f0f921\"]]},\"colorway\":[\"#636efa\",\"#EF553B\",\"#00cc96\",\"#ab63fa\",\"#FFA15A\",\"#19d3f3\",\"#FF6692\",\"#B6E880\",\"#FF97FF\",\"#FECB52\"],\"font\":{\"color\":\"#2a3f5f\"},\"geo\":{\"bgcolor\":\"white\",\"lakecolor\":\"white\",\"landcolor\":\"#E5ECF6\",\"showlakes\":true,\"showland\":true,\"subunitcolor\":\"white\"},\"hoverlabel\":{\"align\":\"left\"},\"hovermode\":\"closest\",\"mapbox\":{\"style\":\"light\"},\"paper_bgcolor\":\"white\",\"plot_bgcolor\":\"#E5ECF6\",\"polar\":{\"angularaxis\":{\"gridcolor\":\"white\",\"linecolor\":\"white\",\"ticks\":\"\"},\"bgcolor\":\"#E5ECF6\",\"radialaxis\":{\"gridcolor\":\"white\",\"linecolor\":\"white\",\"ticks\":\"\"}},\"scene\":{\"xaxis\":{\"backgroundcolor\":\"#E5ECF6\",\"gridcolor\":\"white\",\"gridwidth\":2,\"linecolor\":\"white\",\"showbackground\":true,\"ticks\":\"\",\"zerolinecolor\":\"white\"},\"yaxis\":{\"backgroundcolor\":\"#E5ECF6\",\"gridcolor\":\"white\",\"gridwidth\":2,\"linecolor\":\"white\",\"showbackground\":true,\"ticks\":\"\",\"zerolinecolor\":\"white\"},\"zaxis\":{\"backgroundcolor\":\"#E5ECF6\",\"gridcolor\":\"white\",\"gridwidth\":2,\"linecolor\":\"white\",\"showbackground\":true,\"ticks\":\"\",\"zerolinecolor\":\"white\"}},\"shapedefaults\":{\"line\":{\"color\":\"#2a3f5f\"}},\"ternary\":{\"aaxis\":{\"gridcolor\":\"white\",\"linecolor\":\"white\",\"ticks\":\"\"},\"baxis\":{\"gridcolor\":\"white\",\"linecolor\":\"white\",\"ticks\":\"\"},\"bgcolor\":\"#E5ECF6\",\"caxis\":{\"gridcolor\":\"white\",\"linecolor\":\"white\",\"ticks\":\"\"}},\"title\":{\"x\":0.05},\"xaxis\":{\"automargin\":true,\"gridcolor\":\"white\",\"linecolor\":\"white\",\"ticks\":\"\",\"title\":{\"standoff\":15},\"zerolinecolor\":\"white\",\"zerolinewidth\":2},\"yaxis\":{\"automargin\":true,\"gridcolor\":\"white\",\"linecolor\":\"white\",\"ticks\":\"\",\"title\":{\"standoff\":15},\"zerolinecolor\":\"white\",\"zerolinewidth\":2}}},\"title\":{\"text\":\"Top 5 Countries in terms of Number of People Fully Vaccinated\"},\"xaxis\":{\"anchor\":\"y\",\"domain\":[0.0,1.0],\"title\":{\"text\":\"Country\"}},\"yaxis\":{\"anchor\":\"x\",\"domain\":[0.0,1.0],\"title\":{\"text\":\"Total Population Vaccinated\"}}},                        {\"responsive\": true}                    ).then(function(){\n",
       "                            \n",
       "var gd = document.getElementById('dff66b57-4743-4e23-8de7-872876765dca');\n",
       "var x = new MutationObserver(function (mutations, observer) {{\n",
       "        var display = window.getComputedStyle(gd).display;\n",
       "        if (!display || display === 'none') {{\n",
       "            console.log([gd, 'removed!']);\n",
       "            Plotly.purge(gd);\n",
       "            observer.disconnect();\n",
       "        }}\n",
       "}});\n",
       "\n",
       "// Listen for the removal of the full notebook cells\n",
       "var notebookContainer = gd.closest('#notebook-container');\n",
       "if (notebookContainer) {{\n",
       "    x.observe(notebookContainer, {childList: true});\n",
       "}}\n",
       "\n",
       "// Listen for the clearing of the current output cell\n",
       "var outputEl = gd.closest('.output');\n",
       "if (outputEl) {{\n",
       "    x.observe(outputEl, {childList: true});\n",
       "}}\n",
       "\n",
       "                        })                };                });            </script>        </div>"
      ]
     },
     "metadata": {},
     "output_type": "display_data"
    }
   ],
   "source": [
    "fig = px.bar(top5vac,\n",
    "    x='country',\n",
    "    y='people_fully_vaccinated',    \n",
    "    labels = {'country':'Country', 'people_fully_vaccinated':'Total Population Vaccinated'},\n",
    "    title = 'Top 5 Countries in terms of Number of People Fully Vaccinated',\n",
    "    color = 'people_fully_vaccinated'\n",
    ")\n",
    "#fig.update_traces(texttemplate=top5vac['people_fully_vaccinated'],textposition='outside')\n",
    "fig.show()"
   ]
  },
  {
   "cell_type": "markdown",
   "metadata": {},
   "source": [
    "### World Map of Number of People Fully Vaccinated\n",
    "For this plot, we will be using another instance of our Vaccination Progress dataset"
   ]
  },
  {
   "cell_type": "code",
   "execution_count": 126,
   "metadata": {},
   "outputs": [
    {
     "data": {
      "application/vnd.plotly.v1+json": {
       "config": {
        "plotlyServerURL": "https://plot.ly"
       },
       "data": [
        {
         "geo": "geo",
         "hovertemplate": "iso_code=%{location}<br>people_fully_vaccinated=%{marker.size}<extra></extra>",
         "legendgroup": "ABW",
         "locations": [
          "ABW"
         ],
         "marker": {
          "color": "#636efa",
          "size": [
           67522
          ],
          "sizemode": "area",
          "sizeref": 1942615,
          "symbol": "circle"
         },
         "mode": "markers",
         "name": "ABW",
         "showlegend": true,
         "type": "scattergeo"
        },
        {
         "geo": "geo",
         "hovertemplate": "iso_code=%{location}<br>people_fully_vaccinated=%{marker.size}<extra></extra>",
         "legendgroup": "AFG",
         "locations": [
          "AFG"
         ],
         "marker": {
          "color": "#EF553B",
          "size": [
           219159
          ],
          "sizemode": "area",
          "sizeref": 1942615,
          "symbol": "circle"
         },
         "mode": "markers",
         "name": "AFG",
         "showlegend": true,
         "type": "scattergeo"
        },
        {
         "geo": "geo",
         "hovertemplate": "iso_code=%{location}<br>people_fully_vaccinated=%{marker.size}<extra></extra>",
         "legendgroup": "AGO",
         "locations": [
          "AGO"
         ],
         "marker": {
          "color": "#00cc96",
          "size": [
           722610
          ],
          "sizemode": "area",
          "sizeref": 1942615,
          "symbol": "circle"
         },
         "mode": "markers",
         "name": "AGO",
         "showlegend": true,
         "type": "scattergeo"
        },
        {
         "geo": "geo",
         "hovertemplate": "iso_code=%{location}<br>people_fully_vaccinated=%{marker.size}<extra></extra>",
         "legendgroup": "AIA",
         "locations": [
          "AIA"
         ],
         "marker": {
          "color": "#ab63fa",
          "size": [
           8965
          ],
          "sizemode": "area",
          "sizeref": 1942615,
          "symbol": "circle"
         },
         "mode": "markers",
         "name": "AIA",
         "showlegend": true,
         "type": "scattergeo"
        },
        {
         "geo": "geo",
         "hovertemplate": "iso_code=%{location}<br>people_fully_vaccinated=%{marker.size}<extra></extra>",
         "legendgroup": "ALB",
         "locations": [
          "ALB"
         ],
         "marker": {
          "color": "#FFA15A",
          "size": [
           560007
          ],
          "sizemode": "area",
          "sizeref": 1942615,
          "symbol": "circle"
         },
         "mode": "markers",
         "name": "ALB",
         "showlegend": true,
         "type": "scattergeo"
        },
        {
         "geo": "geo",
         "hovertemplate": "iso_code=%{location}<br>people_fully_vaccinated=%{marker.size}<extra></extra>",
         "legendgroup": "AND",
         "locations": [
          "AND"
         ],
         "marker": {
          "color": "#19d3f3",
          "size": [
           33904
          ],
          "sizemode": "area",
          "sizeref": 1942615,
          "symbol": "circle"
         },
         "mode": "markers",
         "name": "AND",
         "showlegend": true,
         "type": "scattergeo"
        },
        {
         "geo": "geo",
         "hovertemplate": "iso_code=%{location}<br>people_fully_vaccinated=%{marker.size}<extra></extra>",
         "legendgroup": "ARE",
         "locations": [
          "ARE"
         ],
         "marker": {
          "color": "#FF6692",
          "size": [
           7210000
          ],
          "sizemode": "area",
          "sizeref": 1942615,
          "symbol": "circle"
         },
         "mode": "markers",
         "name": "ARE",
         "showlegend": true,
         "type": "scattergeo"
        },
        {
         "geo": "geo",
         "hovertemplate": "iso_code=%{location}<br>people_fully_vaccinated=%{marker.size}<extra></extra>",
         "legendgroup": "ARG",
         "locations": [
          "ARG"
         ],
         "marker": {
          "color": "#B6E880",
          "size": [
           9821987
          ],
          "sizemode": "area",
          "sizeref": 1942615,
          "symbol": "circle"
         },
         "mode": "markers",
         "name": "ARG",
         "showlegend": true,
         "type": "scattergeo"
        },
        {
         "geo": "geo",
         "hovertemplate": "iso_code=%{location}<br>people_fully_vaccinated=%{marker.size}<extra></extra>",
         "legendgroup": "ARM",
         "locations": [
          "ARM"
         ],
         "marker": {
          "color": "#FF97FF",
          "size": [
           62373
          ],
          "sizemode": "area",
          "sizeref": 1942615,
          "symbol": "circle"
         },
         "mode": "markers",
         "name": "ARM",
         "showlegend": true,
         "type": "scattergeo"
        },
        {
         "geo": "geo",
         "hovertemplate": "iso_code=%{location}<br>people_fully_vaccinated=%{marker.size}<extra></extra>",
         "legendgroup": "ATG",
         "locations": [
          "ATG"
         ],
         "marker": {
          "color": "#FECB52",
          "size": [
           31414
          ],
          "sizemode": "area",
          "sizeref": 1942615,
          "symbol": "circle"
         },
         "mode": "markers",
         "name": "ATG",
         "showlegend": true,
         "type": "scattergeo"
        },
        {
         "geo": "geo",
         "hovertemplate": "iso_code=%{location}<br>people_fully_vaccinated=%{marker.size}<extra></extra>",
         "legendgroup": "AUS",
         "locations": [
          "AUS"
         ],
         "marker": {
          "color": "#636efa",
          "size": [
           5253934
          ],
          "sizemode": "area",
          "sizeref": 1942615,
          "symbol": "circle"
         },
         "mode": "markers",
         "name": "AUS",
         "showlegend": true,
         "type": "scattergeo"
        },
        {
         "geo": "geo",
         "hovertemplate": "iso_code=%{location}<br>people_fully_vaccinated=%{marker.size}<extra></extra>",
         "legendgroup": "AUT",
         "locations": [
          "AUT"
         ],
         "marker": {
          "color": "#EF553B",
          "size": [
           4987968
          ],
          "sizemode": "area",
          "sizeref": 1942615,
          "symbol": "circle"
         },
         "mode": "markers",
         "name": "AUT",
         "showlegend": true,
         "type": "scattergeo"
        },
        {
         "geo": "geo",
         "hovertemplate": "iso_code=%{location}<br>people_fully_vaccinated=%{marker.size}<extra></extra>",
         "legendgroup": "AZE",
         "locations": [
          "AZE"
         ],
         "marker": {
          "color": "#00cc96",
          "size": [
           2358955
          ],
          "sizemode": "area",
          "sizeref": 1942615,
          "symbol": "circle"
         },
         "mode": "markers",
         "name": "AZE",
         "showlegend": true,
         "type": "scattergeo"
        },
        {
         "geo": "geo",
         "hovertemplate": "iso_code=%{location}<br>people_fully_vaccinated=%{marker.size}<extra></extra>",
         "legendgroup": "BEL",
         "locations": [
          "BEL"
         ],
         "marker": {
          "color": "#ab63fa",
          "size": [
           7569904
          ],
          "sizemode": "area",
          "sizeref": 1942615,
          "symbol": "circle"
         },
         "mode": "markers",
         "name": "BEL",
         "showlegend": true,
         "type": "scattergeo"
        },
        {
         "geo": "geo",
         "hovertemplate": "iso_code=%{location}<br>people_fully_vaccinated=%{marker.size}<extra></extra>",
         "legendgroup": "BEN",
         "locations": [
          "BEN"
         ],
         "marker": {
          "color": "#FFA15A",
          "size": [
           21405
          ],
          "sizemode": "area",
          "sizeref": 1942615,
          "symbol": "circle"
         },
         "mode": "markers",
         "name": "BEN",
         "showlegend": true,
         "type": "scattergeo"
        },
        {
         "geo": "geo",
         "hovertemplate": "iso_code=%{location}<br>people_fully_vaccinated=%{marker.size}<extra></extra>",
         "legendgroup": "BES",
         "locations": [
          "BES"
         ],
         "marker": {
          "color": "#19d3f3",
          "size": [
           1665
          ],
          "sizemode": "area",
          "sizeref": 1942615,
          "symbol": "circle"
         },
         "mode": "markers",
         "name": "BES",
         "showlegend": true,
         "type": "scattergeo"
        },
        {
         "geo": "geo",
         "hovertemplate": "iso_code=%{location}<br>people_fully_vaccinated=%{marker.size}<extra></extra>",
         "legendgroup": "BFA",
         "locations": [
          "BFA"
         ],
         "marker": {
          "color": "#FF6692",
          "size": [
           0
          ],
          "sizemode": "area",
          "sizeref": 1942615,
          "symbol": "circle"
         },
         "mode": "markers",
         "name": "BFA",
         "showlegend": true,
         "type": "scattergeo"
        },
        {
         "geo": "geo",
         "hovertemplate": "iso_code=%{location}<br>people_fully_vaccinated=%{marker.size}<extra></extra>",
         "legendgroup": "BGD",
         "locations": [
          "BGD"
         ],
         "marker": {
          "color": "#B6E880",
          "size": [
           5224248
          ],
          "sizemode": "area",
          "sizeref": 1942615,
          "symbol": "circle"
         },
         "mode": "markers",
         "name": "BGD",
         "showlegend": true,
         "type": "scattergeo"
        },
        {
         "geo": "geo",
         "hovertemplate": "iso_code=%{location}<br>people_fully_vaccinated=%{marker.size}<extra></extra>",
         "legendgroup": "BGR",
         "locations": [
          "BGR"
         ],
         "marker": {
          "color": "#FF97FF",
          "size": [
           1071839
          ],
          "sizemode": "area",
          "sizeref": 1942615,
          "symbol": "circle"
         },
         "mode": "markers",
         "name": "BGR",
         "showlegend": true,
         "type": "scattergeo"
        },
        {
         "geo": "geo",
         "hovertemplate": "iso_code=%{location}<br>people_fully_vaccinated=%{marker.size}<extra></extra>",
         "legendgroup": "BHR",
         "locations": [
          "BHR"
         ],
         "marker": {
          "color": "#FECB52",
          "size": [
           1069945
          ],
          "sizemode": "area",
          "sizeref": 1942615,
          "symbol": "circle"
         },
         "mode": "markers",
         "name": "BHR",
         "showlegend": true,
         "type": "scattergeo"
        },
        {
         "geo": "geo",
         "hovertemplate": "iso_code=%{location}<br>people_fully_vaccinated=%{marker.size}<extra></extra>",
         "legendgroup": "BHS",
         "locations": [
          "BHS"
         ],
         "marker": {
          "color": "#636efa",
          "size": [
           47580
          ],
          "sizemode": "area",
          "sizeref": 1942615,
          "symbol": "circle"
         },
         "mode": "markers",
         "name": "BHS",
         "showlegend": true,
         "type": "scattergeo"
        },
        {
         "geo": "geo",
         "hovertemplate": "iso_code=%{location}<br>people_fully_vaccinated=%{marker.size}<extra></extra>",
         "legendgroup": "BIH",
         "locations": [
          "BIH"
         ],
         "marker": {
          "color": "#EF553B",
          "size": [
           327698
          ],
          "sizemode": "area",
          "sizeref": 1942615,
          "symbol": "circle"
         },
         "mode": "markers",
         "name": "BIH",
         "showlegend": true,
         "type": "scattergeo"
        },
        {
         "geo": "geo",
         "hovertemplate": "iso_code=%{location}<br>people_fully_vaccinated=%{marker.size}<extra></extra>",
         "legendgroup": "BLR",
         "locations": [
          "BLR"
         ],
         "marker": {
          "color": "#00cc96",
          "size": [
           1095778
          ],
          "sizemode": "area",
          "sizeref": 1942615,
          "symbol": "circle"
         },
         "mode": "markers",
         "name": "BLR",
         "showlegend": true,
         "type": "scattergeo"
        },
        {
         "geo": "geo",
         "hovertemplate": "iso_code=%{location}<br>people_fully_vaccinated=%{marker.size}<extra></extra>",
         "legendgroup": "BLZ",
         "locations": [
          "BLZ"
         ],
         "marker": {
          "color": "#ab63fa",
          "size": [
           58476
          ],
          "sizemode": "area",
          "sizeref": 1942615,
          "symbol": "circle"
         },
         "mode": "markers",
         "name": "BLZ",
         "showlegend": true,
         "type": "scattergeo"
        },
        {
         "geo": "geo",
         "hovertemplate": "iso_code=%{location}<br>people_fully_vaccinated=%{marker.size}<extra></extra>",
         "legendgroup": "BMU",
         "locations": [
          "BMU"
         ],
         "marker": {
          "color": "#FFA15A",
          "size": [
           41223
          ],
          "sizemode": "area",
          "sizeref": 1942615,
          "symbol": "circle"
         },
         "mode": "markers",
         "name": "BMU",
         "showlegend": true,
         "type": "scattergeo"
        },
        {
         "geo": "geo",
         "hovertemplate": "iso_code=%{location}<br>people_fully_vaccinated=%{marker.size}<extra></extra>",
         "legendgroup": "BOL",
         "locations": [
          "BOL"
         ],
         "marker": {
          "color": "#19d3f3",
          "size": [
           2027136
          ],
          "sizemode": "area",
          "sizeref": 1942615,
          "symbol": "circle"
         },
         "mode": "markers",
         "name": "BOL",
         "showlegend": true,
         "type": "scattergeo"
        },
        {
         "geo": "geo",
         "hovertemplate": "iso_code=%{location}<br>people_fully_vaccinated=%{marker.size}<extra></extra>",
         "legendgroup": "BRA",
         "locations": [
          "BRA"
         ],
         "marker": {
          "color": "#FF6692",
          "size": [
           49297923
          ],
          "sizemode": "area",
          "sizeref": 1942615,
          "symbol": "circle"
         },
         "mode": "markers",
         "name": "BRA",
         "showlegend": true,
         "type": "scattergeo"
        },
        {
         "geo": "geo",
         "hovertemplate": "iso_code=%{location}<br>people_fully_vaccinated=%{marker.size}<extra></extra>",
         "legendgroup": "BRB",
         "locations": [
          "BRB"
         ],
         "marker": {
          "color": "#B6E880",
          "size": [
           82733
          ],
          "sizemode": "area",
          "sizeref": 1942615,
          "symbol": "circle"
         },
         "mode": "markers",
         "name": "BRB",
         "showlegend": true,
         "type": "scattergeo"
        },
        {
         "geo": "geo",
         "hovertemplate": "iso_code=%{location}<br>people_fully_vaccinated=%{marker.size}<extra></extra>",
         "legendgroup": "BRN",
         "locations": [
          "BRN"
         ],
         "marker": {
          "color": "#FF97FF",
          "size": [
           46440
          ],
          "sizemode": "area",
          "sizeref": 1942615,
          "symbol": "circle"
         },
         "mode": "markers",
         "name": "BRN",
         "showlegend": true,
         "type": "scattergeo"
        },
        {
         "geo": "geo",
         "hovertemplate": "iso_code=%{location}<br>people_fully_vaccinated=%{marker.size}<extra></extra>",
         "legendgroup": "BTN",
         "locations": [
          "BTN"
         ],
         "marker": {
          "color": "#FECB52",
          "size": [
           475661
          ],
          "sizemode": "area",
          "sizeref": 1942615,
          "symbol": "circle"
         },
         "mode": "markers",
         "name": "BTN",
         "showlegend": true,
         "type": "scattergeo"
        },
        {
         "geo": "geo",
         "hovertemplate": "iso_code=%{location}<br>people_fully_vaccinated=%{marker.size}<extra></extra>",
         "legendgroup": "BWA",
         "locations": [
          "BWA"
         ],
         "marker": {
          "color": "#636efa",
          "size": [
           146299
          ],
          "sizemode": "area",
          "sizeref": 1942615,
          "symbol": "circle"
         },
         "mode": "markers",
         "name": "BWA",
         "showlegend": true,
         "type": "scattergeo"
        },
        {
         "geo": "geo",
         "hovertemplate": "iso_code=%{location}<br>people_fully_vaccinated=%{marker.size}<extra></extra>",
         "legendgroup": "CAF",
         "locations": [
          "CAF"
         ],
         "marker": {
          "color": "#EF553B",
          "size": [
           9901
          ],
          "sizemode": "area",
          "sizeref": 1942615,
          "symbol": "circle"
         },
         "mode": "markers",
         "name": "CAF",
         "showlegend": true,
         "type": "scattergeo"
        },
        {
         "geo": "geo",
         "hovertemplate": "iso_code=%{location}<br>people_fully_vaccinated=%{marker.size}<extra></extra>",
         "legendgroup": "CAN",
         "locations": [
          "CAN"
         ],
         "marker": {
          "color": "#00cc96",
          "size": [
           24025326
          ],
          "sizemode": "area",
          "sizeref": 1942615,
          "symbol": "circle"
         },
         "mode": "markers",
         "name": "CAN",
         "showlegend": true,
         "type": "scattergeo"
        },
        {
         "geo": "geo",
         "hovertemplate": "iso_code=%{location}<br>people_fully_vaccinated=%{marker.size}<extra></extra>",
         "legendgroup": "CHE",
         "locations": [
          "CHE"
         ],
         "marker": {
          "color": "#ab63fa",
          "size": [
           4281013
          ],
          "sizemode": "area",
          "sizeref": 1942615,
          "symbol": "circle"
         },
         "mode": "markers",
         "name": "CHE",
         "showlegend": true,
         "type": "scattergeo"
        },
        {
         "geo": "geo",
         "hovertemplate": "iso_code=%{location}<br>people_fully_vaccinated=%{marker.size}<extra></extra>",
         "legendgroup": "CHL",
         "locations": [
          "CHL"
         ],
         "marker": {
          "color": "#FFA15A",
          "size": [
           12974102
          ],
          "sizemode": "area",
          "sizeref": 1942615,
          "symbol": "circle"
         },
         "mode": "markers",
         "name": "CHL",
         "showlegend": true,
         "type": "scattergeo"
        },
        {
         "geo": "geo",
         "hovertemplate": "iso_code=%{location}<br>people_fully_vaccinated=%{marker.size}<extra></extra>",
         "legendgroup": "CHN",
         "locations": [
          "CHN"
         ],
         "marker": {
          "color": "#19d3f3",
          "size": [
           777046000
          ],
          "sizemode": "area",
          "sizeref": 1942615,
          "symbol": "circle"
         },
         "mode": "markers",
         "name": "CHN",
         "showlegend": true,
         "type": "scattergeo"
        },
        {
         "geo": "geo",
         "hovertemplate": "iso_code=%{location}<br>people_fully_vaccinated=%{marker.size}<extra></extra>",
         "legendgroup": "CIV",
         "locations": [
          "CIV"
         ],
         "marker": {
          "color": "#FF6692",
          "size": [
           0
          ],
          "sizemode": "area",
          "sizeref": 1942615,
          "symbol": "circle"
         },
         "mode": "markers",
         "name": "CIV",
         "showlegend": true,
         "type": "scattergeo"
        },
        {
         "geo": "geo",
         "hovertemplate": "iso_code=%{location}<br>people_fully_vaccinated=%{marker.size}<extra></extra>",
         "legendgroup": "CMR",
         "locations": [
          "CMR"
         ],
         "marker": {
          "color": "#B6E880",
          "size": [
           61818
          ],
          "sizemode": "area",
          "sizeref": 1942615,
          "symbol": "circle"
         },
         "mode": "markers",
         "name": "CMR",
         "showlegend": true,
         "type": "scattergeo"
        },
        {
         "geo": "geo",
         "hovertemplate": "iso_code=%{location}<br>people_fully_vaccinated=%{marker.size}<extra></extra>",
         "legendgroup": "COD",
         "locations": [
          "COD"
         ],
         "marker": {
          "color": "#FF97FF",
          "size": [
           4260
          ],
          "sizemode": "area",
          "sizeref": 1942615,
          "symbol": "circle"
         },
         "mode": "markers",
         "name": "COD",
         "showlegend": true,
         "type": "scattergeo"
        },
        {
         "geo": "geo",
         "hovertemplate": "iso_code=%{location}<br>people_fully_vaccinated=%{marker.size}<extra></extra>",
         "legendgroup": "COG",
         "locations": [
          "COG"
         ],
         "marker": {
          "color": "#FECB52",
          "size": [
           95043
          ],
          "sizemode": "area",
          "sizeref": 1942615,
          "symbol": "circle"
         },
         "mode": "markers",
         "name": "COG",
         "showlegend": true,
         "type": "scattergeo"
        },
        {
         "geo": "geo",
         "hovertemplate": "iso_code=%{location}<br>people_fully_vaccinated=%{marker.size}<extra></extra>",
         "legendgroup": "COK",
         "locations": [
          "COK"
         ],
         "marker": {
          "color": "#636efa",
          "size": [
           9578
          ],
          "sizemode": "area",
          "sizeref": 1942615,
          "symbol": "circle"
         },
         "mode": "markers",
         "name": "COK",
         "showlegend": true,
         "type": "scattergeo"
        },
        {
         "geo": "geo",
         "hovertemplate": "iso_code=%{location}<br>people_fully_vaccinated=%{marker.size}<extra></extra>",
         "legendgroup": "COL",
         "locations": [
          "COL"
         ],
         "marker": {
          "color": "#EF553B",
          "size": [
           13590141
          ],
          "sizemode": "area",
          "sizeref": 1942615,
          "symbol": "circle"
         },
         "mode": "markers",
         "name": "COL",
         "showlegend": true,
         "type": "scattergeo"
        },
        {
         "geo": "geo",
         "hovertemplate": "iso_code=%{location}<br>people_fully_vaccinated=%{marker.size}<extra></extra>",
         "legendgroup": "COM",
         "locations": [
          "COM"
         ],
         "marker": {
          "color": "#00cc96",
          "size": [
           67783
          ],
          "sizemode": "area",
          "sizeref": 1942615,
          "symbol": "circle"
         },
         "mode": "markers",
         "name": "COM",
         "showlegend": true,
         "type": "scattergeo"
        },
        {
         "geo": "geo",
         "hovertemplate": "iso_code=%{location}<br>people_fully_vaccinated=%{marker.size}<extra></extra>",
         "legendgroup": "CPV",
         "locations": [
          "CPV"
         ],
         "marker": {
          "color": "#ab63fa",
          "size": [
           25824
          ],
          "sizemode": "area",
          "sizeref": 1942615,
          "symbol": "circle"
         },
         "mode": "markers",
         "name": "CPV",
         "showlegend": true,
         "type": "scattergeo"
        },
        {
         "geo": "geo",
         "hovertemplate": "iso_code=%{location}<br>people_fully_vaccinated=%{marker.size}<extra></extra>",
         "legendgroup": "CRI",
         "locations": [
          "CRI"
         ],
         "marker": {
          "color": "#FFA15A",
          "size": [
           862851
          ],
          "sizemode": "area",
          "sizeref": 1942615,
          "symbol": "circle"
         },
         "mode": "markers",
         "name": "CRI",
         "showlegend": true,
         "type": "scattergeo"
        },
        {
         "geo": "geo",
         "hovertemplate": "iso_code=%{location}<br>people_fully_vaccinated=%{marker.size}<extra></extra>",
         "legendgroup": "CUB",
         "locations": [
          "CUB"
         ],
         "marker": {
          "color": "#19d3f3",
          "size": [
           2990494
          ],
          "sizemode": "area",
          "sizeref": 1942615,
          "symbol": "circle"
         },
         "mode": "markers",
         "name": "CUB",
         "showlegend": true,
         "type": "scattergeo"
        },
        {
         "geo": "geo",
         "hovertemplate": "iso_code=%{location}<br>people_fully_vaccinated=%{marker.size}<extra></extra>",
         "legendgroup": "CUW",
         "locations": [
          "CUW"
         ],
         "marker": {
          "color": "#FF6692",
          "size": [
           84698
          ],
          "sizemode": "area",
          "sizeref": 1942615,
          "symbol": "circle"
         },
         "mode": "markers",
         "name": "CUW",
         "showlegend": true,
         "type": "scattergeo"
        },
        {
         "geo": "geo",
         "hovertemplate": "iso_code=%{location}<br>people_fully_vaccinated=%{marker.size}<extra></extra>",
         "legendgroup": "CYM",
         "locations": [
          "CYM"
         ],
         "marker": {
          "color": "#B6E880",
          "size": [
           48512
          ],
          "sizemode": "area",
          "sizeref": 1942615,
          "symbol": "circle"
         },
         "mode": "markers",
         "name": "CYM",
         "showlegend": true,
         "type": "scattergeo"
        },
        {
         "geo": "geo",
         "hovertemplate": "iso_code=%{location}<br>people_fully_vaccinated=%{marker.size}<extra></extra>",
         "legendgroup": "CYP",
         "locations": [
          "CYP"
         ],
         "marker": {
          "color": "#FF97FF",
          "size": [
           486972
          ],
          "sizemode": "area",
          "sizeref": 1942615,
          "symbol": "circle"
         },
         "mode": "markers",
         "name": "CYP",
         "showlegend": true,
         "type": "scattergeo"
        },
        {
         "geo": "geo",
         "hovertemplate": "iso_code=%{location}<br>people_fully_vaccinated=%{marker.size}<extra></extra>",
         "legendgroup": "CZE",
         "locations": [
          "CZE"
         ],
         "marker": {
          "color": "#FECB52",
          "size": [
           5308063
          ],
          "sizemode": "area",
          "sizeref": 1942615,
          "symbol": "circle"
         },
         "mode": "markers",
         "name": "CZE",
         "showlegend": true,
         "type": "scattergeo"
        },
        {
         "geo": "geo",
         "hovertemplate": "iso_code=%{location}<br>people_fully_vaccinated=%{marker.size}<extra></extra>",
         "legendgroup": "DEU",
         "locations": [
          "DEU"
         ],
         "marker": {
          "color": "#636efa",
          "size": [
           47367929
          ],
          "sizemode": "area",
          "sizeref": 1942615,
          "symbol": "circle"
         },
         "mode": "markers",
         "name": "DEU",
         "showlegend": true,
         "type": "scattergeo"
        },
        {
         "geo": "geo",
         "hovertemplate": "iso_code=%{location}<br>people_fully_vaccinated=%{marker.size}<extra></extra>",
         "legendgroup": "DJI",
         "locations": [
          "DJI"
         ],
         "marker": {
          "color": "#EF553B",
          "size": [
           20516
          ],
          "sizemode": "area",
          "sizeref": 1942615,
          "symbol": "circle"
         },
         "mode": "markers",
         "name": "DJI",
         "showlegend": true,
         "type": "scattergeo"
        },
        {
         "geo": "geo",
         "hovertemplate": "iso_code=%{location}<br>people_fully_vaccinated=%{marker.size}<extra></extra>",
         "legendgroup": "DMA",
         "locations": [
          "DMA"
         ],
         "marker": {
          "color": "#00cc96",
          "size": [
           19732
          ],
          "sizemode": "area",
          "sizeref": 1942615,
          "symbol": "circle"
         },
         "mode": "markers",
         "name": "DMA",
         "showlegend": true,
         "type": "scattergeo"
        },
        {
         "geo": "geo",
         "hovertemplate": "iso_code=%{location}<br>people_fully_vaccinated=%{marker.size}<extra></extra>",
         "legendgroup": "DNK",
         "locations": [
          "DNK"
         ],
         "marker": {
          "color": "#ab63fa",
          "size": [
           3749106
          ],
          "sizemode": "area",
          "sizeref": 1942615,
          "symbol": "circle"
         },
         "mode": "markers",
         "name": "DNK",
         "showlegend": true,
         "type": "scattergeo"
        },
        {
         "geo": "geo",
         "hovertemplate": "iso_code=%{location}<br>people_fully_vaccinated=%{marker.size}<extra></extra>",
         "legendgroup": "DOM",
         "locations": [
          "DOM"
         ],
         "marker": {
          "color": "#FFA15A",
          "size": [
           4455264
          ],
          "sizemode": "area",
          "sizeref": 1942615,
          "symbol": "circle"
         },
         "mode": "markers",
         "name": "DOM",
         "showlegend": true,
         "type": "scattergeo"
        },
        {
         "geo": "geo",
         "hovertemplate": "iso_code=%{location}<br>people_fully_vaccinated=%{marker.size}<extra></extra>",
         "legendgroup": "DZA",
         "locations": [
          "DZA"
         ],
         "marker": {
          "color": "#19d3f3",
          "size": [
           724812
          ],
          "sizemode": "area",
          "sizeref": 1942615,
          "symbol": "circle"
         },
         "mode": "markers",
         "name": "DZA",
         "showlegend": true,
         "type": "scattergeo"
        },
        {
         "geo": "geo",
         "hovertemplate": "iso_code=%{location}<br>people_fully_vaccinated=%{marker.size}<extra></extra>",
         "legendgroup": "ECU",
         "locations": [
          "ECU"
         ],
         "marker": {
          "color": "#FF6692",
          "size": [
           4622931
          ],
          "sizemode": "area",
          "sizeref": 1942615,
          "symbol": "circle"
         },
         "mode": "markers",
         "name": "ECU",
         "showlegend": true,
         "type": "scattergeo"
        },
        {
         "geo": "geo",
         "hovertemplate": "iso_code=%{location}<br>people_fully_vaccinated=%{marker.size}<extra></extra>",
         "legendgroup": "EGY",
         "locations": [
          "EGY"
         ],
         "marker": {
          "color": "#B6E880",
          "size": [
           1866622
          ],
          "sizemode": "area",
          "sizeref": 1942615,
          "symbol": "circle"
         },
         "mode": "markers",
         "name": "EGY",
         "showlegend": true,
         "type": "scattergeo"
        },
        {
         "geo": "geo",
         "hovertemplate": "iso_code=%{location}<br>people_fully_vaccinated=%{marker.size}<extra></extra>",
         "legendgroup": "ESP",
         "locations": [
          "ESP"
         ],
         "marker": {
          "color": "#FF97FF",
          "size": [
           29526380
          ],
          "sizemode": "area",
          "sizeref": 1942615,
          "symbol": "circle"
         },
         "mode": "markers",
         "name": "ESP",
         "showlegend": true,
         "type": "scattergeo"
        },
        {
         "geo": "geo",
         "hovertemplate": "iso_code=%{location}<br>people_fully_vaccinated=%{marker.size}<extra></extra>",
         "legendgroup": "EST",
         "locations": [
          "EST"
         ],
         "marker": {
          "color": "#FECB52",
          "size": [
           516547
          ],
          "sizemode": "area",
          "sizeref": 1942615,
          "symbol": "circle"
         },
         "mode": "markers",
         "name": "EST",
         "showlegend": true,
         "type": "scattergeo"
        },
        {
         "geo": "geo",
         "hovertemplate": "iso_code=%{location}<br>people_fully_vaccinated=%{marker.size}<extra></extra>",
         "legendgroup": "ETH",
         "locations": [
          "ETH"
         ],
         "marker": {
          "color": "#636efa",
          "size": [
           0
          ],
          "sizemode": "area",
          "sizeref": 1942615,
          "symbol": "circle"
         },
         "mode": "markers",
         "name": "ETH",
         "showlegend": true,
         "type": "scattergeo"
        },
        {
         "geo": "geo",
         "hovertemplate": "iso_code=%{location}<br>people_fully_vaccinated=%{marker.size}<extra></extra>",
         "legendgroup": "FIN",
         "locations": [
          "FIN"
         ],
         "marker": {
          "color": "#EF553B",
          "size": [
           2340299
          ],
          "sizemode": "area",
          "sizeref": 1942615,
          "symbol": "circle"
         },
         "mode": "markers",
         "name": "FIN",
         "showlegend": true,
         "type": "scattergeo"
        },
        {
         "geo": "geo",
         "hovertemplate": "iso_code=%{location}<br>people_fully_vaccinated=%{marker.size}<extra></extra>",
         "legendgroup": "FJI",
         "locations": [
          "FJI"
         ],
         "marker": {
          "color": "#00cc96",
          "size": [
           178606
          ],
          "sizemode": "area",
          "sizeref": 1942615,
          "symbol": "circle"
         },
         "mode": "markers",
         "name": "FJI",
         "showlegend": true,
         "type": "scattergeo"
        },
        {
         "geo": "geo",
         "hovertemplate": "iso_code=%{location}<br>people_fully_vaccinated=%{marker.size}<extra></extra>",
         "legendgroup": "FLK",
         "locations": [
          "FLK"
         ],
         "marker": {
          "color": "#ab63fa",
          "size": [
           1775
          ],
          "sizemode": "area",
          "sizeref": 1942615,
          "symbol": "circle"
         },
         "mode": "markers",
         "name": "FLK",
         "showlegend": true,
         "type": "scattergeo"
        },
        {
         "geo": "geo",
         "hovertemplate": "iso_code=%{location}<br>people_fully_vaccinated=%{marker.size}<extra></extra>",
         "legendgroup": "FRA",
         "locations": [
          "FRA"
         ],
         "marker": {
          "color": "#FFA15A",
          "size": [
           34991742
          ],
          "sizemode": "area",
          "sizeref": 1942615,
          "symbol": "circle"
         },
         "mode": "markers",
         "name": "FRA",
         "showlegend": true,
         "type": "scattergeo"
        },
        {
         "geo": "geo",
         "hovertemplate": "iso_code=%{location}<br>people_fully_vaccinated=%{marker.size}<extra></extra>",
         "legendgroup": "FRO",
         "locations": [
          "FRO"
         ],
         "marker": {
          "color": "#19d3f3",
          "size": [
           32915
          ],
          "sizemode": "area",
          "sizeref": 1942615,
          "symbol": "circle"
         },
         "mode": "markers",
         "name": "FRO",
         "showlegend": true,
         "type": "scattergeo"
        },
        {
         "geo": "geo",
         "hovertemplate": "iso_code=%{location}<br>people_fully_vaccinated=%{marker.size}<extra></extra>",
         "legendgroup": "GAB",
         "locations": [
          "GAB"
         ],
         "marker": {
          "color": "#FF6692",
          "size": [
           48760
          ],
          "sizemode": "area",
          "sizeref": 1942615,
          "symbol": "circle"
         },
         "mode": "markers",
         "name": "GAB",
         "showlegend": true,
         "type": "scattergeo"
        },
        {
         "geo": "geo",
         "hovertemplate": "iso_code=%{location}<br>people_fully_vaccinated=%{marker.size}<extra></extra>",
         "legendgroup": "GBR",
         "locations": [
          "GBR"
         ],
         "marker": {
          "color": "#B6E880",
          "size": [
           40372981
          ],
          "sizemode": "area",
          "sizeref": 1942615,
          "symbol": "circle"
         },
         "mode": "markers",
         "name": "GBR",
         "showlegend": true,
         "type": "scattergeo"
        },
        {
         "geo": "geo",
         "hovertemplate": "iso_code=%{location}<br>people_fully_vaccinated=%{marker.size}<extra></extra>",
         "legendgroup": "GEO",
         "locations": [
          "GEO"
         ],
         "marker": {
          "color": "#FF97FF",
          "size": [
           237149
          ],
          "sizemode": "area",
          "sizeref": 1942615,
          "symbol": "circle"
         },
         "mode": "markers",
         "name": "GEO",
         "showlegend": true,
         "type": "scattergeo"
        },
        {
         "geo": "geo",
         "hovertemplate": "iso_code=%{location}<br>people_fully_vaccinated=%{marker.size}<extra></extra>",
         "legendgroup": "GGY",
         "locations": [
          "GGY"
         ],
         "marker": {
          "color": "#FECB52",
          "size": [
           13618
          ],
          "sizemode": "area",
          "sizeref": 1942615,
          "symbol": "circle"
         },
         "mode": "markers",
         "name": "GGY",
         "showlegend": true,
         "type": "scattergeo"
        },
        {
         "geo": "geo",
         "hovertemplate": "iso_code=%{location}<br>people_fully_vaccinated=%{marker.size}<extra></extra>",
         "legendgroup": "GHA",
         "locations": [
          "GHA"
         ],
         "marker": {
          "color": "#636efa",
          "size": [
           405971
          ],
          "sizemode": "area",
          "sizeref": 1942615,
          "symbol": "circle"
         },
         "mode": "markers",
         "name": "GHA",
         "showlegend": true,
         "type": "scattergeo"
        },
        {
         "geo": "geo",
         "hovertemplate": "iso_code=%{location}<br>people_fully_vaccinated=%{marker.size}<extra></extra>",
         "legendgroup": "GIB",
         "locations": [
          "GIB"
         ],
         "marker": {
          "color": "#EF553B",
          "size": [
           39168
          ],
          "sizemode": "area",
          "sizeref": 1942615,
          "symbol": "circle"
         },
         "mode": "markers",
         "name": "GIB",
         "showlegend": true,
         "type": "scattergeo"
        },
        {
         "geo": "geo",
         "hovertemplate": "iso_code=%{location}<br>people_fully_vaccinated=%{marker.size}<extra></extra>",
         "legendgroup": "GIN",
         "locations": [
          "GIN"
         ],
         "marker": {
          "color": "#00cc96",
          "size": [
           343248
          ],
          "sizemode": "area",
          "sizeref": 1942615,
          "symbol": "circle"
         },
         "mode": "markers",
         "name": "GIN",
         "showlegend": true,
         "type": "scattergeo"
        },
        {
         "geo": "geo",
         "hovertemplate": "iso_code=%{location}<br>people_fully_vaccinated=%{marker.size}<extra></extra>",
         "legendgroup": "GMB",
         "locations": [
          "GMB"
         ],
         "marker": {
          "color": "#ab63fa",
          "size": [
           12303
          ],
          "sizemode": "area",
          "sizeref": 1942615,
          "symbol": "circle"
         },
         "mode": "markers",
         "name": "GMB",
         "showlegend": true,
         "type": "scattergeo"
        },
        {
         "geo": "geo",
         "hovertemplate": "iso_code=%{location}<br>people_fully_vaccinated=%{marker.size}<extra></extra>",
         "legendgroup": "GNB",
         "locations": [
          "GNB"
         ],
         "marker": {
          "color": "#FFA15A",
          "size": [
           2374
          ],
          "sizemode": "area",
          "sizeref": 1942615,
          "symbol": "circle"
         },
         "mode": "markers",
         "name": "GNB",
         "showlegend": true,
         "type": "scattergeo"
        },
        {
         "geo": "geo",
         "hovertemplate": "iso_code=%{location}<br>people_fully_vaccinated=%{marker.size}<extra></extra>",
         "legendgroup": "GNQ",
         "locations": [
          "GNQ"
         ],
         "marker": {
          "color": "#19d3f3",
          "size": [
           136091
          ],
          "sizemode": "area",
          "sizeref": 1942615,
          "symbol": "circle"
         },
         "mode": "markers",
         "name": "GNQ",
         "showlegend": true,
         "type": "scattergeo"
        },
        {
         "geo": "geo",
         "hovertemplate": "iso_code=%{location}<br>people_fully_vaccinated=%{marker.size}<extra></extra>",
         "legendgroup": "GRC",
         "locations": [
          "GRC"
         ],
         "marker": {
          "color": "#FF6692",
          "size": [
           5504723
          ],
          "sizemode": "area",
          "sizeref": 1942615,
          "symbol": "circle"
         },
         "mode": "markers",
         "name": "GRC",
         "showlegend": true,
         "type": "scattergeo"
        },
        {
         "geo": "geo",
         "hovertemplate": "iso_code=%{location}<br>people_fully_vaccinated=%{marker.size}<extra></extra>",
         "legendgroup": "GRD",
         "locations": [
          "GRD"
         ],
         "marker": {
          "color": "#B6E880",
          "size": [
           17013
          ],
          "sizemode": "area",
          "sizeref": 1942615,
          "symbol": "circle"
         },
         "mode": "markers",
         "name": "GRD",
         "showlegend": true,
         "type": "scattergeo"
        },
        {
         "geo": "geo",
         "hovertemplate": "iso_code=%{location}<br>people_fully_vaccinated=%{marker.size}<extra></extra>",
         "legendgroup": "GRL",
         "locations": [
          "GRL"
         ],
         "marker": {
          "color": "#FF97FF",
          "size": [
           29684
          ],
          "sizemode": "area",
          "sizeref": 1942615,
          "symbol": "circle"
         },
         "mode": "markers",
         "name": "GRL",
         "showlegend": true,
         "type": "scattergeo"
        },
        {
         "geo": "geo",
         "hovertemplate": "iso_code=%{location}<br>people_fully_vaccinated=%{marker.size}<extra></extra>",
         "legendgroup": "GTM",
         "locations": [
          "GTM"
         ],
         "marker": {
          "color": "#FECB52",
          "size": [
           514253
          ],
          "sizemode": "area",
          "sizeref": 1942615,
          "symbol": "circle"
         },
         "mode": "markers",
         "name": "GTM",
         "showlegend": true,
         "type": "scattergeo"
        },
        {
         "geo": "geo",
         "hovertemplate": "iso_code=%{location}<br>people_fully_vaccinated=%{marker.size}<extra></extra>",
         "legendgroup": "GUY",
         "locations": [
          "GUY"
         ],
         "marker": {
          "color": "#636efa",
          "size": [
           146091
          ],
          "sizemode": "area",
          "sizeref": 1942615,
          "symbol": "circle"
         },
         "mode": "markers",
         "name": "GUY",
         "showlegend": true,
         "type": "scattergeo"
        },
        {
         "geo": "geo",
         "hovertemplate": "iso_code=%{location}<br>people_fully_vaccinated=%{marker.size}<extra></extra>",
         "legendgroup": "HKG",
         "locations": [
          "HKG"
         ],
         "marker": {
          "color": "#EF553B",
          "size": [
           2880923
          ],
          "sizemode": "area",
          "sizeref": 1942615,
          "symbol": "circle"
         },
         "mode": "markers",
         "name": "HKG",
         "showlegend": true,
         "type": "scattergeo"
        },
        {
         "geo": "geo",
         "hovertemplate": "iso_code=%{location}<br>people_fully_vaccinated=%{marker.size}<extra></extra>",
         "legendgroup": "HND",
         "locations": [
          "HND"
         ],
         "marker": {
          "color": "#00cc96",
          "size": [
           532819
          ],
          "sizemode": "area",
          "sizeref": 1942615,
          "symbol": "circle"
         },
         "mode": "markers",
         "name": "HND",
         "showlegend": true,
         "type": "scattergeo"
        },
        {
         "geo": "geo",
         "hovertemplate": "iso_code=%{location}<br>people_fully_vaccinated=%{marker.size}<extra></extra>",
         "legendgroup": "HRV",
         "locations": [
          "HRV"
         ],
         "marker": {
          "color": "#ab63fa",
          "size": [
           1546645
          ],
          "sizemode": "area",
          "sizeref": 1942615,
          "symbol": "circle"
         },
         "mode": "markers",
         "name": "HRV",
         "showlegend": true,
         "type": "scattergeo"
        },
        {
         "geo": "geo",
         "hovertemplate": "iso_code=%{location}<br>people_fully_vaccinated=%{marker.size}<extra></extra>",
         "legendgroup": "HTI",
         "locations": [
          "HTI"
         ],
         "marker": {
          "color": "#FFA15A",
          "size": [
           366
          ],
          "sizemode": "area",
          "sizeref": 1942615,
          "symbol": "circle"
         },
         "mode": "markers",
         "name": "HTI",
         "showlegend": true,
         "type": "scattergeo"
        },
        {
         "geo": "geo",
         "hovertemplate": "iso_code=%{location}<br>people_fully_vaccinated=%{marker.size}<extra></extra>",
         "legendgroup": "HUN",
         "locations": [
          "HUN"
         ],
         "marker": {
          "color": "#19d3f3",
          "size": [
           5498222
          ],
          "sizemode": "area",
          "sizeref": 1942615,
          "symbol": "circle"
         },
         "mode": "markers",
         "name": "HUN",
         "showlegend": true,
         "type": "scattergeo"
        },
        {
         "geo": "geo",
         "hovertemplate": "iso_code=%{location}<br>people_fully_vaccinated=%{marker.size}<extra></extra>",
         "legendgroup": "IDN",
         "locations": [
          "IDN"
         ],
         "marker": {
          "color": "#FF6692",
          "size": [
           27793556
          ],
          "sizemode": "area",
          "sizeref": 1942615,
          "symbol": "circle"
         },
         "mode": "markers",
         "name": "IDN",
         "showlegend": true,
         "type": "scattergeo"
        },
        {
         "geo": "geo",
         "hovertemplate": "iso_code=%{location}<br>people_fully_vaccinated=%{marker.size}<extra></extra>",
         "legendgroup": "IMN",
         "locations": [
          "IMN"
         ],
         "marker": {
          "color": "#B6E880",
          "size": [
           60563
          ],
          "sizemode": "area",
          "sizeref": 1942615,
          "symbol": "circle"
         },
         "mode": "markers",
         "name": "IMN",
         "showlegend": true,
         "type": "scattergeo"
        },
        {
         "geo": "geo",
         "hovertemplate": "iso_code=%{location}<br>people_fully_vaccinated=%{marker.size}<extra></extra>",
         "legendgroup": "IND",
         "locations": [
          "IND"
         ],
         "marker": {
          "color": "#FF97FF",
          "size": [
           121270889
          ],
          "sizemode": "area",
          "sizeref": 1942615,
          "symbol": "circle"
         },
         "mode": "markers",
         "name": "IND",
         "showlegend": true,
         "type": "scattergeo"
        },
        {
         "geo": "geo",
         "hovertemplate": "iso_code=%{location}<br>people_fully_vaccinated=%{marker.size}<extra></extra>",
         "legendgroup": "IRL",
         "locations": [
          "IRL"
         ],
         "marker": {
          "color": "#FECB52",
          "size": [
           3073417
          ],
          "sizemode": "area",
          "sizeref": 1942615,
          "symbol": "circle"
         },
         "mode": "markers",
         "name": "IRL",
         "showlegend": true,
         "type": "scattergeo"
        },
        {
         "geo": "geo",
         "hovertemplate": "iso_code=%{location}<br>people_fully_vaccinated=%{marker.size}<extra></extra>",
         "legendgroup": "IRN",
         "locations": [
          "IRN"
         ],
         "marker": {
          "color": "#636efa",
          "size": [
           3152074
          ],
          "sizemode": "area",
          "sizeref": 1942615,
          "symbol": "circle"
         },
         "mode": "markers",
         "name": "IRN",
         "showlegend": true,
         "type": "scattergeo"
        },
        {
         "geo": "geo",
         "hovertemplate": "iso_code=%{location}<br>people_fully_vaccinated=%{marker.size}<extra></extra>",
         "legendgroup": "IRQ",
         "locations": [
          "IRQ"
         ],
         "marker": {
          "color": "#EF553B",
          "size": [
           494900
          ],
          "sizemode": "area",
          "sizeref": 1942615,
          "symbol": "circle"
         },
         "mode": "markers",
         "name": "IRQ",
         "showlegend": true,
         "type": "scattergeo"
        },
        {
         "geo": "geo",
         "hovertemplate": "iso_code=%{location}<br>people_fully_vaccinated=%{marker.size}<extra></extra>",
         "legendgroup": "ISL",
         "locations": [
          "ISL"
         ],
         "marker": {
          "color": "#00cc96",
          "size": [
           255322
          ],
          "sizemode": "area",
          "sizeref": 1942615,
          "symbol": "circle"
         },
         "mode": "markers",
         "name": "ISL",
         "showlegend": true,
         "type": "scattergeo"
        },
        {
         "geo": "geo",
         "hovertemplate": "iso_code=%{location}<br>people_fully_vaccinated=%{marker.size}<extra></extra>",
         "legendgroup": "ISR",
         "locations": [
          "ISR"
         ],
         "marker": {
          "color": "#ab63fa",
          "size": [
           5412337
          ],
          "sizemode": "area",
          "sizeref": 1942615,
          "symbol": "circle"
         },
         "mode": "markers",
         "name": "ISR",
         "showlegend": true,
         "type": "scattergeo"
        },
        {
         "geo": "geo",
         "hovertemplate": "iso_code=%{location}<br>people_fully_vaccinated=%{marker.size}<extra></extra>",
         "legendgroup": "ITA",
         "locations": [
          "ITA"
         ],
         "marker": {
          "color": "#FFA15A",
          "size": [
           34468779
          ],
          "sizemode": "area",
          "sizeref": 1942615,
          "symbol": "circle"
         },
         "mode": "markers",
         "name": "ITA",
         "showlegend": true,
         "type": "scattergeo"
        },
        {
         "geo": "geo",
         "hovertemplate": "iso_code=%{location}<br>people_fully_vaccinated=%{marker.size}<extra></extra>",
         "legendgroup": "JAM",
         "locations": [
          "JAM"
         ],
         "marker": {
          "color": "#19d3f3",
          "size": [
           135115
          ],
          "sizemode": "area",
          "sizeref": 1942615,
          "symbol": "circle"
         },
         "mode": "markers",
         "name": "JAM",
         "showlegend": true,
         "type": "scattergeo"
        },
        {
         "geo": "geo",
         "hovertemplate": "iso_code=%{location}<br>people_fully_vaccinated=%{marker.size}<extra></extra>",
         "legendgroup": "JEY",
         "locations": [
          "JEY"
         ],
         "marker": {
          "color": "#FF6692",
          "size": [
           69997
          ],
          "sizemode": "area",
          "sizeref": 1942615,
          "symbol": "circle"
         },
         "mode": "markers",
         "name": "JEY",
         "showlegend": true,
         "type": "scattergeo"
        },
        {
         "geo": "geo",
         "hovertemplate": "iso_code=%{location}<br>people_fully_vaccinated=%{marker.size}<extra></extra>",
         "legendgroup": "JOR",
         "locations": [
          "JOR"
         ],
         "marker": {
          "color": "#B6E880",
          "size": [
           2498898
          ],
          "sizemode": "area",
          "sizeref": 1942615,
          "symbol": "circle"
         },
         "mode": "markers",
         "name": "JOR",
         "showlegend": true,
         "type": "scattergeo"
        },
        {
         "geo": "geo",
         "hovertemplate": "iso_code=%{location}<br>people_fully_vaccinated=%{marker.size}<extra></extra>",
         "legendgroup": "JPN",
         "locations": [
          "JPN"
         ],
         "marker": {
          "color": "#FF97FF",
          "size": [
           46422145
          ],
          "sizemode": "area",
          "sizeref": 1942615,
          "symbol": "circle"
         },
         "mode": "markers",
         "name": "JPN",
         "showlegend": true,
         "type": "scattergeo"
        },
        {
         "geo": "geo",
         "hovertemplate": "iso_code=%{location}<br>people_fully_vaccinated=%{marker.size}<extra></extra>",
         "legendgroup": "KAZ",
         "locations": [
          "KAZ"
         ],
         "marker": {
          "color": "#FECB52",
          "size": [
           4668157
          ],
          "sizemode": "area",
          "sizeref": 1942615,
          "symbol": "circle"
         },
         "mode": "markers",
         "name": "KAZ",
         "showlegend": true,
         "type": "scattergeo"
        },
        {
         "geo": "geo",
         "hovertemplate": "iso_code=%{location}<br>people_fully_vaccinated=%{marker.size}<extra></extra>",
         "legendgroup": "KEN",
         "locations": [
          "KEN"
         ],
         "marker": {
          "color": "#636efa",
          "size": [
           729667
          ],
          "sizemode": "area",
          "sizeref": 1942615,
          "symbol": "circle"
         },
         "mode": "markers",
         "name": "KEN",
         "showlegend": true,
         "type": "scattergeo"
        },
        {
         "geo": "geo",
         "hovertemplate": "iso_code=%{location}<br>people_fully_vaccinated=%{marker.size}<extra></extra>",
         "legendgroup": "KGZ",
         "locations": [
          "KGZ"
         ],
         "marker": {
          "color": "#EF553B",
          "size": [
           261380
          ],
          "sizemode": "area",
          "sizeref": 1942615,
          "symbol": "circle"
         },
         "mode": "markers",
         "name": "KGZ",
         "showlegend": true,
         "type": "scattergeo"
        },
        {
         "geo": "geo",
         "hovertemplate": "iso_code=%{location}<br>people_fully_vaccinated=%{marker.size}<extra></extra>",
         "legendgroup": "KHM",
         "locations": [
          "KHM"
         ],
         "marker": {
          "color": "#00cc96",
          "size": [
           6967688
          ],
          "sizemode": "area",
          "sizeref": 1942615,
          "symbol": "circle"
         },
         "mode": "markers",
         "name": "KHM",
         "showlegend": true,
         "type": "scattergeo"
        },
        {
         "geo": "geo",
         "hovertemplate": "iso_code=%{location}<br>people_fully_vaccinated=%{marker.size}<extra></extra>",
         "legendgroup": "KIR",
         "locations": [
          "KIR"
         ],
         "marker": {
          "color": "#ab63fa",
          "size": [
           0
          ],
          "sizemode": "area",
          "sizeref": 1942615,
          "symbol": "circle"
         },
         "mode": "markers",
         "name": "KIR",
         "showlegend": true,
         "type": "scattergeo"
        },
        {
         "geo": "geo",
         "hovertemplate": "iso_code=%{location}<br>people_fully_vaccinated=%{marker.size}<extra></extra>",
         "legendgroup": "KNA",
         "locations": [
          "KNA"
         ],
         "marker": {
          "color": "#FFA15A",
          "size": [
           20000
          ],
          "sizemode": "area",
          "sizeref": 1942615,
          "symbol": "circle"
         },
         "mode": "markers",
         "name": "KNA",
         "showlegend": true,
         "type": "scattergeo"
        },
        {
         "geo": "geo",
         "hovertemplate": "iso_code=%{location}<br>people_fully_vaccinated=%{marker.size}<extra></extra>",
         "legendgroup": "KOR",
         "locations": [
          "KOR"
         ],
         "marker": {
          "color": "#19d3f3",
          "size": [
           9735672
          ],
          "sizemode": "area",
          "sizeref": 1942615,
          "symbol": "circle"
         },
         "mode": "markers",
         "name": "KOR",
         "showlegend": true,
         "type": "scattergeo"
        },
        {
         "geo": "geo",
         "hovertemplate": "iso_code=%{location}<br>people_fully_vaccinated=%{marker.size}<extra></extra>",
         "legendgroup": "KWT",
         "locations": [
          "KWT"
         ],
         "marker": {
          "color": "#FF6692",
          "size": [
           923307
          ],
          "sizemode": "area",
          "sizeref": 1942615,
          "symbol": "circle"
         },
         "mode": "markers",
         "name": "KWT",
         "showlegend": true,
         "type": "scattergeo"
        },
        {
         "geo": "geo",
         "hovertemplate": "iso_code=%{location}<br>people_fully_vaccinated=%{marker.size}<extra></extra>",
         "legendgroup": "LAO",
         "locations": [
          "LAO"
         ],
         "marker": {
          "color": "#B6E880",
          "size": [
           1455478
          ],
          "sizemode": "area",
          "sizeref": 1942615,
          "symbol": "circle"
         },
         "mode": "markers",
         "name": "LAO",
         "showlegend": true,
         "type": "scattergeo"
        },
        {
         "geo": "geo",
         "hovertemplate": "iso_code=%{location}<br>people_fully_vaccinated=%{marker.size}<extra></extra>",
         "legendgroup": "LBN",
         "locations": [
          "LBN"
         ],
         "marker": {
          "color": "#FF97FF",
          "size": [
           972073
          ],
          "sizemode": "area",
          "sizeref": 1942615,
          "symbol": "circle"
         },
         "mode": "markers",
         "name": "LBN",
         "showlegend": true,
         "type": "scattergeo"
        },
        {
         "geo": "geo",
         "hovertemplate": "iso_code=%{location}<br>people_fully_vaccinated=%{marker.size}<extra></extra>",
         "legendgroup": "LBR",
         "locations": [
          "LBR"
         ],
         "marker": {
          "color": "#FECB52",
          "size": [
           9135
          ],
          "sizemode": "area",
          "sizeref": 1942615,
          "symbol": "circle"
         },
         "mode": "markers",
         "name": "LBR",
         "showlegend": true,
         "type": "scattergeo"
        },
        {
         "geo": "geo",
         "hovertemplate": "iso_code=%{location}<br>people_fully_vaccinated=%{marker.size}<extra></extra>",
         "legendgroup": "LBY",
         "locations": [
          "LBY"
         ],
         "marker": {
          "color": "#636efa",
          "size": [
           0
          ],
          "sizemode": "area",
          "sizeref": 1942615,
          "symbol": "circle"
         },
         "mode": "markers",
         "name": "LBY",
         "showlegend": true,
         "type": "scattergeo"
        },
        {
         "geo": "geo",
         "hovertemplate": "iso_code=%{location}<br>people_fully_vaccinated=%{marker.size}<extra></extra>",
         "legendgroup": "LCA",
         "locations": [
          "LCA"
         ],
         "marker": {
          "color": "#EF553B",
          "size": [
           26063
          ],
          "sizemode": "area",
          "sizeref": 1942615,
          "symbol": "circle"
         },
         "mode": "markers",
         "name": "LCA",
         "showlegend": true,
         "type": "scattergeo"
        },
        {
         "geo": "geo",
         "hovertemplate": "iso_code=%{location}<br>people_fully_vaccinated=%{marker.size}<extra></extra>",
         "legendgroup": "LIE",
         "locations": [
          "LIE"
         ],
         "marker": {
          "color": "#00cc96",
          "size": [
           20025
          ],
          "sizemode": "area",
          "sizeref": 1942615,
          "symbol": "circle"
         },
         "mode": "markers",
         "name": "LIE",
         "showlegend": true,
         "type": "scattergeo"
        },
        {
         "geo": "geo",
         "hovertemplate": "iso_code=%{location}<br>people_fully_vaccinated=%{marker.size}<extra></extra>",
         "legendgroup": "LKA",
         "locations": [
          "LKA"
         ],
         "marker": {
          "color": "#ab63fa",
          "size": [
           3775976
          ],
          "sizemode": "area",
          "sizeref": 1942615,
          "symbol": "circle"
         },
         "mode": "markers",
         "name": "LKA",
         "showlegend": true,
         "type": "scattergeo"
        },
        {
         "geo": "geo",
         "hovertemplate": "iso_code=%{location}<br>people_fully_vaccinated=%{marker.size}<extra></extra>",
         "legendgroup": "LSO",
         "locations": [
          "LSO"
         ],
         "marker": {
          "color": "#FFA15A",
          "size": [
           36311
          ],
          "sizemode": "area",
          "sizeref": 1942615,
          "symbol": "circle"
         },
         "mode": "markers",
         "name": "LSO",
         "showlegend": true,
         "type": "scattergeo"
        },
        {
         "geo": "geo",
         "hovertemplate": "iso_code=%{location}<br>people_fully_vaccinated=%{marker.size}<extra></extra>",
         "legendgroup": "LTU",
         "locations": [
          "LTU"
         ],
         "marker": {
          "color": "#19d3f3",
          "size": [
           1363184
          ],
          "sizemode": "area",
          "sizeref": 1942615,
          "symbol": "circle"
         },
         "mode": "markers",
         "name": "LTU",
         "showlegend": true,
         "type": "scattergeo"
        },
        {
         "geo": "geo",
         "hovertemplate": "iso_code=%{location}<br>people_fully_vaccinated=%{marker.size}<extra></extra>",
         "legendgroup": "LUX",
         "locations": [
          "LUX"
         ],
         "marker": {
          "color": "#FF6692",
          "size": [
           343025
          ],
          "sizemode": "area",
          "sizeref": 1942615,
          "symbol": "circle"
         },
         "mode": "markers",
         "name": "LUX",
         "showlegend": true,
         "type": "scattergeo"
        },
        {
         "geo": "geo",
         "hovertemplate": "iso_code=%{location}<br>people_fully_vaccinated=%{marker.size}<extra></extra>",
         "legendgroup": "LVA",
         "locations": [
          "LVA"
         ],
         "marker": {
          "color": "#B6E880",
          "size": [
           717589
          ],
          "sizemode": "area",
          "sizeref": 1942615,
          "symbol": "circle"
         },
         "mode": "markers",
         "name": "LVA",
         "showlegend": true,
         "type": "scattergeo"
        },
        {
         "geo": "geo",
         "hovertemplate": "iso_code=%{location}<br>people_fully_vaccinated=%{marker.size}<extra></extra>",
         "legendgroup": "MAC",
         "locations": [
          "MAC"
         ],
         "marker": {
          "color": "#FF97FF",
          "size": [
           247683
          ],
          "sizemode": "area",
          "sizeref": 1942615,
          "symbol": "circle"
         },
         "mode": "markers",
         "name": "MAC",
         "showlegend": true,
         "type": "scattergeo"
        },
        {
         "geo": "geo",
         "hovertemplate": "iso_code=%{location}<br>people_fully_vaccinated=%{marker.size}<extra></extra>",
         "legendgroup": "MAR",
         "locations": [
          "MAR"
         ],
         "marker": {
          "color": "#FECB52",
          "size": [
           11389655
          ],
          "sizemode": "area",
          "sizeref": 1942615,
          "symbol": "circle"
         },
         "mode": "markers",
         "name": "MAR",
         "showlegend": true,
         "type": "scattergeo"
        },
        {
         "geo": "geo",
         "hovertemplate": "iso_code=%{location}<br>people_fully_vaccinated=%{marker.size}<extra></extra>",
         "legendgroup": "MCO",
         "locations": [
          "MCO"
         ],
         "marker": {
          "color": "#636efa",
          "size": [
           19606
          ],
          "sizemode": "area",
          "sizeref": 1942615,
          "symbol": "circle"
         },
         "mode": "markers",
         "name": "MCO",
         "showlegend": true,
         "type": "scattergeo"
        },
        {
         "geo": "geo",
         "hovertemplate": "iso_code=%{location}<br>people_fully_vaccinated=%{marker.size}<extra></extra>",
         "legendgroup": "MDA",
         "locations": [
          "MDA"
         ],
         "marker": {
          "color": "#EF553B",
          "size": [
           570879
          ],
          "sizemode": "area",
          "sizeref": 1942615,
          "symbol": "circle"
         },
         "mode": "markers",
         "name": "MDA",
         "showlegend": true,
         "type": "scattergeo"
        },
        {
         "geo": "geo",
         "hovertemplate": "iso_code=%{location}<br>people_fully_vaccinated=%{marker.size}<extra></extra>",
         "legendgroup": "MDG",
         "locations": [
          "MDG"
         ],
         "marker": {
          "color": "#00cc96",
          "size": [
           0
          ],
          "sizemode": "area",
          "sizeref": 1942615,
          "symbol": "circle"
         },
         "mode": "markers",
         "name": "MDG",
         "showlegend": true,
         "type": "scattergeo"
        },
        {
         "geo": "geo",
         "hovertemplate": "iso_code=%{location}<br>people_fully_vaccinated=%{marker.size}<extra></extra>",
         "legendgroup": "MDV",
         "locations": [
          "MDV"
         ],
         "marker": {
          "color": "#ab63fa",
          "size": [
           292905
          ],
          "sizemode": "area",
          "sizeref": 1942615,
          "symbol": "circle"
         },
         "mode": "markers",
         "name": "MDV",
         "showlegend": true,
         "type": "scattergeo"
        },
        {
         "geo": "geo",
         "hovertemplate": "iso_code=%{location}<br>people_fully_vaccinated=%{marker.size}<extra></extra>",
         "legendgroup": "MEX",
         "locations": [
          "MEX"
         ],
         "marker": {
          "color": "#FFA15A",
          "size": [
           29046598
          ],
          "sizemode": "area",
          "sizeref": 1942615,
          "symbol": "circle"
         },
         "mode": "markers",
         "name": "MEX",
         "showlegend": true,
         "type": "scattergeo"
        },
        {
         "geo": "geo",
         "hovertemplate": "iso_code=%{location}<br>people_fully_vaccinated=%{marker.size}<extra></extra>",
         "legendgroup": "MKD",
         "locations": [
          "MKD"
         ],
         "marker": {
          "color": "#19d3f3",
          "size": [
           462192
          ],
          "sizemode": "area",
          "sizeref": 1942615,
          "symbol": "circle"
         },
         "mode": "markers",
         "name": "MKD",
         "showlegend": true,
         "type": "scattergeo"
        },
        {
         "geo": "geo",
         "hovertemplate": "iso_code=%{location}<br>people_fully_vaccinated=%{marker.size}<extra></extra>",
         "legendgroup": "MLI",
         "locations": [
          "MLI"
         ],
         "marker": {
          "color": "#FF6692",
          "size": [
           86477
          ],
          "sizemode": "area",
          "sizeref": 1942615,
          "symbol": "circle"
         },
         "mode": "markers",
         "name": "MLI",
         "showlegend": true,
         "type": "scattergeo"
        },
        {
         "geo": "geo",
         "hovertemplate": "iso_code=%{location}<br>people_fully_vaccinated=%{marker.size}<extra></extra>",
         "legendgroup": "MLT",
         "locations": [
          "MLT"
         ],
         "marker": {
          "color": "#B6E880",
          "size": [
           404213
          ],
          "sizemode": "area",
          "sizeref": 1942615,
          "symbol": "circle"
         },
         "mode": "markers",
         "name": "MLT",
         "showlegend": true,
         "type": "scattergeo"
        },
        {
         "geo": "geo",
         "hovertemplate": "iso_code=%{location}<br>people_fully_vaccinated=%{marker.size}<extra></extra>",
         "legendgroup": "MMR",
         "locations": [
          "MMR"
         ],
         "marker": {
          "color": "#FF97FF",
          "size": [
           1527284
          ],
          "sizemode": "area",
          "sizeref": 1942615,
          "symbol": "circle"
         },
         "mode": "markers",
         "name": "MMR",
         "showlegend": true,
         "type": "scattergeo"
        },
        {
         "geo": "geo",
         "hovertemplate": "iso_code=%{location}<br>people_fully_vaccinated=%{marker.size}<extra></extra>",
         "legendgroup": "MNE",
         "locations": [
          "MNE"
         ],
         "marker": {
          "color": "#FECB52",
          "size": [
           163440
          ],
          "sizemode": "area",
          "sizeref": 1942615,
          "symbol": "circle"
         },
         "mode": "markers",
         "name": "MNE",
         "showlegend": true,
         "type": "scattergeo"
        },
        {
         "geo": "geo",
         "hovertemplate": "iso_code=%{location}<br>people_fully_vaccinated=%{marker.size}<extra></extra>",
         "legendgroup": "MNG",
         "locations": [
          "MNG"
         ],
         "marker": {
          "color": "#636efa",
          "size": [
           2018569
          ],
          "sizemode": "area",
          "sizeref": 1942615,
          "symbol": "circle"
         },
         "mode": "markers",
         "name": "MNG",
         "showlegend": true,
         "type": "scattergeo"
        },
        {
         "geo": "geo",
         "hovertemplate": "iso_code=%{location}<br>people_fully_vaccinated=%{marker.size}<extra></extra>",
         "legendgroup": "MOZ",
         "locations": [
          "MOZ"
         ],
         "marker": {
          "color": "#EF553B",
          "size": [
           478487
          ],
          "sizemode": "area",
          "sizeref": 1942615,
          "symbol": "circle"
         },
         "mode": "markers",
         "name": "MOZ",
         "showlegend": true,
         "type": "scattergeo"
        },
        {
         "geo": "geo",
         "hovertemplate": "iso_code=%{location}<br>people_fully_vaccinated=%{marker.size}<extra></extra>",
         "legendgroup": "MRT",
         "locations": [
          "MRT"
         ],
         "marker": {
          "color": "#00cc96",
          "size": [
           21545
          ],
          "sizemode": "area",
          "sizeref": 1942615,
          "symbol": "circle"
         },
         "mode": "markers",
         "name": "MRT",
         "showlegend": true,
         "type": "scattergeo"
        },
        {
         "geo": "geo",
         "hovertemplate": "iso_code=%{location}<br>people_fully_vaccinated=%{marker.size}<extra></extra>",
         "legendgroup": "MSR",
         "locations": [
          "MSR"
         ],
         "marker": {
          "color": "#ab63fa",
          "size": [
           1368
          ],
          "sizemode": "area",
          "sizeref": 1942615,
          "symbol": "circle"
         },
         "mode": "markers",
         "name": "MSR",
         "showlegend": true,
         "type": "scattergeo"
        },
        {
         "geo": "geo",
         "hovertemplate": "iso_code=%{location}<br>people_fully_vaccinated=%{marker.size}<extra></extra>",
         "legendgroup": "MUS",
         "locations": [
          "MUS"
         ],
         "marker": {
          "color": "#FFA15A",
          "size": [
           576180
          ],
          "sizemode": "area",
          "sizeref": 1942615,
          "symbol": "circle"
         },
         "mode": "markers",
         "name": "MUS",
         "showlegend": true,
         "type": "scattergeo"
        },
        {
         "geo": "geo",
         "hovertemplate": "iso_code=%{location}<br>people_fully_vaccinated=%{marker.size}<extra></extra>",
         "legendgroup": "MWI",
         "locations": [
          "MWI"
         ],
         "marker": {
          "color": "#19d3f3",
          "size": [
           219249
          ],
          "sizemode": "area",
          "sizeref": 1942615,
          "symbol": "circle"
         },
         "mode": "markers",
         "name": "MWI",
         "showlegend": true,
         "type": "scattergeo"
        },
        {
         "geo": "geo",
         "hovertemplate": "iso_code=%{location}<br>people_fully_vaccinated=%{marker.size}<extra></extra>",
         "legendgroup": "MYS",
         "locations": [
          "MYS"
         ],
         "marker": {
          "color": "#FF6692",
          "size": [
           10425300
          ],
          "sizemode": "area",
          "sizeref": 1942615,
          "symbol": "circle"
         },
         "mode": "markers",
         "name": "MYS",
         "showlegend": true,
         "type": "scattergeo"
        },
        {
         "geo": "geo",
         "hovertemplate": "iso_code=%{location}<br>people_fully_vaccinated=%{marker.size}<extra></extra>",
         "legendgroup": "NAM",
         "locations": [
          "NAM"
         ],
         "marker": {
          "color": "#B6E880",
          "size": [
           65556
          ],
          "sizemode": "area",
          "sizeref": 1942615,
          "symbol": "circle"
         },
         "mode": "markers",
         "name": "NAM",
         "showlegend": true,
         "type": "scattergeo"
        },
        {
         "geo": "geo",
         "hovertemplate": "iso_code=%{location}<br>people_fully_vaccinated=%{marker.size}<extra></extra>",
         "legendgroup": "NCL",
         "locations": [
          "NCL"
         ],
         "marker": {
          "color": "#FF97FF",
          "size": [
           63031
          ],
          "sizemode": "area",
          "sizeref": 1942615,
          "symbol": "circle"
         },
         "mode": "markers",
         "name": "NCL",
         "showlegend": true,
         "type": "scattergeo"
        },
        {
         "geo": "geo",
         "hovertemplate": "iso_code=%{location}<br>people_fully_vaccinated=%{marker.size}<extra></extra>",
         "legendgroup": "NER",
         "locations": [
          "NER"
         ],
         "marker": {
          "color": "#FECB52",
          "size": [
           32190
          ],
          "sizemode": "area",
          "sizeref": 1942615,
          "symbol": "circle"
         },
         "mode": "markers",
         "name": "NER",
         "showlegend": true,
         "type": "scattergeo"
        },
        {
         "geo": "geo",
         "hovertemplate": "iso_code=%{location}<br>people_fully_vaccinated=%{marker.size}<extra></extra>",
         "legendgroup": "NGA",
         "locations": [
          "NGA"
         ],
         "marker": {
          "color": "#636efa",
          "size": [
           1416623
          ],
          "sizemode": "area",
          "sizeref": 1942615,
          "symbol": "circle"
         },
         "mode": "markers",
         "name": "NGA",
         "showlegend": true,
         "type": "scattergeo"
        },
        {
         "geo": "geo",
         "hovertemplate": "iso_code=%{location}<br>people_fully_vaccinated=%{marker.size}<extra></extra>",
         "legendgroup": "NIC",
         "locations": [
          "NIC"
         ],
         "marker": {
          "color": "#EF553B",
          "size": [
           339096
          ],
          "sizemode": "area",
          "sizeref": 1942615,
          "symbol": "circle"
         },
         "mode": "markers",
         "name": "NIC",
         "showlegend": true,
         "type": "scattergeo"
        },
        {
         "geo": "geo",
         "hovertemplate": "iso_code=%{location}<br>people_fully_vaccinated=%{marker.size}<extra></extra>",
         "legendgroup": "NIU",
         "locations": [
          "NIU"
         ],
         "marker": {
          "color": "#00cc96",
          "size": [
           32
          ],
          "sizemode": "area",
          "sizeref": 1942615,
          "symbol": "circle"
         },
         "mode": "markers",
         "name": "NIU",
         "showlegend": true,
         "type": "scattergeo"
        },
        {
         "geo": "geo",
         "hovertemplate": "iso_code=%{location}<br>people_fully_vaccinated=%{marker.size}<extra></extra>",
         "legendgroup": "NLD",
         "locations": [
          "NLD"
         ],
         "marker": {
          "color": "#ab63fa",
          "size": [
           10246053
          ],
          "sizemode": "area",
          "sizeref": 1942615,
          "symbol": "circle"
         },
         "mode": "markers",
         "name": "NLD",
         "showlegend": true,
         "type": "scattergeo"
        },
        {
         "geo": "geo",
         "hovertemplate": "iso_code=%{location}<br>people_fully_vaccinated=%{marker.size}<extra></extra>",
         "legendgroup": "NOR",
         "locations": [
          "NOR"
         ],
         "marker": {
          "color": "#FFA15A",
          "size": [
           2154583
          ],
          "sizemode": "area",
          "sizeref": 1942615,
          "symbol": "circle"
         },
         "mode": "markers",
         "name": "NOR",
         "showlegend": true,
         "type": "scattergeo"
        },
        {
         "geo": "geo",
         "hovertemplate": "iso_code=%{location}<br>people_fully_vaccinated=%{marker.size}<extra></extra>",
         "legendgroup": "NPL",
         "locations": [
          "NPL"
         ],
         "marker": {
          "color": "#19d3f3",
          "size": [
           3303578
          ],
          "sizemode": "area",
          "sizeref": 1942615,
          "symbol": "circle"
         },
         "mode": "markers",
         "name": "NPL",
         "showlegend": true,
         "type": "scattergeo"
        },
        {
         "geo": "geo",
         "hovertemplate": "iso_code=%{location}<br>people_fully_vaccinated=%{marker.size}<extra></extra>",
         "legendgroup": "NRU",
         "locations": [
          "NRU"
         ],
         "marker": {
          "color": "#FF6692",
          "size": [
           7251
          ],
          "sizemode": "area",
          "sizeref": 1942615,
          "symbol": "circle"
         },
         "mode": "markers",
         "name": "NRU",
         "showlegend": true,
         "type": "scattergeo"
        },
        {
         "geo": "geo",
         "hovertemplate": "iso_code=%{location}<br>people_fully_vaccinated=%{marker.size}<extra></extra>",
         "legendgroup": "NZL",
         "locations": [
          "NZL"
         ],
         "marker": {
          "color": "#B6E880",
          "size": [
           848406
          ],
          "sizemode": "area",
          "sizeref": 1942615,
          "symbol": "circle"
         },
         "mode": "markers",
         "name": "NZL",
         "showlegend": true,
         "type": "scattergeo"
        },
        {
         "geo": "geo",
         "hovertemplate": "iso_code=%{location}<br>people_fully_vaccinated=%{marker.size}<extra></extra>",
         "legendgroup": "OMN",
         "locations": [
          "OMN"
         ],
         "marker": {
          "color": "#FF97FF",
          "size": [
           648518
          ],
          "sizemode": "area",
          "sizeref": 1942615,
          "symbol": "circle"
         },
         "mode": "markers",
         "name": "OMN",
         "showlegend": true,
         "type": "scattergeo"
        },
        {
         "geo": "geo",
         "hovertemplate": "iso_code=%{location}<br>people_fully_vaccinated=%{marker.size}<extra></extra>",
         "legendgroup": "OWID_CYN",
         "locations": [
          "OWID_CYN"
         ],
         "marker": {
          "color": "#FECB52",
          "size": [
           85859
          ],
          "sizemode": "area",
          "sizeref": 1942615,
          "symbol": "circle"
         },
         "mode": "markers",
         "name": "OWID_CYN",
         "showlegend": true,
         "type": "scattergeo"
        },
        {
         "geo": "geo",
         "hovertemplate": "iso_code=%{location}<br>people_fully_vaccinated=%{marker.size}<extra></extra>",
         "legendgroup": "OWID_ENG",
         "locations": [
          "OWID_ENG"
         ],
         "marker": {
          "color": "#636efa",
          "size": [
           33695859
          ],
          "sizemode": "area",
          "sizeref": 1942615,
          "symbol": "circle"
         },
         "mode": "markers",
         "name": "OWID_ENG",
         "showlegend": true,
         "type": "scattergeo"
        },
        {
         "geo": "geo",
         "hovertemplate": "iso_code=%{location}<br>people_fully_vaccinated=%{marker.size}<extra></extra>",
         "legendgroup": "OWID_KOS",
         "locations": [
          "OWID_KOS"
         ],
         "marker": {
          "color": "#EF553B",
          "size": [
           183240
          ],
          "sizemode": "area",
          "sizeref": 1942615,
          "symbol": "circle"
         },
         "mode": "markers",
         "name": "OWID_KOS",
         "showlegend": true,
         "type": "scattergeo"
        },
        {
         "geo": "geo",
         "hovertemplate": "iso_code=%{location}<br>people_fully_vaccinated=%{marker.size}<extra></extra>",
         "legendgroup": "OWID_NIR",
         "locations": [
          "OWID_NIR"
         ],
         "marker": {
          "color": "#00cc96",
          "size": [
           1113944
          ],
          "sizemode": "area",
          "sizeref": 1942615,
          "symbol": "circle"
         },
         "mode": "markers",
         "name": "OWID_NIR",
         "showlegend": true,
         "type": "scattergeo"
        },
        {
         "geo": "geo",
         "hovertemplate": "iso_code=%{location}<br>people_fully_vaccinated=%{marker.size}<extra></extra>",
         "legendgroup": "OWID_SCT",
         "locations": [
          "OWID_SCT"
         ],
         "marker": {
          "color": "#ab63fa",
          "size": [
           3431062
          ],
          "sizemode": "area",
          "sizeref": 1942615,
          "symbol": "circle"
         },
         "mode": "markers",
         "name": "OWID_SCT",
         "showlegend": true,
         "type": "scattergeo"
        },
        {
         "geo": "geo",
         "hovertemplate": "iso_code=%{location}<br>people_fully_vaccinated=%{marker.size}<extra></extra>",
         "legendgroup": "OWID_WLS",
         "locations": [
          "OWID_WLS"
         ],
         "marker": {
          "color": "#FFA15A",
          "size": [
           2132116
          ],
          "sizemode": "area",
          "sizeref": 1942615,
          "symbol": "circle"
         },
         "mode": "markers",
         "name": "OWID_WLS",
         "showlegend": true,
         "type": "scattergeo"
        },
        {
         "geo": "geo",
         "hovertemplate": "iso_code=%{location}<br>people_fully_vaccinated=%{marker.size}<extra></extra>",
         "legendgroup": "PAK",
         "locations": [
          "PAK"
         ],
         "marker": {
          "color": "#19d3f3",
          "size": [
           11956552
          ],
          "sizemode": "area",
          "sizeref": 1942615,
          "symbol": "circle"
         },
         "mode": "markers",
         "name": "PAK",
         "showlegend": true,
         "type": "scattergeo"
        },
        {
         "geo": "geo",
         "hovertemplate": "iso_code=%{location}<br>people_fully_vaccinated=%{marker.size}<extra></extra>",
         "legendgroup": "PAN",
         "locations": [
          "PAN"
         ],
         "marker": {
          "color": "#FF6692",
          "size": [
           822824
          ],
          "sizemode": "area",
          "sizeref": 1942615,
          "symbol": "circle"
         },
         "mode": "markers",
         "name": "PAN",
         "showlegend": true,
         "type": "scattergeo"
        },
        {
         "geo": "geo",
         "hovertemplate": "iso_code=%{location}<br>people_fully_vaccinated=%{marker.size}<extra></extra>",
         "legendgroup": "PCN",
         "locations": [
          "PCN"
         ],
         "marker": {
          "color": "#B6E880",
          "size": [
           36
          ],
          "sizemode": "area",
          "sizeref": 1942615,
          "symbol": "circle"
         },
         "mode": "markers",
         "name": "PCN",
         "showlegend": true,
         "type": "scattergeo"
        },
        {
         "geo": "geo",
         "hovertemplate": "iso_code=%{location}<br>people_fully_vaccinated=%{marker.size}<extra></extra>",
         "legendgroup": "PER",
         "locations": [
          "PER"
         ],
         "marker": {
          "color": "#FF97FF",
          "size": [
           6636428
          ],
          "sizemode": "area",
          "sizeref": 1942615,
          "symbol": "circle"
         },
         "mode": "markers",
         "name": "PER",
         "showlegend": true,
         "type": "scattergeo"
        },
        {
         "geo": "geo",
         "hovertemplate": "iso_code=%{location}<br>people_fully_vaccinated=%{marker.size}<extra></extra>",
         "legendgroup": "PHL",
         "locations": [
          "PHL"
         ],
         "marker": {
          "color": "#FECB52",
          "size": [
           12027383
          ],
          "sizemode": "area",
          "sizeref": 1942615,
          "symbol": "circle"
         },
         "mode": "markers",
         "name": "PHL",
         "showlegend": true,
         "type": "scattergeo"
        },
        {
         "geo": "geo",
         "hovertemplate": "iso_code=%{location}<br>people_fully_vaccinated=%{marker.size}<extra></extra>",
         "legendgroup": "PNG",
         "locations": [
          "PNG"
         ],
         "marker": {
          "color": "#636efa",
          "size": [
           17287
          ],
          "sizemode": "area",
          "sizeref": 1942615,
          "symbol": "circle"
         },
         "mode": "markers",
         "name": "PNG",
         "showlegend": true,
         "type": "scattergeo"
        },
        {
         "geo": "geo",
         "hovertemplate": "iso_code=%{location}<br>people_fully_vaccinated=%{marker.size}<extra></extra>",
         "legendgroup": "POL",
         "locations": [
          "POL"
         ],
         "marker": {
          "color": "#EF553B",
          "size": [
           18156083
          ],
          "sizemode": "area",
          "sizeref": 1942615,
          "symbol": "circle"
         },
         "mode": "markers",
         "name": "POL",
         "showlegend": true,
         "type": "scattergeo"
        },
        {
         "geo": "geo",
         "hovertemplate": "iso_code=%{location}<br>people_fully_vaccinated=%{marker.size}<extra></extra>",
         "legendgroup": "PRT",
         "locations": [
          "PRT"
         ],
         "marker": {
          "color": "#00cc96",
          "size": [
           6594658
          ],
          "sizemode": "area",
          "sizeref": 1942615,
          "symbol": "circle"
         },
         "mode": "markers",
         "name": "PRT",
         "showlegend": true,
         "type": "scattergeo"
        },
        {
         "geo": "geo",
         "hovertemplate": "iso_code=%{location}<br>people_fully_vaccinated=%{marker.size}<extra></extra>",
         "legendgroup": "PRY",
         "locations": [
          "PRY"
         ],
         "marker": {
          "color": "#ab63fa",
          "size": [
           286989
          ],
          "sizemode": "area",
          "sizeref": 1942615,
          "symbol": "circle"
         },
         "mode": "markers",
         "name": "PRY",
         "showlegend": true,
         "type": "scattergeo"
        },
        {
         "geo": "geo",
         "hovertemplate": "iso_code=%{location}<br>people_fully_vaccinated=%{marker.size}<extra></extra>",
         "legendgroup": "PSE",
         "locations": [
          "PSE"
         ],
         "marker": {
          "color": "#FFA15A",
          "size": [
           426973
          ],
          "sizemode": "area",
          "sizeref": 1942615,
          "symbol": "circle"
         },
         "mode": "markers",
         "name": "PSE",
         "showlegend": true,
         "type": "scattergeo"
        },
        {
         "geo": "geo",
         "hovertemplate": "iso_code=%{location}<br>people_fully_vaccinated=%{marker.size}<extra></extra>",
         "legendgroup": "PYF",
         "locations": [
          "PYF"
         ],
         "marker": {
          "color": "#19d3f3",
          "size": [
           77178
          ],
          "sizemode": "area",
          "sizeref": 1942615,
          "symbol": "circle"
         },
         "mode": "markers",
         "name": "PYF",
         "showlegend": true,
         "type": "scattergeo"
        },
        {
         "geo": "geo",
         "hovertemplate": "iso_code=%{location}<br>people_fully_vaccinated=%{marker.size}<extra></extra>",
         "legendgroup": "QAT",
         "locations": [
          "QAT"
         ],
         "marker": {
          "color": "#FF6692",
          "size": [
           1871303
          ],
          "sizemode": "area",
          "sizeref": 1942615,
          "symbol": "circle"
         },
         "mode": "markers",
         "name": "QAT",
         "showlegend": true,
         "type": "scattergeo"
        },
        {
         "geo": "geo",
         "hovertemplate": "iso_code=%{location}<br>people_fully_vaccinated=%{marker.size}<extra></extra>",
         "legendgroup": "ROU",
         "locations": [
          "ROU"
         ],
         "marker": {
          "color": "#B6E880",
          "size": [
           4980796
          ],
          "sizemode": "area",
          "sizeref": 1942615,
          "symbol": "circle"
         },
         "mode": "markers",
         "name": "ROU",
         "showlegend": true,
         "type": "scattergeo"
        },
        {
         "geo": "geo",
         "hovertemplate": "iso_code=%{location}<br>people_fully_vaccinated=%{marker.size}<extra></extra>",
         "legendgroup": "RUS",
         "locations": [
          "RUS"
         ],
         "marker": {
          "color": "#FF97FF",
          "size": [
           32251637
          ],
          "sizemode": "area",
          "sizeref": 1942615,
          "symbol": "circle"
         },
         "mode": "markers",
         "name": "RUS",
         "showlegend": true,
         "type": "scattergeo"
        },
        {
         "geo": "geo",
         "hovertemplate": "iso_code=%{location}<br>people_fully_vaccinated=%{marker.size}<extra></extra>",
         "legendgroup": "RWA",
         "locations": [
          "RWA"
         ],
         "marker": {
          "color": "#FECB52",
          "size": [
           403338
          ],
          "sizemode": "area",
          "sizeref": 1942615,
          "symbol": "circle"
         },
         "mode": "markers",
         "name": "RWA",
         "showlegend": true,
         "type": "scattergeo"
        },
        {
         "geo": "geo",
         "hovertemplate": "iso_code=%{location}<br>people_fully_vaccinated=%{marker.size}<extra></extra>",
         "legendgroup": "SAU",
         "locations": [
          "SAU"
         ],
         "marker": {
          "color": "#636efa",
          "size": [
           10944970
          ],
          "sizemode": "area",
          "sizeref": 1942615,
          "symbol": "circle"
         },
         "mode": "markers",
         "name": "SAU",
         "showlegend": true,
         "type": "scattergeo"
        },
        {
         "geo": "geo",
         "hovertemplate": "iso_code=%{location}<br>people_fully_vaccinated=%{marker.size}<extra></extra>",
         "legendgroup": "SDN",
         "locations": [
          "SDN"
         ],
         "marker": {
          "color": "#EF553B",
          "size": [
           182727
          ],
          "sizemode": "area",
          "sizeref": 1942615,
          "symbol": "circle"
         },
         "mode": "markers",
         "name": "SDN",
         "showlegend": true,
         "type": "scattergeo"
        },
        {
         "geo": "geo",
         "hovertemplate": "iso_code=%{location}<br>people_fully_vaccinated=%{marker.size}<extra></extra>",
         "legendgroup": "SEN",
         "locations": [
          "SEN"
         ],
         "marker": {
          "color": "#00cc96",
          "size": [
           324537
          ],
          "sizemode": "area",
          "sizeref": 1942615,
          "symbol": "circle"
         },
         "mode": "markers",
         "name": "SEN",
         "showlegend": true,
         "type": "scattergeo"
        },
        {
         "geo": "geo",
         "hovertemplate": "iso_code=%{location}<br>people_fully_vaccinated=%{marker.size}<extra></extra>",
         "legendgroup": "SGP",
         "locations": [
          "SGP"
         ],
         "marker": {
          "color": "#ab63fa",
          "size": [
           4071978
          ],
          "sizemode": "area",
          "sizeref": 1942615,
          "symbol": "circle"
         },
         "mode": "markers",
         "name": "SGP",
         "showlegend": true,
         "type": "scattergeo"
        },
        {
         "geo": "geo",
         "hovertemplate": "iso_code=%{location}<br>people_fully_vaccinated=%{marker.size}<extra></extra>",
         "legendgroup": "SHN",
         "locations": [
          "SHN"
         ],
         "marker": {
          "color": "#FFA15A",
          "size": [
           3531
          ],
          "sizemode": "area",
          "sizeref": 1942615,
          "symbol": "circle"
         },
         "mode": "markers",
         "name": "SHN",
         "showlegend": true,
         "type": "scattergeo"
        },
        {
         "geo": "geo",
         "hovertemplate": "iso_code=%{location}<br>people_fully_vaccinated=%{marker.size}<extra></extra>",
         "legendgroup": "SLB",
         "locations": [
          "SLB"
         ],
         "marker": {
          "color": "#19d3f3",
          "size": [
           13155
          ],
          "sizemode": "area",
          "sizeref": 1942615,
          "symbol": "circle"
         },
         "mode": "markers",
         "name": "SLB",
         "showlegend": true,
         "type": "scattergeo"
        },
        {
         "geo": "geo",
         "hovertemplate": "iso_code=%{location}<br>people_fully_vaccinated=%{marker.size}<extra></extra>",
         "legendgroup": "SLE",
         "locations": [
          "SLE"
         ],
         "marker": {
          "color": "#FF6692",
          "size": [
           15170
          ],
          "sizemode": "area",
          "sizeref": 1942615,
          "symbol": "circle"
         },
         "mode": "markers",
         "name": "SLE",
         "showlegend": true,
         "type": "scattergeo"
        },
        {
         "geo": "geo",
         "hovertemplate": "iso_code=%{location}<br>people_fully_vaccinated=%{marker.size}<extra></extra>",
         "legendgroup": "SLV",
         "locations": [
          "SLV"
         ],
         "marker": {
          "color": "#B6E880",
          "size": [
           1929977
          ],
          "sizemode": "area",
          "sizeref": 1942615,
          "symbol": "circle"
         },
         "mode": "markers",
         "name": "SLV",
         "showlegend": true,
         "type": "scattergeo"
        },
        {
         "geo": "geo",
         "hovertemplate": "iso_code=%{location}<br>people_fully_vaccinated=%{marker.size}<extra></extra>",
         "legendgroup": "SMR",
         "locations": [
          "SMR"
         ],
         "marker": {
          "color": "#FF97FF",
          "size": [
           23700
          ],
          "sizemode": "area",
          "sizeref": 1942615,
          "symbol": "circle"
         },
         "mode": "markers",
         "name": "SMR",
         "showlegend": true,
         "type": "scattergeo"
        },
        {
         "geo": "geo",
         "hovertemplate": "iso_code=%{location}<br>people_fully_vaccinated=%{marker.size}<extra></extra>",
         "legendgroup": "SOM",
         "locations": [
          "SOM"
         ],
         "marker": {
          "color": "#FECB52",
          "size": [
           87135
          ],
          "sizemode": "area",
          "sizeref": 1942615,
          "symbol": "circle"
         },
         "mode": "markers",
         "name": "SOM",
         "showlegend": true,
         "type": "scattergeo"
        },
        {
         "geo": "geo",
         "hovertemplate": "iso_code=%{location}<br>people_fully_vaccinated=%{marker.size}<extra></extra>",
         "legendgroup": "SRB",
         "locations": [
          "SRB"
         ],
         "marker": {
          "color": "#636efa",
          "size": [
           2753311
          ],
          "sizemode": "area",
          "sizeref": 1942615,
          "symbol": "circle"
         },
         "mode": "markers",
         "name": "SRB",
         "showlegend": true,
         "type": "scattergeo"
        },
        {
         "geo": "geo",
         "hovertemplate": "iso_code=%{location}<br>people_fully_vaccinated=%{marker.size}<extra></extra>",
         "legendgroup": "SSD",
         "locations": [
          "SSD"
         ],
         "marker": {
          "color": "#EF553B",
          "size": [
           4763
          ],
          "sizemode": "area",
          "sizeref": 1942615,
          "symbol": "circle"
         },
         "mode": "markers",
         "name": "SSD",
         "showlegend": true,
         "type": "scattergeo"
        },
        {
         "geo": "geo",
         "hovertemplate": "iso_code=%{location}<br>people_fully_vaccinated=%{marker.size}<extra></extra>",
         "legendgroup": "STP",
         "locations": [
          "STP"
         ],
         "marker": {
          "color": "#00cc96",
          "size": [
           11871
          ],
          "sizemode": "area",
          "sizeref": 1942615,
          "symbol": "circle"
         },
         "mode": "markers",
         "name": "STP",
         "showlegend": true,
         "type": "scattergeo"
        },
        {
         "geo": "geo",
         "hovertemplate": "iso_code=%{location}<br>people_fully_vaccinated=%{marker.size}<extra></extra>",
         "legendgroup": "SUR",
         "locations": [
          "SUR"
         ],
         "marker": {
          "color": "#ab63fa",
          "size": [
           82760
          ],
          "sizemode": "area",
          "sizeref": 1942615,
          "symbol": "circle"
         },
         "mode": "markers",
         "name": "SUR",
         "showlegend": true,
         "type": "scattergeo"
        },
        {
         "geo": "geo",
         "hovertemplate": "iso_code=%{location}<br>people_fully_vaccinated=%{marker.size}<extra></extra>",
         "legendgroup": "SVK",
         "locations": [
          "SVK"
         ],
         "marker": {
          "color": "#FFA15A",
          "size": [
           2081153
          ],
          "sizemode": "area",
          "sizeref": 1942615,
          "symbol": "circle"
         },
         "mode": "markers",
         "name": "SVK",
         "showlegend": true,
         "type": "scattergeo"
        },
        {
         "geo": "geo",
         "hovertemplate": "iso_code=%{location}<br>people_fully_vaccinated=%{marker.size}<extra></extra>",
         "legendgroup": "SVN",
         "locations": [
          "SVN"
         ],
         "marker": {
          "color": "#19d3f3",
          "size": [
           851094
          ],
          "sizemode": "area",
          "sizeref": 1942615,
          "symbol": "circle"
         },
         "mode": "markers",
         "name": "SVN",
         "showlegend": true,
         "type": "scattergeo"
        },
        {
         "geo": "geo",
         "hovertemplate": "iso_code=%{location}<br>people_fully_vaccinated=%{marker.size}<extra></extra>",
         "legendgroup": "SWE",
         "locations": [
          "SWE"
         ],
         "marker": {
          "color": "#FF6692",
          "size": [
           4792566
          ],
          "sizemode": "area",
          "sizeref": 1942615,
          "symbol": "circle"
         },
         "mode": "markers",
         "name": "SWE",
         "showlegend": true,
         "type": "scattergeo"
        },
        {
         "geo": "geo",
         "hovertemplate": "iso_code=%{location}<br>people_fully_vaccinated=%{marker.size}<extra></extra>",
         "legendgroup": "SWZ",
         "locations": [
          "SWZ"
         ],
         "marker": {
          "color": "#B6E880",
          "size": [
           85115
          ],
          "sizemode": "area",
          "sizeref": 1942615,
          "symbol": "circle"
         },
         "mode": "markers",
         "name": "SWZ",
         "showlegend": true,
         "type": "scattergeo"
        },
        {
         "geo": "geo",
         "hovertemplate": "iso_code=%{location}<br>people_fully_vaccinated=%{marker.size}<extra></extra>",
         "legendgroup": "SXM",
         "locations": [
          "SXM"
         ],
         "marker": {
          "color": "#FF97FF",
          "size": [
           22017
          ],
          "sizemode": "area",
          "sizeref": 1942615,
          "symbol": "circle"
         },
         "mode": "markers",
         "name": "SXM",
         "showlegend": true,
         "type": "scattergeo"
        },
        {
         "geo": "geo",
         "hovertemplate": "iso_code=%{location}<br>people_fully_vaccinated=%{marker.size}<extra></extra>",
         "legendgroup": "SYC",
         "locations": [
          "SYC"
         ],
         "marker": {
          "color": "#FECB52",
          "size": [
           68553
          ],
          "sizemode": "area",
          "sizeref": 1942615,
          "symbol": "circle"
         },
         "mode": "markers",
         "name": "SYC",
         "showlegend": true,
         "type": "scattergeo"
        },
        {
         "geo": "geo",
         "hovertemplate": "iso_code=%{location}<br>people_fully_vaccinated=%{marker.size}<extra></extra>",
         "legendgroup": "SYR",
         "locations": [
          "SYR"
         ],
         "marker": {
          "color": "#636efa",
          "size": [
           9312
          ],
          "sizemode": "area",
          "sizeref": 1942615,
          "symbol": "circle"
         },
         "mode": "markers",
         "name": "SYR",
         "showlegend": true,
         "type": "scattergeo"
        },
        {
         "geo": "geo",
         "hovertemplate": "iso_code=%{location}<br>people_fully_vaccinated=%{marker.size}<extra></extra>",
         "legendgroup": "TCA",
         "locations": [
          "TCA"
         ],
         "marker": {
          "color": "#EF553B",
          "size": [
           22696
          ],
          "sizemode": "area",
          "sizeref": 1942615,
          "symbol": "circle"
         },
         "mode": "markers",
         "name": "TCA",
         "showlegend": true,
         "type": "scattergeo"
        },
        {
         "geo": "geo",
         "hovertemplate": "iso_code=%{location}<br>people_fully_vaccinated=%{marker.size}<extra></extra>",
         "legendgroup": "TCD",
         "locations": [
          "TCD"
         ],
         "marker": {
          "color": "#00cc96",
          "size": [
           10863
          ],
          "sizemode": "area",
          "sizeref": 1942615,
          "symbol": "circle"
         },
         "mode": "markers",
         "name": "TCD",
         "showlegend": true,
         "type": "scattergeo"
        },
        {
         "geo": "geo",
         "hovertemplate": "iso_code=%{location}<br>people_fully_vaccinated=%{marker.size}<extra></extra>",
         "legendgroup": "TGO",
         "locations": [
          "TGO"
         ],
         "marker": {
          "color": "#ab63fa",
          "size": [
           153637
          ],
          "sizemode": "area",
          "sizeref": 1942615,
          "symbol": "circle"
         },
         "mode": "markers",
         "name": "TGO",
         "showlegend": true,
         "type": "scattergeo"
        },
        {
         "geo": "geo",
         "hovertemplate": "iso_code=%{location}<br>people_fully_vaccinated=%{marker.size}<extra></extra>",
         "legendgroup": "THA",
         "locations": [
          "THA"
         ],
         "marker": {
          "color": "#FFA15A",
          "size": [
           5033568
          ],
          "sizemode": "area",
          "sizeref": 1942615,
          "symbol": "circle"
         },
         "mode": "markers",
         "name": "THA",
         "showlegend": true,
         "type": "scattergeo"
        },
        {
         "geo": "geo",
         "hovertemplate": "iso_code=%{location}<br>people_fully_vaccinated=%{marker.size}<extra></extra>",
         "legendgroup": "TJK",
         "locations": [
          "TJK"
         ],
         "marker": {
          "color": "#19d3f3",
          "size": [
           130000
          ],
          "sizemode": "area",
          "sizeref": 1942615,
          "symbol": "circle"
         },
         "mode": "markers",
         "name": "TJK",
         "showlegend": true,
         "type": "scattergeo"
        },
        {
         "geo": "geo",
         "hovertemplate": "iso_code=%{location}<br>people_fully_vaccinated=%{marker.size}<extra></extra>",
         "legendgroup": "TKL",
         "locations": [
          "TKL"
         ],
         "marker": {
          "color": "#FF6692",
          "size": [
           0
          ],
          "sizemode": "area",
          "sizeref": 1942615,
          "symbol": "circle"
         },
         "mode": "markers",
         "name": "TKL",
         "showlegend": true,
         "type": "scattergeo"
        },
        {
         "geo": "geo",
         "hovertemplate": "iso_code=%{location}<br>people_fully_vaccinated=%{marker.size}<extra></extra>",
         "legendgroup": "TKM",
         "locations": [
          "TKM"
         ],
         "marker": {
          "color": "#B6E880",
          "size": [
           9753
          ],
          "sizemode": "area",
          "sizeref": 1942615,
          "symbol": "circle"
         },
         "mode": "markers",
         "name": "TKM",
         "showlegend": true,
         "type": "scattergeo"
        },
        {
         "geo": "geo",
         "hovertemplate": "iso_code=%{location}<br>people_fully_vaccinated=%{marker.size}<extra></extra>",
         "legendgroup": "TLS",
         "locations": [
          "TLS"
         ],
         "marker": {
          "color": "#FF97FF",
          "size": [
           115874
          ],
          "sizemode": "area",
          "sizeref": 1942615,
          "symbol": "circle"
         },
         "mode": "markers",
         "name": "TLS",
         "showlegend": true,
         "type": "scattergeo"
        },
        {
         "geo": "geo",
         "hovertemplate": "iso_code=%{location}<br>people_fully_vaccinated=%{marker.size}<extra></extra>",
         "legendgroup": "TON",
         "locations": [
          "TON"
         ],
         "marker": {
          "color": "#FECB52",
          "size": [
           18712
          ],
          "sizemode": "area",
          "sizeref": 1942615,
          "symbol": "circle"
         },
         "mode": "markers",
         "name": "TON",
         "showlegend": true,
         "type": "scattergeo"
        },
        {
         "geo": "geo",
         "hovertemplate": "iso_code=%{location}<br>people_fully_vaccinated=%{marker.size}<extra></extra>",
         "legendgroup": "TTO",
         "locations": [
          "TTO"
         ],
         "marker": {
          "color": "#636efa",
          "size": [
           292963
          ],
          "sizemode": "area",
          "sizeref": 1942615,
          "symbol": "circle"
         },
         "mode": "markers",
         "name": "TTO",
         "showlegend": true,
         "type": "scattergeo"
        },
        {
         "geo": "geo",
         "hovertemplate": "iso_code=%{location}<br>people_fully_vaccinated=%{marker.size}<extra></extra>",
         "legendgroup": "TUN",
         "locations": [
          "TUN"
         ],
         "marker": {
          "color": "#EF553B",
          "size": [
           1488800
          ],
          "sizemode": "area",
          "sizeref": 1942615,
          "symbol": "circle"
         },
         "mode": "markers",
         "name": "TUN",
         "showlegend": true,
         "type": "scattergeo"
        },
        {
         "geo": "geo",
         "hovertemplate": "iso_code=%{location}<br>people_fully_vaccinated=%{marker.size}<extra></extra>",
         "legendgroup": "TUR",
         "locations": [
          "TUR"
         ],
         "marker": {
          "color": "#00cc96",
          "size": [
           32546912
          ],
          "sizemode": "area",
          "sizeref": 1942615,
          "symbol": "circle"
         },
         "mode": "markers",
         "name": "TUR",
         "showlegend": true,
         "type": "scattergeo"
        },
        {
         "geo": "geo",
         "hovertemplate": "iso_code=%{location}<br>people_fully_vaccinated=%{marker.size}<extra></extra>",
         "legendgroup": "TUV",
         "locations": [
          "TUV"
         ],
         "marker": {
          "color": "#ab63fa",
          "size": [
           0
          ],
          "sizemode": "area",
          "sizeref": 1942615,
          "symbol": "circle"
         },
         "mode": "markers",
         "name": "TUV",
         "showlegend": true,
         "type": "scattergeo"
        },
        {
         "geo": "geo",
         "hovertemplate": "iso_code=%{location}<br>people_fully_vaccinated=%{marker.size}<extra></extra>",
         "legendgroup": "TWN",
         "locations": [
          "TWN"
         ],
         "marker": {
          "color": "#FFA15A",
          "size": [
           648746
          ],
          "sizemode": "area",
          "sizeref": 1942615,
          "symbol": "circle"
         },
         "mode": "markers",
         "name": "TWN",
         "showlegend": true,
         "type": "scattergeo"
        },
        {
         "geo": "geo",
         "hovertemplate": "iso_code=%{location}<br>people_fully_vaccinated=%{marker.size}<extra></extra>",
         "legendgroup": "TZA",
         "locations": [
          "TZA"
         ],
         "marker": {
          "color": "#19d3f3",
          "size": [
           105745
          ],
          "sizemode": "area",
          "sizeref": 1942615,
          "symbol": "circle"
         },
         "mode": "markers",
         "name": "TZA",
         "showlegend": true,
         "type": "scattergeo"
        },
        {
         "geo": "geo",
         "hovertemplate": "iso_code=%{location}<br>people_fully_vaccinated=%{marker.size}<extra></extra>",
         "legendgroup": "UGA",
         "locations": [
          "UGA"
         ],
         "marker": {
          "color": "#FF6692",
          "size": [
           4129
          ],
          "sizemode": "area",
          "sizeref": 1942615,
          "symbol": "circle"
         },
         "mode": "markers",
         "name": "UGA",
         "showlegend": true,
         "type": "scattergeo"
        },
        {
         "geo": "geo",
         "hovertemplate": "iso_code=%{location}<br>people_fully_vaccinated=%{marker.size}<extra></extra>",
         "legendgroup": "UKR",
         "locations": [
          "UKR"
         ],
         "marker": {
          "color": "#B6E880",
          "size": [
           2718680
          ],
          "sizemode": "area",
          "sizeref": 1942615,
          "symbol": "circle"
         },
         "mode": "markers",
         "name": "UKR",
         "showlegend": true,
         "type": "scattergeo"
        },
        {
         "geo": "geo",
         "hovertemplate": "iso_code=%{location}<br>people_fully_vaccinated=%{marker.size}<extra></extra>",
         "legendgroup": "URY",
         "locations": [
          "URY"
         ],
         "marker": {
          "color": "#FF97FF",
          "size": [
           2398684
          ],
          "sizemode": "area",
          "sizeref": 1942615,
          "symbol": "circle"
         },
         "mode": "markers",
         "name": "URY",
         "showlegend": true,
         "type": "scattergeo"
        },
        {
         "geo": "geo",
         "hovertemplate": "iso_code=%{location}<br>people_fully_vaccinated=%{marker.size}<extra></extra>",
         "legendgroup": "USA",
         "locations": [
          "USA"
         ],
         "marker": {
          "color": "#FECB52",
          "size": [
           168090925
          ],
          "sizemode": "area",
          "sizeref": 1942615,
          "symbol": "circle"
         },
         "mode": "markers",
         "name": "USA",
         "showlegend": true,
         "type": "scattergeo"
        },
        {
         "geo": "geo",
         "hovertemplate": "iso_code=%{location}<br>people_fully_vaccinated=%{marker.size}<extra></extra>",
         "legendgroup": "UZB",
         "locations": [
          "UZB"
         ],
         "marker": {
          "color": "#636efa",
          "size": [
           1232807
          ],
          "sizemode": "area",
          "sizeref": 1942615,
          "symbol": "circle"
         },
         "mode": "markers",
         "name": "UZB",
         "showlegend": true,
         "type": "scattergeo"
        },
        {
         "geo": "geo",
         "hovertemplate": "iso_code=%{location}<br>people_fully_vaccinated=%{marker.size}<extra></extra>",
         "legendgroup": "VCT",
         "locations": [
          "VCT"
         ],
         "marker": {
          "color": "#EF553B",
          "size": [
           10017
          ],
          "sizemode": "area",
          "sizeref": 1942615,
          "symbol": "circle"
         },
         "mode": "markers",
         "name": "VCT",
         "showlegend": true,
         "type": "scattergeo"
        },
        {
         "geo": "geo",
         "hovertemplate": "iso_code=%{location}<br>people_fully_vaccinated=%{marker.size}<extra></extra>",
         "legendgroup": "VEN",
         "locations": [
          "VEN"
         ],
         "marker": {
          "color": "#00cc96",
          "size": [
           1100000
          ],
          "sizemode": "area",
          "sizeref": 1942615,
          "symbol": "circle"
         },
         "mode": "markers",
         "name": "VEN",
         "showlegend": true,
         "type": "scattergeo"
        },
        {
         "geo": "geo",
         "hovertemplate": "iso_code=%{location}<br>people_fully_vaccinated=%{marker.size}<extra></extra>",
         "legendgroup": "VGB",
         "locations": [
          "VGB"
         ],
         "marker": {
          "color": "#ab63fa",
          "size": [
           11438
          ],
          "sizemode": "area",
          "sizeref": 1942615,
          "symbol": "circle"
         },
         "mode": "markers",
         "name": "VGB",
         "showlegend": true,
         "type": "scattergeo"
        },
        {
         "geo": "geo",
         "hovertemplate": "iso_code=%{location}<br>people_fully_vaccinated=%{marker.size}<extra></extra>",
         "legendgroup": "VNM",
         "locations": [
          "VNM"
         ],
         "marker": {
          "color": "#FFA15A",
          "size": [
           1271973
          ],
          "sizemode": "area",
          "sizeref": 1942615,
          "symbol": "circle"
         },
         "mode": "markers",
         "name": "VNM",
         "showlegend": true,
         "type": "scattergeo"
        },
        {
         "geo": "geo",
         "hovertemplate": "iso_code=%{location}<br>people_fully_vaccinated=%{marker.size}<extra></extra>",
         "legendgroup": "VUT",
         "locations": [
          "VUT"
         ],
         "marker": {
          "color": "#19d3f3",
          "size": [
           114
          ],
          "sizemode": "area",
          "sizeref": 1942615,
          "symbol": "circle"
         },
         "mode": "markers",
         "name": "VUT",
         "showlegend": true,
         "type": "scattergeo"
        },
        {
         "geo": "geo",
         "hovertemplate": "iso_code=%{location}<br>people_fully_vaccinated=%{marker.size}<extra></extra>",
         "legendgroup": "WLF",
         "locations": [
          "WLF"
         ],
         "marker": {
          "color": "#FF6692",
          "size": [
           4659
          ],
          "sizemode": "area",
          "sizeref": 1942615,
          "symbol": "circle"
         },
         "mode": "markers",
         "name": "WLF",
         "showlegend": true,
         "type": "scattergeo"
        },
        {
         "geo": "geo",
         "hovertemplate": "iso_code=%{location}<br>people_fully_vaccinated=%{marker.size}<extra></extra>",
         "legendgroup": "WSM",
         "locations": [
          "WSM"
         ],
         "marker": {
          "color": "#B6E880",
          "size": [
           28653
          ],
          "sizemode": "area",
          "sizeref": 1942615,
          "symbol": "circle"
         },
         "mode": "markers",
         "name": "WSM",
         "showlegend": true,
         "type": "scattergeo"
        },
        {
         "geo": "geo",
         "hovertemplate": "iso_code=%{location}<br>people_fully_vaccinated=%{marker.size}<extra></extra>",
         "legendgroup": "YEM",
         "locations": [
          "YEM"
         ],
         "marker": {
          "color": "#FF97FF",
          "size": [
           13322
          ],
          "sizemode": "area",
          "sizeref": 1942615,
          "symbol": "circle"
         },
         "mode": "markers",
         "name": "YEM",
         "showlegend": true,
         "type": "scattergeo"
        },
        {
         "geo": "geo",
         "hovertemplate": "iso_code=%{location}<br>people_fully_vaccinated=%{marker.size}<extra></extra>",
         "legendgroup": "ZAF",
         "locations": [
          "ZAF"
         ],
         "marker": {
          "color": "#FECB52",
          "size": [
           3958231
          ],
          "sizemode": "area",
          "sizeref": 1942615,
          "symbol": "circle"
         },
         "mode": "markers",
         "name": "ZAF",
         "showlegend": true,
         "type": "scattergeo"
        },
        {
         "geo": "geo",
         "hovertemplate": "iso_code=%{location}<br>people_fully_vaccinated=%{marker.size}<extra></extra>",
         "legendgroup": "ZMB",
         "locations": [
          "ZMB"
         ],
         "marker": {
          "color": "#636efa",
          "size": [
           212694
          ],
          "sizemode": "area",
          "sizeref": 1942615,
          "symbol": "circle"
         },
         "mode": "markers",
         "name": "ZMB",
         "showlegend": true,
         "type": "scattergeo"
        },
        {
         "geo": "geo",
         "hovertemplate": "iso_code=%{location}<br>people_fully_vaccinated=%{marker.size}<extra></extra>",
         "legendgroup": "ZWE",
         "locations": [
          "ZWE"
         ],
         "marker": {
          "color": "#EF553B",
          "size": [
           1180207
          ],
          "sizemode": "area",
          "sizeref": 1942615,
          "symbol": "circle"
         },
         "mode": "markers",
         "name": "ZWE",
         "showlegend": true,
         "type": "scattergeo"
        }
       ],
       "layout": {
        "geo": {
         "center": {},
         "domain": {
          "x": [
           0,
           1
          ],
          "y": [
           0,
           1
          ]
         },
         "projection": {
          "type": "mercator"
         }
        },
        "legend": {
         "itemsizing": "constant",
         "title": {
          "text": "iso_code"
         },
         "tracegroupgap": 0
        },
        "template": {
         "data": {
          "bar": [
           {
            "error_x": {
             "color": "#2a3f5f"
            },
            "error_y": {
             "color": "#2a3f5f"
            },
            "marker": {
             "line": {
              "color": "#E5ECF6",
              "width": 0.5
             },
             "pattern": {
              "fillmode": "overlay",
              "size": 10,
              "solidity": 0.2
             }
            },
            "type": "bar"
           }
          ],
          "barpolar": [
           {
            "marker": {
             "line": {
              "color": "#E5ECF6",
              "width": 0.5
             },
             "pattern": {
              "fillmode": "overlay",
              "size": 10,
              "solidity": 0.2
             }
            },
            "type": "barpolar"
           }
          ],
          "carpet": [
           {
            "aaxis": {
             "endlinecolor": "#2a3f5f",
             "gridcolor": "white",
             "linecolor": "white",
             "minorgridcolor": "white",
             "startlinecolor": "#2a3f5f"
            },
            "baxis": {
             "endlinecolor": "#2a3f5f",
             "gridcolor": "white",
             "linecolor": "white",
             "minorgridcolor": "white",
             "startlinecolor": "#2a3f5f"
            },
            "type": "carpet"
           }
          ],
          "choropleth": [
           {
            "colorbar": {
             "outlinewidth": 0,
             "ticks": ""
            },
            "type": "choropleth"
           }
          ],
          "contour": [
           {
            "colorbar": {
             "outlinewidth": 0,
             "ticks": ""
            },
            "colorscale": [
             [
              0,
              "#0d0887"
             ],
             [
              0.1111111111111111,
              "#46039f"
             ],
             [
              0.2222222222222222,
              "#7201a8"
             ],
             [
              0.3333333333333333,
              "#9c179e"
             ],
             [
              0.4444444444444444,
              "#bd3786"
             ],
             [
              0.5555555555555556,
              "#d8576b"
             ],
             [
              0.6666666666666666,
              "#ed7953"
             ],
             [
              0.7777777777777778,
              "#fb9f3a"
             ],
             [
              0.8888888888888888,
              "#fdca26"
             ],
             [
              1,
              "#f0f921"
             ]
            ],
            "type": "contour"
           }
          ],
          "contourcarpet": [
           {
            "colorbar": {
             "outlinewidth": 0,
             "ticks": ""
            },
            "type": "contourcarpet"
           }
          ],
          "heatmap": [
           {
            "colorbar": {
             "outlinewidth": 0,
             "ticks": ""
            },
            "colorscale": [
             [
              0,
              "#0d0887"
             ],
             [
              0.1111111111111111,
              "#46039f"
             ],
             [
              0.2222222222222222,
              "#7201a8"
             ],
             [
              0.3333333333333333,
              "#9c179e"
             ],
             [
              0.4444444444444444,
              "#bd3786"
             ],
             [
              0.5555555555555556,
              "#d8576b"
             ],
             [
              0.6666666666666666,
              "#ed7953"
             ],
             [
              0.7777777777777778,
              "#fb9f3a"
             ],
             [
              0.8888888888888888,
              "#fdca26"
             ],
             [
              1,
              "#f0f921"
             ]
            ],
            "type": "heatmap"
           }
          ],
          "heatmapgl": [
           {
            "colorbar": {
             "outlinewidth": 0,
             "ticks": ""
            },
            "colorscale": [
             [
              0,
              "#0d0887"
             ],
             [
              0.1111111111111111,
              "#46039f"
             ],
             [
              0.2222222222222222,
              "#7201a8"
             ],
             [
              0.3333333333333333,
              "#9c179e"
             ],
             [
              0.4444444444444444,
              "#bd3786"
             ],
             [
              0.5555555555555556,
              "#d8576b"
             ],
             [
              0.6666666666666666,
              "#ed7953"
             ],
             [
              0.7777777777777778,
              "#fb9f3a"
             ],
             [
              0.8888888888888888,
              "#fdca26"
             ],
             [
              1,
              "#f0f921"
             ]
            ],
            "type": "heatmapgl"
           }
          ],
          "histogram": [
           {
            "marker": {
             "pattern": {
              "fillmode": "overlay",
              "size": 10,
              "solidity": 0.2
             }
            },
            "type": "histogram"
           }
          ],
          "histogram2d": [
           {
            "colorbar": {
             "outlinewidth": 0,
             "ticks": ""
            },
            "colorscale": [
             [
              0,
              "#0d0887"
             ],
             [
              0.1111111111111111,
              "#46039f"
             ],
             [
              0.2222222222222222,
              "#7201a8"
             ],
             [
              0.3333333333333333,
              "#9c179e"
             ],
             [
              0.4444444444444444,
              "#bd3786"
             ],
             [
              0.5555555555555556,
              "#d8576b"
             ],
             [
              0.6666666666666666,
              "#ed7953"
             ],
             [
              0.7777777777777778,
              "#fb9f3a"
             ],
             [
              0.8888888888888888,
              "#fdca26"
             ],
             [
              1,
              "#f0f921"
             ]
            ],
            "type": "histogram2d"
           }
          ],
          "histogram2dcontour": [
           {
            "colorbar": {
             "outlinewidth": 0,
             "ticks": ""
            },
            "colorscale": [
             [
              0,
              "#0d0887"
             ],
             [
              0.1111111111111111,
              "#46039f"
             ],
             [
              0.2222222222222222,
              "#7201a8"
             ],
             [
              0.3333333333333333,
              "#9c179e"
             ],
             [
              0.4444444444444444,
              "#bd3786"
             ],
             [
              0.5555555555555556,
              "#d8576b"
             ],
             [
              0.6666666666666666,
              "#ed7953"
             ],
             [
              0.7777777777777778,
              "#fb9f3a"
             ],
             [
              0.8888888888888888,
              "#fdca26"
             ],
             [
              1,
              "#f0f921"
             ]
            ],
            "type": "histogram2dcontour"
           }
          ],
          "mesh3d": [
           {
            "colorbar": {
             "outlinewidth": 0,
             "ticks": ""
            },
            "type": "mesh3d"
           }
          ],
          "parcoords": [
           {
            "line": {
             "colorbar": {
              "outlinewidth": 0,
              "ticks": ""
             }
            },
            "type": "parcoords"
           }
          ],
          "pie": [
           {
            "automargin": true,
            "type": "pie"
           }
          ],
          "scatter": [
           {
            "marker": {
             "colorbar": {
              "outlinewidth": 0,
              "ticks": ""
             }
            },
            "type": "scatter"
           }
          ],
          "scatter3d": [
           {
            "line": {
             "colorbar": {
              "outlinewidth": 0,
              "ticks": ""
             }
            },
            "marker": {
             "colorbar": {
              "outlinewidth": 0,
              "ticks": ""
             }
            },
            "type": "scatter3d"
           }
          ],
          "scattercarpet": [
           {
            "marker": {
             "colorbar": {
              "outlinewidth": 0,
              "ticks": ""
             }
            },
            "type": "scattercarpet"
           }
          ],
          "scattergeo": [
           {
            "marker": {
             "colorbar": {
              "outlinewidth": 0,
              "ticks": ""
             }
            },
            "type": "scattergeo"
           }
          ],
          "scattergl": [
           {
            "marker": {
             "colorbar": {
              "outlinewidth": 0,
              "ticks": ""
             }
            },
            "type": "scattergl"
           }
          ],
          "scattermapbox": [
           {
            "marker": {
             "colorbar": {
              "outlinewidth": 0,
              "ticks": ""
             }
            },
            "type": "scattermapbox"
           }
          ],
          "scatterpolar": [
           {
            "marker": {
             "colorbar": {
              "outlinewidth": 0,
              "ticks": ""
             }
            },
            "type": "scatterpolar"
           }
          ],
          "scatterpolargl": [
           {
            "marker": {
             "colorbar": {
              "outlinewidth": 0,
              "ticks": ""
             }
            },
            "type": "scatterpolargl"
           }
          ],
          "scatterternary": [
           {
            "marker": {
             "colorbar": {
              "outlinewidth": 0,
              "ticks": ""
             }
            },
            "type": "scatterternary"
           }
          ],
          "surface": [
           {
            "colorbar": {
             "outlinewidth": 0,
             "ticks": ""
            },
            "colorscale": [
             [
              0,
              "#0d0887"
             ],
             [
              0.1111111111111111,
              "#46039f"
             ],
             [
              0.2222222222222222,
              "#7201a8"
             ],
             [
              0.3333333333333333,
              "#9c179e"
             ],
             [
              0.4444444444444444,
              "#bd3786"
             ],
             [
              0.5555555555555556,
              "#d8576b"
             ],
             [
              0.6666666666666666,
              "#ed7953"
             ],
             [
              0.7777777777777778,
              "#fb9f3a"
             ],
             [
              0.8888888888888888,
              "#fdca26"
             ],
             [
              1,
              "#f0f921"
             ]
            ],
            "type": "surface"
           }
          ],
          "table": [
           {
            "cells": {
             "fill": {
              "color": "#EBF0F8"
             },
             "line": {
              "color": "white"
             }
            },
            "header": {
             "fill": {
              "color": "#C8D4E3"
             },
             "line": {
              "color": "white"
             }
            },
            "type": "table"
           }
          ]
         },
         "layout": {
          "annotationdefaults": {
           "arrowcolor": "#2a3f5f",
           "arrowhead": 0,
           "arrowwidth": 1
          },
          "autotypenumbers": "strict",
          "coloraxis": {
           "colorbar": {
            "outlinewidth": 0,
            "ticks": ""
           }
          },
          "colorscale": {
           "diverging": [
            [
             0,
             "#8e0152"
            ],
            [
             0.1,
             "#c51b7d"
            ],
            [
             0.2,
             "#de77ae"
            ],
            [
             0.3,
             "#f1b6da"
            ],
            [
             0.4,
             "#fde0ef"
            ],
            [
             0.5,
             "#f7f7f7"
            ],
            [
             0.6,
             "#e6f5d0"
            ],
            [
             0.7,
             "#b8e186"
            ],
            [
             0.8,
             "#7fbc41"
            ],
            [
             0.9,
             "#4d9221"
            ],
            [
             1,
             "#276419"
            ]
           ],
           "sequential": [
            [
             0,
             "#0d0887"
            ],
            [
             0.1111111111111111,
             "#46039f"
            ],
            [
             0.2222222222222222,
             "#7201a8"
            ],
            [
             0.3333333333333333,
             "#9c179e"
            ],
            [
             0.4444444444444444,
             "#bd3786"
            ],
            [
             0.5555555555555556,
             "#d8576b"
            ],
            [
             0.6666666666666666,
             "#ed7953"
            ],
            [
             0.7777777777777778,
             "#fb9f3a"
            ],
            [
             0.8888888888888888,
             "#fdca26"
            ],
            [
             1,
             "#f0f921"
            ]
           ],
           "sequentialminus": [
            [
             0,
             "#0d0887"
            ],
            [
             0.1111111111111111,
             "#46039f"
            ],
            [
             0.2222222222222222,
             "#7201a8"
            ],
            [
             0.3333333333333333,
             "#9c179e"
            ],
            [
             0.4444444444444444,
             "#bd3786"
            ],
            [
             0.5555555555555556,
             "#d8576b"
            ],
            [
             0.6666666666666666,
             "#ed7953"
            ],
            [
             0.7777777777777778,
             "#fb9f3a"
            ],
            [
             0.8888888888888888,
             "#fdca26"
            ],
            [
             1,
             "#f0f921"
            ]
           ]
          },
          "colorway": [
           "#636efa",
           "#EF553B",
           "#00cc96",
           "#ab63fa",
           "#FFA15A",
           "#19d3f3",
           "#FF6692",
           "#B6E880",
           "#FF97FF",
           "#FECB52"
          ],
          "font": {
           "color": "#2a3f5f"
          },
          "geo": {
           "bgcolor": "white",
           "lakecolor": "white",
           "landcolor": "#E5ECF6",
           "showlakes": true,
           "showland": true,
           "subunitcolor": "white"
          },
          "hoverlabel": {
           "align": "left"
          },
          "hovermode": "closest",
          "mapbox": {
           "style": "light"
          },
          "paper_bgcolor": "white",
          "plot_bgcolor": "#E5ECF6",
          "polar": {
           "angularaxis": {
            "gridcolor": "white",
            "linecolor": "white",
            "ticks": ""
           },
           "bgcolor": "#E5ECF6",
           "radialaxis": {
            "gridcolor": "white",
            "linecolor": "white",
            "ticks": ""
           }
          },
          "scene": {
           "xaxis": {
            "backgroundcolor": "#E5ECF6",
            "gridcolor": "white",
            "gridwidth": 2,
            "linecolor": "white",
            "showbackground": true,
            "ticks": "",
            "zerolinecolor": "white"
           },
           "yaxis": {
            "backgroundcolor": "#E5ECF6",
            "gridcolor": "white",
            "gridwidth": 2,
            "linecolor": "white",
            "showbackground": true,
            "ticks": "",
            "zerolinecolor": "white"
           },
           "zaxis": {
            "backgroundcolor": "#E5ECF6",
            "gridcolor": "white",
            "gridwidth": 2,
            "linecolor": "white",
            "showbackground": true,
            "ticks": "",
            "zerolinecolor": "white"
           }
          },
          "shapedefaults": {
           "line": {
            "color": "#2a3f5f"
           }
          },
          "ternary": {
           "aaxis": {
            "gridcolor": "white",
            "linecolor": "white",
            "ticks": ""
           },
           "baxis": {
            "gridcolor": "white",
            "linecolor": "white",
            "ticks": ""
           },
           "bgcolor": "#E5ECF6",
           "caxis": {
            "gridcolor": "white",
            "linecolor": "white",
            "ticks": ""
           }
          },
          "title": {
           "x": 0.05
          },
          "xaxis": {
           "automargin": true,
           "gridcolor": "white",
           "linecolor": "white",
           "ticks": "",
           "title": {
            "standoff": 15
           },
           "zerolinecolor": "white",
           "zerolinewidth": 2
          },
          "yaxis": {
           "automargin": true,
           "gridcolor": "white",
           "linecolor": "white",
           "ticks": "",
           "title": {
            "standoff": 15
           },
           "zerolinecolor": "white",
           "zerolinewidth": 2
          }
         }
        },
        "title": {
         "text": "People Fully Vaccinated"
        }
       }
      },
      "text/html": [
       "<div>                            <div id=\"61b13aa5-de31-4959-b1c2-9f4e3e568d97\" class=\"plotly-graph-div\" style=\"height:525px; width:100%;\"></div>            <script type=\"text/javascript\">                require([\"plotly\"], function(Plotly) {                    window.PLOTLYENV=window.PLOTLYENV || {};                                    if (document.getElementById(\"61b13aa5-de31-4959-b1c2-9f4e3e568d97\")) {                    Plotly.newPlot(                        \"61b13aa5-de31-4959-b1c2-9f4e3e568d97\",                        [{\"geo\":\"geo\",\"hovertemplate\":\"iso_code=%{location}<br>people_fully_vaccinated=%{marker.size}<extra></extra>\",\"legendgroup\":\"ABW\",\"locations\":[\"ABW\"],\"marker\":{\"color\":\"#636efa\",\"size\":[67522.0],\"sizemode\":\"area\",\"sizeref\":1942615.0,\"symbol\":\"circle\"},\"mode\":\"markers\",\"name\":\"ABW\",\"showlegend\":true,\"type\":\"scattergeo\"},{\"geo\":\"geo\",\"hovertemplate\":\"iso_code=%{location}<br>people_fully_vaccinated=%{marker.size}<extra></extra>\",\"legendgroup\":\"AFG\",\"locations\":[\"AFG\"],\"marker\":{\"color\":\"#EF553B\",\"size\":[219159.0],\"sizemode\":\"area\",\"sizeref\":1942615.0,\"symbol\":\"circle\"},\"mode\":\"markers\",\"name\":\"AFG\",\"showlegend\":true,\"type\":\"scattergeo\"},{\"geo\":\"geo\",\"hovertemplate\":\"iso_code=%{location}<br>people_fully_vaccinated=%{marker.size}<extra></extra>\",\"legendgroup\":\"AGO\",\"locations\":[\"AGO\"],\"marker\":{\"color\":\"#00cc96\",\"size\":[722610.0],\"sizemode\":\"area\",\"sizeref\":1942615.0,\"symbol\":\"circle\"},\"mode\":\"markers\",\"name\":\"AGO\",\"showlegend\":true,\"type\":\"scattergeo\"},{\"geo\":\"geo\",\"hovertemplate\":\"iso_code=%{location}<br>people_fully_vaccinated=%{marker.size}<extra></extra>\",\"legendgroup\":\"AIA\",\"locations\":[\"AIA\"],\"marker\":{\"color\":\"#ab63fa\",\"size\":[8965.0],\"sizemode\":\"area\",\"sizeref\":1942615.0,\"symbol\":\"circle\"},\"mode\":\"markers\",\"name\":\"AIA\",\"showlegend\":true,\"type\":\"scattergeo\"},{\"geo\":\"geo\",\"hovertemplate\":\"iso_code=%{location}<br>people_fully_vaccinated=%{marker.size}<extra></extra>\",\"legendgroup\":\"ALB\",\"locations\":[\"ALB\"],\"marker\":{\"color\":\"#FFA15A\",\"size\":[560007.0],\"sizemode\":\"area\",\"sizeref\":1942615.0,\"symbol\":\"circle\"},\"mode\":\"markers\",\"name\":\"ALB\",\"showlegend\":true,\"type\":\"scattergeo\"},{\"geo\":\"geo\",\"hovertemplate\":\"iso_code=%{location}<br>people_fully_vaccinated=%{marker.size}<extra></extra>\",\"legendgroup\":\"AND\",\"locations\":[\"AND\"],\"marker\":{\"color\":\"#19d3f3\",\"size\":[33904.0],\"sizemode\":\"area\",\"sizeref\":1942615.0,\"symbol\":\"circle\"},\"mode\":\"markers\",\"name\":\"AND\",\"showlegend\":true,\"type\":\"scattergeo\"},{\"geo\":\"geo\",\"hovertemplate\":\"iso_code=%{location}<br>people_fully_vaccinated=%{marker.size}<extra></extra>\",\"legendgroup\":\"ARE\",\"locations\":[\"ARE\"],\"marker\":{\"color\":\"#FF6692\",\"size\":[7210000.0],\"sizemode\":\"area\",\"sizeref\":1942615.0,\"symbol\":\"circle\"},\"mode\":\"markers\",\"name\":\"ARE\",\"showlegend\":true,\"type\":\"scattergeo\"},{\"geo\":\"geo\",\"hovertemplate\":\"iso_code=%{location}<br>people_fully_vaccinated=%{marker.size}<extra></extra>\",\"legendgroup\":\"ARG\",\"locations\":[\"ARG\"],\"marker\":{\"color\":\"#B6E880\",\"size\":[9821987.0],\"sizemode\":\"area\",\"sizeref\":1942615.0,\"symbol\":\"circle\"},\"mode\":\"markers\",\"name\":\"ARG\",\"showlegend\":true,\"type\":\"scattergeo\"},{\"geo\":\"geo\",\"hovertemplate\":\"iso_code=%{location}<br>people_fully_vaccinated=%{marker.size}<extra></extra>\",\"legendgroup\":\"ARM\",\"locations\":[\"ARM\"],\"marker\":{\"color\":\"#FF97FF\",\"size\":[62373.0],\"sizemode\":\"area\",\"sizeref\":1942615.0,\"symbol\":\"circle\"},\"mode\":\"markers\",\"name\":\"ARM\",\"showlegend\":true,\"type\":\"scattergeo\"},{\"geo\":\"geo\",\"hovertemplate\":\"iso_code=%{location}<br>people_fully_vaccinated=%{marker.size}<extra></extra>\",\"legendgroup\":\"ATG\",\"locations\":[\"ATG\"],\"marker\":{\"color\":\"#FECB52\",\"size\":[31414.0],\"sizemode\":\"area\",\"sizeref\":1942615.0,\"symbol\":\"circle\"},\"mode\":\"markers\",\"name\":\"ATG\",\"showlegend\":true,\"type\":\"scattergeo\"},{\"geo\":\"geo\",\"hovertemplate\":\"iso_code=%{location}<br>people_fully_vaccinated=%{marker.size}<extra></extra>\",\"legendgroup\":\"AUS\",\"locations\":[\"AUS\"],\"marker\":{\"color\":\"#636efa\",\"size\":[5253934.0],\"sizemode\":\"area\",\"sizeref\":1942615.0,\"symbol\":\"circle\"},\"mode\":\"markers\",\"name\":\"AUS\",\"showlegend\":true,\"type\":\"scattergeo\"},{\"geo\":\"geo\",\"hovertemplate\":\"iso_code=%{location}<br>people_fully_vaccinated=%{marker.size}<extra></extra>\",\"legendgroup\":\"AUT\",\"locations\":[\"AUT\"],\"marker\":{\"color\":\"#EF553B\",\"size\":[4987968.0],\"sizemode\":\"area\",\"sizeref\":1942615.0,\"symbol\":\"circle\"},\"mode\":\"markers\",\"name\":\"AUT\",\"showlegend\":true,\"type\":\"scattergeo\"},{\"geo\":\"geo\",\"hovertemplate\":\"iso_code=%{location}<br>people_fully_vaccinated=%{marker.size}<extra></extra>\",\"legendgroup\":\"AZE\",\"locations\":[\"AZE\"],\"marker\":{\"color\":\"#00cc96\",\"size\":[2358955.0],\"sizemode\":\"area\",\"sizeref\":1942615.0,\"symbol\":\"circle\"},\"mode\":\"markers\",\"name\":\"AZE\",\"showlegend\":true,\"type\":\"scattergeo\"},{\"geo\":\"geo\",\"hovertemplate\":\"iso_code=%{location}<br>people_fully_vaccinated=%{marker.size}<extra></extra>\",\"legendgroup\":\"BEL\",\"locations\":[\"BEL\"],\"marker\":{\"color\":\"#ab63fa\",\"size\":[7569904.0],\"sizemode\":\"area\",\"sizeref\":1942615.0,\"symbol\":\"circle\"},\"mode\":\"markers\",\"name\":\"BEL\",\"showlegend\":true,\"type\":\"scattergeo\"},{\"geo\":\"geo\",\"hovertemplate\":\"iso_code=%{location}<br>people_fully_vaccinated=%{marker.size}<extra></extra>\",\"legendgroup\":\"BEN\",\"locations\":[\"BEN\"],\"marker\":{\"color\":\"#FFA15A\",\"size\":[21405.0],\"sizemode\":\"area\",\"sizeref\":1942615.0,\"symbol\":\"circle\"},\"mode\":\"markers\",\"name\":\"BEN\",\"showlegend\":true,\"type\":\"scattergeo\"},{\"geo\":\"geo\",\"hovertemplate\":\"iso_code=%{location}<br>people_fully_vaccinated=%{marker.size}<extra></extra>\",\"legendgroup\":\"BES\",\"locations\":[\"BES\"],\"marker\":{\"color\":\"#19d3f3\",\"size\":[1665.0],\"sizemode\":\"area\",\"sizeref\":1942615.0,\"symbol\":\"circle\"},\"mode\":\"markers\",\"name\":\"BES\",\"showlegend\":true,\"type\":\"scattergeo\"},{\"geo\":\"geo\",\"hovertemplate\":\"iso_code=%{location}<br>people_fully_vaccinated=%{marker.size}<extra></extra>\",\"legendgroup\":\"BFA\",\"locations\":[\"BFA\"],\"marker\":{\"color\":\"#FF6692\",\"size\":[0.0],\"sizemode\":\"area\",\"sizeref\":1942615.0,\"symbol\":\"circle\"},\"mode\":\"markers\",\"name\":\"BFA\",\"showlegend\":true,\"type\":\"scattergeo\"},{\"geo\":\"geo\",\"hovertemplate\":\"iso_code=%{location}<br>people_fully_vaccinated=%{marker.size}<extra></extra>\",\"legendgroup\":\"BGD\",\"locations\":[\"BGD\"],\"marker\":{\"color\":\"#B6E880\",\"size\":[5224248.0],\"sizemode\":\"area\",\"sizeref\":1942615.0,\"symbol\":\"circle\"},\"mode\":\"markers\",\"name\":\"BGD\",\"showlegend\":true,\"type\":\"scattergeo\"},{\"geo\":\"geo\",\"hovertemplate\":\"iso_code=%{location}<br>people_fully_vaccinated=%{marker.size}<extra></extra>\",\"legendgroup\":\"BGR\",\"locations\":[\"BGR\"],\"marker\":{\"color\":\"#FF97FF\",\"size\":[1071839.0],\"sizemode\":\"area\",\"sizeref\":1942615.0,\"symbol\":\"circle\"},\"mode\":\"markers\",\"name\":\"BGR\",\"showlegend\":true,\"type\":\"scattergeo\"},{\"geo\":\"geo\",\"hovertemplate\":\"iso_code=%{location}<br>people_fully_vaccinated=%{marker.size}<extra></extra>\",\"legendgroup\":\"BHR\",\"locations\":[\"BHR\"],\"marker\":{\"color\":\"#FECB52\",\"size\":[1069945.0],\"sizemode\":\"area\",\"sizeref\":1942615.0,\"symbol\":\"circle\"},\"mode\":\"markers\",\"name\":\"BHR\",\"showlegend\":true,\"type\":\"scattergeo\"},{\"geo\":\"geo\",\"hovertemplate\":\"iso_code=%{location}<br>people_fully_vaccinated=%{marker.size}<extra></extra>\",\"legendgroup\":\"BHS\",\"locations\":[\"BHS\"],\"marker\":{\"color\":\"#636efa\",\"size\":[47580.0],\"sizemode\":\"area\",\"sizeref\":1942615.0,\"symbol\":\"circle\"},\"mode\":\"markers\",\"name\":\"BHS\",\"showlegend\":true,\"type\":\"scattergeo\"},{\"geo\":\"geo\",\"hovertemplate\":\"iso_code=%{location}<br>people_fully_vaccinated=%{marker.size}<extra></extra>\",\"legendgroup\":\"BIH\",\"locations\":[\"BIH\"],\"marker\":{\"color\":\"#EF553B\",\"size\":[327698.0],\"sizemode\":\"area\",\"sizeref\":1942615.0,\"symbol\":\"circle\"},\"mode\":\"markers\",\"name\":\"BIH\",\"showlegend\":true,\"type\":\"scattergeo\"},{\"geo\":\"geo\",\"hovertemplate\":\"iso_code=%{location}<br>people_fully_vaccinated=%{marker.size}<extra></extra>\",\"legendgroup\":\"BLR\",\"locations\":[\"BLR\"],\"marker\":{\"color\":\"#00cc96\",\"size\":[1095778.0],\"sizemode\":\"area\",\"sizeref\":1942615.0,\"symbol\":\"circle\"},\"mode\":\"markers\",\"name\":\"BLR\",\"showlegend\":true,\"type\":\"scattergeo\"},{\"geo\":\"geo\",\"hovertemplate\":\"iso_code=%{location}<br>people_fully_vaccinated=%{marker.size}<extra></extra>\",\"legendgroup\":\"BLZ\",\"locations\":[\"BLZ\"],\"marker\":{\"color\":\"#ab63fa\",\"size\":[58476.0],\"sizemode\":\"area\",\"sizeref\":1942615.0,\"symbol\":\"circle\"},\"mode\":\"markers\",\"name\":\"BLZ\",\"showlegend\":true,\"type\":\"scattergeo\"},{\"geo\":\"geo\",\"hovertemplate\":\"iso_code=%{location}<br>people_fully_vaccinated=%{marker.size}<extra></extra>\",\"legendgroup\":\"BMU\",\"locations\":[\"BMU\"],\"marker\":{\"color\":\"#FFA15A\",\"size\":[41223.0],\"sizemode\":\"area\",\"sizeref\":1942615.0,\"symbol\":\"circle\"},\"mode\":\"markers\",\"name\":\"BMU\",\"showlegend\":true,\"type\":\"scattergeo\"},{\"geo\":\"geo\",\"hovertemplate\":\"iso_code=%{location}<br>people_fully_vaccinated=%{marker.size}<extra></extra>\",\"legendgroup\":\"BOL\",\"locations\":[\"BOL\"],\"marker\":{\"color\":\"#19d3f3\",\"size\":[2027136.0],\"sizemode\":\"area\",\"sizeref\":1942615.0,\"symbol\":\"circle\"},\"mode\":\"markers\",\"name\":\"BOL\",\"showlegend\":true,\"type\":\"scattergeo\"},{\"geo\":\"geo\",\"hovertemplate\":\"iso_code=%{location}<br>people_fully_vaccinated=%{marker.size}<extra></extra>\",\"legendgroup\":\"BRA\",\"locations\":[\"BRA\"],\"marker\":{\"color\":\"#FF6692\",\"size\":[49297923.0],\"sizemode\":\"area\",\"sizeref\":1942615.0,\"symbol\":\"circle\"},\"mode\":\"markers\",\"name\":\"BRA\",\"showlegend\":true,\"type\":\"scattergeo\"},{\"geo\":\"geo\",\"hovertemplate\":\"iso_code=%{location}<br>people_fully_vaccinated=%{marker.size}<extra></extra>\",\"legendgroup\":\"BRB\",\"locations\":[\"BRB\"],\"marker\":{\"color\":\"#B6E880\",\"size\":[82733.0],\"sizemode\":\"area\",\"sizeref\":1942615.0,\"symbol\":\"circle\"},\"mode\":\"markers\",\"name\":\"BRB\",\"showlegend\":true,\"type\":\"scattergeo\"},{\"geo\":\"geo\",\"hovertemplate\":\"iso_code=%{location}<br>people_fully_vaccinated=%{marker.size}<extra></extra>\",\"legendgroup\":\"BRN\",\"locations\":[\"BRN\"],\"marker\":{\"color\":\"#FF97FF\",\"size\":[46440.0],\"sizemode\":\"area\",\"sizeref\":1942615.0,\"symbol\":\"circle\"},\"mode\":\"markers\",\"name\":\"BRN\",\"showlegend\":true,\"type\":\"scattergeo\"},{\"geo\":\"geo\",\"hovertemplate\":\"iso_code=%{location}<br>people_fully_vaccinated=%{marker.size}<extra></extra>\",\"legendgroup\":\"BTN\",\"locations\":[\"BTN\"],\"marker\":{\"color\":\"#FECB52\",\"size\":[475661.0],\"sizemode\":\"area\",\"sizeref\":1942615.0,\"symbol\":\"circle\"},\"mode\":\"markers\",\"name\":\"BTN\",\"showlegend\":true,\"type\":\"scattergeo\"},{\"geo\":\"geo\",\"hovertemplate\":\"iso_code=%{location}<br>people_fully_vaccinated=%{marker.size}<extra></extra>\",\"legendgroup\":\"BWA\",\"locations\":[\"BWA\"],\"marker\":{\"color\":\"#636efa\",\"size\":[146299.0],\"sizemode\":\"area\",\"sizeref\":1942615.0,\"symbol\":\"circle\"},\"mode\":\"markers\",\"name\":\"BWA\",\"showlegend\":true,\"type\":\"scattergeo\"},{\"geo\":\"geo\",\"hovertemplate\":\"iso_code=%{location}<br>people_fully_vaccinated=%{marker.size}<extra></extra>\",\"legendgroup\":\"CAF\",\"locations\":[\"CAF\"],\"marker\":{\"color\":\"#EF553B\",\"size\":[9901.0],\"sizemode\":\"area\",\"sizeref\":1942615.0,\"symbol\":\"circle\"},\"mode\":\"markers\",\"name\":\"CAF\",\"showlegend\":true,\"type\":\"scattergeo\"},{\"geo\":\"geo\",\"hovertemplate\":\"iso_code=%{location}<br>people_fully_vaccinated=%{marker.size}<extra></extra>\",\"legendgroup\":\"CAN\",\"locations\":[\"CAN\"],\"marker\":{\"color\":\"#00cc96\",\"size\":[24025326.0],\"sizemode\":\"area\",\"sizeref\":1942615.0,\"symbol\":\"circle\"},\"mode\":\"markers\",\"name\":\"CAN\",\"showlegend\":true,\"type\":\"scattergeo\"},{\"geo\":\"geo\",\"hovertemplate\":\"iso_code=%{location}<br>people_fully_vaccinated=%{marker.size}<extra></extra>\",\"legendgroup\":\"CHE\",\"locations\":[\"CHE\"],\"marker\":{\"color\":\"#ab63fa\",\"size\":[4281013.0],\"sizemode\":\"area\",\"sizeref\":1942615.0,\"symbol\":\"circle\"},\"mode\":\"markers\",\"name\":\"CHE\",\"showlegend\":true,\"type\":\"scattergeo\"},{\"geo\":\"geo\",\"hovertemplate\":\"iso_code=%{location}<br>people_fully_vaccinated=%{marker.size}<extra></extra>\",\"legendgroup\":\"CHL\",\"locations\":[\"CHL\"],\"marker\":{\"color\":\"#FFA15A\",\"size\":[12974102.0],\"sizemode\":\"area\",\"sizeref\":1942615.0,\"symbol\":\"circle\"},\"mode\":\"markers\",\"name\":\"CHL\",\"showlegend\":true,\"type\":\"scattergeo\"},{\"geo\":\"geo\",\"hovertemplate\":\"iso_code=%{location}<br>people_fully_vaccinated=%{marker.size}<extra></extra>\",\"legendgroup\":\"CHN\",\"locations\":[\"CHN\"],\"marker\":{\"color\":\"#19d3f3\",\"size\":[777046000.0],\"sizemode\":\"area\",\"sizeref\":1942615.0,\"symbol\":\"circle\"},\"mode\":\"markers\",\"name\":\"CHN\",\"showlegend\":true,\"type\":\"scattergeo\"},{\"geo\":\"geo\",\"hovertemplate\":\"iso_code=%{location}<br>people_fully_vaccinated=%{marker.size}<extra></extra>\",\"legendgroup\":\"CIV\",\"locations\":[\"CIV\"],\"marker\":{\"color\":\"#FF6692\",\"size\":[0.0],\"sizemode\":\"area\",\"sizeref\":1942615.0,\"symbol\":\"circle\"},\"mode\":\"markers\",\"name\":\"CIV\",\"showlegend\":true,\"type\":\"scattergeo\"},{\"geo\":\"geo\",\"hovertemplate\":\"iso_code=%{location}<br>people_fully_vaccinated=%{marker.size}<extra></extra>\",\"legendgroup\":\"CMR\",\"locations\":[\"CMR\"],\"marker\":{\"color\":\"#B6E880\",\"size\":[61818.0],\"sizemode\":\"area\",\"sizeref\":1942615.0,\"symbol\":\"circle\"},\"mode\":\"markers\",\"name\":\"CMR\",\"showlegend\":true,\"type\":\"scattergeo\"},{\"geo\":\"geo\",\"hovertemplate\":\"iso_code=%{location}<br>people_fully_vaccinated=%{marker.size}<extra></extra>\",\"legendgroup\":\"COD\",\"locations\":[\"COD\"],\"marker\":{\"color\":\"#FF97FF\",\"size\":[4260.0],\"sizemode\":\"area\",\"sizeref\":1942615.0,\"symbol\":\"circle\"},\"mode\":\"markers\",\"name\":\"COD\",\"showlegend\":true,\"type\":\"scattergeo\"},{\"geo\":\"geo\",\"hovertemplate\":\"iso_code=%{location}<br>people_fully_vaccinated=%{marker.size}<extra></extra>\",\"legendgroup\":\"COG\",\"locations\":[\"COG\"],\"marker\":{\"color\":\"#FECB52\",\"size\":[95043.0],\"sizemode\":\"area\",\"sizeref\":1942615.0,\"symbol\":\"circle\"},\"mode\":\"markers\",\"name\":\"COG\",\"showlegend\":true,\"type\":\"scattergeo\"},{\"geo\":\"geo\",\"hovertemplate\":\"iso_code=%{location}<br>people_fully_vaccinated=%{marker.size}<extra></extra>\",\"legendgroup\":\"COK\",\"locations\":[\"COK\"],\"marker\":{\"color\":\"#636efa\",\"size\":[9578.0],\"sizemode\":\"area\",\"sizeref\":1942615.0,\"symbol\":\"circle\"},\"mode\":\"markers\",\"name\":\"COK\",\"showlegend\":true,\"type\":\"scattergeo\"},{\"geo\":\"geo\",\"hovertemplate\":\"iso_code=%{location}<br>people_fully_vaccinated=%{marker.size}<extra></extra>\",\"legendgroup\":\"COL\",\"locations\":[\"COL\"],\"marker\":{\"color\":\"#EF553B\",\"size\":[13590141.0],\"sizemode\":\"area\",\"sizeref\":1942615.0,\"symbol\":\"circle\"},\"mode\":\"markers\",\"name\":\"COL\",\"showlegend\":true,\"type\":\"scattergeo\"},{\"geo\":\"geo\",\"hovertemplate\":\"iso_code=%{location}<br>people_fully_vaccinated=%{marker.size}<extra></extra>\",\"legendgroup\":\"COM\",\"locations\":[\"COM\"],\"marker\":{\"color\":\"#00cc96\",\"size\":[67783.0],\"sizemode\":\"area\",\"sizeref\":1942615.0,\"symbol\":\"circle\"},\"mode\":\"markers\",\"name\":\"COM\",\"showlegend\":true,\"type\":\"scattergeo\"},{\"geo\":\"geo\",\"hovertemplate\":\"iso_code=%{location}<br>people_fully_vaccinated=%{marker.size}<extra></extra>\",\"legendgroup\":\"CPV\",\"locations\":[\"CPV\"],\"marker\":{\"color\":\"#ab63fa\",\"size\":[25824.0],\"sizemode\":\"area\",\"sizeref\":1942615.0,\"symbol\":\"circle\"},\"mode\":\"markers\",\"name\":\"CPV\",\"showlegend\":true,\"type\":\"scattergeo\"},{\"geo\":\"geo\",\"hovertemplate\":\"iso_code=%{location}<br>people_fully_vaccinated=%{marker.size}<extra></extra>\",\"legendgroup\":\"CRI\",\"locations\":[\"CRI\"],\"marker\":{\"color\":\"#FFA15A\",\"size\":[862851.0],\"sizemode\":\"area\",\"sizeref\":1942615.0,\"symbol\":\"circle\"},\"mode\":\"markers\",\"name\":\"CRI\",\"showlegend\":true,\"type\":\"scattergeo\"},{\"geo\":\"geo\",\"hovertemplate\":\"iso_code=%{location}<br>people_fully_vaccinated=%{marker.size}<extra></extra>\",\"legendgroup\":\"CUB\",\"locations\":[\"CUB\"],\"marker\":{\"color\":\"#19d3f3\",\"size\":[2990494.0],\"sizemode\":\"area\",\"sizeref\":1942615.0,\"symbol\":\"circle\"},\"mode\":\"markers\",\"name\":\"CUB\",\"showlegend\":true,\"type\":\"scattergeo\"},{\"geo\":\"geo\",\"hovertemplate\":\"iso_code=%{location}<br>people_fully_vaccinated=%{marker.size}<extra></extra>\",\"legendgroup\":\"CUW\",\"locations\":[\"CUW\"],\"marker\":{\"color\":\"#FF6692\",\"size\":[84698.0],\"sizemode\":\"area\",\"sizeref\":1942615.0,\"symbol\":\"circle\"},\"mode\":\"markers\",\"name\":\"CUW\",\"showlegend\":true,\"type\":\"scattergeo\"},{\"geo\":\"geo\",\"hovertemplate\":\"iso_code=%{location}<br>people_fully_vaccinated=%{marker.size}<extra></extra>\",\"legendgroup\":\"CYM\",\"locations\":[\"CYM\"],\"marker\":{\"color\":\"#B6E880\",\"size\":[48512.0],\"sizemode\":\"area\",\"sizeref\":1942615.0,\"symbol\":\"circle\"},\"mode\":\"markers\",\"name\":\"CYM\",\"showlegend\":true,\"type\":\"scattergeo\"},{\"geo\":\"geo\",\"hovertemplate\":\"iso_code=%{location}<br>people_fully_vaccinated=%{marker.size}<extra></extra>\",\"legendgroup\":\"CYP\",\"locations\":[\"CYP\"],\"marker\":{\"color\":\"#FF97FF\",\"size\":[486972.0],\"sizemode\":\"area\",\"sizeref\":1942615.0,\"symbol\":\"circle\"},\"mode\":\"markers\",\"name\":\"CYP\",\"showlegend\":true,\"type\":\"scattergeo\"},{\"geo\":\"geo\",\"hovertemplate\":\"iso_code=%{location}<br>people_fully_vaccinated=%{marker.size}<extra></extra>\",\"legendgroup\":\"CZE\",\"locations\":[\"CZE\"],\"marker\":{\"color\":\"#FECB52\",\"size\":[5308063.0],\"sizemode\":\"area\",\"sizeref\":1942615.0,\"symbol\":\"circle\"},\"mode\":\"markers\",\"name\":\"CZE\",\"showlegend\":true,\"type\":\"scattergeo\"},{\"geo\":\"geo\",\"hovertemplate\":\"iso_code=%{location}<br>people_fully_vaccinated=%{marker.size}<extra></extra>\",\"legendgroup\":\"DEU\",\"locations\":[\"DEU\"],\"marker\":{\"color\":\"#636efa\",\"size\":[47367929.0],\"sizemode\":\"area\",\"sizeref\":1942615.0,\"symbol\":\"circle\"},\"mode\":\"markers\",\"name\":\"DEU\",\"showlegend\":true,\"type\":\"scattergeo\"},{\"geo\":\"geo\",\"hovertemplate\":\"iso_code=%{location}<br>people_fully_vaccinated=%{marker.size}<extra></extra>\",\"legendgroup\":\"DJI\",\"locations\":[\"DJI\"],\"marker\":{\"color\":\"#EF553B\",\"size\":[20516.0],\"sizemode\":\"area\",\"sizeref\":1942615.0,\"symbol\":\"circle\"},\"mode\":\"markers\",\"name\":\"DJI\",\"showlegend\":true,\"type\":\"scattergeo\"},{\"geo\":\"geo\",\"hovertemplate\":\"iso_code=%{location}<br>people_fully_vaccinated=%{marker.size}<extra></extra>\",\"legendgroup\":\"DMA\",\"locations\":[\"DMA\"],\"marker\":{\"color\":\"#00cc96\",\"size\":[19732.0],\"sizemode\":\"area\",\"sizeref\":1942615.0,\"symbol\":\"circle\"},\"mode\":\"markers\",\"name\":\"DMA\",\"showlegend\":true,\"type\":\"scattergeo\"},{\"geo\":\"geo\",\"hovertemplate\":\"iso_code=%{location}<br>people_fully_vaccinated=%{marker.size}<extra></extra>\",\"legendgroup\":\"DNK\",\"locations\":[\"DNK\"],\"marker\":{\"color\":\"#ab63fa\",\"size\":[3749106.0],\"sizemode\":\"area\",\"sizeref\":1942615.0,\"symbol\":\"circle\"},\"mode\":\"markers\",\"name\":\"DNK\",\"showlegend\":true,\"type\":\"scattergeo\"},{\"geo\":\"geo\",\"hovertemplate\":\"iso_code=%{location}<br>people_fully_vaccinated=%{marker.size}<extra></extra>\",\"legendgroup\":\"DOM\",\"locations\":[\"DOM\"],\"marker\":{\"color\":\"#FFA15A\",\"size\":[4455264.0],\"sizemode\":\"area\",\"sizeref\":1942615.0,\"symbol\":\"circle\"},\"mode\":\"markers\",\"name\":\"DOM\",\"showlegend\":true,\"type\":\"scattergeo\"},{\"geo\":\"geo\",\"hovertemplate\":\"iso_code=%{location}<br>people_fully_vaccinated=%{marker.size}<extra></extra>\",\"legendgroup\":\"DZA\",\"locations\":[\"DZA\"],\"marker\":{\"color\":\"#19d3f3\",\"size\":[724812.0],\"sizemode\":\"area\",\"sizeref\":1942615.0,\"symbol\":\"circle\"},\"mode\":\"markers\",\"name\":\"DZA\",\"showlegend\":true,\"type\":\"scattergeo\"},{\"geo\":\"geo\",\"hovertemplate\":\"iso_code=%{location}<br>people_fully_vaccinated=%{marker.size}<extra></extra>\",\"legendgroup\":\"ECU\",\"locations\":[\"ECU\"],\"marker\":{\"color\":\"#FF6692\",\"size\":[4622931.0],\"sizemode\":\"area\",\"sizeref\":1942615.0,\"symbol\":\"circle\"},\"mode\":\"markers\",\"name\":\"ECU\",\"showlegend\":true,\"type\":\"scattergeo\"},{\"geo\":\"geo\",\"hovertemplate\":\"iso_code=%{location}<br>people_fully_vaccinated=%{marker.size}<extra></extra>\",\"legendgroup\":\"EGY\",\"locations\":[\"EGY\"],\"marker\":{\"color\":\"#B6E880\",\"size\":[1866622.0],\"sizemode\":\"area\",\"sizeref\":1942615.0,\"symbol\":\"circle\"},\"mode\":\"markers\",\"name\":\"EGY\",\"showlegend\":true,\"type\":\"scattergeo\"},{\"geo\":\"geo\",\"hovertemplate\":\"iso_code=%{location}<br>people_fully_vaccinated=%{marker.size}<extra></extra>\",\"legendgroup\":\"ESP\",\"locations\":[\"ESP\"],\"marker\":{\"color\":\"#FF97FF\",\"size\":[29526380.0],\"sizemode\":\"area\",\"sizeref\":1942615.0,\"symbol\":\"circle\"},\"mode\":\"markers\",\"name\":\"ESP\",\"showlegend\":true,\"type\":\"scattergeo\"},{\"geo\":\"geo\",\"hovertemplate\":\"iso_code=%{location}<br>people_fully_vaccinated=%{marker.size}<extra></extra>\",\"legendgroup\":\"EST\",\"locations\":[\"EST\"],\"marker\":{\"color\":\"#FECB52\",\"size\":[516547.0],\"sizemode\":\"area\",\"sizeref\":1942615.0,\"symbol\":\"circle\"},\"mode\":\"markers\",\"name\":\"EST\",\"showlegend\":true,\"type\":\"scattergeo\"},{\"geo\":\"geo\",\"hovertemplate\":\"iso_code=%{location}<br>people_fully_vaccinated=%{marker.size}<extra></extra>\",\"legendgroup\":\"ETH\",\"locations\":[\"ETH\"],\"marker\":{\"color\":\"#636efa\",\"size\":[0.0],\"sizemode\":\"area\",\"sizeref\":1942615.0,\"symbol\":\"circle\"},\"mode\":\"markers\",\"name\":\"ETH\",\"showlegend\":true,\"type\":\"scattergeo\"},{\"geo\":\"geo\",\"hovertemplate\":\"iso_code=%{location}<br>people_fully_vaccinated=%{marker.size}<extra></extra>\",\"legendgroup\":\"FIN\",\"locations\":[\"FIN\"],\"marker\":{\"color\":\"#EF553B\",\"size\":[2340299.0],\"sizemode\":\"area\",\"sizeref\":1942615.0,\"symbol\":\"circle\"},\"mode\":\"markers\",\"name\":\"FIN\",\"showlegend\":true,\"type\":\"scattergeo\"},{\"geo\":\"geo\",\"hovertemplate\":\"iso_code=%{location}<br>people_fully_vaccinated=%{marker.size}<extra></extra>\",\"legendgroup\":\"FJI\",\"locations\":[\"FJI\"],\"marker\":{\"color\":\"#00cc96\",\"size\":[178606.0],\"sizemode\":\"area\",\"sizeref\":1942615.0,\"symbol\":\"circle\"},\"mode\":\"markers\",\"name\":\"FJI\",\"showlegend\":true,\"type\":\"scattergeo\"},{\"geo\":\"geo\",\"hovertemplate\":\"iso_code=%{location}<br>people_fully_vaccinated=%{marker.size}<extra></extra>\",\"legendgroup\":\"FLK\",\"locations\":[\"FLK\"],\"marker\":{\"color\":\"#ab63fa\",\"size\":[1775.0],\"sizemode\":\"area\",\"sizeref\":1942615.0,\"symbol\":\"circle\"},\"mode\":\"markers\",\"name\":\"FLK\",\"showlegend\":true,\"type\":\"scattergeo\"},{\"geo\":\"geo\",\"hovertemplate\":\"iso_code=%{location}<br>people_fully_vaccinated=%{marker.size}<extra></extra>\",\"legendgroup\":\"FRA\",\"locations\":[\"FRA\"],\"marker\":{\"color\":\"#FFA15A\",\"size\":[34991742.0],\"sizemode\":\"area\",\"sizeref\":1942615.0,\"symbol\":\"circle\"},\"mode\":\"markers\",\"name\":\"FRA\",\"showlegend\":true,\"type\":\"scattergeo\"},{\"geo\":\"geo\",\"hovertemplate\":\"iso_code=%{location}<br>people_fully_vaccinated=%{marker.size}<extra></extra>\",\"legendgroup\":\"FRO\",\"locations\":[\"FRO\"],\"marker\":{\"color\":\"#19d3f3\",\"size\":[32915.0],\"sizemode\":\"area\",\"sizeref\":1942615.0,\"symbol\":\"circle\"},\"mode\":\"markers\",\"name\":\"FRO\",\"showlegend\":true,\"type\":\"scattergeo\"},{\"geo\":\"geo\",\"hovertemplate\":\"iso_code=%{location}<br>people_fully_vaccinated=%{marker.size}<extra></extra>\",\"legendgroup\":\"GAB\",\"locations\":[\"GAB\"],\"marker\":{\"color\":\"#FF6692\",\"size\":[48760.0],\"sizemode\":\"area\",\"sizeref\":1942615.0,\"symbol\":\"circle\"},\"mode\":\"markers\",\"name\":\"GAB\",\"showlegend\":true,\"type\":\"scattergeo\"},{\"geo\":\"geo\",\"hovertemplate\":\"iso_code=%{location}<br>people_fully_vaccinated=%{marker.size}<extra></extra>\",\"legendgroup\":\"GBR\",\"locations\":[\"GBR\"],\"marker\":{\"color\":\"#B6E880\",\"size\":[40372981.0],\"sizemode\":\"area\",\"sizeref\":1942615.0,\"symbol\":\"circle\"},\"mode\":\"markers\",\"name\":\"GBR\",\"showlegend\":true,\"type\":\"scattergeo\"},{\"geo\":\"geo\",\"hovertemplate\":\"iso_code=%{location}<br>people_fully_vaccinated=%{marker.size}<extra></extra>\",\"legendgroup\":\"GEO\",\"locations\":[\"GEO\"],\"marker\":{\"color\":\"#FF97FF\",\"size\":[237149.0],\"sizemode\":\"area\",\"sizeref\":1942615.0,\"symbol\":\"circle\"},\"mode\":\"markers\",\"name\":\"GEO\",\"showlegend\":true,\"type\":\"scattergeo\"},{\"geo\":\"geo\",\"hovertemplate\":\"iso_code=%{location}<br>people_fully_vaccinated=%{marker.size}<extra></extra>\",\"legendgroup\":\"GGY\",\"locations\":[\"GGY\"],\"marker\":{\"color\":\"#FECB52\",\"size\":[13618.0],\"sizemode\":\"area\",\"sizeref\":1942615.0,\"symbol\":\"circle\"},\"mode\":\"markers\",\"name\":\"GGY\",\"showlegend\":true,\"type\":\"scattergeo\"},{\"geo\":\"geo\",\"hovertemplate\":\"iso_code=%{location}<br>people_fully_vaccinated=%{marker.size}<extra></extra>\",\"legendgroup\":\"GHA\",\"locations\":[\"GHA\"],\"marker\":{\"color\":\"#636efa\",\"size\":[405971.0],\"sizemode\":\"area\",\"sizeref\":1942615.0,\"symbol\":\"circle\"},\"mode\":\"markers\",\"name\":\"GHA\",\"showlegend\":true,\"type\":\"scattergeo\"},{\"geo\":\"geo\",\"hovertemplate\":\"iso_code=%{location}<br>people_fully_vaccinated=%{marker.size}<extra></extra>\",\"legendgroup\":\"GIB\",\"locations\":[\"GIB\"],\"marker\":{\"color\":\"#EF553B\",\"size\":[39168.0],\"sizemode\":\"area\",\"sizeref\":1942615.0,\"symbol\":\"circle\"},\"mode\":\"markers\",\"name\":\"GIB\",\"showlegend\":true,\"type\":\"scattergeo\"},{\"geo\":\"geo\",\"hovertemplate\":\"iso_code=%{location}<br>people_fully_vaccinated=%{marker.size}<extra></extra>\",\"legendgroup\":\"GIN\",\"locations\":[\"GIN\"],\"marker\":{\"color\":\"#00cc96\",\"size\":[343248.0],\"sizemode\":\"area\",\"sizeref\":1942615.0,\"symbol\":\"circle\"},\"mode\":\"markers\",\"name\":\"GIN\",\"showlegend\":true,\"type\":\"scattergeo\"},{\"geo\":\"geo\",\"hovertemplate\":\"iso_code=%{location}<br>people_fully_vaccinated=%{marker.size}<extra></extra>\",\"legendgroup\":\"GMB\",\"locations\":[\"GMB\"],\"marker\":{\"color\":\"#ab63fa\",\"size\":[12303.0],\"sizemode\":\"area\",\"sizeref\":1942615.0,\"symbol\":\"circle\"},\"mode\":\"markers\",\"name\":\"GMB\",\"showlegend\":true,\"type\":\"scattergeo\"},{\"geo\":\"geo\",\"hovertemplate\":\"iso_code=%{location}<br>people_fully_vaccinated=%{marker.size}<extra></extra>\",\"legendgroup\":\"GNB\",\"locations\":[\"GNB\"],\"marker\":{\"color\":\"#FFA15A\",\"size\":[2374.0],\"sizemode\":\"area\",\"sizeref\":1942615.0,\"symbol\":\"circle\"},\"mode\":\"markers\",\"name\":\"GNB\",\"showlegend\":true,\"type\":\"scattergeo\"},{\"geo\":\"geo\",\"hovertemplate\":\"iso_code=%{location}<br>people_fully_vaccinated=%{marker.size}<extra></extra>\",\"legendgroup\":\"GNQ\",\"locations\":[\"GNQ\"],\"marker\":{\"color\":\"#19d3f3\",\"size\":[136091.0],\"sizemode\":\"area\",\"sizeref\":1942615.0,\"symbol\":\"circle\"},\"mode\":\"markers\",\"name\":\"GNQ\",\"showlegend\":true,\"type\":\"scattergeo\"},{\"geo\":\"geo\",\"hovertemplate\":\"iso_code=%{location}<br>people_fully_vaccinated=%{marker.size}<extra></extra>\",\"legendgroup\":\"GRC\",\"locations\":[\"GRC\"],\"marker\":{\"color\":\"#FF6692\",\"size\":[5504723.0],\"sizemode\":\"area\",\"sizeref\":1942615.0,\"symbol\":\"circle\"},\"mode\":\"markers\",\"name\":\"GRC\",\"showlegend\":true,\"type\":\"scattergeo\"},{\"geo\":\"geo\",\"hovertemplate\":\"iso_code=%{location}<br>people_fully_vaccinated=%{marker.size}<extra></extra>\",\"legendgroup\":\"GRD\",\"locations\":[\"GRD\"],\"marker\":{\"color\":\"#B6E880\",\"size\":[17013.0],\"sizemode\":\"area\",\"sizeref\":1942615.0,\"symbol\":\"circle\"},\"mode\":\"markers\",\"name\":\"GRD\",\"showlegend\":true,\"type\":\"scattergeo\"},{\"geo\":\"geo\",\"hovertemplate\":\"iso_code=%{location}<br>people_fully_vaccinated=%{marker.size}<extra></extra>\",\"legendgroup\":\"GRL\",\"locations\":[\"GRL\"],\"marker\":{\"color\":\"#FF97FF\",\"size\":[29684.0],\"sizemode\":\"area\",\"sizeref\":1942615.0,\"symbol\":\"circle\"},\"mode\":\"markers\",\"name\":\"GRL\",\"showlegend\":true,\"type\":\"scattergeo\"},{\"geo\":\"geo\",\"hovertemplate\":\"iso_code=%{location}<br>people_fully_vaccinated=%{marker.size}<extra></extra>\",\"legendgroup\":\"GTM\",\"locations\":[\"GTM\"],\"marker\":{\"color\":\"#FECB52\",\"size\":[514253.0],\"sizemode\":\"area\",\"sizeref\":1942615.0,\"symbol\":\"circle\"},\"mode\":\"markers\",\"name\":\"GTM\",\"showlegend\":true,\"type\":\"scattergeo\"},{\"geo\":\"geo\",\"hovertemplate\":\"iso_code=%{location}<br>people_fully_vaccinated=%{marker.size}<extra></extra>\",\"legendgroup\":\"GUY\",\"locations\":[\"GUY\"],\"marker\":{\"color\":\"#636efa\",\"size\":[146091.0],\"sizemode\":\"area\",\"sizeref\":1942615.0,\"symbol\":\"circle\"},\"mode\":\"markers\",\"name\":\"GUY\",\"showlegend\":true,\"type\":\"scattergeo\"},{\"geo\":\"geo\",\"hovertemplate\":\"iso_code=%{location}<br>people_fully_vaccinated=%{marker.size}<extra></extra>\",\"legendgroup\":\"HKG\",\"locations\":[\"HKG\"],\"marker\":{\"color\":\"#EF553B\",\"size\":[2880923.0],\"sizemode\":\"area\",\"sizeref\":1942615.0,\"symbol\":\"circle\"},\"mode\":\"markers\",\"name\":\"HKG\",\"showlegend\":true,\"type\":\"scattergeo\"},{\"geo\":\"geo\",\"hovertemplate\":\"iso_code=%{location}<br>people_fully_vaccinated=%{marker.size}<extra></extra>\",\"legendgroup\":\"HND\",\"locations\":[\"HND\"],\"marker\":{\"color\":\"#00cc96\",\"size\":[532819.0],\"sizemode\":\"area\",\"sizeref\":1942615.0,\"symbol\":\"circle\"},\"mode\":\"markers\",\"name\":\"HND\",\"showlegend\":true,\"type\":\"scattergeo\"},{\"geo\":\"geo\",\"hovertemplate\":\"iso_code=%{location}<br>people_fully_vaccinated=%{marker.size}<extra></extra>\",\"legendgroup\":\"HRV\",\"locations\":[\"HRV\"],\"marker\":{\"color\":\"#ab63fa\",\"size\":[1546645.0],\"sizemode\":\"area\",\"sizeref\":1942615.0,\"symbol\":\"circle\"},\"mode\":\"markers\",\"name\":\"HRV\",\"showlegend\":true,\"type\":\"scattergeo\"},{\"geo\":\"geo\",\"hovertemplate\":\"iso_code=%{location}<br>people_fully_vaccinated=%{marker.size}<extra></extra>\",\"legendgroup\":\"HTI\",\"locations\":[\"HTI\"],\"marker\":{\"color\":\"#FFA15A\",\"size\":[366.0],\"sizemode\":\"area\",\"sizeref\":1942615.0,\"symbol\":\"circle\"},\"mode\":\"markers\",\"name\":\"HTI\",\"showlegend\":true,\"type\":\"scattergeo\"},{\"geo\":\"geo\",\"hovertemplate\":\"iso_code=%{location}<br>people_fully_vaccinated=%{marker.size}<extra></extra>\",\"legendgroup\":\"HUN\",\"locations\":[\"HUN\"],\"marker\":{\"color\":\"#19d3f3\",\"size\":[5498222.0],\"sizemode\":\"area\",\"sizeref\":1942615.0,\"symbol\":\"circle\"},\"mode\":\"markers\",\"name\":\"HUN\",\"showlegend\":true,\"type\":\"scattergeo\"},{\"geo\":\"geo\",\"hovertemplate\":\"iso_code=%{location}<br>people_fully_vaccinated=%{marker.size}<extra></extra>\",\"legendgroup\":\"IDN\",\"locations\":[\"IDN\"],\"marker\":{\"color\":\"#FF6692\",\"size\":[27793556.0],\"sizemode\":\"area\",\"sizeref\":1942615.0,\"symbol\":\"circle\"},\"mode\":\"markers\",\"name\":\"IDN\",\"showlegend\":true,\"type\":\"scattergeo\"},{\"geo\":\"geo\",\"hovertemplate\":\"iso_code=%{location}<br>people_fully_vaccinated=%{marker.size}<extra></extra>\",\"legendgroup\":\"IMN\",\"locations\":[\"IMN\"],\"marker\":{\"color\":\"#B6E880\",\"size\":[60563.0],\"sizemode\":\"area\",\"sizeref\":1942615.0,\"symbol\":\"circle\"},\"mode\":\"markers\",\"name\":\"IMN\",\"showlegend\":true,\"type\":\"scattergeo\"},{\"geo\":\"geo\",\"hovertemplate\":\"iso_code=%{location}<br>people_fully_vaccinated=%{marker.size}<extra></extra>\",\"legendgroup\":\"IND\",\"locations\":[\"IND\"],\"marker\":{\"color\":\"#FF97FF\",\"size\":[121270889.0],\"sizemode\":\"area\",\"sizeref\":1942615.0,\"symbol\":\"circle\"},\"mode\":\"markers\",\"name\":\"IND\",\"showlegend\":true,\"type\":\"scattergeo\"},{\"geo\":\"geo\",\"hovertemplate\":\"iso_code=%{location}<br>people_fully_vaccinated=%{marker.size}<extra></extra>\",\"legendgroup\":\"IRL\",\"locations\":[\"IRL\"],\"marker\":{\"color\":\"#FECB52\",\"size\":[3073417.0],\"sizemode\":\"area\",\"sizeref\":1942615.0,\"symbol\":\"circle\"},\"mode\":\"markers\",\"name\":\"IRL\",\"showlegend\":true,\"type\":\"scattergeo\"},{\"geo\":\"geo\",\"hovertemplate\":\"iso_code=%{location}<br>people_fully_vaccinated=%{marker.size}<extra></extra>\",\"legendgroup\":\"IRN\",\"locations\":[\"IRN\"],\"marker\":{\"color\":\"#636efa\",\"size\":[3152074.0],\"sizemode\":\"area\",\"sizeref\":1942615.0,\"symbol\":\"circle\"},\"mode\":\"markers\",\"name\":\"IRN\",\"showlegend\":true,\"type\":\"scattergeo\"},{\"geo\":\"geo\",\"hovertemplate\":\"iso_code=%{location}<br>people_fully_vaccinated=%{marker.size}<extra></extra>\",\"legendgroup\":\"IRQ\",\"locations\":[\"IRQ\"],\"marker\":{\"color\":\"#EF553B\",\"size\":[494900.0],\"sizemode\":\"area\",\"sizeref\":1942615.0,\"symbol\":\"circle\"},\"mode\":\"markers\",\"name\":\"IRQ\",\"showlegend\":true,\"type\":\"scattergeo\"},{\"geo\":\"geo\",\"hovertemplate\":\"iso_code=%{location}<br>people_fully_vaccinated=%{marker.size}<extra></extra>\",\"legendgroup\":\"ISL\",\"locations\":[\"ISL\"],\"marker\":{\"color\":\"#00cc96\",\"size\":[255322.0],\"sizemode\":\"area\",\"sizeref\":1942615.0,\"symbol\":\"circle\"},\"mode\":\"markers\",\"name\":\"ISL\",\"showlegend\":true,\"type\":\"scattergeo\"},{\"geo\":\"geo\",\"hovertemplate\":\"iso_code=%{location}<br>people_fully_vaccinated=%{marker.size}<extra></extra>\",\"legendgroup\":\"ISR\",\"locations\":[\"ISR\"],\"marker\":{\"color\":\"#ab63fa\",\"size\":[5412337.0],\"sizemode\":\"area\",\"sizeref\":1942615.0,\"symbol\":\"circle\"},\"mode\":\"markers\",\"name\":\"ISR\",\"showlegend\":true,\"type\":\"scattergeo\"},{\"geo\":\"geo\",\"hovertemplate\":\"iso_code=%{location}<br>people_fully_vaccinated=%{marker.size}<extra></extra>\",\"legendgroup\":\"ITA\",\"locations\":[\"ITA\"],\"marker\":{\"color\":\"#FFA15A\",\"size\":[34468779.0],\"sizemode\":\"area\",\"sizeref\":1942615.0,\"symbol\":\"circle\"},\"mode\":\"markers\",\"name\":\"ITA\",\"showlegend\":true,\"type\":\"scattergeo\"},{\"geo\":\"geo\",\"hovertemplate\":\"iso_code=%{location}<br>people_fully_vaccinated=%{marker.size}<extra></extra>\",\"legendgroup\":\"JAM\",\"locations\":[\"JAM\"],\"marker\":{\"color\":\"#19d3f3\",\"size\":[135115.0],\"sizemode\":\"area\",\"sizeref\":1942615.0,\"symbol\":\"circle\"},\"mode\":\"markers\",\"name\":\"JAM\",\"showlegend\":true,\"type\":\"scattergeo\"},{\"geo\":\"geo\",\"hovertemplate\":\"iso_code=%{location}<br>people_fully_vaccinated=%{marker.size}<extra></extra>\",\"legendgroup\":\"JEY\",\"locations\":[\"JEY\"],\"marker\":{\"color\":\"#FF6692\",\"size\":[69997.0],\"sizemode\":\"area\",\"sizeref\":1942615.0,\"symbol\":\"circle\"},\"mode\":\"markers\",\"name\":\"JEY\",\"showlegend\":true,\"type\":\"scattergeo\"},{\"geo\":\"geo\",\"hovertemplate\":\"iso_code=%{location}<br>people_fully_vaccinated=%{marker.size}<extra></extra>\",\"legendgroup\":\"JOR\",\"locations\":[\"JOR\"],\"marker\":{\"color\":\"#B6E880\",\"size\":[2498898.0],\"sizemode\":\"area\",\"sizeref\":1942615.0,\"symbol\":\"circle\"},\"mode\":\"markers\",\"name\":\"JOR\",\"showlegend\":true,\"type\":\"scattergeo\"},{\"geo\":\"geo\",\"hovertemplate\":\"iso_code=%{location}<br>people_fully_vaccinated=%{marker.size}<extra></extra>\",\"legendgroup\":\"JPN\",\"locations\":[\"JPN\"],\"marker\":{\"color\":\"#FF97FF\",\"size\":[46422145.0],\"sizemode\":\"area\",\"sizeref\":1942615.0,\"symbol\":\"circle\"},\"mode\":\"markers\",\"name\":\"JPN\",\"showlegend\":true,\"type\":\"scattergeo\"},{\"geo\":\"geo\",\"hovertemplate\":\"iso_code=%{location}<br>people_fully_vaccinated=%{marker.size}<extra></extra>\",\"legendgroup\":\"KAZ\",\"locations\":[\"KAZ\"],\"marker\":{\"color\":\"#FECB52\",\"size\":[4668157.0],\"sizemode\":\"area\",\"sizeref\":1942615.0,\"symbol\":\"circle\"},\"mode\":\"markers\",\"name\":\"KAZ\",\"showlegend\":true,\"type\":\"scattergeo\"},{\"geo\":\"geo\",\"hovertemplate\":\"iso_code=%{location}<br>people_fully_vaccinated=%{marker.size}<extra></extra>\",\"legendgroup\":\"KEN\",\"locations\":[\"KEN\"],\"marker\":{\"color\":\"#636efa\",\"size\":[729667.0],\"sizemode\":\"area\",\"sizeref\":1942615.0,\"symbol\":\"circle\"},\"mode\":\"markers\",\"name\":\"KEN\",\"showlegend\":true,\"type\":\"scattergeo\"},{\"geo\":\"geo\",\"hovertemplate\":\"iso_code=%{location}<br>people_fully_vaccinated=%{marker.size}<extra></extra>\",\"legendgroup\":\"KGZ\",\"locations\":[\"KGZ\"],\"marker\":{\"color\":\"#EF553B\",\"size\":[261380.0],\"sizemode\":\"area\",\"sizeref\":1942615.0,\"symbol\":\"circle\"},\"mode\":\"markers\",\"name\":\"KGZ\",\"showlegend\":true,\"type\":\"scattergeo\"},{\"geo\":\"geo\",\"hovertemplate\":\"iso_code=%{location}<br>people_fully_vaccinated=%{marker.size}<extra></extra>\",\"legendgroup\":\"KHM\",\"locations\":[\"KHM\"],\"marker\":{\"color\":\"#00cc96\",\"size\":[6967688.0],\"sizemode\":\"area\",\"sizeref\":1942615.0,\"symbol\":\"circle\"},\"mode\":\"markers\",\"name\":\"KHM\",\"showlegend\":true,\"type\":\"scattergeo\"},{\"geo\":\"geo\",\"hovertemplate\":\"iso_code=%{location}<br>people_fully_vaccinated=%{marker.size}<extra></extra>\",\"legendgroup\":\"KIR\",\"locations\":[\"KIR\"],\"marker\":{\"color\":\"#ab63fa\",\"size\":[0.0],\"sizemode\":\"area\",\"sizeref\":1942615.0,\"symbol\":\"circle\"},\"mode\":\"markers\",\"name\":\"KIR\",\"showlegend\":true,\"type\":\"scattergeo\"},{\"geo\":\"geo\",\"hovertemplate\":\"iso_code=%{location}<br>people_fully_vaccinated=%{marker.size}<extra></extra>\",\"legendgroup\":\"KNA\",\"locations\":[\"KNA\"],\"marker\":{\"color\":\"#FFA15A\",\"size\":[20000.0],\"sizemode\":\"area\",\"sizeref\":1942615.0,\"symbol\":\"circle\"},\"mode\":\"markers\",\"name\":\"KNA\",\"showlegend\":true,\"type\":\"scattergeo\"},{\"geo\":\"geo\",\"hovertemplate\":\"iso_code=%{location}<br>people_fully_vaccinated=%{marker.size}<extra></extra>\",\"legendgroup\":\"KOR\",\"locations\":[\"KOR\"],\"marker\":{\"color\":\"#19d3f3\",\"size\":[9735672.0],\"sizemode\":\"area\",\"sizeref\":1942615.0,\"symbol\":\"circle\"},\"mode\":\"markers\",\"name\":\"KOR\",\"showlegend\":true,\"type\":\"scattergeo\"},{\"geo\":\"geo\",\"hovertemplate\":\"iso_code=%{location}<br>people_fully_vaccinated=%{marker.size}<extra></extra>\",\"legendgroup\":\"KWT\",\"locations\":[\"KWT\"],\"marker\":{\"color\":\"#FF6692\",\"size\":[923307.0],\"sizemode\":\"area\",\"sizeref\":1942615.0,\"symbol\":\"circle\"},\"mode\":\"markers\",\"name\":\"KWT\",\"showlegend\":true,\"type\":\"scattergeo\"},{\"geo\":\"geo\",\"hovertemplate\":\"iso_code=%{location}<br>people_fully_vaccinated=%{marker.size}<extra></extra>\",\"legendgroup\":\"LAO\",\"locations\":[\"LAO\"],\"marker\":{\"color\":\"#B6E880\",\"size\":[1455478.0],\"sizemode\":\"area\",\"sizeref\":1942615.0,\"symbol\":\"circle\"},\"mode\":\"markers\",\"name\":\"LAO\",\"showlegend\":true,\"type\":\"scattergeo\"},{\"geo\":\"geo\",\"hovertemplate\":\"iso_code=%{location}<br>people_fully_vaccinated=%{marker.size}<extra></extra>\",\"legendgroup\":\"LBN\",\"locations\":[\"LBN\"],\"marker\":{\"color\":\"#FF97FF\",\"size\":[972073.0],\"sizemode\":\"area\",\"sizeref\":1942615.0,\"symbol\":\"circle\"},\"mode\":\"markers\",\"name\":\"LBN\",\"showlegend\":true,\"type\":\"scattergeo\"},{\"geo\":\"geo\",\"hovertemplate\":\"iso_code=%{location}<br>people_fully_vaccinated=%{marker.size}<extra></extra>\",\"legendgroup\":\"LBR\",\"locations\":[\"LBR\"],\"marker\":{\"color\":\"#FECB52\",\"size\":[9135.0],\"sizemode\":\"area\",\"sizeref\":1942615.0,\"symbol\":\"circle\"},\"mode\":\"markers\",\"name\":\"LBR\",\"showlegend\":true,\"type\":\"scattergeo\"},{\"geo\":\"geo\",\"hovertemplate\":\"iso_code=%{location}<br>people_fully_vaccinated=%{marker.size}<extra></extra>\",\"legendgroup\":\"LBY\",\"locations\":[\"LBY\"],\"marker\":{\"color\":\"#636efa\",\"size\":[0.0],\"sizemode\":\"area\",\"sizeref\":1942615.0,\"symbol\":\"circle\"},\"mode\":\"markers\",\"name\":\"LBY\",\"showlegend\":true,\"type\":\"scattergeo\"},{\"geo\":\"geo\",\"hovertemplate\":\"iso_code=%{location}<br>people_fully_vaccinated=%{marker.size}<extra></extra>\",\"legendgroup\":\"LCA\",\"locations\":[\"LCA\"],\"marker\":{\"color\":\"#EF553B\",\"size\":[26063.0],\"sizemode\":\"area\",\"sizeref\":1942615.0,\"symbol\":\"circle\"},\"mode\":\"markers\",\"name\":\"LCA\",\"showlegend\":true,\"type\":\"scattergeo\"},{\"geo\":\"geo\",\"hovertemplate\":\"iso_code=%{location}<br>people_fully_vaccinated=%{marker.size}<extra></extra>\",\"legendgroup\":\"LIE\",\"locations\":[\"LIE\"],\"marker\":{\"color\":\"#00cc96\",\"size\":[20025.0],\"sizemode\":\"area\",\"sizeref\":1942615.0,\"symbol\":\"circle\"},\"mode\":\"markers\",\"name\":\"LIE\",\"showlegend\":true,\"type\":\"scattergeo\"},{\"geo\":\"geo\",\"hovertemplate\":\"iso_code=%{location}<br>people_fully_vaccinated=%{marker.size}<extra></extra>\",\"legendgroup\":\"LKA\",\"locations\":[\"LKA\"],\"marker\":{\"color\":\"#ab63fa\",\"size\":[3775976.0],\"sizemode\":\"area\",\"sizeref\":1942615.0,\"symbol\":\"circle\"},\"mode\":\"markers\",\"name\":\"LKA\",\"showlegend\":true,\"type\":\"scattergeo\"},{\"geo\":\"geo\",\"hovertemplate\":\"iso_code=%{location}<br>people_fully_vaccinated=%{marker.size}<extra></extra>\",\"legendgroup\":\"LSO\",\"locations\":[\"LSO\"],\"marker\":{\"color\":\"#FFA15A\",\"size\":[36311.0],\"sizemode\":\"area\",\"sizeref\":1942615.0,\"symbol\":\"circle\"},\"mode\":\"markers\",\"name\":\"LSO\",\"showlegend\":true,\"type\":\"scattergeo\"},{\"geo\":\"geo\",\"hovertemplate\":\"iso_code=%{location}<br>people_fully_vaccinated=%{marker.size}<extra></extra>\",\"legendgroup\":\"LTU\",\"locations\":[\"LTU\"],\"marker\":{\"color\":\"#19d3f3\",\"size\":[1363184.0],\"sizemode\":\"area\",\"sizeref\":1942615.0,\"symbol\":\"circle\"},\"mode\":\"markers\",\"name\":\"LTU\",\"showlegend\":true,\"type\":\"scattergeo\"},{\"geo\":\"geo\",\"hovertemplate\":\"iso_code=%{location}<br>people_fully_vaccinated=%{marker.size}<extra></extra>\",\"legendgroup\":\"LUX\",\"locations\":[\"LUX\"],\"marker\":{\"color\":\"#FF6692\",\"size\":[343025.0],\"sizemode\":\"area\",\"sizeref\":1942615.0,\"symbol\":\"circle\"},\"mode\":\"markers\",\"name\":\"LUX\",\"showlegend\":true,\"type\":\"scattergeo\"},{\"geo\":\"geo\",\"hovertemplate\":\"iso_code=%{location}<br>people_fully_vaccinated=%{marker.size}<extra></extra>\",\"legendgroup\":\"LVA\",\"locations\":[\"LVA\"],\"marker\":{\"color\":\"#B6E880\",\"size\":[717589.0],\"sizemode\":\"area\",\"sizeref\":1942615.0,\"symbol\":\"circle\"},\"mode\":\"markers\",\"name\":\"LVA\",\"showlegend\":true,\"type\":\"scattergeo\"},{\"geo\":\"geo\",\"hovertemplate\":\"iso_code=%{location}<br>people_fully_vaccinated=%{marker.size}<extra></extra>\",\"legendgroup\":\"MAC\",\"locations\":[\"MAC\"],\"marker\":{\"color\":\"#FF97FF\",\"size\":[247683.0],\"sizemode\":\"area\",\"sizeref\":1942615.0,\"symbol\":\"circle\"},\"mode\":\"markers\",\"name\":\"MAC\",\"showlegend\":true,\"type\":\"scattergeo\"},{\"geo\":\"geo\",\"hovertemplate\":\"iso_code=%{location}<br>people_fully_vaccinated=%{marker.size}<extra></extra>\",\"legendgroup\":\"MAR\",\"locations\":[\"MAR\"],\"marker\":{\"color\":\"#FECB52\",\"size\":[11389655.0],\"sizemode\":\"area\",\"sizeref\":1942615.0,\"symbol\":\"circle\"},\"mode\":\"markers\",\"name\":\"MAR\",\"showlegend\":true,\"type\":\"scattergeo\"},{\"geo\":\"geo\",\"hovertemplate\":\"iso_code=%{location}<br>people_fully_vaccinated=%{marker.size}<extra></extra>\",\"legendgroup\":\"MCO\",\"locations\":[\"MCO\"],\"marker\":{\"color\":\"#636efa\",\"size\":[19606.0],\"sizemode\":\"area\",\"sizeref\":1942615.0,\"symbol\":\"circle\"},\"mode\":\"markers\",\"name\":\"MCO\",\"showlegend\":true,\"type\":\"scattergeo\"},{\"geo\":\"geo\",\"hovertemplate\":\"iso_code=%{location}<br>people_fully_vaccinated=%{marker.size}<extra></extra>\",\"legendgroup\":\"MDA\",\"locations\":[\"MDA\"],\"marker\":{\"color\":\"#EF553B\",\"size\":[570879.0],\"sizemode\":\"area\",\"sizeref\":1942615.0,\"symbol\":\"circle\"},\"mode\":\"markers\",\"name\":\"MDA\",\"showlegend\":true,\"type\":\"scattergeo\"},{\"geo\":\"geo\",\"hovertemplate\":\"iso_code=%{location}<br>people_fully_vaccinated=%{marker.size}<extra></extra>\",\"legendgroup\":\"MDG\",\"locations\":[\"MDG\"],\"marker\":{\"color\":\"#00cc96\",\"size\":[0.0],\"sizemode\":\"area\",\"sizeref\":1942615.0,\"symbol\":\"circle\"},\"mode\":\"markers\",\"name\":\"MDG\",\"showlegend\":true,\"type\":\"scattergeo\"},{\"geo\":\"geo\",\"hovertemplate\":\"iso_code=%{location}<br>people_fully_vaccinated=%{marker.size}<extra></extra>\",\"legendgroup\":\"MDV\",\"locations\":[\"MDV\"],\"marker\":{\"color\":\"#ab63fa\",\"size\":[292905.0],\"sizemode\":\"area\",\"sizeref\":1942615.0,\"symbol\":\"circle\"},\"mode\":\"markers\",\"name\":\"MDV\",\"showlegend\":true,\"type\":\"scattergeo\"},{\"geo\":\"geo\",\"hovertemplate\":\"iso_code=%{location}<br>people_fully_vaccinated=%{marker.size}<extra></extra>\",\"legendgroup\":\"MEX\",\"locations\":[\"MEX\"],\"marker\":{\"color\":\"#FFA15A\",\"size\":[29046598.0],\"sizemode\":\"area\",\"sizeref\":1942615.0,\"symbol\":\"circle\"},\"mode\":\"markers\",\"name\":\"MEX\",\"showlegend\":true,\"type\":\"scattergeo\"},{\"geo\":\"geo\",\"hovertemplate\":\"iso_code=%{location}<br>people_fully_vaccinated=%{marker.size}<extra></extra>\",\"legendgroup\":\"MKD\",\"locations\":[\"MKD\"],\"marker\":{\"color\":\"#19d3f3\",\"size\":[462192.0],\"sizemode\":\"area\",\"sizeref\":1942615.0,\"symbol\":\"circle\"},\"mode\":\"markers\",\"name\":\"MKD\",\"showlegend\":true,\"type\":\"scattergeo\"},{\"geo\":\"geo\",\"hovertemplate\":\"iso_code=%{location}<br>people_fully_vaccinated=%{marker.size}<extra></extra>\",\"legendgroup\":\"MLI\",\"locations\":[\"MLI\"],\"marker\":{\"color\":\"#FF6692\",\"size\":[86477.0],\"sizemode\":\"area\",\"sizeref\":1942615.0,\"symbol\":\"circle\"},\"mode\":\"markers\",\"name\":\"MLI\",\"showlegend\":true,\"type\":\"scattergeo\"},{\"geo\":\"geo\",\"hovertemplate\":\"iso_code=%{location}<br>people_fully_vaccinated=%{marker.size}<extra></extra>\",\"legendgroup\":\"MLT\",\"locations\":[\"MLT\"],\"marker\":{\"color\":\"#B6E880\",\"size\":[404213.0],\"sizemode\":\"area\",\"sizeref\":1942615.0,\"symbol\":\"circle\"},\"mode\":\"markers\",\"name\":\"MLT\",\"showlegend\":true,\"type\":\"scattergeo\"},{\"geo\":\"geo\",\"hovertemplate\":\"iso_code=%{location}<br>people_fully_vaccinated=%{marker.size}<extra></extra>\",\"legendgroup\":\"MMR\",\"locations\":[\"MMR\"],\"marker\":{\"color\":\"#FF97FF\",\"size\":[1527284.0],\"sizemode\":\"area\",\"sizeref\":1942615.0,\"symbol\":\"circle\"},\"mode\":\"markers\",\"name\":\"MMR\",\"showlegend\":true,\"type\":\"scattergeo\"},{\"geo\":\"geo\",\"hovertemplate\":\"iso_code=%{location}<br>people_fully_vaccinated=%{marker.size}<extra></extra>\",\"legendgroup\":\"MNE\",\"locations\":[\"MNE\"],\"marker\":{\"color\":\"#FECB52\",\"size\":[163440.0],\"sizemode\":\"area\",\"sizeref\":1942615.0,\"symbol\":\"circle\"},\"mode\":\"markers\",\"name\":\"MNE\",\"showlegend\":true,\"type\":\"scattergeo\"},{\"geo\":\"geo\",\"hovertemplate\":\"iso_code=%{location}<br>people_fully_vaccinated=%{marker.size}<extra></extra>\",\"legendgroup\":\"MNG\",\"locations\":[\"MNG\"],\"marker\":{\"color\":\"#636efa\",\"size\":[2018569.0],\"sizemode\":\"area\",\"sizeref\":1942615.0,\"symbol\":\"circle\"},\"mode\":\"markers\",\"name\":\"MNG\",\"showlegend\":true,\"type\":\"scattergeo\"},{\"geo\":\"geo\",\"hovertemplate\":\"iso_code=%{location}<br>people_fully_vaccinated=%{marker.size}<extra></extra>\",\"legendgroup\":\"MOZ\",\"locations\":[\"MOZ\"],\"marker\":{\"color\":\"#EF553B\",\"size\":[478487.0],\"sizemode\":\"area\",\"sizeref\":1942615.0,\"symbol\":\"circle\"},\"mode\":\"markers\",\"name\":\"MOZ\",\"showlegend\":true,\"type\":\"scattergeo\"},{\"geo\":\"geo\",\"hovertemplate\":\"iso_code=%{location}<br>people_fully_vaccinated=%{marker.size}<extra></extra>\",\"legendgroup\":\"MRT\",\"locations\":[\"MRT\"],\"marker\":{\"color\":\"#00cc96\",\"size\":[21545.0],\"sizemode\":\"area\",\"sizeref\":1942615.0,\"symbol\":\"circle\"},\"mode\":\"markers\",\"name\":\"MRT\",\"showlegend\":true,\"type\":\"scattergeo\"},{\"geo\":\"geo\",\"hovertemplate\":\"iso_code=%{location}<br>people_fully_vaccinated=%{marker.size}<extra></extra>\",\"legendgroup\":\"MSR\",\"locations\":[\"MSR\"],\"marker\":{\"color\":\"#ab63fa\",\"size\":[1368.0],\"sizemode\":\"area\",\"sizeref\":1942615.0,\"symbol\":\"circle\"},\"mode\":\"markers\",\"name\":\"MSR\",\"showlegend\":true,\"type\":\"scattergeo\"},{\"geo\":\"geo\",\"hovertemplate\":\"iso_code=%{location}<br>people_fully_vaccinated=%{marker.size}<extra></extra>\",\"legendgroup\":\"MUS\",\"locations\":[\"MUS\"],\"marker\":{\"color\":\"#FFA15A\",\"size\":[576180.0],\"sizemode\":\"area\",\"sizeref\":1942615.0,\"symbol\":\"circle\"},\"mode\":\"markers\",\"name\":\"MUS\",\"showlegend\":true,\"type\":\"scattergeo\"},{\"geo\":\"geo\",\"hovertemplate\":\"iso_code=%{location}<br>people_fully_vaccinated=%{marker.size}<extra></extra>\",\"legendgroup\":\"MWI\",\"locations\":[\"MWI\"],\"marker\":{\"color\":\"#19d3f3\",\"size\":[219249.0],\"sizemode\":\"area\",\"sizeref\":1942615.0,\"symbol\":\"circle\"},\"mode\":\"markers\",\"name\":\"MWI\",\"showlegend\":true,\"type\":\"scattergeo\"},{\"geo\":\"geo\",\"hovertemplate\":\"iso_code=%{location}<br>people_fully_vaccinated=%{marker.size}<extra></extra>\",\"legendgroup\":\"MYS\",\"locations\":[\"MYS\"],\"marker\":{\"color\":\"#FF6692\",\"size\":[10425300.0],\"sizemode\":\"area\",\"sizeref\":1942615.0,\"symbol\":\"circle\"},\"mode\":\"markers\",\"name\":\"MYS\",\"showlegend\":true,\"type\":\"scattergeo\"},{\"geo\":\"geo\",\"hovertemplate\":\"iso_code=%{location}<br>people_fully_vaccinated=%{marker.size}<extra></extra>\",\"legendgroup\":\"NAM\",\"locations\":[\"NAM\"],\"marker\":{\"color\":\"#B6E880\",\"size\":[65556.0],\"sizemode\":\"area\",\"sizeref\":1942615.0,\"symbol\":\"circle\"},\"mode\":\"markers\",\"name\":\"NAM\",\"showlegend\":true,\"type\":\"scattergeo\"},{\"geo\":\"geo\",\"hovertemplate\":\"iso_code=%{location}<br>people_fully_vaccinated=%{marker.size}<extra></extra>\",\"legendgroup\":\"NCL\",\"locations\":[\"NCL\"],\"marker\":{\"color\":\"#FF97FF\",\"size\":[63031.0],\"sizemode\":\"area\",\"sizeref\":1942615.0,\"symbol\":\"circle\"},\"mode\":\"markers\",\"name\":\"NCL\",\"showlegend\":true,\"type\":\"scattergeo\"},{\"geo\":\"geo\",\"hovertemplate\":\"iso_code=%{location}<br>people_fully_vaccinated=%{marker.size}<extra></extra>\",\"legendgroup\":\"NER\",\"locations\":[\"NER\"],\"marker\":{\"color\":\"#FECB52\",\"size\":[32190.0],\"sizemode\":\"area\",\"sizeref\":1942615.0,\"symbol\":\"circle\"},\"mode\":\"markers\",\"name\":\"NER\",\"showlegend\":true,\"type\":\"scattergeo\"},{\"geo\":\"geo\",\"hovertemplate\":\"iso_code=%{location}<br>people_fully_vaccinated=%{marker.size}<extra></extra>\",\"legendgroup\":\"NGA\",\"locations\":[\"NGA\"],\"marker\":{\"color\":\"#636efa\",\"size\":[1416623.0],\"sizemode\":\"area\",\"sizeref\":1942615.0,\"symbol\":\"circle\"},\"mode\":\"markers\",\"name\":\"NGA\",\"showlegend\":true,\"type\":\"scattergeo\"},{\"geo\":\"geo\",\"hovertemplate\":\"iso_code=%{location}<br>people_fully_vaccinated=%{marker.size}<extra></extra>\",\"legendgroup\":\"NIC\",\"locations\":[\"NIC\"],\"marker\":{\"color\":\"#EF553B\",\"size\":[339096.0],\"sizemode\":\"area\",\"sizeref\":1942615.0,\"symbol\":\"circle\"},\"mode\":\"markers\",\"name\":\"NIC\",\"showlegend\":true,\"type\":\"scattergeo\"},{\"geo\":\"geo\",\"hovertemplate\":\"iso_code=%{location}<br>people_fully_vaccinated=%{marker.size}<extra></extra>\",\"legendgroup\":\"NIU\",\"locations\":[\"NIU\"],\"marker\":{\"color\":\"#00cc96\",\"size\":[32.0],\"sizemode\":\"area\",\"sizeref\":1942615.0,\"symbol\":\"circle\"},\"mode\":\"markers\",\"name\":\"NIU\",\"showlegend\":true,\"type\":\"scattergeo\"},{\"geo\":\"geo\",\"hovertemplate\":\"iso_code=%{location}<br>people_fully_vaccinated=%{marker.size}<extra></extra>\",\"legendgroup\":\"NLD\",\"locations\":[\"NLD\"],\"marker\":{\"color\":\"#ab63fa\",\"size\":[10246053.0],\"sizemode\":\"area\",\"sizeref\":1942615.0,\"symbol\":\"circle\"},\"mode\":\"markers\",\"name\":\"NLD\",\"showlegend\":true,\"type\":\"scattergeo\"},{\"geo\":\"geo\",\"hovertemplate\":\"iso_code=%{location}<br>people_fully_vaccinated=%{marker.size}<extra></extra>\",\"legendgroup\":\"NOR\",\"locations\":[\"NOR\"],\"marker\":{\"color\":\"#FFA15A\",\"size\":[2154583.0],\"sizemode\":\"area\",\"sizeref\":1942615.0,\"symbol\":\"circle\"},\"mode\":\"markers\",\"name\":\"NOR\",\"showlegend\":true,\"type\":\"scattergeo\"},{\"geo\":\"geo\",\"hovertemplate\":\"iso_code=%{location}<br>people_fully_vaccinated=%{marker.size}<extra></extra>\",\"legendgroup\":\"NPL\",\"locations\":[\"NPL\"],\"marker\":{\"color\":\"#19d3f3\",\"size\":[3303578.0],\"sizemode\":\"area\",\"sizeref\":1942615.0,\"symbol\":\"circle\"},\"mode\":\"markers\",\"name\":\"NPL\",\"showlegend\":true,\"type\":\"scattergeo\"},{\"geo\":\"geo\",\"hovertemplate\":\"iso_code=%{location}<br>people_fully_vaccinated=%{marker.size}<extra></extra>\",\"legendgroup\":\"NRU\",\"locations\":[\"NRU\"],\"marker\":{\"color\":\"#FF6692\",\"size\":[7251.0],\"sizemode\":\"area\",\"sizeref\":1942615.0,\"symbol\":\"circle\"},\"mode\":\"markers\",\"name\":\"NRU\",\"showlegend\":true,\"type\":\"scattergeo\"},{\"geo\":\"geo\",\"hovertemplate\":\"iso_code=%{location}<br>people_fully_vaccinated=%{marker.size}<extra></extra>\",\"legendgroup\":\"NZL\",\"locations\":[\"NZL\"],\"marker\":{\"color\":\"#B6E880\",\"size\":[848406.0],\"sizemode\":\"area\",\"sizeref\":1942615.0,\"symbol\":\"circle\"},\"mode\":\"markers\",\"name\":\"NZL\",\"showlegend\":true,\"type\":\"scattergeo\"},{\"geo\":\"geo\",\"hovertemplate\":\"iso_code=%{location}<br>people_fully_vaccinated=%{marker.size}<extra></extra>\",\"legendgroup\":\"OMN\",\"locations\":[\"OMN\"],\"marker\":{\"color\":\"#FF97FF\",\"size\":[648518.0],\"sizemode\":\"area\",\"sizeref\":1942615.0,\"symbol\":\"circle\"},\"mode\":\"markers\",\"name\":\"OMN\",\"showlegend\":true,\"type\":\"scattergeo\"},{\"geo\":\"geo\",\"hovertemplate\":\"iso_code=%{location}<br>people_fully_vaccinated=%{marker.size}<extra></extra>\",\"legendgroup\":\"OWID_CYN\",\"locations\":[\"OWID_CYN\"],\"marker\":{\"color\":\"#FECB52\",\"size\":[85859.0],\"sizemode\":\"area\",\"sizeref\":1942615.0,\"symbol\":\"circle\"},\"mode\":\"markers\",\"name\":\"OWID_CYN\",\"showlegend\":true,\"type\":\"scattergeo\"},{\"geo\":\"geo\",\"hovertemplate\":\"iso_code=%{location}<br>people_fully_vaccinated=%{marker.size}<extra></extra>\",\"legendgroup\":\"OWID_ENG\",\"locations\":[\"OWID_ENG\"],\"marker\":{\"color\":\"#636efa\",\"size\":[33695859.0],\"sizemode\":\"area\",\"sizeref\":1942615.0,\"symbol\":\"circle\"},\"mode\":\"markers\",\"name\":\"OWID_ENG\",\"showlegend\":true,\"type\":\"scattergeo\"},{\"geo\":\"geo\",\"hovertemplate\":\"iso_code=%{location}<br>people_fully_vaccinated=%{marker.size}<extra></extra>\",\"legendgroup\":\"OWID_KOS\",\"locations\":[\"OWID_KOS\"],\"marker\":{\"color\":\"#EF553B\",\"size\":[183240.0],\"sizemode\":\"area\",\"sizeref\":1942615.0,\"symbol\":\"circle\"},\"mode\":\"markers\",\"name\":\"OWID_KOS\",\"showlegend\":true,\"type\":\"scattergeo\"},{\"geo\":\"geo\",\"hovertemplate\":\"iso_code=%{location}<br>people_fully_vaccinated=%{marker.size}<extra></extra>\",\"legendgroup\":\"OWID_NIR\",\"locations\":[\"OWID_NIR\"],\"marker\":{\"color\":\"#00cc96\",\"size\":[1113944.0],\"sizemode\":\"area\",\"sizeref\":1942615.0,\"symbol\":\"circle\"},\"mode\":\"markers\",\"name\":\"OWID_NIR\",\"showlegend\":true,\"type\":\"scattergeo\"},{\"geo\":\"geo\",\"hovertemplate\":\"iso_code=%{location}<br>people_fully_vaccinated=%{marker.size}<extra></extra>\",\"legendgroup\":\"OWID_SCT\",\"locations\":[\"OWID_SCT\"],\"marker\":{\"color\":\"#ab63fa\",\"size\":[3431062.0],\"sizemode\":\"area\",\"sizeref\":1942615.0,\"symbol\":\"circle\"},\"mode\":\"markers\",\"name\":\"OWID_SCT\",\"showlegend\":true,\"type\":\"scattergeo\"},{\"geo\":\"geo\",\"hovertemplate\":\"iso_code=%{location}<br>people_fully_vaccinated=%{marker.size}<extra></extra>\",\"legendgroup\":\"OWID_WLS\",\"locations\":[\"OWID_WLS\"],\"marker\":{\"color\":\"#FFA15A\",\"size\":[2132116.0],\"sizemode\":\"area\",\"sizeref\":1942615.0,\"symbol\":\"circle\"},\"mode\":\"markers\",\"name\":\"OWID_WLS\",\"showlegend\":true,\"type\":\"scattergeo\"},{\"geo\":\"geo\",\"hovertemplate\":\"iso_code=%{location}<br>people_fully_vaccinated=%{marker.size}<extra></extra>\",\"legendgroup\":\"PAK\",\"locations\":[\"PAK\"],\"marker\":{\"color\":\"#19d3f3\",\"size\":[11956552.0],\"sizemode\":\"area\",\"sizeref\":1942615.0,\"symbol\":\"circle\"},\"mode\":\"markers\",\"name\":\"PAK\",\"showlegend\":true,\"type\":\"scattergeo\"},{\"geo\":\"geo\",\"hovertemplate\":\"iso_code=%{location}<br>people_fully_vaccinated=%{marker.size}<extra></extra>\",\"legendgroup\":\"PAN\",\"locations\":[\"PAN\"],\"marker\":{\"color\":\"#FF6692\",\"size\":[822824.0],\"sizemode\":\"area\",\"sizeref\":1942615.0,\"symbol\":\"circle\"},\"mode\":\"markers\",\"name\":\"PAN\",\"showlegend\":true,\"type\":\"scattergeo\"},{\"geo\":\"geo\",\"hovertemplate\":\"iso_code=%{location}<br>people_fully_vaccinated=%{marker.size}<extra></extra>\",\"legendgroup\":\"PCN\",\"locations\":[\"PCN\"],\"marker\":{\"color\":\"#B6E880\",\"size\":[36.0],\"sizemode\":\"area\",\"sizeref\":1942615.0,\"symbol\":\"circle\"},\"mode\":\"markers\",\"name\":\"PCN\",\"showlegend\":true,\"type\":\"scattergeo\"},{\"geo\":\"geo\",\"hovertemplate\":\"iso_code=%{location}<br>people_fully_vaccinated=%{marker.size}<extra></extra>\",\"legendgroup\":\"PER\",\"locations\":[\"PER\"],\"marker\":{\"color\":\"#FF97FF\",\"size\":[6636428.0],\"sizemode\":\"area\",\"sizeref\":1942615.0,\"symbol\":\"circle\"},\"mode\":\"markers\",\"name\":\"PER\",\"showlegend\":true,\"type\":\"scattergeo\"},{\"geo\":\"geo\",\"hovertemplate\":\"iso_code=%{location}<br>people_fully_vaccinated=%{marker.size}<extra></extra>\",\"legendgroup\":\"PHL\",\"locations\":[\"PHL\"],\"marker\":{\"color\":\"#FECB52\",\"size\":[12027383.0],\"sizemode\":\"area\",\"sizeref\":1942615.0,\"symbol\":\"circle\"},\"mode\":\"markers\",\"name\":\"PHL\",\"showlegend\":true,\"type\":\"scattergeo\"},{\"geo\":\"geo\",\"hovertemplate\":\"iso_code=%{location}<br>people_fully_vaccinated=%{marker.size}<extra></extra>\",\"legendgroup\":\"PNG\",\"locations\":[\"PNG\"],\"marker\":{\"color\":\"#636efa\",\"size\":[17287.0],\"sizemode\":\"area\",\"sizeref\":1942615.0,\"symbol\":\"circle\"},\"mode\":\"markers\",\"name\":\"PNG\",\"showlegend\":true,\"type\":\"scattergeo\"},{\"geo\":\"geo\",\"hovertemplate\":\"iso_code=%{location}<br>people_fully_vaccinated=%{marker.size}<extra></extra>\",\"legendgroup\":\"POL\",\"locations\":[\"POL\"],\"marker\":{\"color\":\"#EF553B\",\"size\":[18156083.0],\"sizemode\":\"area\",\"sizeref\":1942615.0,\"symbol\":\"circle\"},\"mode\":\"markers\",\"name\":\"POL\",\"showlegend\":true,\"type\":\"scattergeo\"},{\"geo\":\"geo\",\"hovertemplate\":\"iso_code=%{location}<br>people_fully_vaccinated=%{marker.size}<extra></extra>\",\"legendgroup\":\"PRT\",\"locations\":[\"PRT\"],\"marker\":{\"color\":\"#00cc96\",\"size\":[6594658.0],\"sizemode\":\"area\",\"sizeref\":1942615.0,\"symbol\":\"circle\"},\"mode\":\"markers\",\"name\":\"PRT\",\"showlegend\":true,\"type\":\"scattergeo\"},{\"geo\":\"geo\",\"hovertemplate\":\"iso_code=%{location}<br>people_fully_vaccinated=%{marker.size}<extra></extra>\",\"legendgroup\":\"PRY\",\"locations\":[\"PRY\"],\"marker\":{\"color\":\"#ab63fa\",\"size\":[286989.0],\"sizemode\":\"area\",\"sizeref\":1942615.0,\"symbol\":\"circle\"},\"mode\":\"markers\",\"name\":\"PRY\",\"showlegend\":true,\"type\":\"scattergeo\"},{\"geo\":\"geo\",\"hovertemplate\":\"iso_code=%{location}<br>people_fully_vaccinated=%{marker.size}<extra></extra>\",\"legendgroup\":\"PSE\",\"locations\":[\"PSE\"],\"marker\":{\"color\":\"#FFA15A\",\"size\":[426973.0],\"sizemode\":\"area\",\"sizeref\":1942615.0,\"symbol\":\"circle\"},\"mode\":\"markers\",\"name\":\"PSE\",\"showlegend\":true,\"type\":\"scattergeo\"},{\"geo\":\"geo\",\"hovertemplate\":\"iso_code=%{location}<br>people_fully_vaccinated=%{marker.size}<extra></extra>\",\"legendgroup\":\"PYF\",\"locations\":[\"PYF\"],\"marker\":{\"color\":\"#19d3f3\",\"size\":[77178.0],\"sizemode\":\"area\",\"sizeref\":1942615.0,\"symbol\":\"circle\"},\"mode\":\"markers\",\"name\":\"PYF\",\"showlegend\":true,\"type\":\"scattergeo\"},{\"geo\":\"geo\",\"hovertemplate\":\"iso_code=%{location}<br>people_fully_vaccinated=%{marker.size}<extra></extra>\",\"legendgroup\":\"QAT\",\"locations\":[\"QAT\"],\"marker\":{\"color\":\"#FF6692\",\"size\":[1871303.0],\"sizemode\":\"area\",\"sizeref\":1942615.0,\"symbol\":\"circle\"},\"mode\":\"markers\",\"name\":\"QAT\",\"showlegend\":true,\"type\":\"scattergeo\"},{\"geo\":\"geo\",\"hovertemplate\":\"iso_code=%{location}<br>people_fully_vaccinated=%{marker.size}<extra></extra>\",\"legendgroup\":\"ROU\",\"locations\":[\"ROU\"],\"marker\":{\"color\":\"#B6E880\",\"size\":[4980796.0],\"sizemode\":\"area\",\"sizeref\":1942615.0,\"symbol\":\"circle\"},\"mode\":\"markers\",\"name\":\"ROU\",\"showlegend\":true,\"type\":\"scattergeo\"},{\"geo\":\"geo\",\"hovertemplate\":\"iso_code=%{location}<br>people_fully_vaccinated=%{marker.size}<extra></extra>\",\"legendgroup\":\"RUS\",\"locations\":[\"RUS\"],\"marker\":{\"color\":\"#FF97FF\",\"size\":[32251637.0],\"sizemode\":\"area\",\"sizeref\":1942615.0,\"symbol\":\"circle\"},\"mode\":\"markers\",\"name\":\"RUS\",\"showlegend\":true,\"type\":\"scattergeo\"},{\"geo\":\"geo\",\"hovertemplate\":\"iso_code=%{location}<br>people_fully_vaccinated=%{marker.size}<extra></extra>\",\"legendgroup\":\"RWA\",\"locations\":[\"RWA\"],\"marker\":{\"color\":\"#FECB52\",\"size\":[403338.0],\"sizemode\":\"area\",\"sizeref\":1942615.0,\"symbol\":\"circle\"},\"mode\":\"markers\",\"name\":\"RWA\",\"showlegend\":true,\"type\":\"scattergeo\"},{\"geo\":\"geo\",\"hovertemplate\":\"iso_code=%{location}<br>people_fully_vaccinated=%{marker.size}<extra></extra>\",\"legendgroup\":\"SAU\",\"locations\":[\"SAU\"],\"marker\":{\"color\":\"#636efa\",\"size\":[10944970.0],\"sizemode\":\"area\",\"sizeref\":1942615.0,\"symbol\":\"circle\"},\"mode\":\"markers\",\"name\":\"SAU\",\"showlegend\":true,\"type\":\"scattergeo\"},{\"geo\":\"geo\",\"hovertemplate\":\"iso_code=%{location}<br>people_fully_vaccinated=%{marker.size}<extra></extra>\",\"legendgroup\":\"SDN\",\"locations\":[\"SDN\"],\"marker\":{\"color\":\"#EF553B\",\"size\":[182727.0],\"sizemode\":\"area\",\"sizeref\":1942615.0,\"symbol\":\"circle\"},\"mode\":\"markers\",\"name\":\"SDN\",\"showlegend\":true,\"type\":\"scattergeo\"},{\"geo\":\"geo\",\"hovertemplate\":\"iso_code=%{location}<br>people_fully_vaccinated=%{marker.size}<extra></extra>\",\"legendgroup\":\"SEN\",\"locations\":[\"SEN\"],\"marker\":{\"color\":\"#00cc96\",\"size\":[324537.0],\"sizemode\":\"area\",\"sizeref\":1942615.0,\"symbol\":\"circle\"},\"mode\":\"markers\",\"name\":\"SEN\",\"showlegend\":true,\"type\":\"scattergeo\"},{\"geo\":\"geo\",\"hovertemplate\":\"iso_code=%{location}<br>people_fully_vaccinated=%{marker.size}<extra></extra>\",\"legendgroup\":\"SGP\",\"locations\":[\"SGP\"],\"marker\":{\"color\":\"#ab63fa\",\"size\":[4071978.0],\"sizemode\":\"area\",\"sizeref\":1942615.0,\"symbol\":\"circle\"},\"mode\":\"markers\",\"name\":\"SGP\",\"showlegend\":true,\"type\":\"scattergeo\"},{\"geo\":\"geo\",\"hovertemplate\":\"iso_code=%{location}<br>people_fully_vaccinated=%{marker.size}<extra></extra>\",\"legendgroup\":\"SHN\",\"locations\":[\"SHN\"],\"marker\":{\"color\":\"#FFA15A\",\"size\":[3531.0],\"sizemode\":\"area\",\"sizeref\":1942615.0,\"symbol\":\"circle\"},\"mode\":\"markers\",\"name\":\"SHN\",\"showlegend\":true,\"type\":\"scattergeo\"},{\"geo\":\"geo\",\"hovertemplate\":\"iso_code=%{location}<br>people_fully_vaccinated=%{marker.size}<extra></extra>\",\"legendgroup\":\"SLB\",\"locations\":[\"SLB\"],\"marker\":{\"color\":\"#19d3f3\",\"size\":[13155.0],\"sizemode\":\"area\",\"sizeref\":1942615.0,\"symbol\":\"circle\"},\"mode\":\"markers\",\"name\":\"SLB\",\"showlegend\":true,\"type\":\"scattergeo\"},{\"geo\":\"geo\",\"hovertemplate\":\"iso_code=%{location}<br>people_fully_vaccinated=%{marker.size}<extra></extra>\",\"legendgroup\":\"SLE\",\"locations\":[\"SLE\"],\"marker\":{\"color\":\"#FF6692\",\"size\":[15170.0],\"sizemode\":\"area\",\"sizeref\":1942615.0,\"symbol\":\"circle\"},\"mode\":\"markers\",\"name\":\"SLE\",\"showlegend\":true,\"type\":\"scattergeo\"},{\"geo\":\"geo\",\"hovertemplate\":\"iso_code=%{location}<br>people_fully_vaccinated=%{marker.size}<extra></extra>\",\"legendgroup\":\"SLV\",\"locations\":[\"SLV\"],\"marker\":{\"color\":\"#B6E880\",\"size\":[1929977.0],\"sizemode\":\"area\",\"sizeref\":1942615.0,\"symbol\":\"circle\"},\"mode\":\"markers\",\"name\":\"SLV\",\"showlegend\":true,\"type\":\"scattergeo\"},{\"geo\":\"geo\",\"hovertemplate\":\"iso_code=%{location}<br>people_fully_vaccinated=%{marker.size}<extra></extra>\",\"legendgroup\":\"SMR\",\"locations\":[\"SMR\"],\"marker\":{\"color\":\"#FF97FF\",\"size\":[23700.0],\"sizemode\":\"area\",\"sizeref\":1942615.0,\"symbol\":\"circle\"},\"mode\":\"markers\",\"name\":\"SMR\",\"showlegend\":true,\"type\":\"scattergeo\"},{\"geo\":\"geo\",\"hovertemplate\":\"iso_code=%{location}<br>people_fully_vaccinated=%{marker.size}<extra></extra>\",\"legendgroup\":\"SOM\",\"locations\":[\"SOM\"],\"marker\":{\"color\":\"#FECB52\",\"size\":[87135.0],\"sizemode\":\"area\",\"sizeref\":1942615.0,\"symbol\":\"circle\"},\"mode\":\"markers\",\"name\":\"SOM\",\"showlegend\":true,\"type\":\"scattergeo\"},{\"geo\":\"geo\",\"hovertemplate\":\"iso_code=%{location}<br>people_fully_vaccinated=%{marker.size}<extra></extra>\",\"legendgroup\":\"SRB\",\"locations\":[\"SRB\"],\"marker\":{\"color\":\"#636efa\",\"size\":[2753311.0],\"sizemode\":\"area\",\"sizeref\":1942615.0,\"symbol\":\"circle\"},\"mode\":\"markers\",\"name\":\"SRB\",\"showlegend\":true,\"type\":\"scattergeo\"},{\"geo\":\"geo\",\"hovertemplate\":\"iso_code=%{location}<br>people_fully_vaccinated=%{marker.size}<extra></extra>\",\"legendgroup\":\"SSD\",\"locations\":[\"SSD\"],\"marker\":{\"color\":\"#EF553B\",\"size\":[4763.0],\"sizemode\":\"area\",\"sizeref\":1942615.0,\"symbol\":\"circle\"},\"mode\":\"markers\",\"name\":\"SSD\",\"showlegend\":true,\"type\":\"scattergeo\"},{\"geo\":\"geo\",\"hovertemplate\":\"iso_code=%{location}<br>people_fully_vaccinated=%{marker.size}<extra></extra>\",\"legendgroup\":\"STP\",\"locations\":[\"STP\"],\"marker\":{\"color\":\"#00cc96\",\"size\":[11871.0],\"sizemode\":\"area\",\"sizeref\":1942615.0,\"symbol\":\"circle\"},\"mode\":\"markers\",\"name\":\"STP\",\"showlegend\":true,\"type\":\"scattergeo\"},{\"geo\":\"geo\",\"hovertemplate\":\"iso_code=%{location}<br>people_fully_vaccinated=%{marker.size}<extra></extra>\",\"legendgroup\":\"SUR\",\"locations\":[\"SUR\"],\"marker\":{\"color\":\"#ab63fa\",\"size\":[82760.0],\"sizemode\":\"area\",\"sizeref\":1942615.0,\"symbol\":\"circle\"},\"mode\":\"markers\",\"name\":\"SUR\",\"showlegend\":true,\"type\":\"scattergeo\"},{\"geo\":\"geo\",\"hovertemplate\":\"iso_code=%{location}<br>people_fully_vaccinated=%{marker.size}<extra></extra>\",\"legendgroup\":\"SVK\",\"locations\":[\"SVK\"],\"marker\":{\"color\":\"#FFA15A\",\"size\":[2081153.0],\"sizemode\":\"area\",\"sizeref\":1942615.0,\"symbol\":\"circle\"},\"mode\":\"markers\",\"name\":\"SVK\",\"showlegend\":true,\"type\":\"scattergeo\"},{\"geo\":\"geo\",\"hovertemplate\":\"iso_code=%{location}<br>people_fully_vaccinated=%{marker.size}<extra></extra>\",\"legendgroup\":\"SVN\",\"locations\":[\"SVN\"],\"marker\":{\"color\":\"#19d3f3\",\"size\":[851094.0],\"sizemode\":\"area\",\"sizeref\":1942615.0,\"symbol\":\"circle\"},\"mode\":\"markers\",\"name\":\"SVN\",\"showlegend\":true,\"type\":\"scattergeo\"},{\"geo\":\"geo\",\"hovertemplate\":\"iso_code=%{location}<br>people_fully_vaccinated=%{marker.size}<extra></extra>\",\"legendgroup\":\"SWE\",\"locations\":[\"SWE\"],\"marker\":{\"color\":\"#FF6692\",\"size\":[4792566.0],\"sizemode\":\"area\",\"sizeref\":1942615.0,\"symbol\":\"circle\"},\"mode\":\"markers\",\"name\":\"SWE\",\"showlegend\":true,\"type\":\"scattergeo\"},{\"geo\":\"geo\",\"hovertemplate\":\"iso_code=%{location}<br>people_fully_vaccinated=%{marker.size}<extra></extra>\",\"legendgroup\":\"SWZ\",\"locations\":[\"SWZ\"],\"marker\":{\"color\":\"#B6E880\",\"size\":[85115.0],\"sizemode\":\"area\",\"sizeref\":1942615.0,\"symbol\":\"circle\"},\"mode\":\"markers\",\"name\":\"SWZ\",\"showlegend\":true,\"type\":\"scattergeo\"},{\"geo\":\"geo\",\"hovertemplate\":\"iso_code=%{location}<br>people_fully_vaccinated=%{marker.size}<extra></extra>\",\"legendgroup\":\"SXM\",\"locations\":[\"SXM\"],\"marker\":{\"color\":\"#FF97FF\",\"size\":[22017.0],\"sizemode\":\"area\",\"sizeref\":1942615.0,\"symbol\":\"circle\"},\"mode\":\"markers\",\"name\":\"SXM\",\"showlegend\":true,\"type\":\"scattergeo\"},{\"geo\":\"geo\",\"hovertemplate\":\"iso_code=%{location}<br>people_fully_vaccinated=%{marker.size}<extra></extra>\",\"legendgroup\":\"SYC\",\"locations\":[\"SYC\"],\"marker\":{\"color\":\"#FECB52\",\"size\":[68553.0],\"sizemode\":\"area\",\"sizeref\":1942615.0,\"symbol\":\"circle\"},\"mode\":\"markers\",\"name\":\"SYC\",\"showlegend\":true,\"type\":\"scattergeo\"},{\"geo\":\"geo\",\"hovertemplate\":\"iso_code=%{location}<br>people_fully_vaccinated=%{marker.size}<extra></extra>\",\"legendgroup\":\"SYR\",\"locations\":[\"SYR\"],\"marker\":{\"color\":\"#636efa\",\"size\":[9312.0],\"sizemode\":\"area\",\"sizeref\":1942615.0,\"symbol\":\"circle\"},\"mode\":\"markers\",\"name\":\"SYR\",\"showlegend\":true,\"type\":\"scattergeo\"},{\"geo\":\"geo\",\"hovertemplate\":\"iso_code=%{location}<br>people_fully_vaccinated=%{marker.size}<extra></extra>\",\"legendgroup\":\"TCA\",\"locations\":[\"TCA\"],\"marker\":{\"color\":\"#EF553B\",\"size\":[22696.0],\"sizemode\":\"area\",\"sizeref\":1942615.0,\"symbol\":\"circle\"},\"mode\":\"markers\",\"name\":\"TCA\",\"showlegend\":true,\"type\":\"scattergeo\"},{\"geo\":\"geo\",\"hovertemplate\":\"iso_code=%{location}<br>people_fully_vaccinated=%{marker.size}<extra></extra>\",\"legendgroup\":\"TCD\",\"locations\":[\"TCD\"],\"marker\":{\"color\":\"#00cc96\",\"size\":[10863.0],\"sizemode\":\"area\",\"sizeref\":1942615.0,\"symbol\":\"circle\"},\"mode\":\"markers\",\"name\":\"TCD\",\"showlegend\":true,\"type\":\"scattergeo\"},{\"geo\":\"geo\",\"hovertemplate\":\"iso_code=%{location}<br>people_fully_vaccinated=%{marker.size}<extra></extra>\",\"legendgroup\":\"TGO\",\"locations\":[\"TGO\"],\"marker\":{\"color\":\"#ab63fa\",\"size\":[153637.0],\"sizemode\":\"area\",\"sizeref\":1942615.0,\"symbol\":\"circle\"},\"mode\":\"markers\",\"name\":\"TGO\",\"showlegend\":true,\"type\":\"scattergeo\"},{\"geo\":\"geo\",\"hovertemplate\":\"iso_code=%{location}<br>people_fully_vaccinated=%{marker.size}<extra></extra>\",\"legendgroup\":\"THA\",\"locations\":[\"THA\"],\"marker\":{\"color\":\"#FFA15A\",\"size\":[5033568.0],\"sizemode\":\"area\",\"sizeref\":1942615.0,\"symbol\":\"circle\"},\"mode\":\"markers\",\"name\":\"THA\",\"showlegend\":true,\"type\":\"scattergeo\"},{\"geo\":\"geo\",\"hovertemplate\":\"iso_code=%{location}<br>people_fully_vaccinated=%{marker.size}<extra></extra>\",\"legendgroup\":\"TJK\",\"locations\":[\"TJK\"],\"marker\":{\"color\":\"#19d3f3\",\"size\":[130000.0],\"sizemode\":\"area\",\"sizeref\":1942615.0,\"symbol\":\"circle\"},\"mode\":\"markers\",\"name\":\"TJK\",\"showlegend\":true,\"type\":\"scattergeo\"},{\"geo\":\"geo\",\"hovertemplate\":\"iso_code=%{location}<br>people_fully_vaccinated=%{marker.size}<extra></extra>\",\"legendgroup\":\"TKL\",\"locations\":[\"TKL\"],\"marker\":{\"color\":\"#FF6692\",\"size\":[0.0],\"sizemode\":\"area\",\"sizeref\":1942615.0,\"symbol\":\"circle\"},\"mode\":\"markers\",\"name\":\"TKL\",\"showlegend\":true,\"type\":\"scattergeo\"},{\"geo\":\"geo\",\"hovertemplate\":\"iso_code=%{location}<br>people_fully_vaccinated=%{marker.size}<extra></extra>\",\"legendgroup\":\"TKM\",\"locations\":[\"TKM\"],\"marker\":{\"color\":\"#B6E880\",\"size\":[9753.0],\"sizemode\":\"area\",\"sizeref\":1942615.0,\"symbol\":\"circle\"},\"mode\":\"markers\",\"name\":\"TKM\",\"showlegend\":true,\"type\":\"scattergeo\"},{\"geo\":\"geo\",\"hovertemplate\":\"iso_code=%{location}<br>people_fully_vaccinated=%{marker.size}<extra></extra>\",\"legendgroup\":\"TLS\",\"locations\":[\"TLS\"],\"marker\":{\"color\":\"#FF97FF\",\"size\":[115874.0],\"sizemode\":\"area\",\"sizeref\":1942615.0,\"symbol\":\"circle\"},\"mode\":\"markers\",\"name\":\"TLS\",\"showlegend\":true,\"type\":\"scattergeo\"},{\"geo\":\"geo\",\"hovertemplate\":\"iso_code=%{location}<br>people_fully_vaccinated=%{marker.size}<extra></extra>\",\"legendgroup\":\"TON\",\"locations\":[\"TON\"],\"marker\":{\"color\":\"#FECB52\",\"size\":[18712.0],\"sizemode\":\"area\",\"sizeref\":1942615.0,\"symbol\":\"circle\"},\"mode\":\"markers\",\"name\":\"TON\",\"showlegend\":true,\"type\":\"scattergeo\"},{\"geo\":\"geo\",\"hovertemplate\":\"iso_code=%{location}<br>people_fully_vaccinated=%{marker.size}<extra></extra>\",\"legendgroup\":\"TTO\",\"locations\":[\"TTO\"],\"marker\":{\"color\":\"#636efa\",\"size\":[292963.0],\"sizemode\":\"area\",\"sizeref\":1942615.0,\"symbol\":\"circle\"},\"mode\":\"markers\",\"name\":\"TTO\",\"showlegend\":true,\"type\":\"scattergeo\"},{\"geo\":\"geo\",\"hovertemplate\":\"iso_code=%{location}<br>people_fully_vaccinated=%{marker.size}<extra></extra>\",\"legendgroup\":\"TUN\",\"locations\":[\"TUN\"],\"marker\":{\"color\":\"#EF553B\",\"size\":[1488800.0],\"sizemode\":\"area\",\"sizeref\":1942615.0,\"symbol\":\"circle\"},\"mode\":\"markers\",\"name\":\"TUN\",\"showlegend\":true,\"type\":\"scattergeo\"},{\"geo\":\"geo\",\"hovertemplate\":\"iso_code=%{location}<br>people_fully_vaccinated=%{marker.size}<extra></extra>\",\"legendgroup\":\"TUR\",\"locations\":[\"TUR\"],\"marker\":{\"color\":\"#00cc96\",\"size\":[32546912.0],\"sizemode\":\"area\",\"sizeref\":1942615.0,\"symbol\":\"circle\"},\"mode\":\"markers\",\"name\":\"TUR\",\"showlegend\":true,\"type\":\"scattergeo\"},{\"geo\":\"geo\",\"hovertemplate\":\"iso_code=%{location}<br>people_fully_vaccinated=%{marker.size}<extra></extra>\",\"legendgroup\":\"TUV\",\"locations\":[\"TUV\"],\"marker\":{\"color\":\"#ab63fa\",\"size\":[0.0],\"sizemode\":\"area\",\"sizeref\":1942615.0,\"symbol\":\"circle\"},\"mode\":\"markers\",\"name\":\"TUV\",\"showlegend\":true,\"type\":\"scattergeo\"},{\"geo\":\"geo\",\"hovertemplate\":\"iso_code=%{location}<br>people_fully_vaccinated=%{marker.size}<extra></extra>\",\"legendgroup\":\"TWN\",\"locations\":[\"TWN\"],\"marker\":{\"color\":\"#FFA15A\",\"size\":[648746.0],\"sizemode\":\"area\",\"sizeref\":1942615.0,\"symbol\":\"circle\"},\"mode\":\"markers\",\"name\":\"TWN\",\"showlegend\":true,\"type\":\"scattergeo\"},{\"geo\":\"geo\",\"hovertemplate\":\"iso_code=%{location}<br>people_fully_vaccinated=%{marker.size}<extra></extra>\",\"legendgroup\":\"TZA\",\"locations\":[\"TZA\"],\"marker\":{\"color\":\"#19d3f3\",\"size\":[105745.0],\"sizemode\":\"area\",\"sizeref\":1942615.0,\"symbol\":\"circle\"},\"mode\":\"markers\",\"name\":\"TZA\",\"showlegend\":true,\"type\":\"scattergeo\"},{\"geo\":\"geo\",\"hovertemplate\":\"iso_code=%{location}<br>people_fully_vaccinated=%{marker.size}<extra></extra>\",\"legendgroup\":\"UGA\",\"locations\":[\"UGA\"],\"marker\":{\"color\":\"#FF6692\",\"size\":[4129.0],\"sizemode\":\"area\",\"sizeref\":1942615.0,\"symbol\":\"circle\"},\"mode\":\"markers\",\"name\":\"UGA\",\"showlegend\":true,\"type\":\"scattergeo\"},{\"geo\":\"geo\",\"hovertemplate\":\"iso_code=%{location}<br>people_fully_vaccinated=%{marker.size}<extra></extra>\",\"legendgroup\":\"UKR\",\"locations\":[\"UKR\"],\"marker\":{\"color\":\"#B6E880\",\"size\":[2718680.0],\"sizemode\":\"area\",\"sizeref\":1942615.0,\"symbol\":\"circle\"},\"mode\":\"markers\",\"name\":\"UKR\",\"showlegend\":true,\"type\":\"scattergeo\"},{\"geo\":\"geo\",\"hovertemplate\":\"iso_code=%{location}<br>people_fully_vaccinated=%{marker.size}<extra></extra>\",\"legendgroup\":\"URY\",\"locations\":[\"URY\"],\"marker\":{\"color\":\"#FF97FF\",\"size\":[2398684.0],\"sizemode\":\"area\",\"sizeref\":1942615.0,\"symbol\":\"circle\"},\"mode\":\"markers\",\"name\":\"URY\",\"showlegend\":true,\"type\":\"scattergeo\"},{\"geo\":\"geo\",\"hovertemplate\":\"iso_code=%{location}<br>people_fully_vaccinated=%{marker.size}<extra></extra>\",\"legendgroup\":\"USA\",\"locations\":[\"USA\"],\"marker\":{\"color\":\"#FECB52\",\"size\":[168090925.0],\"sizemode\":\"area\",\"sizeref\":1942615.0,\"symbol\":\"circle\"},\"mode\":\"markers\",\"name\":\"USA\",\"showlegend\":true,\"type\":\"scattergeo\"},{\"geo\":\"geo\",\"hovertemplate\":\"iso_code=%{location}<br>people_fully_vaccinated=%{marker.size}<extra></extra>\",\"legendgroup\":\"UZB\",\"locations\":[\"UZB\"],\"marker\":{\"color\":\"#636efa\",\"size\":[1232807.0],\"sizemode\":\"area\",\"sizeref\":1942615.0,\"symbol\":\"circle\"},\"mode\":\"markers\",\"name\":\"UZB\",\"showlegend\":true,\"type\":\"scattergeo\"},{\"geo\":\"geo\",\"hovertemplate\":\"iso_code=%{location}<br>people_fully_vaccinated=%{marker.size}<extra></extra>\",\"legendgroup\":\"VCT\",\"locations\":[\"VCT\"],\"marker\":{\"color\":\"#EF553B\",\"size\":[10017.0],\"sizemode\":\"area\",\"sizeref\":1942615.0,\"symbol\":\"circle\"},\"mode\":\"markers\",\"name\":\"VCT\",\"showlegend\":true,\"type\":\"scattergeo\"},{\"geo\":\"geo\",\"hovertemplate\":\"iso_code=%{location}<br>people_fully_vaccinated=%{marker.size}<extra></extra>\",\"legendgroup\":\"VEN\",\"locations\":[\"VEN\"],\"marker\":{\"color\":\"#00cc96\",\"size\":[1100000.0],\"sizemode\":\"area\",\"sizeref\":1942615.0,\"symbol\":\"circle\"},\"mode\":\"markers\",\"name\":\"VEN\",\"showlegend\":true,\"type\":\"scattergeo\"},{\"geo\":\"geo\",\"hovertemplate\":\"iso_code=%{location}<br>people_fully_vaccinated=%{marker.size}<extra></extra>\",\"legendgroup\":\"VGB\",\"locations\":[\"VGB\"],\"marker\":{\"color\":\"#ab63fa\",\"size\":[11438.0],\"sizemode\":\"area\",\"sizeref\":1942615.0,\"symbol\":\"circle\"},\"mode\":\"markers\",\"name\":\"VGB\",\"showlegend\":true,\"type\":\"scattergeo\"},{\"geo\":\"geo\",\"hovertemplate\":\"iso_code=%{location}<br>people_fully_vaccinated=%{marker.size}<extra></extra>\",\"legendgroup\":\"VNM\",\"locations\":[\"VNM\"],\"marker\":{\"color\":\"#FFA15A\",\"size\":[1271973.0],\"sizemode\":\"area\",\"sizeref\":1942615.0,\"symbol\":\"circle\"},\"mode\":\"markers\",\"name\":\"VNM\",\"showlegend\":true,\"type\":\"scattergeo\"},{\"geo\":\"geo\",\"hovertemplate\":\"iso_code=%{location}<br>people_fully_vaccinated=%{marker.size}<extra></extra>\",\"legendgroup\":\"VUT\",\"locations\":[\"VUT\"],\"marker\":{\"color\":\"#19d3f3\",\"size\":[114.0],\"sizemode\":\"area\",\"sizeref\":1942615.0,\"symbol\":\"circle\"},\"mode\":\"markers\",\"name\":\"VUT\",\"showlegend\":true,\"type\":\"scattergeo\"},{\"geo\":\"geo\",\"hovertemplate\":\"iso_code=%{location}<br>people_fully_vaccinated=%{marker.size}<extra></extra>\",\"legendgroup\":\"WLF\",\"locations\":[\"WLF\"],\"marker\":{\"color\":\"#FF6692\",\"size\":[4659.0],\"sizemode\":\"area\",\"sizeref\":1942615.0,\"symbol\":\"circle\"},\"mode\":\"markers\",\"name\":\"WLF\",\"showlegend\":true,\"type\":\"scattergeo\"},{\"geo\":\"geo\",\"hovertemplate\":\"iso_code=%{location}<br>people_fully_vaccinated=%{marker.size}<extra></extra>\",\"legendgroup\":\"WSM\",\"locations\":[\"WSM\"],\"marker\":{\"color\":\"#B6E880\",\"size\":[28653.0],\"sizemode\":\"area\",\"sizeref\":1942615.0,\"symbol\":\"circle\"},\"mode\":\"markers\",\"name\":\"WSM\",\"showlegend\":true,\"type\":\"scattergeo\"},{\"geo\":\"geo\",\"hovertemplate\":\"iso_code=%{location}<br>people_fully_vaccinated=%{marker.size}<extra></extra>\",\"legendgroup\":\"YEM\",\"locations\":[\"YEM\"],\"marker\":{\"color\":\"#FF97FF\",\"size\":[13322.0],\"sizemode\":\"area\",\"sizeref\":1942615.0,\"symbol\":\"circle\"},\"mode\":\"markers\",\"name\":\"YEM\",\"showlegend\":true,\"type\":\"scattergeo\"},{\"geo\":\"geo\",\"hovertemplate\":\"iso_code=%{location}<br>people_fully_vaccinated=%{marker.size}<extra></extra>\",\"legendgroup\":\"ZAF\",\"locations\":[\"ZAF\"],\"marker\":{\"color\":\"#FECB52\",\"size\":[3958231.0],\"sizemode\":\"area\",\"sizeref\":1942615.0,\"symbol\":\"circle\"},\"mode\":\"markers\",\"name\":\"ZAF\",\"showlegend\":true,\"type\":\"scattergeo\"},{\"geo\":\"geo\",\"hovertemplate\":\"iso_code=%{location}<br>people_fully_vaccinated=%{marker.size}<extra></extra>\",\"legendgroup\":\"ZMB\",\"locations\":[\"ZMB\"],\"marker\":{\"color\":\"#636efa\",\"size\":[212694.0],\"sizemode\":\"area\",\"sizeref\":1942615.0,\"symbol\":\"circle\"},\"mode\":\"markers\",\"name\":\"ZMB\",\"showlegend\":true,\"type\":\"scattergeo\"},{\"geo\":\"geo\",\"hovertemplate\":\"iso_code=%{location}<br>people_fully_vaccinated=%{marker.size}<extra></extra>\",\"legendgroup\":\"ZWE\",\"locations\":[\"ZWE\"],\"marker\":{\"color\":\"#EF553B\",\"size\":[1180207.0],\"sizemode\":\"area\",\"sizeref\":1942615.0,\"symbol\":\"circle\"},\"mode\":\"markers\",\"name\":\"ZWE\",\"showlegend\":true,\"type\":\"scattergeo\"}],                        {\"geo\":{\"center\":{},\"domain\":{\"x\":[0.0,1.0],\"y\":[0.0,1.0]},\"projection\":{\"type\":\"mercator\"}},\"legend\":{\"itemsizing\":\"constant\",\"title\":{\"text\":\"iso_code\"},\"tracegroupgap\":0},\"template\":{\"data\":{\"bar\":[{\"error_x\":{\"color\":\"#2a3f5f\"},\"error_y\":{\"color\":\"#2a3f5f\"},\"marker\":{\"line\":{\"color\":\"#E5ECF6\",\"width\":0.5},\"pattern\":{\"fillmode\":\"overlay\",\"size\":10,\"solidity\":0.2}},\"type\":\"bar\"}],\"barpolar\":[{\"marker\":{\"line\":{\"color\":\"#E5ECF6\",\"width\":0.5},\"pattern\":{\"fillmode\":\"overlay\",\"size\":10,\"solidity\":0.2}},\"type\":\"barpolar\"}],\"carpet\":[{\"aaxis\":{\"endlinecolor\":\"#2a3f5f\",\"gridcolor\":\"white\",\"linecolor\":\"white\",\"minorgridcolor\":\"white\",\"startlinecolor\":\"#2a3f5f\"},\"baxis\":{\"endlinecolor\":\"#2a3f5f\",\"gridcolor\":\"white\",\"linecolor\":\"white\",\"minorgridcolor\":\"white\",\"startlinecolor\":\"#2a3f5f\"},\"type\":\"carpet\"}],\"choropleth\":[{\"colorbar\":{\"outlinewidth\":0,\"ticks\":\"\"},\"type\":\"choropleth\"}],\"contour\":[{\"colorbar\":{\"outlinewidth\":0,\"ticks\":\"\"},\"colorscale\":[[0.0,\"#0d0887\"],[0.1111111111111111,\"#46039f\"],[0.2222222222222222,\"#7201a8\"],[0.3333333333333333,\"#9c179e\"],[0.4444444444444444,\"#bd3786\"],[0.5555555555555556,\"#d8576b\"],[0.6666666666666666,\"#ed7953\"],[0.7777777777777778,\"#fb9f3a\"],[0.8888888888888888,\"#fdca26\"],[1.0,\"#f0f921\"]],\"type\":\"contour\"}],\"contourcarpet\":[{\"colorbar\":{\"outlinewidth\":0,\"ticks\":\"\"},\"type\":\"contourcarpet\"}],\"heatmap\":[{\"colorbar\":{\"outlinewidth\":0,\"ticks\":\"\"},\"colorscale\":[[0.0,\"#0d0887\"],[0.1111111111111111,\"#46039f\"],[0.2222222222222222,\"#7201a8\"],[0.3333333333333333,\"#9c179e\"],[0.4444444444444444,\"#bd3786\"],[0.5555555555555556,\"#d8576b\"],[0.6666666666666666,\"#ed7953\"],[0.7777777777777778,\"#fb9f3a\"],[0.8888888888888888,\"#fdca26\"],[1.0,\"#f0f921\"]],\"type\":\"heatmap\"}],\"heatmapgl\":[{\"colorbar\":{\"outlinewidth\":0,\"ticks\":\"\"},\"colorscale\":[[0.0,\"#0d0887\"],[0.1111111111111111,\"#46039f\"],[0.2222222222222222,\"#7201a8\"],[0.3333333333333333,\"#9c179e\"],[0.4444444444444444,\"#bd3786\"],[0.5555555555555556,\"#d8576b\"],[0.6666666666666666,\"#ed7953\"],[0.7777777777777778,\"#fb9f3a\"],[0.8888888888888888,\"#fdca26\"],[1.0,\"#f0f921\"]],\"type\":\"heatmapgl\"}],\"histogram\":[{\"marker\":{\"pattern\":{\"fillmode\":\"overlay\",\"size\":10,\"solidity\":0.2}},\"type\":\"histogram\"}],\"histogram2d\":[{\"colorbar\":{\"outlinewidth\":0,\"ticks\":\"\"},\"colorscale\":[[0.0,\"#0d0887\"],[0.1111111111111111,\"#46039f\"],[0.2222222222222222,\"#7201a8\"],[0.3333333333333333,\"#9c179e\"],[0.4444444444444444,\"#bd3786\"],[0.5555555555555556,\"#d8576b\"],[0.6666666666666666,\"#ed7953\"],[0.7777777777777778,\"#fb9f3a\"],[0.8888888888888888,\"#fdca26\"],[1.0,\"#f0f921\"]],\"type\":\"histogram2d\"}],\"histogram2dcontour\":[{\"colorbar\":{\"outlinewidth\":0,\"ticks\":\"\"},\"colorscale\":[[0.0,\"#0d0887\"],[0.1111111111111111,\"#46039f\"],[0.2222222222222222,\"#7201a8\"],[0.3333333333333333,\"#9c179e\"],[0.4444444444444444,\"#bd3786\"],[0.5555555555555556,\"#d8576b\"],[0.6666666666666666,\"#ed7953\"],[0.7777777777777778,\"#fb9f3a\"],[0.8888888888888888,\"#fdca26\"],[1.0,\"#f0f921\"]],\"type\":\"histogram2dcontour\"}],\"mesh3d\":[{\"colorbar\":{\"outlinewidth\":0,\"ticks\":\"\"},\"type\":\"mesh3d\"}],\"parcoords\":[{\"line\":{\"colorbar\":{\"outlinewidth\":0,\"ticks\":\"\"}},\"type\":\"parcoords\"}],\"pie\":[{\"automargin\":true,\"type\":\"pie\"}],\"scatter\":[{\"marker\":{\"colorbar\":{\"outlinewidth\":0,\"ticks\":\"\"}},\"type\":\"scatter\"}],\"scatter3d\":[{\"line\":{\"colorbar\":{\"outlinewidth\":0,\"ticks\":\"\"}},\"marker\":{\"colorbar\":{\"outlinewidth\":0,\"ticks\":\"\"}},\"type\":\"scatter3d\"}],\"scattercarpet\":[{\"marker\":{\"colorbar\":{\"outlinewidth\":0,\"ticks\":\"\"}},\"type\":\"scattercarpet\"}],\"scattergeo\":[{\"marker\":{\"colorbar\":{\"outlinewidth\":0,\"ticks\":\"\"}},\"type\":\"scattergeo\"}],\"scattergl\":[{\"marker\":{\"colorbar\":{\"outlinewidth\":0,\"ticks\":\"\"}},\"type\":\"scattergl\"}],\"scattermapbox\":[{\"marker\":{\"colorbar\":{\"outlinewidth\":0,\"ticks\":\"\"}},\"type\":\"scattermapbox\"}],\"scatterpolar\":[{\"marker\":{\"colorbar\":{\"outlinewidth\":0,\"ticks\":\"\"}},\"type\":\"scatterpolar\"}],\"scatterpolargl\":[{\"marker\":{\"colorbar\":{\"outlinewidth\":0,\"ticks\":\"\"}},\"type\":\"scatterpolargl\"}],\"scatterternary\":[{\"marker\":{\"colorbar\":{\"outlinewidth\":0,\"ticks\":\"\"}},\"type\":\"scatterternary\"}],\"surface\":[{\"colorbar\":{\"outlinewidth\":0,\"ticks\":\"\"},\"colorscale\":[[0.0,\"#0d0887\"],[0.1111111111111111,\"#46039f\"],[0.2222222222222222,\"#7201a8\"],[0.3333333333333333,\"#9c179e\"],[0.4444444444444444,\"#bd3786\"],[0.5555555555555556,\"#d8576b\"],[0.6666666666666666,\"#ed7953\"],[0.7777777777777778,\"#fb9f3a\"],[0.8888888888888888,\"#fdca26\"],[1.0,\"#f0f921\"]],\"type\":\"surface\"}],\"table\":[{\"cells\":{\"fill\":{\"color\":\"#EBF0F8\"},\"line\":{\"color\":\"white\"}},\"header\":{\"fill\":{\"color\":\"#C8D4E3\"},\"line\":{\"color\":\"white\"}},\"type\":\"table\"}]},\"layout\":{\"annotationdefaults\":{\"arrowcolor\":\"#2a3f5f\",\"arrowhead\":0,\"arrowwidth\":1},\"autotypenumbers\":\"strict\",\"coloraxis\":{\"colorbar\":{\"outlinewidth\":0,\"ticks\":\"\"}},\"colorscale\":{\"diverging\":[[0,\"#8e0152\"],[0.1,\"#c51b7d\"],[0.2,\"#de77ae\"],[0.3,\"#f1b6da\"],[0.4,\"#fde0ef\"],[0.5,\"#f7f7f7\"],[0.6,\"#e6f5d0\"],[0.7,\"#b8e186\"],[0.8,\"#7fbc41\"],[0.9,\"#4d9221\"],[1,\"#276419\"]],\"sequential\":[[0.0,\"#0d0887\"],[0.1111111111111111,\"#46039f\"],[0.2222222222222222,\"#7201a8\"],[0.3333333333333333,\"#9c179e\"],[0.4444444444444444,\"#bd3786\"],[0.5555555555555556,\"#d8576b\"],[0.6666666666666666,\"#ed7953\"],[0.7777777777777778,\"#fb9f3a\"],[0.8888888888888888,\"#fdca26\"],[1.0,\"#f0f921\"]],\"sequentialminus\":[[0.0,\"#0d0887\"],[0.1111111111111111,\"#46039f\"],[0.2222222222222222,\"#7201a8\"],[0.3333333333333333,\"#9c179e\"],[0.4444444444444444,\"#bd3786\"],[0.5555555555555556,\"#d8576b\"],[0.6666666666666666,\"#ed7953\"],[0.7777777777777778,\"#fb9f3a\"],[0.8888888888888888,\"#fdca26\"],[1.0,\"#f0f921\"]]},\"colorway\":[\"#636efa\",\"#EF553B\",\"#00cc96\",\"#ab63fa\",\"#FFA15A\",\"#19d3f3\",\"#FF6692\",\"#B6E880\",\"#FF97FF\",\"#FECB52\"],\"font\":{\"color\":\"#2a3f5f\"},\"geo\":{\"bgcolor\":\"white\",\"lakecolor\":\"white\",\"landcolor\":\"#E5ECF6\",\"showlakes\":true,\"showland\":true,\"subunitcolor\":\"white\"},\"hoverlabel\":{\"align\":\"left\"},\"hovermode\":\"closest\",\"mapbox\":{\"style\":\"light\"},\"paper_bgcolor\":\"white\",\"plot_bgcolor\":\"#E5ECF6\",\"polar\":{\"angularaxis\":{\"gridcolor\":\"white\",\"linecolor\":\"white\",\"ticks\":\"\"},\"bgcolor\":\"#E5ECF6\",\"radialaxis\":{\"gridcolor\":\"white\",\"linecolor\":\"white\",\"ticks\":\"\"}},\"scene\":{\"xaxis\":{\"backgroundcolor\":\"#E5ECF6\",\"gridcolor\":\"white\",\"gridwidth\":2,\"linecolor\":\"white\",\"showbackground\":true,\"ticks\":\"\",\"zerolinecolor\":\"white\"},\"yaxis\":{\"backgroundcolor\":\"#E5ECF6\",\"gridcolor\":\"white\",\"gridwidth\":2,\"linecolor\":\"white\",\"showbackground\":true,\"ticks\":\"\",\"zerolinecolor\":\"white\"},\"zaxis\":{\"backgroundcolor\":\"#E5ECF6\",\"gridcolor\":\"white\",\"gridwidth\":2,\"linecolor\":\"white\",\"showbackground\":true,\"ticks\":\"\",\"zerolinecolor\":\"white\"}},\"shapedefaults\":{\"line\":{\"color\":\"#2a3f5f\"}},\"ternary\":{\"aaxis\":{\"gridcolor\":\"white\",\"linecolor\":\"white\",\"ticks\":\"\"},\"baxis\":{\"gridcolor\":\"white\",\"linecolor\":\"white\",\"ticks\":\"\"},\"bgcolor\":\"#E5ECF6\",\"caxis\":{\"gridcolor\":\"white\",\"linecolor\":\"white\",\"ticks\":\"\"}},\"title\":{\"x\":0.05},\"xaxis\":{\"automargin\":true,\"gridcolor\":\"white\",\"linecolor\":\"white\",\"ticks\":\"\",\"title\":{\"standoff\":15},\"zerolinecolor\":\"white\",\"zerolinewidth\":2},\"yaxis\":{\"automargin\":true,\"gridcolor\":\"white\",\"linecolor\":\"white\",\"ticks\":\"\",\"title\":{\"standoff\":15},\"zerolinecolor\":\"white\",\"zerolinewidth\":2}}},\"title\":{\"text\":\"People Fully Vaccinated\"}},                        {\"responsive\": true}                    ).then(function(){\n",
       "                            \n",
       "var gd = document.getElementById('61b13aa5-de31-4959-b1c2-9f4e3e568d97');\n",
       "var x = new MutationObserver(function (mutations, observer) {{\n",
       "        var display = window.getComputedStyle(gd).display;\n",
       "        if (!display || display === 'none') {{\n",
       "            console.log([gd, 'removed!']);\n",
       "            Plotly.purge(gd);\n",
       "            observer.disconnect();\n",
       "        }}\n",
       "}});\n",
       "\n",
       "// Listen for the removal of the full notebook cells\n",
       "var notebookContainer = gd.closest('#notebook-container');\n",
       "if (notebookContainer) {{\n",
       "    x.observe(notebookContainer, {childList: true});\n",
       "}}\n",
       "\n",
       "// Listen for the clearing of the current output cell\n",
       "var outputEl = gd.closest('.output');\n",
       "if (outputEl) {{\n",
       "    x.observe(outputEl, {childList: true});\n",
       "}}\n",
       "\n",
       "                        })                };                });            </script>        </div>"
      ]
     },
     "metadata": {},
     "output_type": "display_data"
    }
   ],
   "source": [
    "fig = px.scatter_geo(vcn_geo, locations=\"iso_code\", color=\"iso_code\",\n",
    "                     size=\"people_fully_vaccinated\",title=\"People Fully Vaccinated\",\n",
    "                     projection='mercator')\n",
    "fig.show()"
   ]
  },
  {
   "cell_type": "markdown",
   "metadata": {},
   "source": [
    "### Top 5 Countries in terms of % of Population Fully Vaccinated"
   ]
  },
  {
   "cell_type": "code",
   "execution_count": 133,
   "metadata": {},
   "outputs": [
    {
     "data": {
      "text/html": [
       "<div>\n",
       "<style scoped>\n",
       "    .dataframe tbody tr th:only-of-type {\n",
       "        vertical-align: middle;\n",
       "    }\n",
       "\n",
       "    .dataframe tbody tr th {\n",
       "        vertical-align: top;\n",
       "    }\n",
       "\n",
       "    .dataframe thead th {\n",
       "        text-align: right;\n",
       "    }\n",
       "</style>\n",
       "<table border=\"1\" class=\"dataframe\">\n",
       "  <thead>\n",
       "    <tr style=\"text-align: right;\">\n",
       "      <th></th>\n",
       "      <th>index</th>\n",
       "      <th>country</th>\n",
       "      <th>2021_last_updated</th>\n",
       "      <th>country_vaccinations</th>\n",
       "      <th>people_fully_vaccinated</th>\n",
       "      <th>percentage</th>\n",
       "    </tr>\n",
       "  </thead>\n",
       "  <tbody>\n",
       "    <tr>\n",
       "      <th>98</th>\n",
       "      <td>106</td>\n",
       "      <td>Malta</td>\n",
       "      <td>442934</td>\n",
       "      <td>Malta</td>\n",
       "      <td>404213</td>\n",
       "      <td>91</td>\n",
       "    </tr>\n",
       "    <tr>\n",
       "      <th>73</th>\n",
       "      <td>76</td>\n",
       "      <td>Iceland</td>\n",
       "      <td>343578</td>\n",
       "      <td>Iceland</td>\n",
       "      <td>255322</td>\n",
       "      <td>74</td>\n",
       "    </tr>\n",
       "    <tr>\n",
       "      <th>30</th>\n",
       "      <td>32</td>\n",
       "      <td>Cayman Islands</td>\n",
       "      <td>66497</td>\n",
       "      <td>Cayman Islands</td>\n",
       "      <td>48512</td>\n",
       "      <td>73</td>\n",
       "    </tr>\n",
       "    <tr>\n",
       "      <th>162</th>\n",
       "      <td>180</td>\n",
       "      <td>United Arab Emirates</td>\n",
       "      <td>10001593</td>\n",
       "      <td>United Arab Emirates</td>\n",
       "      <td>7210000</td>\n",
       "      <td>72</td>\n",
       "    </tr>\n",
       "    <tr>\n",
       "      <th>135</th>\n",
       "      <td>146</td>\n",
       "      <td>San Marino</td>\n",
       "      <td>34017</td>\n",
       "      <td>San Marino</td>\n",
       "      <td>23700</td>\n",
       "      <td>70</td>\n",
       "    </tr>\n",
       "  </tbody>\n",
       "</table>\n",
       "</div>"
      ],
      "text/plain": [
       "     index               country  2021_last_updated  country_vaccinations  \\\n",
       "98     106                 Malta             442934                 Malta   \n",
       "73      76               Iceland             343578               Iceland   \n",
       "30      32        Cayman Islands              66497        Cayman Islands   \n",
       "162    180  United Arab Emirates           10001593  United Arab Emirates   \n",
       "135    146            San Marino              34017            San Marino   \n",
       "\n",
       "     people_fully_vaccinated  percentage  \n",
       "98                    404213          91  \n",
       "73                    255322          74  \n",
       "30                     48512          73  \n",
       "162                  7210000          72  \n",
       "135                    23700          70  "
      ]
     },
     "execution_count": 133,
     "metadata": {},
     "output_type": "execute_result"
    }
   ],
   "source": [
    "main1['percentage'] = ((main1['people_fully_vaccinated'])/(main1['2021_last_updated']))*100\n",
    "top5percentage = main1.sort_values('percentage',ascending=False).head(5)\n",
    "top5percentage"
   ]
  },
  {
   "cell_type": "code",
   "execution_count": 134,
   "metadata": {},
   "outputs": [
    {
     "data": {
      "application/vnd.plotly.v1+json": {
       "config": {
        "plotlyServerURL": "https://plot.ly"
       },
       "data": [
        {
         "alignmentgroup": "True",
         "hovertemplate": "Country=%{x}<br>percentage=%{marker.color}<extra></extra>",
         "legendgroup": "",
         "marker": {
          "color": [
           91.25806553572315,
           74.31267426901607,
           72.95366708272553,
           72.08851629935351,
           69.67104682952642
          ],
          "coloraxis": "coloraxis",
          "pattern": {
           "shape": ""
          }
         },
         "name": "",
         "offsetgroup": "",
         "orientation": "v",
         "showlegend": false,
         "textposition": "auto",
         "type": "bar",
         "x": [
          "Malta",
          "Iceland",
          "Cayman Islands",
          "United Arab Emirates",
          "San Marino"
         ],
         "xaxis": "x",
         "y": [
          91.25806553572315,
          74.31267426901607,
          72.95366708272553,
          72.08851629935351,
          69.67104682952642
         ],
         "yaxis": "y"
        }
       ],
       "layout": {
        "barmode": "relative",
        "coloraxis": {
         "colorbar": {
          "title": {
           "text": "percentage"
          }
         },
         "colorscale": [
          [
           0,
           "#0d0887"
          ],
          [
           0.1111111111111111,
           "#46039f"
          ],
          [
           0.2222222222222222,
           "#7201a8"
          ],
          [
           0.3333333333333333,
           "#9c179e"
          ],
          [
           0.4444444444444444,
           "#bd3786"
          ],
          [
           0.5555555555555556,
           "#d8576b"
          ],
          [
           0.6666666666666666,
           "#ed7953"
          ],
          [
           0.7777777777777778,
           "#fb9f3a"
          ],
          [
           0.8888888888888888,
           "#fdca26"
          ],
          [
           1,
           "#f0f921"
          ]
         ]
        },
        "legend": {
         "tracegroupgap": 0
        },
        "template": {
         "data": {
          "bar": [
           {
            "error_x": {
             "color": "#2a3f5f"
            },
            "error_y": {
             "color": "#2a3f5f"
            },
            "marker": {
             "line": {
              "color": "#E5ECF6",
              "width": 0.5
             },
             "pattern": {
              "fillmode": "overlay",
              "size": 10,
              "solidity": 0.2
             }
            },
            "type": "bar"
           }
          ],
          "barpolar": [
           {
            "marker": {
             "line": {
              "color": "#E5ECF6",
              "width": 0.5
             },
             "pattern": {
              "fillmode": "overlay",
              "size": 10,
              "solidity": 0.2
             }
            },
            "type": "barpolar"
           }
          ],
          "carpet": [
           {
            "aaxis": {
             "endlinecolor": "#2a3f5f",
             "gridcolor": "white",
             "linecolor": "white",
             "minorgridcolor": "white",
             "startlinecolor": "#2a3f5f"
            },
            "baxis": {
             "endlinecolor": "#2a3f5f",
             "gridcolor": "white",
             "linecolor": "white",
             "minorgridcolor": "white",
             "startlinecolor": "#2a3f5f"
            },
            "type": "carpet"
           }
          ],
          "choropleth": [
           {
            "colorbar": {
             "outlinewidth": 0,
             "ticks": ""
            },
            "type": "choropleth"
           }
          ],
          "contour": [
           {
            "colorbar": {
             "outlinewidth": 0,
             "ticks": ""
            },
            "colorscale": [
             [
              0,
              "#0d0887"
             ],
             [
              0.1111111111111111,
              "#46039f"
             ],
             [
              0.2222222222222222,
              "#7201a8"
             ],
             [
              0.3333333333333333,
              "#9c179e"
             ],
             [
              0.4444444444444444,
              "#bd3786"
             ],
             [
              0.5555555555555556,
              "#d8576b"
             ],
             [
              0.6666666666666666,
              "#ed7953"
             ],
             [
              0.7777777777777778,
              "#fb9f3a"
             ],
             [
              0.8888888888888888,
              "#fdca26"
             ],
             [
              1,
              "#f0f921"
             ]
            ],
            "type": "contour"
           }
          ],
          "contourcarpet": [
           {
            "colorbar": {
             "outlinewidth": 0,
             "ticks": ""
            },
            "type": "contourcarpet"
           }
          ],
          "heatmap": [
           {
            "colorbar": {
             "outlinewidth": 0,
             "ticks": ""
            },
            "colorscale": [
             [
              0,
              "#0d0887"
             ],
             [
              0.1111111111111111,
              "#46039f"
             ],
             [
              0.2222222222222222,
              "#7201a8"
             ],
             [
              0.3333333333333333,
              "#9c179e"
             ],
             [
              0.4444444444444444,
              "#bd3786"
             ],
             [
              0.5555555555555556,
              "#d8576b"
             ],
             [
              0.6666666666666666,
              "#ed7953"
             ],
             [
              0.7777777777777778,
              "#fb9f3a"
             ],
             [
              0.8888888888888888,
              "#fdca26"
             ],
             [
              1,
              "#f0f921"
             ]
            ],
            "type": "heatmap"
           }
          ],
          "heatmapgl": [
           {
            "colorbar": {
             "outlinewidth": 0,
             "ticks": ""
            },
            "colorscale": [
             [
              0,
              "#0d0887"
             ],
             [
              0.1111111111111111,
              "#46039f"
             ],
             [
              0.2222222222222222,
              "#7201a8"
             ],
             [
              0.3333333333333333,
              "#9c179e"
             ],
             [
              0.4444444444444444,
              "#bd3786"
             ],
             [
              0.5555555555555556,
              "#d8576b"
             ],
             [
              0.6666666666666666,
              "#ed7953"
             ],
             [
              0.7777777777777778,
              "#fb9f3a"
             ],
             [
              0.8888888888888888,
              "#fdca26"
             ],
             [
              1,
              "#f0f921"
             ]
            ],
            "type": "heatmapgl"
           }
          ],
          "histogram": [
           {
            "marker": {
             "pattern": {
              "fillmode": "overlay",
              "size": 10,
              "solidity": 0.2
             }
            },
            "type": "histogram"
           }
          ],
          "histogram2d": [
           {
            "colorbar": {
             "outlinewidth": 0,
             "ticks": ""
            },
            "colorscale": [
             [
              0,
              "#0d0887"
             ],
             [
              0.1111111111111111,
              "#46039f"
             ],
             [
              0.2222222222222222,
              "#7201a8"
             ],
             [
              0.3333333333333333,
              "#9c179e"
             ],
             [
              0.4444444444444444,
              "#bd3786"
             ],
             [
              0.5555555555555556,
              "#d8576b"
             ],
             [
              0.6666666666666666,
              "#ed7953"
             ],
             [
              0.7777777777777778,
              "#fb9f3a"
             ],
             [
              0.8888888888888888,
              "#fdca26"
             ],
             [
              1,
              "#f0f921"
             ]
            ],
            "type": "histogram2d"
           }
          ],
          "histogram2dcontour": [
           {
            "colorbar": {
             "outlinewidth": 0,
             "ticks": ""
            },
            "colorscale": [
             [
              0,
              "#0d0887"
             ],
             [
              0.1111111111111111,
              "#46039f"
             ],
             [
              0.2222222222222222,
              "#7201a8"
             ],
             [
              0.3333333333333333,
              "#9c179e"
             ],
             [
              0.4444444444444444,
              "#bd3786"
             ],
             [
              0.5555555555555556,
              "#d8576b"
             ],
             [
              0.6666666666666666,
              "#ed7953"
             ],
             [
              0.7777777777777778,
              "#fb9f3a"
             ],
             [
              0.8888888888888888,
              "#fdca26"
             ],
             [
              1,
              "#f0f921"
             ]
            ],
            "type": "histogram2dcontour"
           }
          ],
          "mesh3d": [
           {
            "colorbar": {
             "outlinewidth": 0,
             "ticks": ""
            },
            "type": "mesh3d"
           }
          ],
          "parcoords": [
           {
            "line": {
             "colorbar": {
              "outlinewidth": 0,
              "ticks": ""
             }
            },
            "type": "parcoords"
           }
          ],
          "pie": [
           {
            "automargin": true,
            "type": "pie"
           }
          ],
          "scatter": [
           {
            "marker": {
             "colorbar": {
              "outlinewidth": 0,
              "ticks": ""
             }
            },
            "type": "scatter"
           }
          ],
          "scatter3d": [
           {
            "line": {
             "colorbar": {
              "outlinewidth": 0,
              "ticks": ""
             }
            },
            "marker": {
             "colorbar": {
              "outlinewidth": 0,
              "ticks": ""
             }
            },
            "type": "scatter3d"
           }
          ],
          "scattercarpet": [
           {
            "marker": {
             "colorbar": {
              "outlinewidth": 0,
              "ticks": ""
             }
            },
            "type": "scattercarpet"
           }
          ],
          "scattergeo": [
           {
            "marker": {
             "colorbar": {
              "outlinewidth": 0,
              "ticks": ""
             }
            },
            "type": "scattergeo"
           }
          ],
          "scattergl": [
           {
            "marker": {
             "colorbar": {
              "outlinewidth": 0,
              "ticks": ""
             }
            },
            "type": "scattergl"
           }
          ],
          "scattermapbox": [
           {
            "marker": {
             "colorbar": {
              "outlinewidth": 0,
              "ticks": ""
             }
            },
            "type": "scattermapbox"
           }
          ],
          "scatterpolar": [
           {
            "marker": {
             "colorbar": {
              "outlinewidth": 0,
              "ticks": ""
             }
            },
            "type": "scatterpolar"
           }
          ],
          "scatterpolargl": [
           {
            "marker": {
             "colorbar": {
              "outlinewidth": 0,
              "ticks": ""
             }
            },
            "type": "scatterpolargl"
           }
          ],
          "scatterternary": [
           {
            "marker": {
             "colorbar": {
              "outlinewidth": 0,
              "ticks": ""
             }
            },
            "type": "scatterternary"
           }
          ],
          "surface": [
           {
            "colorbar": {
             "outlinewidth": 0,
             "ticks": ""
            },
            "colorscale": [
             [
              0,
              "#0d0887"
             ],
             [
              0.1111111111111111,
              "#46039f"
             ],
             [
              0.2222222222222222,
              "#7201a8"
             ],
             [
              0.3333333333333333,
              "#9c179e"
             ],
             [
              0.4444444444444444,
              "#bd3786"
             ],
             [
              0.5555555555555556,
              "#d8576b"
             ],
             [
              0.6666666666666666,
              "#ed7953"
             ],
             [
              0.7777777777777778,
              "#fb9f3a"
             ],
             [
              0.8888888888888888,
              "#fdca26"
             ],
             [
              1,
              "#f0f921"
             ]
            ],
            "type": "surface"
           }
          ],
          "table": [
           {
            "cells": {
             "fill": {
              "color": "#EBF0F8"
             },
             "line": {
              "color": "white"
             }
            },
            "header": {
             "fill": {
              "color": "#C8D4E3"
             },
             "line": {
              "color": "white"
             }
            },
            "type": "table"
           }
          ]
         },
         "layout": {
          "annotationdefaults": {
           "arrowcolor": "#2a3f5f",
           "arrowhead": 0,
           "arrowwidth": 1
          },
          "autotypenumbers": "strict",
          "coloraxis": {
           "colorbar": {
            "outlinewidth": 0,
            "ticks": ""
           }
          },
          "colorscale": {
           "diverging": [
            [
             0,
             "#8e0152"
            ],
            [
             0.1,
             "#c51b7d"
            ],
            [
             0.2,
             "#de77ae"
            ],
            [
             0.3,
             "#f1b6da"
            ],
            [
             0.4,
             "#fde0ef"
            ],
            [
             0.5,
             "#f7f7f7"
            ],
            [
             0.6,
             "#e6f5d0"
            ],
            [
             0.7,
             "#b8e186"
            ],
            [
             0.8,
             "#7fbc41"
            ],
            [
             0.9,
             "#4d9221"
            ],
            [
             1,
             "#276419"
            ]
           ],
           "sequential": [
            [
             0,
             "#0d0887"
            ],
            [
             0.1111111111111111,
             "#46039f"
            ],
            [
             0.2222222222222222,
             "#7201a8"
            ],
            [
             0.3333333333333333,
             "#9c179e"
            ],
            [
             0.4444444444444444,
             "#bd3786"
            ],
            [
             0.5555555555555556,
             "#d8576b"
            ],
            [
             0.6666666666666666,
             "#ed7953"
            ],
            [
             0.7777777777777778,
             "#fb9f3a"
            ],
            [
             0.8888888888888888,
             "#fdca26"
            ],
            [
             1,
             "#f0f921"
            ]
           ],
           "sequentialminus": [
            [
             0,
             "#0d0887"
            ],
            [
             0.1111111111111111,
             "#46039f"
            ],
            [
             0.2222222222222222,
             "#7201a8"
            ],
            [
             0.3333333333333333,
             "#9c179e"
            ],
            [
             0.4444444444444444,
             "#bd3786"
            ],
            [
             0.5555555555555556,
             "#d8576b"
            ],
            [
             0.6666666666666666,
             "#ed7953"
            ],
            [
             0.7777777777777778,
             "#fb9f3a"
            ],
            [
             0.8888888888888888,
             "#fdca26"
            ],
            [
             1,
             "#f0f921"
            ]
           ]
          },
          "colorway": [
           "#636efa",
           "#EF553B",
           "#00cc96",
           "#ab63fa",
           "#FFA15A",
           "#19d3f3",
           "#FF6692",
           "#B6E880",
           "#FF97FF",
           "#FECB52"
          ],
          "font": {
           "color": "#2a3f5f"
          },
          "geo": {
           "bgcolor": "white",
           "lakecolor": "white",
           "landcolor": "#E5ECF6",
           "showlakes": true,
           "showland": true,
           "subunitcolor": "white"
          },
          "hoverlabel": {
           "align": "left"
          },
          "hovermode": "closest",
          "mapbox": {
           "style": "light"
          },
          "paper_bgcolor": "white",
          "plot_bgcolor": "#E5ECF6",
          "polar": {
           "angularaxis": {
            "gridcolor": "white",
            "linecolor": "white",
            "ticks": ""
           },
           "bgcolor": "#E5ECF6",
           "radialaxis": {
            "gridcolor": "white",
            "linecolor": "white",
            "ticks": ""
           }
          },
          "scene": {
           "xaxis": {
            "backgroundcolor": "#E5ECF6",
            "gridcolor": "white",
            "gridwidth": 2,
            "linecolor": "white",
            "showbackground": true,
            "ticks": "",
            "zerolinecolor": "white"
           },
           "yaxis": {
            "backgroundcolor": "#E5ECF6",
            "gridcolor": "white",
            "gridwidth": 2,
            "linecolor": "white",
            "showbackground": true,
            "ticks": "",
            "zerolinecolor": "white"
           },
           "zaxis": {
            "backgroundcolor": "#E5ECF6",
            "gridcolor": "white",
            "gridwidth": 2,
            "linecolor": "white",
            "showbackground": true,
            "ticks": "",
            "zerolinecolor": "white"
           }
          },
          "shapedefaults": {
           "line": {
            "color": "#2a3f5f"
           }
          },
          "ternary": {
           "aaxis": {
            "gridcolor": "white",
            "linecolor": "white",
            "ticks": ""
           },
           "baxis": {
            "gridcolor": "white",
            "linecolor": "white",
            "ticks": ""
           },
           "bgcolor": "#E5ECF6",
           "caxis": {
            "gridcolor": "white",
            "linecolor": "white",
            "ticks": ""
           }
          },
          "title": {
           "x": 0.05
          },
          "xaxis": {
           "automargin": true,
           "gridcolor": "white",
           "linecolor": "white",
           "ticks": "",
           "title": {
            "standoff": 15
           },
           "zerolinecolor": "white",
           "zerolinewidth": 2
          },
          "yaxis": {
           "automargin": true,
           "gridcolor": "white",
           "linecolor": "white",
           "ticks": "",
           "title": {
            "standoff": 15
           },
           "zerolinecolor": "white",
           "zerolinewidth": 2
          }
         }
        },
        "title": {
         "text": "Top 5 Countries in terms of % of Population Fully Vaccinated"
        },
        "xaxis": {
         "anchor": "y",
         "domain": [
          0,
          1
         ],
         "title": {
          "text": "Country"
         }
        },
        "yaxis": {
         "anchor": "x",
         "domain": [
          0,
          1
         ],
         "title": {
          "text": "percentage"
         }
        }
       }
      },
      "text/html": [
       "<div>                            <div id=\"6ea04e56-117a-4415-8f74-72ac5210ac30\" class=\"plotly-graph-div\" style=\"height:525px; width:100%;\"></div>            <script type=\"text/javascript\">                require([\"plotly\"], function(Plotly) {                    window.PLOTLYENV=window.PLOTLYENV || {};                                    if (document.getElementById(\"6ea04e56-117a-4415-8f74-72ac5210ac30\")) {                    Plotly.newPlot(                        \"6ea04e56-117a-4415-8f74-72ac5210ac30\",                        [{\"alignmentgroup\":\"True\",\"hovertemplate\":\"Country=%{x}<br>percentage=%{marker.color}<extra></extra>\",\"legendgroup\":\"\",\"marker\":{\"color\":[91.25806553572315,74.31267426901607,72.95366708272553,72.08851629935351,69.67104682952642],\"coloraxis\":\"coloraxis\",\"pattern\":{\"shape\":\"\"}},\"name\":\"\",\"offsetgroup\":\"\",\"orientation\":\"v\",\"showlegend\":false,\"textposition\":\"auto\",\"type\":\"bar\",\"x\":[\"Malta\",\"Iceland\",\"Cayman Islands\",\"United Arab Emirates\",\"San Marino\"],\"xaxis\":\"x\",\"y\":[91.25806553572315,74.31267426901607,72.95366708272553,72.08851629935351,69.67104682952642],\"yaxis\":\"y\"}],                        {\"barmode\":\"relative\",\"coloraxis\":{\"colorbar\":{\"title\":{\"text\":\"percentage\"}},\"colorscale\":[[0.0,\"#0d0887\"],[0.1111111111111111,\"#46039f\"],[0.2222222222222222,\"#7201a8\"],[0.3333333333333333,\"#9c179e\"],[0.4444444444444444,\"#bd3786\"],[0.5555555555555556,\"#d8576b\"],[0.6666666666666666,\"#ed7953\"],[0.7777777777777778,\"#fb9f3a\"],[0.8888888888888888,\"#fdca26\"],[1.0,\"#f0f921\"]]},\"legend\":{\"tracegroupgap\":0},\"template\":{\"data\":{\"bar\":[{\"error_x\":{\"color\":\"#2a3f5f\"},\"error_y\":{\"color\":\"#2a3f5f\"},\"marker\":{\"line\":{\"color\":\"#E5ECF6\",\"width\":0.5},\"pattern\":{\"fillmode\":\"overlay\",\"size\":10,\"solidity\":0.2}},\"type\":\"bar\"}],\"barpolar\":[{\"marker\":{\"line\":{\"color\":\"#E5ECF6\",\"width\":0.5},\"pattern\":{\"fillmode\":\"overlay\",\"size\":10,\"solidity\":0.2}},\"type\":\"barpolar\"}],\"carpet\":[{\"aaxis\":{\"endlinecolor\":\"#2a3f5f\",\"gridcolor\":\"white\",\"linecolor\":\"white\",\"minorgridcolor\":\"white\",\"startlinecolor\":\"#2a3f5f\"},\"baxis\":{\"endlinecolor\":\"#2a3f5f\",\"gridcolor\":\"white\",\"linecolor\":\"white\",\"minorgridcolor\":\"white\",\"startlinecolor\":\"#2a3f5f\"},\"type\":\"carpet\"}],\"choropleth\":[{\"colorbar\":{\"outlinewidth\":0,\"ticks\":\"\"},\"type\":\"choropleth\"}],\"contour\":[{\"colorbar\":{\"outlinewidth\":0,\"ticks\":\"\"},\"colorscale\":[[0.0,\"#0d0887\"],[0.1111111111111111,\"#46039f\"],[0.2222222222222222,\"#7201a8\"],[0.3333333333333333,\"#9c179e\"],[0.4444444444444444,\"#bd3786\"],[0.5555555555555556,\"#d8576b\"],[0.6666666666666666,\"#ed7953\"],[0.7777777777777778,\"#fb9f3a\"],[0.8888888888888888,\"#fdca26\"],[1.0,\"#f0f921\"]],\"type\":\"contour\"}],\"contourcarpet\":[{\"colorbar\":{\"outlinewidth\":0,\"ticks\":\"\"},\"type\":\"contourcarpet\"}],\"heatmap\":[{\"colorbar\":{\"outlinewidth\":0,\"ticks\":\"\"},\"colorscale\":[[0.0,\"#0d0887\"],[0.1111111111111111,\"#46039f\"],[0.2222222222222222,\"#7201a8\"],[0.3333333333333333,\"#9c179e\"],[0.4444444444444444,\"#bd3786\"],[0.5555555555555556,\"#d8576b\"],[0.6666666666666666,\"#ed7953\"],[0.7777777777777778,\"#fb9f3a\"],[0.8888888888888888,\"#fdca26\"],[1.0,\"#f0f921\"]],\"type\":\"heatmap\"}],\"heatmapgl\":[{\"colorbar\":{\"outlinewidth\":0,\"ticks\":\"\"},\"colorscale\":[[0.0,\"#0d0887\"],[0.1111111111111111,\"#46039f\"],[0.2222222222222222,\"#7201a8\"],[0.3333333333333333,\"#9c179e\"],[0.4444444444444444,\"#bd3786\"],[0.5555555555555556,\"#d8576b\"],[0.6666666666666666,\"#ed7953\"],[0.7777777777777778,\"#fb9f3a\"],[0.8888888888888888,\"#fdca26\"],[1.0,\"#f0f921\"]],\"type\":\"heatmapgl\"}],\"histogram\":[{\"marker\":{\"pattern\":{\"fillmode\":\"overlay\",\"size\":10,\"solidity\":0.2}},\"type\":\"histogram\"}],\"histogram2d\":[{\"colorbar\":{\"outlinewidth\":0,\"ticks\":\"\"},\"colorscale\":[[0.0,\"#0d0887\"],[0.1111111111111111,\"#46039f\"],[0.2222222222222222,\"#7201a8\"],[0.3333333333333333,\"#9c179e\"],[0.4444444444444444,\"#bd3786\"],[0.5555555555555556,\"#d8576b\"],[0.6666666666666666,\"#ed7953\"],[0.7777777777777778,\"#fb9f3a\"],[0.8888888888888888,\"#fdca26\"],[1.0,\"#f0f921\"]],\"type\":\"histogram2d\"}],\"histogram2dcontour\":[{\"colorbar\":{\"outlinewidth\":0,\"ticks\":\"\"},\"colorscale\":[[0.0,\"#0d0887\"],[0.1111111111111111,\"#46039f\"],[0.2222222222222222,\"#7201a8\"],[0.3333333333333333,\"#9c179e\"],[0.4444444444444444,\"#bd3786\"],[0.5555555555555556,\"#d8576b\"],[0.6666666666666666,\"#ed7953\"],[0.7777777777777778,\"#fb9f3a\"],[0.8888888888888888,\"#fdca26\"],[1.0,\"#f0f921\"]],\"type\":\"histogram2dcontour\"}],\"mesh3d\":[{\"colorbar\":{\"outlinewidth\":0,\"ticks\":\"\"},\"type\":\"mesh3d\"}],\"parcoords\":[{\"line\":{\"colorbar\":{\"outlinewidth\":0,\"ticks\":\"\"}},\"type\":\"parcoords\"}],\"pie\":[{\"automargin\":true,\"type\":\"pie\"}],\"scatter\":[{\"marker\":{\"colorbar\":{\"outlinewidth\":0,\"ticks\":\"\"}},\"type\":\"scatter\"}],\"scatter3d\":[{\"line\":{\"colorbar\":{\"outlinewidth\":0,\"ticks\":\"\"}},\"marker\":{\"colorbar\":{\"outlinewidth\":0,\"ticks\":\"\"}},\"type\":\"scatter3d\"}],\"scattercarpet\":[{\"marker\":{\"colorbar\":{\"outlinewidth\":0,\"ticks\":\"\"}},\"type\":\"scattercarpet\"}],\"scattergeo\":[{\"marker\":{\"colorbar\":{\"outlinewidth\":0,\"ticks\":\"\"}},\"type\":\"scattergeo\"}],\"scattergl\":[{\"marker\":{\"colorbar\":{\"outlinewidth\":0,\"ticks\":\"\"}},\"type\":\"scattergl\"}],\"scattermapbox\":[{\"marker\":{\"colorbar\":{\"outlinewidth\":0,\"ticks\":\"\"}},\"type\":\"scattermapbox\"}],\"scatterpolar\":[{\"marker\":{\"colorbar\":{\"outlinewidth\":0,\"ticks\":\"\"}},\"type\":\"scatterpolar\"}],\"scatterpolargl\":[{\"marker\":{\"colorbar\":{\"outlinewidth\":0,\"ticks\":\"\"}},\"type\":\"scatterpolargl\"}],\"scatterternary\":[{\"marker\":{\"colorbar\":{\"outlinewidth\":0,\"ticks\":\"\"}},\"type\":\"scatterternary\"}],\"surface\":[{\"colorbar\":{\"outlinewidth\":0,\"ticks\":\"\"},\"colorscale\":[[0.0,\"#0d0887\"],[0.1111111111111111,\"#46039f\"],[0.2222222222222222,\"#7201a8\"],[0.3333333333333333,\"#9c179e\"],[0.4444444444444444,\"#bd3786\"],[0.5555555555555556,\"#d8576b\"],[0.6666666666666666,\"#ed7953\"],[0.7777777777777778,\"#fb9f3a\"],[0.8888888888888888,\"#fdca26\"],[1.0,\"#f0f921\"]],\"type\":\"surface\"}],\"table\":[{\"cells\":{\"fill\":{\"color\":\"#EBF0F8\"},\"line\":{\"color\":\"white\"}},\"header\":{\"fill\":{\"color\":\"#C8D4E3\"},\"line\":{\"color\":\"white\"}},\"type\":\"table\"}]},\"layout\":{\"annotationdefaults\":{\"arrowcolor\":\"#2a3f5f\",\"arrowhead\":0,\"arrowwidth\":1},\"autotypenumbers\":\"strict\",\"coloraxis\":{\"colorbar\":{\"outlinewidth\":0,\"ticks\":\"\"}},\"colorscale\":{\"diverging\":[[0,\"#8e0152\"],[0.1,\"#c51b7d\"],[0.2,\"#de77ae\"],[0.3,\"#f1b6da\"],[0.4,\"#fde0ef\"],[0.5,\"#f7f7f7\"],[0.6,\"#e6f5d0\"],[0.7,\"#b8e186\"],[0.8,\"#7fbc41\"],[0.9,\"#4d9221\"],[1,\"#276419\"]],\"sequential\":[[0.0,\"#0d0887\"],[0.1111111111111111,\"#46039f\"],[0.2222222222222222,\"#7201a8\"],[0.3333333333333333,\"#9c179e\"],[0.4444444444444444,\"#bd3786\"],[0.5555555555555556,\"#d8576b\"],[0.6666666666666666,\"#ed7953\"],[0.7777777777777778,\"#fb9f3a\"],[0.8888888888888888,\"#fdca26\"],[1.0,\"#f0f921\"]],\"sequentialminus\":[[0.0,\"#0d0887\"],[0.1111111111111111,\"#46039f\"],[0.2222222222222222,\"#7201a8\"],[0.3333333333333333,\"#9c179e\"],[0.4444444444444444,\"#bd3786\"],[0.5555555555555556,\"#d8576b\"],[0.6666666666666666,\"#ed7953\"],[0.7777777777777778,\"#fb9f3a\"],[0.8888888888888888,\"#fdca26\"],[1.0,\"#f0f921\"]]},\"colorway\":[\"#636efa\",\"#EF553B\",\"#00cc96\",\"#ab63fa\",\"#FFA15A\",\"#19d3f3\",\"#FF6692\",\"#B6E880\",\"#FF97FF\",\"#FECB52\"],\"font\":{\"color\":\"#2a3f5f\"},\"geo\":{\"bgcolor\":\"white\",\"lakecolor\":\"white\",\"landcolor\":\"#E5ECF6\",\"showlakes\":true,\"showland\":true,\"subunitcolor\":\"white\"},\"hoverlabel\":{\"align\":\"left\"},\"hovermode\":\"closest\",\"mapbox\":{\"style\":\"light\"},\"paper_bgcolor\":\"white\",\"plot_bgcolor\":\"#E5ECF6\",\"polar\":{\"angularaxis\":{\"gridcolor\":\"white\",\"linecolor\":\"white\",\"ticks\":\"\"},\"bgcolor\":\"#E5ECF6\",\"radialaxis\":{\"gridcolor\":\"white\",\"linecolor\":\"white\",\"ticks\":\"\"}},\"scene\":{\"xaxis\":{\"backgroundcolor\":\"#E5ECF6\",\"gridcolor\":\"white\",\"gridwidth\":2,\"linecolor\":\"white\",\"showbackground\":true,\"ticks\":\"\",\"zerolinecolor\":\"white\"},\"yaxis\":{\"backgroundcolor\":\"#E5ECF6\",\"gridcolor\":\"white\",\"gridwidth\":2,\"linecolor\":\"white\",\"showbackground\":true,\"ticks\":\"\",\"zerolinecolor\":\"white\"},\"zaxis\":{\"backgroundcolor\":\"#E5ECF6\",\"gridcolor\":\"white\",\"gridwidth\":2,\"linecolor\":\"white\",\"showbackground\":true,\"ticks\":\"\",\"zerolinecolor\":\"white\"}},\"shapedefaults\":{\"line\":{\"color\":\"#2a3f5f\"}},\"ternary\":{\"aaxis\":{\"gridcolor\":\"white\",\"linecolor\":\"white\",\"ticks\":\"\"},\"baxis\":{\"gridcolor\":\"white\",\"linecolor\":\"white\",\"ticks\":\"\"},\"bgcolor\":\"#E5ECF6\",\"caxis\":{\"gridcolor\":\"white\",\"linecolor\":\"white\",\"ticks\":\"\"}},\"title\":{\"x\":0.05},\"xaxis\":{\"automargin\":true,\"gridcolor\":\"white\",\"linecolor\":\"white\",\"ticks\":\"\",\"title\":{\"standoff\":15},\"zerolinecolor\":\"white\",\"zerolinewidth\":2},\"yaxis\":{\"automargin\":true,\"gridcolor\":\"white\",\"linecolor\":\"white\",\"ticks\":\"\",\"title\":{\"standoff\":15},\"zerolinecolor\":\"white\",\"zerolinewidth\":2}}},\"title\":{\"text\":\"Top 5 Countries in terms of % of Population Fully Vaccinated\"},\"xaxis\":{\"anchor\":\"y\",\"domain\":[0.0,1.0],\"title\":{\"text\":\"Country\"}},\"yaxis\":{\"anchor\":\"x\",\"domain\":[0.0,1.0],\"title\":{\"text\":\"percentage\"}}},                        {\"responsive\": true}                    ).then(function(){\n",
       "                            \n",
       "var gd = document.getElementById('6ea04e56-117a-4415-8f74-72ac5210ac30');\n",
       "var x = new MutationObserver(function (mutations, observer) {{\n",
       "        var display = window.getComputedStyle(gd).display;\n",
       "        if (!display || display === 'none') {{\n",
       "            console.log([gd, 'removed!']);\n",
       "            Plotly.purge(gd);\n",
       "            observer.disconnect();\n",
       "        }}\n",
       "}});\n",
       "\n",
       "// Listen for the removal of the full notebook cells\n",
       "var notebookContainer = gd.closest('#notebook-container');\n",
       "if (notebookContainer) {{\n",
       "    x.observe(notebookContainer, {childList: true});\n",
       "}}\n",
       "\n",
       "// Listen for the clearing of the current output cell\n",
       "var outputEl = gd.closest('.output');\n",
       "if (outputEl) {{\n",
       "    x.observe(outputEl, {childList: true});\n",
       "}}\n",
       "\n",
       "                        })                };                });            </script>        </div>"
      ]
     },
     "metadata": {},
     "output_type": "display_data"
    }
   ],
   "source": [
    "fig = px.bar(top5percentage,\n",
    "    x='country',\n",
    "    y='percentage',    \n",
    "    labels = {'country':'Country', 'people_fully_vaccinated':'Total Population Vaccinated'},\n",
    "    title = 'Top 5 Countries in terms of % of Population Fully Vaccinated',\n",
    "    color='percentage'\n",
    ")\n",
    "# fig.update_traces(texttemplate=top5percentage['percentage'].map('{:.2f}%'.format),textposition='outside')\n",
    "fig.show()"
   ]
  },
  {
   "cell_type": "markdown",
   "metadata": {},
   "source": [
    "### Bottom 5 Countries in terms of % of Population Fully Vaccinated"
   ]
  },
  {
   "cell_type": "code",
   "execution_count": 135,
   "metadata": {
    "scrolled": true
   },
   "outputs": [
    {
     "data": {
      "text/html": [
       "<div>\n",
       "<style scoped>\n",
       "    .dataframe tbody tr th:only-of-type {\n",
       "        vertical-align: middle;\n",
       "    }\n",
       "\n",
       "    .dataframe tbody tr th {\n",
       "        vertical-align: top;\n",
       "    }\n",
       "\n",
       "    .dataframe thead th {\n",
       "        text-align: right;\n",
       "    }\n",
       "</style>\n",
       "<table border=\"1\" class=\"dataframe\">\n",
       "  <thead>\n",
       "    <tr style=\"text-align: right;\">\n",
       "      <th></th>\n",
       "      <th>index</th>\n",
       "      <th>country</th>\n",
       "      <th>2021_last_updated</th>\n",
       "      <th>country_vaccinations</th>\n",
       "      <th>people_fully_vaccinated</th>\n",
       "      <th>percentage</th>\n",
       "    </tr>\n",
       "  </thead>\n",
       "  <tbody>\n",
       "    <tr>\n",
       "      <th>69</th>\n",
       "      <td>72</td>\n",
       "      <td>Haiti</td>\n",
       "      <td>11555977</td>\n",
       "      <td>Haiti</td>\n",
       "      <td>366</td>\n",
       "      <td>0</td>\n",
       "    </tr>\n",
       "    <tr>\n",
       "      <th>166</th>\n",
       "      <td>185</td>\n",
       "      <td>Vanuatu</td>\n",
       "      <td>315214</td>\n",
       "      <td>Vanuatu</td>\n",
       "      <td>114</td>\n",
       "      <td>0</td>\n",
       "    </tr>\n",
       "    <tr>\n",
       "      <th>146</th>\n",
       "      <td>159</td>\n",
       "      <td>South Sudan</td>\n",
       "      <td>11400885</td>\n",
       "      <td>South Sudan</td>\n",
       "      <td>4763</td>\n",
       "      <td>0</td>\n",
       "    </tr>\n",
       "    <tr>\n",
       "      <th>169</th>\n",
       "      <td>188</td>\n",
       "      <td>Yemen</td>\n",
       "      <td>30558838</td>\n",
       "      <td>Yemen</td>\n",
       "      <td>13322</td>\n",
       "      <td>0</td>\n",
       "    </tr>\n",
       "    <tr>\n",
       "      <th>32</th>\n",
       "      <td>34</td>\n",
       "      <td>Chad</td>\n",
       "      <td>16965252</td>\n",
       "      <td>Chad</td>\n",
       "      <td>10863</td>\n",
       "      <td>0</td>\n",
       "    </tr>\n",
       "  </tbody>\n",
       "</table>\n",
       "</div>"
      ],
      "text/plain": [
       "     index      country  2021_last_updated country_vaccinations  \\\n",
       "69      72        Haiti           11555977                Haiti   \n",
       "166    185      Vanuatu             315214              Vanuatu   \n",
       "146    159  South Sudan           11400885          South Sudan   \n",
       "169    188        Yemen           30558838                Yemen   \n",
       "32      34         Chad           16965252                 Chad   \n",
       "\n",
       "     people_fully_vaccinated  percentage  \n",
       "69                       366           0  \n",
       "166                      114           0  \n",
       "146                     4763           0  \n",
       "169                    13322           0  \n",
       "32                     10863           0  "
      ]
     },
     "execution_count": 135,
     "metadata": {},
     "output_type": "execute_result"
    }
   ],
   "source": [
    "main1['percentage'] = ((main1['people_fully_vaccinated'])/(main1['2021_last_updated']))*100\n",
    "top5percentage = main1.sort_values('percentage',ascending=False).tail(5)\n",
    "top5percentage[::-1]"
   ]
  },
  {
   "cell_type": "code",
   "execution_count": 136,
   "metadata": {},
   "outputs": [
    {
     "data": {
      "application/vnd.plotly.v1+json": {
       "config": {
        "plotlyServerURL": "https://plot.ly"
       },
       "data": [
        {
         "alignmentgroup": "True",
         "hovertemplate": "Country=%{x}<br>percentage=%{marker.color}<extra></extra>",
         "legendgroup": "",
         "marker": {
          "color": [
           0.003167192181154393,
           0.036165906336647485,
           0.04177745850431787,
           0.043594589558673666,
           0.06403087911691498
          ],
          "coloraxis": "coloraxis",
          "pattern": {
           "shape": ""
          }
         },
         "name": "",
         "offsetgroup": "",
         "orientation": "v",
         "showlegend": false,
         "textposition": "outside",
         "texttemplate": [
          "0.06%",
          "0.04%",
          "0.04%",
          "0.04%",
          "0.00%"
         ],
         "type": "bar",
         "x": [
          "Haiti",
          "Vanuatu",
          "South Sudan",
          "Yemen",
          "Chad"
         ],
         "xaxis": "x",
         "y": [
          0.003167192181154393,
          0.036165906336647485,
          0.04177745850431787,
          0.043594589558673666,
          0.06403087911691498
         ],
         "yaxis": "y"
        }
       ],
       "layout": {
        "barmode": "relative",
        "coloraxis": {
         "colorbar": {
          "title": {
           "text": "percentage"
          }
         },
         "colorscale": [
          [
           0,
           "#0d0887"
          ],
          [
           0.1111111111111111,
           "#46039f"
          ],
          [
           0.2222222222222222,
           "#7201a8"
          ],
          [
           0.3333333333333333,
           "#9c179e"
          ],
          [
           0.4444444444444444,
           "#bd3786"
          ],
          [
           0.5555555555555556,
           "#d8576b"
          ],
          [
           0.6666666666666666,
           "#ed7953"
          ],
          [
           0.7777777777777778,
           "#fb9f3a"
          ],
          [
           0.8888888888888888,
           "#fdca26"
          ],
          [
           1,
           "#f0f921"
          ]
         ]
        },
        "legend": {
         "tracegroupgap": 0
        },
        "template": {
         "data": {
          "bar": [
           {
            "error_x": {
             "color": "#2a3f5f"
            },
            "error_y": {
             "color": "#2a3f5f"
            },
            "marker": {
             "line": {
              "color": "#E5ECF6",
              "width": 0.5
             },
             "pattern": {
              "fillmode": "overlay",
              "size": 10,
              "solidity": 0.2
             }
            },
            "type": "bar"
           }
          ],
          "barpolar": [
           {
            "marker": {
             "line": {
              "color": "#E5ECF6",
              "width": 0.5
             },
             "pattern": {
              "fillmode": "overlay",
              "size": 10,
              "solidity": 0.2
             }
            },
            "type": "barpolar"
           }
          ],
          "carpet": [
           {
            "aaxis": {
             "endlinecolor": "#2a3f5f",
             "gridcolor": "white",
             "linecolor": "white",
             "minorgridcolor": "white",
             "startlinecolor": "#2a3f5f"
            },
            "baxis": {
             "endlinecolor": "#2a3f5f",
             "gridcolor": "white",
             "linecolor": "white",
             "minorgridcolor": "white",
             "startlinecolor": "#2a3f5f"
            },
            "type": "carpet"
           }
          ],
          "choropleth": [
           {
            "colorbar": {
             "outlinewidth": 0,
             "ticks": ""
            },
            "type": "choropleth"
           }
          ],
          "contour": [
           {
            "colorbar": {
             "outlinewidth": 0,
             "ticks": ""
            },
            "colorscale": [
             [
              0,
              "#0d0887"
             ],
             [
              0.1111111111111111,
              "#46039f"
             ],
             [
              0.2222222222222222,
              "#7201a8"
             ],
             [
              0.3333333333333333,
              "#9c179e"
             ],
             [
              0.4444444444444444,
              "#bd3786"
             ],
             [
              0.5555555555555556,
              "#d8576b"
             ],
             [
              0.6666666666666666,
              "#ed7953"
             ],
             [
              0.7777777777777778,
              "#fb9f3a"
             ],
             [
              0.8888888888888888,
              "#fdca26"
             ],
             [
              1,
              "#f0f921"
             ]
            ],
            "type": "contour"
           }
          ],
          "contourcarpet": [
           {
            "colorbar": {
             "outlinewidth": 0,
             "ticks": ""
            },
            "type": "contourcarpet"
           }
          ],
          "heatmap": [
           {
            "colorbar": {
             "outlinewidth": 0,
             "ticks": ""
            },
            "colorscale": [
             [
              0,
              "#0d0887"
             ],
             [
              0.1111111111111111,
              "#46039f"
             ],
             [
              0.2222222222222222,
              "#7201a8"
             ],
             [
              0.3333333333333333,
              "#9c179e"
             ],
             [
              0.4444444444444444,
              "#bd3786"
             ],
             [
              0.5555555555555556,
              "#d8576b"
             ],
             [
              0.6666666666666666,
              "#ed7953"
             ],
             [
              0.7777777777777778,
              "#fb9f3a"
             ],
             [
              0.8888888888888888,
              "#fdca26"
             ],
             [
              1,
              "#f0f921"
             ]
            ],
            "type": "heatmap"
           }
          ],
          "heatmapgl": [
           {
            "colorbar": {
             "outlinewidth": 0,
             "ticks": ""
            },
            "colorscale": [
             [
              0,
              "#0d0887"
             ],
             [
              0.1111111111111111,
              "#46039f"
             ],
             [
              0.2222222222222222,
              "#7201a8"
             ],
             [
              0.3333333333333333,
              "#9c179e"
             ],
             [
              0.4444444444444444,
              "#bd3786"
             ],
             [
              0.5555555555555556,
              "#d8576b"
             ],
             [
              0.6666666666666666,
              "#ed7953"
             ],
             [
              0.7777777777777778,
              "#fb9f3a"
             ],
             [
              0.8888888888888888,
              "#fdca26"
             ],
             [
              1,
              "#f0f921"
             ]
            ],
            "type": "heatmapgl"
           }
          ],
          "histogram": [
           {
            "marker": {
             "pattern": {
              "fillmode": "overlay",
              "size": 10,
              "solidity": 0.2
             }
            },
            "type": "histogram"
           }
          ],
          "histogram2d": [
           {
            "colorbar": {
             "outlinewidth": 0,
             "ticks": ""
            },
            "colorscale": [
             [
              0,
              "#0d0887"
             ],
             [
              0.1111111111111111,
              "#46039f"
             ],
             [
              0.2222222222222222,
              "#7201a8"
             ],
             [
              0.3333333333333333,
              "#9c179e"
             ],
             [
              0.4444444444444444,
              "#bd3786"
             ],
             [
              0.5555555555555556,
              "#d8576b"
             ],
             [
              0.6666666666666666,
              "#ed7953"
             ],
             [
              0.7777777777777778,
              "#fb9f3a"
             ],
             [
              0.8888888888888888,
              "#fdca26"
             ],
             [
              1,
              "#f0f921"
             ]
            ],
            "type": "histogram2d"
           }
          ],
          "histogram2dcontour": [
           {
            "colorbar": {
             "outlinewidth": 0,
             "ticks": ""
            },
            "colorscale": [
             [
              0,
              "#0d0887"
             ],
             [
              0.1111111111111111,
              "#46039f"
             ],
             [
              0.2222222222222222,
              "#7201a8"
             ],
             [
              0.3333333333333333,
              "#9c179e"
             ],
             [
              0.4444444444444444,
              "#bd3786"
             ],
             [
              0.5555555555555556,
              "#d8576b"
             ],
             [
              0.6666666666666666,
              "#ed7953"
             ],
             [
              0.7777777777777778,
              "#fb9f3a"
             ],
             [
              0.8888888888888888,
              "#fdca26"
             ],
             [
              1,
              "#f0f921"
             ]
            ],
            "type": "histogram2dcontour"
           }
          ],
          "mesh3d": [
           {
            "colorbar": {
             "outlinewidth": 0,
             "ticks": ""
            },
            "type": "mesh3d"
           }
          ],
          "parcoords": [
           {
            "line": {
             "colorbar": {
              "outlinewidth": 0,
              "ticks": ""
             }
            },
            "type": "parcoords"
           }
          ],
          "pie": [
           {
            "automargin": true,
            "type": "pie"
           }
          ],
          "scatter": [
           {
            "marker": {
             "colorbar": {
              "outlinewidth": 0,
              "ticks": ""
             }
            },
            "type": "scatter"
           }
          ],
          "scatter3d": [
           {
            "line": {
             "colorbar": {
              "outlinewidth": 0,
              "ticks": ""
             }
            },
            "marker": {
             "colorbar": {
              "outlinewidth": 0,
              "ticks": ""
             }
            },
            "type": "scatter3d"
           }
          ],
          "scattercarpet": [
           {
            "marker": {
             "colorbar": {
              "outlinewidth": 0,
              "ticks": ""
             }
            },
            "type": "scattercarpet"
           }
          ],
          "scattergeo": [
           {
            "marker": {
             "colorbar": {
              "outlinewidth": 0,
              "ticks": ""
             }
            },
            "type": "scattergeo"
           }
          ],
          "scattergl": [
           {
            "marker": {
             "colorbar": {
              "outlinewidth": 0,
              "ticks": ""
             }
            },
            "type": "scattergl"
           }
          ],
          "scattermapbox": [
           {
            "marker": {
             "colorbar": {
              "outlinewidth": 0,
              "ticks": ""
             }
            },
            "type": "scattermapbox"
           }
          ],
          "scatterpolar": [
           {
            "marker": {
             "colorbar": {
              "outlinewidth": 0,
              "ticks": ""
             }
            },
            "type": "scatterpolar"
           }
          ],
          "scatterpolargl": [
           {
            "marker": {
             "colorbar": {
              "outlinewidth": 0,
              "ticks": ""
             }
            },
            "type": "scatterpolargl"
           }
          ],
          "scatterternary": [
           {
            "marker": {
             "colorbar": {
              "outlinewidth": 0,
              "ticks": ""
             }
            },
            "type": "scatterternary"
           }
          ],
          "surface": [
           {
            "colorbar": {
             "outlinewidth": 0,
             "ticks": ""
            },
            "colorscale": [
             [
              0,
              "#0d0887"
             ],
             [
              0.1111111111111111,
              "#46039f"
             ],
             [
              0.2222222222222222,
              "#7201a8"
             ],
             [
              0.3333333333333333,
              "#9c179e"
             ],
             [
              0.4444444444444444,
              "#bd3786"
             ],
             [
              0.5555555555555556,
              "#d8576b"
             ],
             [
              0.6666666666666666,
              "#ed7953"
             ],
             [
              0.7777777777777778,
              "#fb9f3a"
             ],
             [
              0.8888888888888888,
              "#fdca26"
             ],
             [
              1,
              "#f0f921"
             ]
            ],
            "type": "surface"
           }
          ],
          "table": [
           {
            "cells": {
             "fill": {
              "color": "#EBF0F8"
             },
             "line": {
              "color": "white"
             }
            },
            "header": {
             "fill": {
              "color": "#C8D4E3"
             },
             "line": {
              "color": "white"
             }
            },
            "type": "table"
           }
          ]
         },
         "layout": {
          "annotationdefaults": {
           "arrowcolor": "#2a3f5f",
           "arrowhead": 0,
           "arrowwidth": 1
          },
          "autotypenumbers": "strict",
          "coloraxis": {
           "colorbar": {
            "outlinewidth": 0,
            "ticks": ""
           }
          },
          "colorscale": {
           "diverging": [
            [
             0,
             "#8e0152"
            ],
            [
             0.1,
             "#c51b7d"
            ],
            [
             0.2,
             "#de77ae"
            ],
            [
             0.3,
             "#f1b6da"
            ],
            [
             0.4,
             "#fde0ef"
            ],
            [
             0.5,
             "#f7f7f7"
            ],
            [
             0.6,
             "#e6f5d0"
            ],
            [
             0.7,
             "#b8e186"
            ],
            [
             0.8,
             "#7fbc41"
            ],
            [
             0.9,
             "#4d9221"
            ],
            [
             1,
             "#276419"
            ]
           ],
           "sequential": [
            [
             0,
             "#0d0887"
            ],
            [
             0.1111111111111111,
             "#46039f"
            ],
            [
             0.2222222222222222,
             "#7201a8"
            ],
            [
             0.3333333333333333,
             "#9c179e"
            ],
            [
             0.4444444444444444,
             "#bd3786"
            ],
            [
             0.5555555555555556,
             "#d8576b"
            ],
            [
             0.6666666666666666,
             "#ed7953"
            ],
            [
             0.7777777777777778,
             "#fb9f3a"
            ],
            [
             0.8888888888888888,
             "#fdca26"
            ],
            [
             1,
             "#f0f921"
            ]
           ],
           "sequentialminus": [
            [
             0,
             "#0d0887"
            ],
            [
             0.1111111111111111,
             "#46039f"
            ],
            [
             0.2222222222222222,
             "#7201a8"
            ],
            [
             0.3333333333333333,
             "#9c179e"
            ],
            [
             0.4444444444444444,
             "#bd3786"
            ],
            [
             0.5555555555555556,
             "#d8576b"
            ],
            [
             0.6666666666666666,
             "#ed7953"
            ],
            [
             0.7777777777777778,
             "#fb9f3a"
            ],
            [
             0.8888888888888888,
             "#fdca26"
            ],
            [
             1,
             "#f0f921"
            ]
           ]
          },
          "colorway": [
           "#636efa",
           "#EF553B",
           "#00cc96",
           "#ab63fa",
           "#FFA15A",
           "#19d3f3",
           "#FF6692",
           "#B6E880",
           "#FF97FF",
           "#FECB52"
          ],
          "font": {
           "color": "#2a3f5f"
          },
          "geo": {
           "bgcolor": "white",
           "lakecolor": "white",
           "landcolor": "#E5ECF6",
           "showlakes": true,
           "showland": true,
           "subunitcolor": "white"
          },
          "hoverlabel": {
           "align": "left"
          },
          "hovermode": "closest",
          "mapbox": {
           "style": "light"
          },
          "paper_bgcolor": "white",
          "plot_bgcolor": "#E5ECF6",
          "polar": {
           "angularaxis": {
            "gridcolor": "white",
            "linecolor": "white",
            "ticks": ""
           },
           "bgcolor": "#E5ECF6",
           "radialaxis": {
            "gridcolor": "white",
            "linecolor": "white",
            "ticks": ""
           }
          },
          "scene": {
           "xaxis": {
            "backgroundcolor": "#E5ECF6",
            "gridcolor": "white",
            "gridwidth": 2,
            "linecolor": "white",
            "showbackground": true,
            "ticks": "",
            "zerolinecolor": "white"
           },
           "yaxis": {
            "backgroundcolor": "#E5ECF6",
            "gridcolor": "white",
            "gridwidth": 2,
            "linecolor": "white",
            "showbackground": true,
            "ticks": "",
            "zerolinecolor": "white"
           },
           "zaxis": {
            "backgroundcolor": "#E5ECF6",
            "gridcolor": "white",
            "gridwidth": 2,
            "linecolor": "white",
            "showbackground": true,
            "ticks": "",
            "zerolinecolor": "white"
           }
          },
          "shapedefaults": {
           "line": {
            "color": "#2a3f5f"
           }
          },
          "ternary": {
           "aaxis": {
            "gridcolor": "white",
            "linecolor": "white",
            "ticks": ""
           },
           "baxis": {
            "gridcolor": "white",
            "linecolor": "white",
            "ticks": ""
           },
           "bgcolor": "#E5ECF6",
           "caxis": {
            "gridcolor": "white",
            "linecolor": "white",
            "ticks": ""
           }
          },
          "title": {
           "x": 0.05
          },
          "xaxis": {
           "automargin": true,
           "gridcolor": "white",
           "linecolor": "white",
           "ticks": "",
           "title": {
            "standoff": 15
           },
           "zerolinecolor": "white",
           "zerolinewidth": 2
          },
          "yaxis": {
           "automargin": true,
           "gridcolor": "white",
           "linecolor": "white",
           "ticks": "",
           "title": {
            "standoff": 15
           },
           "zerolinecolor": "white",
           "zerolinewidth": 2
          }
         }
        },
        "title": {
         "text": "Bottom 5 Countries in terms of % People Fully Vaccinated"
        },
        "xaxis": {
         "anchor": "y",
         "domain": [
          0,
          1
         ],
         "title": {
          "text": "Country"
         }
        },
        "yaxis": {
         "anchor": "x",
         "domain": [
          0,
          1
         ],
         "title": {
          "text": "percentage"
         }
        }
       }
      },
      "text/html": [
       "<div>                            <div id=\"4c6b1cc1-d5c5-4c3d-aaef-fd4c99913403\" class=\"plotly-graph-div\" style=\"height:525px; width:100%;\"></div>            <script type=\"text/javascript\">                require([\"plotly\"], function(Plotly) {                    window.PLOTLYENV=window.PLOTLYENV || {};                                    if (document.getElementById(\"4c6b1cc1-d5c5-4c3d-aaef-fd4c99913403\")) {                    Plotly.newPlot(                        \"4c6b1cc1-d5c5-4c3d-aaef-fd4c99913403\",                        [{\"alignmentgroup\":\"True\",\"hovertemplate\":\"Country=%{x}<br>percentage=%{marker.color}<extra></extra>\",\"legendgroup\":\"\",\"marker\":{\"color\":[0.003167192181154393,0.036165906336647485,0.04177745850431787,0.043594589558673666,0.06403087911691498],\"coloraxis\":\"coloraxis\",\"pattern\":{\"shape\":\"\"}},\"name\":\"\",\"offsetgroup\":\"\",\"orientation\":\"v\",\"showlegend\":false,\"textposition\":\"outside\",\"texttemplate\":[\"0.06%\",\"0.04%\",\"0.04%\",\"0.04%\",\"0.00%\"],\"type\":\"bar\",\"x\":[\"Haiti\",\"Vanuatu\",\"South Sudan\",\"Yemen\",\"Chad\"],\"xaxis\":\"x\",\"y\":[0.003167192181154393,0.036165906336647485,0.04177745850431787,0.043594589558673666,0.06403087911691498],\"yaxis\":\"y\"}],                        {\"barmode\":\"relative\",\"coloraxis\":{\"colorbar\":{\"title\":{\"text\":\"percentage\"}},\"colorscale\":[[0.0,\"#0d0887\"],[0.1111111111111111,\"#46039f\"],[0.2222222222222222,\"#7201a8\"],[0.3333333333333333,\"#9c179e\"],[0.4444444444444444,\"#bd3786\"],[0.5555555555555556,\"#d8576b\"],[0.6666666666666666,\"#ed7953\"],[0.7777777777777778,\"#fb9f3a\"],[0.8888888888888888,\"#fdca26\"],[1.0,\"#f0f921\"]]},\"legend\":{\"tracegroupgap\":0},\"template\":{\"data\":{\"bar\":[{\"error_x\":{\"color\":\"#2a3f5f\"},\"error_y\":{\"color\":\"#2a3f5f\"},\"marker\":{\"line\":{\"color\":\"#E5ECF6\",\"width\":0.5},\"pattern\":{\"fillmode\":\"overlay\",\"size\":10,\"solidity\":0.2}},\"type\":\"bar\"}],\"barpolar\":[{\"marker\":{\"line\":{\"color\":\"#E5ECF6\",\"width\":0.5},\"pattern\":{\"fillmode\":\"overlay\",\"size\":10,\"solidity\":0.2}},\"type\":\"barpolar\"}],\"carpet\":[{\"aaxis\":{\"endlinecolor\":\"#2a3f5f\",\"gridcolor\":\"white\",\"linecolor\":\"white\",\"minorgridcolor\":\"white\",\"startlinecolor\":\"#2a3f5f\"},\"baxis\":{\"endlinecolor\":\"#2a3f5f\",\"gridcolor\":\"white\",\"linecolor\":\"white\",\"minorgridcolor\":\"white\",\"startlinecolor\":\"#2a3f5f\"},\"type\":\"carpet\"}],\"choropleth\":[{\"colorbar\":{\"outlinewidth\":0,\"ticks\":\"\"},\"type\":\"choropleth\"}],\"contour\":[{\"colorbar\":{\"outlinewidth\":0,\"ticks\":\"\"},\"colorscale\":[[0.0,\"#0d0887\"],[0.1111111111111111,\"#46039f\"],[0.2222222222222222,\"#7201a8\"],[0.3333333333333333,\"#9c179e\"],[0.4444444444444444,\"#bd3786\"],[0.5555555555555556,\"#d8576b\"],[0.6666666666666666,\"#ed7953\"],[0.7777777777777778,\"#fb9f3a\"],[0.8888888888888888,\"#fdca26\"],[1.0,\"#f0f921\"]],\"type\":\"contour\"}],\"contourcarpet\":[{\"colorbar\":{\"outlinewidth\":0,\"ticks\":\"\"},\"type\":\"contourcarpet\"}],\"heatmap\":[{\"colorbar\":{\"outlinewidth\":0,\"ticks\":\"\"},\"colorscale\":[[0.0,\"#0d0887\"],[0.1111111111111111,\"#46039f\"],[0.2222222222222222,\"#7201a8\"],[0.3333333333333333,\"#9c179e\"],[0.4444444444444444,\"#bd3786\"],[0.5555555555555556,\"#d8576b\"],[0.6666666666666666,\"#ed7953\"],[0.7777777777777778,\"#fb9f3a\"],[0.8888888888888888,\"#fdca26\"],[1.0,\"#f0f921\"]],\"type\":\"heatmap\"}],\"heatmapgl\":[{\"colorbar\":{\"outlinewidth\":0,\"ticks\":\"\"},\"colorscale\":[[0.0,\"#0d0887\"],[0.1111111111111111,\"#46039f\"],[0.2222222222222222,\"#7201a8\"],[0.3333333333333333,\"#9c179e\"],[0.4444444444444444,\"#bd3786\"],[0.5555555555555556,\"#d8576b\"],[0.6666666666666666,\"#ed7953\"],[0.7777777777777778,\"#fb9f3a\"],[0.8888888888888888,\"#fdca26\"],[1.0,\"#f0f921\"]],\"type\":\"heatmapgl\"}],\"histogram\":[{\"marker\":{\"pattern\":{\"fillmode\":\"overlay\",\"size\":10,\"solidity\":0.2}},\"type\":\"histogram\"}],\"histogram2d\":[{\"colorbar\":{\"outlinewidth\":0,\"ticks\":\"\"},\"colorscale\":[[0.0,\"#0d0887\"],[0.1111111111111111,\"#46039f\"],[0.2222222222222222,\"#7201a8\"],[0.3333333333333333,\"#9c179e\"],[0.4444444444444444,\"#bd3786\"],[0.5555555555555556,\"#d8576b\"],[0.6666666666666666,\"#ed7953\"],[0.7777777777777778,\"#fb9f3a\"],[0.8888888888888888,\"#fdca26\"],[1.0,\"#f0f921\"]],\"type\":\"histogram2d\"}],\"histogram2dcontour\":[{\"colorbar\":{\"outlinewidth\":0,\"ticks\":\"\"},\"colorscale\":[[0.0,\"#0d0887\"],[0.1111111111111111,\"#46039f\"],[0.2222222222222222,\"#7201a8\"],[0.3333333333333333,\"#9c179e\"],[0.4444444444444444,\"#bd3786\"],[0.5555555555555556,\"#d8576b\"],[0.6666666666666666,\"#ed7953\"],[0.7777777777777778,\"#fb9f3a\"],[0.8888888888888888,\"#fdca26\"],[1.0,\"#f0f921\"]],\"type\":\"histogram2dcontour\"}],\"mesh3d\":[{\"colorbar\":{\"outlinewidth\":0,\"ticks\":\"\"},\"type\":\"mesh3d\"}],\"parcoords\":[{\"line\":{\"colorbar\":{\"outlinewidth\":0,\"ticks\":\"\"}},\"type\":\"parcoords\"}],\"pie\":[{\"automargin\":true,\"type\":\"pie\"}],\"scatter\":[{\"marker\":{\"colorbar\":{\"outlinewidth\":0,\"ticks\":\"\"}},\"type\":\"scatter\"}],\"scatter3d\":[{\"line\":{\"colorbar\":{\"outlinewidth\":0,\"ticks\":\"\"}},\"marker\":{\"colorbar\":{\"outlinewidth\":0,\"ticks\":\"\"}},\"type\":\"scatter3d\"}],\"scattercarpet\":[{\"marker\":{\"colorbar\":{\"outlinewidth\":0,\"ticks\":\"\"}},\"type\":\"scattercarpet\"}],\"scattergeo\":[{\"marker\":{\"colorbar\":{\"outlinewidth\":0,\"ticks\":\"\"}},\"type\":\"scattergeo\"}],\"scattergl\":[{\"marker\":{\"colorbar\":{\"outlinewidth\":0,\"ticks\":\"\"}},\"type\":\"scattergl\"}],\"scattermapbox\":[{\"marker\":{\"colorbar\":{\"outlinewidth\":0,\"ticks\":\"\"}},\"type\":\"scattermapbox\"}],\"scatterpolar\":[{\"marker\":{\"colorbar\":{\"outlinewidth\":0,\"ticks\":\"\"}},\"type\":\"scatterpolar\"}],\"scatterpolargl\":[{\"marker\":{\"colorbar\":{\"outlinewidth\":0,\"ticks\":\"\"}},\"type\":\"scatterpolargl\"}],\"scatterternary\":[{\"marker\":{\"colorbar\":{\"outlinewidth\":0,\"ticks\":\"\"}},\"type\":\"scatterternary\"}],\"surface\":[{\"colorbar\":{\"outlinewidth\":0,\"ticks\":\"\"},\"colorscale\":[[0.0,\"#0d0887\"],[0.1111111111111111,\"#46039f\"],[0.2222222222222222,\"#7201a8\"],[0.3333333333333333,\"#9c179e\"],[0.4444444444444444,\"#bd3786\"],[0.5555555555555556,\"#d8576b\"],[0.6666666666666666,\"#ed7953\"],[0.7777777777777778,\"#fb9f3a\"],[0.8888888888888888,\"#fdca26\"],[1.0,\"#f0f921\"]],\"type\":\"surface\"}],\"table\":[{\"cells\":{\"fill\":{\"color\":\"#EBF0F8\"},\"line\":{\"color\":\"white\"}},\"header\":{\"fill\":{\"color\":\"#C8D4E3\"},\"line\":{\"color\":\"white\"}},\"type\":\"table\"}]},\"layout\":{\"annotationdefaults\":{\"arrowcolor\":\"#2a3f5f\",\"arrowhead\":0,\"arrowwidth\":1},\"autotypenumbers\":\"strict\",\"coloraxis\":{\"colorbar\":{\"outlinewidth\":0,\"ticks\":\"\"}},\"colorscale\":{\"diverging\":[[0,\"#8e0152\"],[0.1,\"#c51b7d\"],[0.2,\"#de77ae\"],[0.3,\"#f1b6da\"],[0.4,\"#fde0ef\"],[0.5,\"#f7f7f7\"],[0.6,\"#e6f5d0\"],[0.7,\"#b8e186\"],[0.8,\"#7fbc41\"],[0.9,\"#4d9221\"],[1,\"#276419\"]],\"sequential\":[[0.0,\"#0d0887\"],[0.1111111111111111,\"#46039f\"],[0.2222222222222222,\"#7201a8\"],[0.3333333333333333,\"#9c179e\"],[0.4444444444444444,\"#bd3786\"],[0.5555555555555556,\"#d8576b\"],[0.6666666666666666,\"#ed7953\"],[0.7777777777777778,\"#fb9f3a\"],[0.8888888888888888,\"#fdca26\"],[1.0,\"#f0f921\"]],\"sequentialminus\":[[0.0,\"#0d0887\"],[0.1111111111111111,\"#46039f\"],[0.2222222222222222,\"#7201a8\"],[0.3333333333333333,\"#9c179e\"],[0.4444444444444444,\"#bd3786\"],[0.5555555555555556,\"#d8576b\"],[0.6666666666666666,\"#ed7953\"],[0.7777777777777778,\"#fb9f3a\"],[0.8888888888888888,\"#fdca26\"],[1.0,\"#f0f921\"]]},\"colorway\":[\"#636efa\",\"#EF553B\",\"#00cc96\",\"#ab63fa\",\"#FFA15A\",\"#19d3f3\",\"#FF6692\",\"#B6E880\",\"#FF97FF\",\"#FECB52\"],\"font\":{\"color\":\"#2a3f5f\"},\"geo\":{\"bgcolor\":\"white\",\"lakecolor\":\"white\",\"landcolor\":\"#E5ECF6\",\"showlakes\":true,\"showland\":true,\"subunitcolor\":\"white\"},\"hoverlabel\":{\"align\":\"left\"},\"hovermode\":\"closest\",\"mapbox\":{\"style\":\"light\"},\"paper_bgcolor\":\"white\",\"plot_bgcolor\":\"#E5ECF6\",\"polar\":{\"angularaxis\":{\"gridcolor\":\"white\",\"linecolor\":\"white\",\"ticks\":\"\"},\"bgcolor\":\"#E5ECF6\",\"radialaxis\":{\"gridcolor\":\"white\",\"linecolor\":\"white\",\"ticks\":\"\"}},\"scene\":{\"xaxis\":{\"backgroundcolor\":\"#E5ECF6\",\"gridcolor\":\"white\",\"gridwidth\":2,\"linecolor\":\"white\",\"showbackground\":true,\"ticks\":\"\",\"zerolinecolor\":\"white\"},\"yaxis\":{\"backgroundcolor\":\"#E5ECF6\",\"gridcolor\":\"white\",\"gridwidth\":2,\"linecolor\":\"white\",\"showbackground\":true,\"ticks\":\"\",\"zerolinecolor\":\"white\"},\"zaxis\":{\"backgroundcolor\":\"#E5ECF6\",\"gridcolor\":\"white\",\"gridwidth\":2,\"linecolor\":\"white\",\"showbackground\":true,\"ticks\":\"\",\"zerolinecolor\":\"white\"}},\"shapedefaults\":{\"line\":{\"color\":\"#2a3f5f\"}},\"ternary\":{\"aaxis\":{\"gridcolor\":\"white\",\"linecolor\":\"white\",\"ticks\":\"\"},\"baxis\":{\"gridcolor\":\"white\",\"linecolor\":\"white\",\"ticks\":\"\"},\"bgcolor\":\"#E5ECF6\",\"caxis\":{\"gridcolor\":\"white\",\"linecolor\":\"white\",\"ticks\":\"\"}},\"title\":{\"x\":0.05},\"xaxis\":{\"automargin\":true,\"gridcolor\":\"white\",\"linecolor\":\"white\",\"ticks\":\"\",\"title\":{\"standoff\":15},\"zerolinecolor\":\"white\",\"zerolinewidth\":2},\"yaxis\":{\"automargin\":true,\"gridcolor\":\"white\",\"linecolor\":\"white\",\"ticks\":\"\",\"title\":{\"standoff\":15},\"zerolinecolor\":\"white\",\"zerolinewidth\":2}}},\"title\":{\"text\":\"Bottom 5 Countries in terms of % People Fully Vaccinated\"},\"xaxis\":{\"anchor\":\"y\",\"domain\":[0.0,1.0],\"title\":{\"text\":\"Country\"}},\"yaxis\":{\"anchor\":\"x\",\"domain\":[0.0,1.0],\"title\":{\"text\":\"percentage\"}}},                        {\"responsive\": true}                    ).then(function(){\n",
       "                            \n",
       "var gd = document.getElementById('4c6b1cc1-d5c5-4c3d-aaef-fd4c99913403');\n",
       "var x = new MutationObserver(function (mutations, observer) {{\n",
       "        var display = window.getComputedStyle(gd).display;\n",
       "        if (!display || display === 'none') {{\n",
       "            console.log([gd, 'removed!']);\n",
       "            Plotly.purge(gd);\n",
       "            observer.disconnect();\n",
       "        }}\n",
       "}});\n",
       "\n",
       "// Listen for the removal of the full notebook cells\n",
       "var notebookContainer = gd.closest('#notebook-container');\n",
       "if (notebookContainer) {{\n",
       "    x.observe(notebookContainer, {childList: true});\n",
       "}}\n",
       "\n",
       "// Listen for the clearing of the current output cell\n",
       "var outputEl = gd.closest('.output');\n",
       "if (outputEl) {{\n",
       "    x.observe(outputEl, {childList: true});\n",
       "}}\n",
       "\n",
       "                        })                };                });            </script>        </div>"
      ]
     },
     "metadata": {},
     "output_type": "display_data"
    }
   ],
   "source": [
    "fig = px.bar(top5percentage[::-1],\n",
    "    x='country',\n",
    "    y='percentage',    \n",
    "    labels = {'country':'Country', 'people_fully_vaccinated':'Total Population Vaccinated'},\n",
    "    title = 'Bottom 5 Countries in terms of % People Fully Vaccinated',\n",
    "    color='percentage'         \n",
    ")\n",
    "fig.update_traces(texttemplate=top5percentage['percentage'].map('{:.2f}%'.format),textposition='outside')\n",
    "fig.show()"
   ]
  },
  {
   "cell_type": "markdown",
   "metadata": {},
   "source": [
    "### Vaccine brand distribution worldwide"
   ]
  },
  {
   "cell_type": "code",
   "execution_count": 40,
   "metadata": {},
   "outputs": [
    {
     "data": {
      "text/html": [
       "<div>\n",
       "<style scoped>\n",
       "    .dataframe tbody tr th:only-of-type {\n",
       "        vertical-align: middle;\n",
       "    }\n",
       "\n",
       "    .dataframe tbody tr th {\n",
       "        vertical-align: top;\n",
       "    }\n",
       "\n",
       "    .dataframe thead th {\n",
       "        text-align: right;\n",
       "    }\n",
       "</style>\n",
       "<table border=\"1\" class=\"dataframe\">\n",
       "  <thead>\n",
       "    <tr style=\"text-align: right;\">\n",
       "      <th></th>\n",
       "      <th>vaccine</th>\n",
       "      <th>total_vaccinations</th>\n",
       "    </tr>\n",
       "  </thead>\n",
       "  <tbody>\n",
       "    <tr>\n",
       "      <th>4</th>\n",
       "      <td>Pfizer/BioNTech</td>\n",
       "      <td>655977370</td>\n",
       "    </tr>\n",
       "    <tr>\n",
       "      <th>2</th>\n",
       "      <td>Moderna</td>\n",
       "      <td>200956257</td>\n",
       "    </tr>\n",
       "    <tr>\n",
       "      <th>3</th>\n",
       "      <td>Oxford/AstraZeneca</td>\n",
       "      <td>67224770</td>\n",
       "    </tr>\n",
       "    <tr>\n",
       "      <th>1</th>\n",
       "      <td>Johnson&amp;Johnson</td>\n",
       "      <td>26233106</td>\n",
       "    </tr>\n",
       "    <tr>\n",
       "      <th>6</th>\n",
       "      <td>Sinovac</td>\n",
       "      <td>24702952</td>\n",
       "    </tr>\n",
       "  </tbody>\n",
       "</table>\n",
       "</div>"
      ],
      "text/plain": [
       "              vaccine  total_vaccinations\n",
       "4     Pfizer/BioNTech           655977370\n",
       "2             Moderna           200956257\n",
       "3  Oxford/AstraZeneca            67224770\n",
       "1     Johnson&Johnson            26233106\n",
       "6             Sinovac            24702952"
      ]
     },
     "execution_count": 40,
     "metadata": {},
     "output_type": "execute_result"
    }
   ],
   "source": [
    "vbd = vbm.groupby(['vaccine','location'])['total_vaccinations'].max().reset_index()\n",
    "vbd = vbd.groupby('vaccine')['total_vaccinations'].sum().reset_index()\n",
    "vbd = vbd.sort_values('total_vaccinations',ascending=False)\n",
    "vbd.head()"
   ]
  },
  {
   "cell_type": "code",
   "execution_count": 41,
   "metadata": {},
   "outputs": [
    {
     "data": {
      "application/vnd.plotly.v1+json": {
       "config": {
        "plotlyServerURL": "https://plot.ly"
       },
       "data": [
        {
         "domain": {
          "x": [
           0,
           1
          ],
          "y": [
           0,
           1
          ]
         },
         "hovertemplate": "vaccine=%{label}<br>total_vaccinations=%{value}<extra></extra>",
         "labels": [
          "Pfizer/BioNTech",
          "Moderna",
          "Oxford/AstraZeneca",
          "Johnson&Johnson",
          "Sinovac",
          "Sinopharm/Beijing",
          "Sputnik V",
          "CanSino"
         ],
         "legendgroup": "",
         "name": "",
         "showlegend": true,
         "type": "pie",
         "values": [
          655977370,
          200956257,
          67224770,
          26233106,
          24702952,
          2099373,
          1851036,
          509520
         ]
        }
       ],
       "layout": {
        "legend": {
         "tracegroupgap": 0
        },
        "template": {
         "data": {
          "bar": [
           {
            "error_x": {
             "color": "#2a3f5f"
            },
            "error_y": {
             "color": "#2a3f5f"
            },
            "marker": {
             "line": {
              "color": "#E5ECF6",
              "width": 0.5
             },
             "pattern": {
              "fillmode": "overlay",
              "size": 10,
              "solidity": 0.2
             }
            },
            "type": "bar"
           }
          ],
          "barpolar": [
           {
            "marker": {
             "line": {
              "color": "#E5ECF6",
              "width": 0.5
             },
             "pattern": {
              "fillmode": "overlay",
              "size": 10,
              "solidity": 0.2
             }
            },
            "type": "barpolar"
           }
          ],
          "carpet": [
           {
            "aaxis": {
             "endlinecolor": "#2a3f5f",
             "gridcolor": "white",
             "linecolor": "white",
             "minorgridcolor": "white",
             "startlinecolor": "#2a3f5f"
            },
            "baxis": {
             "endlinecolor": "#2a3f5f",
             "gridcolor": "white",
             "linecolor": "white",
             "minorgridcolor": "white",
             "startlinecolor": "#2a3f5f"
            },
            "type": "carpet"
           }
          ],
          "choropleth": [
           {
            "colorbar": {
             "outlinewidth": 0,
             "ticks": ""
            },
            "type": "choropleth"
           }
          ],
          "contour": [
           {
            "colorbar": {
             "outlinewidth": 0,
             "ticks": ""
            },
            "colorscale": [
             [
              0,
              "#0d0887"
             ],
             [
              0.1111111111111111,
              "#46039f"
             ],
             [
              0.2222222222222222,
              "#7201a8"
             ],
             [
              0.3333333333333333,
              "#9c179e"
             ],
             [
              0.4444444444444444,
              "#bd3786"
             ],
             [
              0.5555555555555556,
              "#d8576b"
             ],
             [
              0.6666666666666666,
              "#ed7953"
             ],
             [
              0.7777777777777778,
              "#fb9f3a"
             ],
             [
              0.8888888888888888,
              "#fdca26"
             ],
             [
              1,
              "#f0f921"
             ]
            ],
            "type": "contour"
           }
          ],
          "contourcarpet": [
           {
            "colorbar": {
             "outlinewidth": 0,
             "ticks": ""
            },
            "type": "contourcarpet"
           }
          ],
          "heatmap": [
           {
            "colorbar": {
             "outlinewidth": 0,
             "ticks": ""
            },
            "colorscale": [
             [
              0,
              "#0d0887"
             ],
             [
              0.1111111111111111,
              "#46039f"
             ],
             [
              0.2222222222222222,
              "#7201a8"
             ],
             [
              0.3333333333333333,
              "#9c179e"
             ],
             [
              0.4444444444444444,
              "#bd3786"
             ],
             [
              0.5555555555555556,
              "#d8576b"
             ],
             [
              0.6666666666666666,
              "#ed7953"
             ],
             [
              0.7777777777777778,
              "#fb9f3a"
             ],
             [
              0.8888888888888888,
              "#fdca26"
             ],
             [
              1,
              "#f0f921"
             ]
            ],
            "type": "heatmap"
           }
          ],
          "heatmapgl": [
           {
            "colorbar": {
             "outlinewidth": 0,
             "ticks": ""
            },
            "colorscale": [
             [
              0,
              "#0d0887"
             ],
             [
              0.1111111111111111,
              "#46039f"
             ],
             [
              0.2222222222222222,
              "#7201a8"
             ],
             [
              0.3333333333333333,
              "#9c179e"
             ],
             [
              0.4444444444444444,
              "#bd3786"
             ],
             [
              0.5555555555555556,
              "#d8576b"
             ],
             [
              0.6666666666666666,
              "#ed7953"
             ],
             [
              0.7777777777777778,
              "#fb9f3a"
             ],
             [
              0.8888888888888888,
              "#fdca26"
             ],
             [
              1,
              "#f0f921"
             ]
            ],
            "type": "heatmapgl"
           }
          ],
          "histogram": [
           {
            "marker": {
             "pattern": {
              "fillmode": "overlay",
              "size": 10,
              "solidity": 0.2
             }
            },
            "type": "histogram"
           }
          ],
          "histogram2d": [
           {
            "colorbar": {
             "outlinewidth": 0,
             "ticks": ""
            },
            "colorscale": [
             [
              0,
              "#0d0887"
             ],
             [
              0.1111111111111111,
              "#46039f"
             ],
             [
              0.2222222222222222,
              "#7201a8"
             ],
             [
              0.3333333333333333,
              "#9c179e"
             ],
             [
              0.4444444444444444,
              "#bd3786"
             ],
             [
              0.5555555555555556,
              "#d8576b"
             ],
             [
              0.6666666666666666,
              "#ed7953"
             ],
             [
              0.7777777777777778,
              "#fb9f3a"
             ],
             [
              0.8888888888888888,
              "#fdca26"
             ],
             [
              1,
              "#f0f921"
             ]
            ],
            "type": "histogram2d"
           }
          ],
          "histogram2dcontour": [
           {
            "colorbar": {
             "outlinewidth": 0,
             "ticks": ""
            },
            "colorscale": [
             [
              0,
              "#0d0887"
             ],
             [
              0.1111111111111111,
              "#46039f"
             ],
             [
              0.2222222222222222,
              "#7201a8"
             ],
             [
              0.3333333333333333,
              "#9c179e"
             ],
             [
              0.4444444444444444,
              "#bd3786"
             ],
             [
              0.5555555555555556,
              "#d8576b"
             ],
             [
              0.6666666666666666,
              "#ed7953"
             ],
             [
              0.7777777777777778,
              "#fb9f3a"
             ],
             [
              0.8888888888888888,
              "#fdca26"
             ],
             [
              1,
              "#f0f921"
             ]
            ],
            "type": "histogram2dcontour"
           }
          ],
          "mesh3d": [
           {
            "colorbar": {
             "outlinewidth": 0,
             "ticks": ""
            },
            "type": "mesh3d"
           }
          ],
          "parcoords": [
           {
            "line": {
             "colorbar": {
              "outlinewidth": 0,
              "ticks": ""
             }
            },
            "type": "parcoords"
           }
          ],
          "pie": [
           {
            "automargin": true,
            "type": "pie"
           }
          ],
          "scatter": [
           {
            "marker": {
             "colorbar": {
              "outlinewidth": 0,
              "ticks": ""
             }
            },
            "type": "scatter"
           }
          ],
          "scatter3d": [
           {
            "line": {
             "colorbar": {
              "outlinewidth": 0,
              "ticks": ""
             }
            },
            "marker": {
             "colorbar": {
              "outlinewidth": 0,
              "ticks": ""
             }
            },
            "type": "scatter3d"
           }
          ],
          "scattercarpet": [
           {
            "marker": {
             "colorbar": {
              "outlinewidth": 0,
              "ticks": ""
             }
            },
            "type": "scattercarpet"
           }
          ],
          "scattergeo": [
           {
            "marker": {
             "colorbar": {
              "outlinewidth": 0,
              "ticks": ""
             }
            },
            "type": "scattergeo"
           }
          ],
          "scattergl": [
           {
            "marker": {
             "colorbar": {
              "outlinewidth": 0,
              "ticks": ""
             }
            },
            "type": "scattergl"
           }
          ],
          "scattermapbox": [
           {
            "marker": {
             "colorbar": {
              "outlinewidth": 0,
              "ticks": ""
             }
            },
            "type": "scattermapbox"
           }
          ],
          "scatterpolar": [
           {
            "marker": {
             "colorbar": {
              "outlinewidth": 0,
              "ticks": ""
             }
            },
            "type": "scatterpolar"
           }
          ],
          "scatterpolargl": [
           {
            "marker": {
             "colorbar": {
              "outlinewidth": 0,
              "ticks": ""
             }
            },
            "type": "scatterpolargl"
           }
          ],
          "scatterternary": [
           {
            "marker": {
             "colorbar": {
              "outlinewidth": 0,
              "ticks": ""
             }
            },
            "type": "scatterternary"
           }
          ],
          "surface": [
           {
            "colorbar": {
             "outlinewidth": 0,
             "ticks": ""
            },
            "colorscale": [
             [
              0,
              "#0d0887"
             ],
             [
              0.1111111111111111,
              "#46039f"
             ],
             [
              0.2222222222222222,
              "#7201a8"
             ],
             [
              0.3333333333333333,
              "#9c179e"
             ],
             [
              0.4444444444444444,
              "#bd3786"
             ],
             [
              0.5555555555555556,
              "#d8576b"
             ],
             [
              0.6666666666666666,
              "#ed7953"
             ],
             [
              0.7777777777777778,
              "#fb9f3a"
             ],
             [
              0.8888888888888888,
              "#fdca26"
             ],
             [
              1,
              "#f0f921"
             ]
            ],
            "type": "surface"
           }
          ],
          "table": [
           {
            "cells": {
             "fill": {
              "color": "#EBF0F8"
             },
             "line": {
              "color": "white"
             }
            },
            "header": {
             "fill": {
              "color": "#C8D4E3"
             },
             "line": {
              "color": "white"
             }
            },
            "type": "table"
           }
          ]
         },
         "layout": {
          "annotationdefaults": {
           "arrowcolor": "#2a3f5f",
           "arrowhead": 0,
           "arrowwidth": 1
          },
          "autotypenumbers": "strict",
          "coloraxis": {
           "colorbar": {
            "outlinewidth": 0,
            "ticks": ""
           }
          },
          "colorscale": {
           "diverging": [
            [
             0,
             "#8e0152"
            ],
            [
             0.1,
             "#c51b7d"
            ],
            [
             0.2,
             "#de77ae"
            ],
            [
             0.3,
             "#f1b6da"
            ],
            [
             0.4,
             "#fde0ef"
            ],
            [
             0.5,
             "#f7f7f7"
            ],
            [
             0.6,
             "#e6f5d0"
            ],
            [
             0.7,
             "#b8e186"
            ],
            [
             0.8,
             "#7fbc41"
            ],
            [
             0.9,
             "#4d9221"
            ],
            [
             1,
             "#276419"
            ]
           ],
           "sequential": [
            [
             0,
             "#0d0887"
            ],
            [
             0.1111111111111111,
             "#46039f"
            ],
            [
             0.2222222222222222,
             "#7201a8"
            ],
            [
             0.3333333333333333,
             "#9c179e"
            ],
            [
             0.4444444444444444,
             "#bd3786"
            ],
            [
             0.5555555555555556,
             "#d8576b"
            ],
            [
             0.6666666666666666,
             "#ed7953"
            ],
            [
             0.7777777777777778,
             "#fb9f3a"
            ],
            [
             0.8888888888888888,
             "#fdca26"
            ],
            [
             1,
             "#f0f921"
            ]
           ],
           "sequentialminus": [
            [
             0,
             "#0d0887"
            ],
            [
             0.1111111111111111,
             "#46039f"
            ],
            [
             0.2222222222222222,
             "#7201a8"
            ],
            [
             0.3333333333333333,
             "#9c179e"
            ],
            [
             0.4444444444444444,
             "#bd3786"
            ],
            [
             0.5555555555555556,
             "#d8576b"
            ],
            [
             0.6666666666666666,
             "#ed7953"
            ],
            [
             0.7777777777777778,
             "#fb9f3a"
            ],
            [
             0.8888888888888888,
             "#fdca26"
            ],
            [
             1,
             "#f0f921"
            ]
           ]
          },
          "colorway": [
           "#636efa",
           "#EF553B",
           "#00cc96",
           "#ab63fa",
           "#FFA15A",
           "#19d3f3",
           "#FF6692",
           "#B6E880",
           "#FF97FF",
           "#FECB52"
          ],
          "font": {
           "color": "#2a3f5f"
          },
          "geo": {
           "bgcolor": "white",
           "lakecolor": "white",
           "landcolor": "#E5ECF6",
           "showlakes": true,
           "showland": true,
           "subunitcolor": "white"
          },
          "hoverlabel": {
           "align": "left"
          },
          "hovermode": "closest",
          "mapbox": {
           "style": "light"
          },
          "paper_bgcolor": "white",
          "plot_bgcolor": "#E5ECF6",
          "polar": {
           "angularaxis": {
            "gridcolor": "white",
            "linecolor": "white",
            "ticks": ""
           },
           "bgcolor": "#E5ECF6",
           "radialaxis": {
            "gridcolor": "white",
            "linecolor": "white",
            "ticks": ""
           }
          },
          "scene": {
           "xaxis": {
            "backgroundcolor": "#E5ECF6",
            "gridcolor": "white",
            "gridwidth": 2,
            "linecolor": "white",
            "showbackground": true,
            "ticks": "",
            "zerolinecolor": "white"
           },
           "yaxis": {
            "backgroundcolor": "#E5ECF6",
            "gridcolor": "white",
            "gridwidth": 2,
            "linecolor": "white",
            "showbackground": true,
            "ticks": "",
            "zerolinecolor": "white"
           },
           "zaxis": {
            "backgroundcolor": "#E5ECF6",
            "gridcolor": "white",
            "gridwidth": 2,
            "linecolor": "white",
            "showbackground": true,
            "ticks": "",
            "zerolinecolor": "white"
           }
          },
          "shapedefaults": {
           "line": {
            "color": "#2a3f5f"
           }
          },
          "ternary": {
           "aaxis": {
            "gridcolor": "white",
            "linecolor": "white",
            "ticks": ""
           },
           "baxis": {
            "gridcolor": "white",
            "linecolor": "white",
            "ticks": ""
           },
           "bgcolor": "#E5ECF6",
           "caxis": {
            "gridcolor": "white",
            "linecolor": "white",
            "ticks": ""
           }
          },
          "title": {
           "x": 0.05
          },
          "xaxis": {
           "automargin": true,
           "gridcolor": "white",
           "linecolor": "white",
           "ticks": "",
           "title": {
            "standoff": 15
           },
           "zerolinecolor": "white",
           "zerolinewidth": 2
          },
          "yaxis": {
           "automargin": true,
           "gridcolor": "white",
           "linecolor": "white",
           "ticks": "",
           "title": {
            "standoff": 15
           },
           "zerolinecolor": "white",
           "zerolinewidth": 2
          }
         }
        },
        "title": {
         "text": "Vaccine Brand Distribution Worldwide"
        }
       }
      },
      "text/html": [
       "<div>                            <div id=\"43ee578d-1c4c-407c-8fb8-df54aadc7b09\" class=\"plotly-graph-div\" style=\"height:525px; width:100%;\"></div>            <script type=\"text/javascript\">                require([\"plotly\"], function(Plotly) {                    window.PLOTLYENV=window.PLOTLYENV || {};                                    if (document.getElementById(\"43ee578d-1c4c-407c-8fb8-df54aadc7b09\")) {                    Plotly.newPlot(                        \"43ee578d-1c4c-407c-8fb8-df54aadc7b09\",                        [{\"domain\":{\"x\":[0.0,1.0],\"y\":[0.0,1.0]},\"hovertemplate\":\"vaccine=%{label}<br>total_vaccinations=%{value}<extra></extra>\",\"labels\":[\"Pfizer/BioNTech\",\"Moderna\",\"Oxford/AstraZeneca\",\"Johnson&Johnson\",\"Sinovac\",\"Sinopharm/Beijing\",\"Sputnik V\",\"CanSino\"],\"legendgroup\":\"\",\"name\":\"\",\"showlegend\":true,\"type\":\"pie\",\"values\":[655977370,200956257,67224770,26233106,24702952,2099373,1851036,509520]}],                        {\"legend\":{\"tracegroupgap\":0},\"template\":{\"data\":{\"bar\":[{\"error_x\":{\"color\":\"#2a3f5f\"},\"error_y\":{\"color\":\"#2a3f5f\"},\"marker\":{\"line\":{\"color\":\"#E5ECF6\",\"width\":0.5},\"pattern\":{\"fillmode\":\"overlay\",\"size\":10,\"solidity\":0.2}},\"type\":\"bar\"}],\"barpolar\":[{\"marker\":{\"line\":{\"color\":\"#E5ECF6\",\"width\":0.5},\"pattern\":{\"fillmode\":\"overlay\",\"size\":10,\"solidity\":0.2}},\"type\":\"barpolar\"}],\"carpet\":[{\"aaxis\":{\"endlinecolor\":\"#2a3f5f\",\"gridcolor\":\"white\",\"linecolor\":\"white\",\"minorgridcolor\":\"white\",\"startlinecolor\":\"#2a3f5f\"},\"baxis\":{\"endlinecolor\":\"#2a3f5f\",\"gridcolor\":\"white\",\"linecolor\":\"white\",\"minorgridcolor\":\"white\",\"startlinecolor\":\"#2a3f5f\"},\"type\":\"carpet\"}],\"choropleth\":[{\"colorbar\":{\"outlinewidth\":0,\"ticks\":\"\"},\"type\":\"choropleth\"}],\"contour\":[{\"colorbar\":{\"outlinewidth\":0,\"ticks\":\"\"},\"colorscale\":[[0.0,\"#0d0887\"],[0.1111111111111111,\"#46039f\"],[0.2222222222222222,\"#7201a8\"],[0.3333333333333333,\"#9c179e\"],[0.4444444444444444,\"#bd3786\"],[0.5555555555555556,\"#d8576b\"],[0.6666666666666666,\"#ed7953\"],[0.7777777777777778,\"#fb9f3a\"],[0.8888888888888888,\"#fdca26\"],[1.0,\"#f0f921\"]],\"type\":\"contour\"}],\"contourcarpet\":[{\"colorbar\":{\"outlinewidth\":0,\"ticks\":\"\"},\"type\":\"contourcarpet\"}],\"heatmap\":[{\"colorbar\":{\"outlinewidth\":0,\"ticks\":\"\"},\"colorscale\":[[0.0,\"#0d0887\"],[0.1111111111111111,\"#46039f\"],[0.2222222222222222,\"#7201a8\"],[0.3333333333333333,\"#9c179e\"],[0.4444444444444444,\"#bd3786\"],[0.5555555555555556,\"#d8576b\"],[0.6666666666666666,\"#ed7953\"],[0.7777777777777778,\"#fb9f3a\"],[0.8888888888888888,\"#fdca26\"],[1.0,\"#f0f921\"]],\"type\":\"heatmap\"}],\"heatmapgl\":[{\"colorbar\":{\"outlinewidth\":0,\"ticks\":\"\"},\"colorscale\":[[0.0,\"#0d0887\"],[0.1111111111111111,\"#46039f\"],[0.2222222222222222,\"#7201a8\"],[0.3333333333333333,\"#9c179e\"],[0.4444444444444444,\"#bd3786\"],[0.5555555555555556,\"#d8576b\"],[0.6666666666666666,\"#ed7953\"],[0.7777777777777778,\"#fb9f3a\"],[0.8888888888888888,\"#fdca26\"],[1.0,\"#f0f921\"]],\"type\":\"heatmapgl\"}],\"histogram\":[{\"marker\":{\"pattern\":{\"fillmode\":\"overlay\",\"size\":10,\"solidity\":0.2}},\"type\":\"histogram\"}],\"histogram2d\":[{\"colorbar\":{\"outlinewidth\":0,\"ticks\":\"\"},\"colorscale\":[[0.0,\"#0d0887\"],[0.1111111111111111,\"#46039f\"],[0.2222222222222222,\"#7201a8\"],[0.3333333333333333,\"#9c179e\"],[0.4444444444444444,\"#bd3786\"],[0.5555555555555556,\"#d8576b\"],[0.6666666666666666,\"#ed7953\"],[0.7777777777777778,\"#fb9f3a\"],[0.8888888888888888,\"#fdca26\"],[1.0,\"#f0f921\"]],\"type\":\"histogram2d\"}],\"histogram2dcontour\":[{\"colorbar\":{\"outlinewidth\":0,\"ticks\":\"\"},\"colorscale\":[[0.0,\"#0d0887\"],[0.1111111111111111,\"#46039f\"],[0.2222222222222222,\"#7201a8\"],[0.3333333333333333,\"#9c179e\"],[0.4444444444444444,\"#bd3786\"],[0.5555555555555556,\"#d8576b\"],[0.6666666666666666,\"#ed7953\"],[0.7777777777777778,\"#fb9f3a\"],[0.8888888888888888,\"#fdca26\"],[1.0,\"#f0f921\"]],\"type\":\"histogram2dcontour\"}],\"mesh3d\":[{\"colorbar\":{\"outlinewidth\":0,\"ticks\":\"\"},\"type\":\"mesh3d\"}],\"parcoords\":[{\"line\":{\"colorbar\":{\"outlinewidth\":0,\"ticks\":\"\"}},\"type\":\"parcoords\"}],\"pie\":[{\"automargin\":true,\"type\":\"pie\"}],\"scatter\":[{\"marker\":{\"colorbar\":{\"outlinewidth\":0,\"ticks\":\"\"}},\"type\":\"scatter\"}],\"scatter3d\":[{\"line\":{\"colorbar\":{\"outlinewidth\":0,\"ticks\":\"\"}},\"marker\":{\"colorbar\":{\"outlinewidth\":0,\"ticks\":\"\"}},\"type\":\"scatter3d\"}],\"scattercarpet\":[{\"marker\":{\"colorbar\":{\"outlinewidth\":0,\"ticks\":\"\"}},\"type\":\"scattercarpet\"}],\"scattergeo\":[{\"marker\":{\"colorbar\":{\"outlinewidth\":0,\"ticks\":\"\"}},\"type\":\"scattergeo\"}],\"scattergl\":[{\"marker\":{\"colorbar\":{\"outlinewidth\":0,\"ticks\":\"\"}},\"type\":\"scattergl\"}],\"scattermapbox\":[{\"marker\":{\"colorbar\":{\"outlinewidth\":0,\"ticks\":\"\"}},\"type\":\"scattermapbox\"}],\"scatterpolar\":[{\"marker\":{\"colorbar\":{\"outlinewidth\":0,\"ticks\":\"\"}},\"type\":\"scatterpolar\"}],\"scatterpolargl\":[{\"marker\":{\"colorbar\":{\"outlinewidth\":0,\"ticks\":\"\"}},\"type\":\"scatterpolargl\"}],\"scatterternary\":[{\"marker\":{\"colorbar\":{\"outlinewidth\":0,\"ticks\":\"\"}},\"type\":\"scatterternary\"}],\"surface\":[{\"colorbar\":{\"outlinewidth\":0,\"ticks\":\"\"},\"colorscale\":[[0.0,\"#0d0887\"],[0.1111111111111111,\"#46039f\"],[0.2222222222222222,\"#7201a8\"],[0.3333333333333333,\"#9c179e\"],[0.4444444444444444,\"#bd3786\"],[0.5555555555555556,\"#d8576b\"],[0.6666666666666666,\"#ed7953\"],[0.7777777777777778,\"#fb9f3a\"],[0.8888888888888888,\"#fdca26\"],[1.0,\"#f0f921\"]],\"type\":\"surface\"}],\"table\":[{\"cells\":{\"fill\":{\"color\":\"#EBF0F8\"},\"line\":{\"color\":\"white\"}},\"header\":{\"fill\":{\"color\":\"#C8D4E3\"},\"line\":{\"color\":\"white\"}},\"type\":\"table\"}]},\"layout\":{\"annotationdefaults\":{\"arrowcolor\":\"#2a3f5f\",\"arrowhead\":0,\"arrowwidth\":1},\"autotypenumbers\":\"strict\",\"coloraxis\":{\"colorbar\":{\"outlinewidth\":0,\"ticks\":\"\"}},\"colorscale\":{\"diverging\":[[0,\"#8e0152\"],[0.1,\"#c51b7d\"],[0.2,\"#de77ae\"],[0.3,\"#f1b6da\"],[0.4,\"#fde0ef\"],[0.5,\"#f7f7f7\"],[0.6,\"#e6f5d0\"],[0.7,\"#b8e186\"],[0.8,\"#7fbc41\"],[0.9,\"#4d9221\"],[1,\"#276419\"]],\"sequential\":[[0.0,\"#0d0887\"],[0.1111111111111111,\"#46039f\"],[0.2222222222222222,\"#7201a8\"],[0.3333333333333333,\"#9c179e\"],[0.4444444444444444,\"#bd3786\"],[0.5555555555555556,\"#d8576b\"],[0.6666666666666666,\"#ed7953\"],[0.7777777777777778,\"#fb9f3a\"],[0.8888888888888888,\"#fdca26\"],[1.0,\"#f0f921\"]],\"sequentialminus\":[[0.0,\"#0d0887\"],[0.1111111111111111,\"#46039f\"],[0.2222222222222222,\"#7201a8\"],[0.3333333333333333,\"#9c179e\"],[0.4444444444444444,\"#bd3786\"],[0.5555555555555556,\"#d8576b\"],[0.6666666666666666,\"#ed7953\"],[0.7777777777777778,\"#fb9f3a\"],[0.8888888888888888,\"#fdca26\"],[1.0,\"#f0f921\"]]},\"colorway\":[\"#636efa\",\"#EF553B\",\"#00cc96\",\"#ab63fa\",\"#FFA15A\",\"#19d3f3\",\"#FF6692\",\"#B6E880\",\"#FF97FF\",\"#FECB52\"],\"font\":{\"color\":\"#2a3f5f\"},\"geo\":{\"bgcolor\":\"white\",\"lakecolor\":\"white\",\"landcolor\":\"#E5ECF6\",\"showlakes\":true,\"showland\":true,\"subunitcolor\":\"white\"},\"hoverlabel\":{\"align\":\"left\"},\"hovermode\":\"closest\",\"mapbox\":{\"style\":\"light\"},\"paper_bgcolor\":\"white\",\"plot_bgcolor\":\"#E5ECF6\",\"polar\":{\"angularaxis\":{\"gridcolor\":\"white\",\"linecolor\":\"white\",\"ticks\":\"\"},\"bgcolor\":\"#E5ECF6\",\"radialaxis\":{\"gridcolor\":\"white\",\"linecolor\":\"white\",\"ticks\":\"\"}},\"scene\":{\"xaxis\":{\"backgroundcolor\":\"#E5ECF6\",\"gridcolor\":\"white\",\"gridwidth\":2,\"linecolor\":\"white\",\"showbackground\":true,\"ticks\":\"\",\"zerolinecolor\":\"white\"},\"yaxis\":{\"backgroundcolor\":\"#E5ECF6\",\"gridcolor\":\"white\",\"gridwidth\":2,\"linecolor\":\"white\",\"showbackground\":true,\"ticks\":\"\",\"zerolinecolor\":\"white\"},\"zaxis\":{\"backgroundcolor\":\"#E5ECF6\",\"gridcolor\":\"white\",\"gridwidth\":2,\"linecolor\":\"white\",\"showbackground\":true,\"ticks\":\"\",\"zerolinecolor\":\"white\"}},\"shapedefaults\":{\"line\":{\"color\":\"#2a3f5f\"}},\"ternary\":{\"aaxis\":{\"gridcolor\":\"white\",\"linecolor\":\"white\",\"ticks\":\"\"},\"baxis\":{\"gridcolor\":\"white\",\"linecolor\":\"white\",\"ticks\":\"\"},\"bgcolor\":\"#E5ECF6\",\"caxis\":{\"gridcolor\":\"white\",\"linecolor\":\"white\",\"ticks\":\"\"}},\"title\":{\"x\":0.05},\"xaxis\":{\"automargin\":true,\"gridcolor\":\"white\",\"linecolor\":\"white\",\"ticks\":\"\",\"title\":{\"standoff\":15},\"zerolinecolor\":\"white\",\"zerolinewidth\":2},\"yaxis\":{\"automargin\":true,\"gridcolor\":\"white\",\"linecolor\":\"white\",\"ticks\":\"\",\"title\":{\"standoff\":15},\"zerolinecolor\":\"white\",\"zerolinewidth\":2}}},\"title\":{\"text\":\"Vaccine Brand Distribution Worldwide\"}},                        {\"responsive\": true}                    ).then(function(){\n",
       "                            \n",
       "var gd = document.getElementById('43ee578d-1c4c-407c-8fb8-df54aadc7b09');\n",
       "var x = new MutationObserver(function (mutations, observer) {{\n",
       "        var display = window.getComputedStyle(gd).display;\n",
       "        if (!display || display === 'none') {{\n",
       "            console.log([gd, 'removed!']);\n",
       "            Plotly.purge(gd);\n",
       "            observer.disconnect();\n",
       "        }}\n",
       "}});\n",
       "\n",
       "// Listen for the removal of the full notebook cells\n",
       "var notebookContainer = gd.closest('#notebook-container');\n",
       "if (notebookContainer) {{\n",
       "    x.observe(notebookContainer, {childList: true});\n",
       "}}\n",
       "\n",
       "// Listen for the clearing of the current output cell\n",
       "var outputEl = gd.closest('.output');\n",
       "if (outputEl) {{\n",
       "    x.observe(outputEl, {childList: true});\n",
       "}}\n",
       "\n",
       "                        })                };                });            </script>        </div>"
      ]
     },
     "metadata": {},
     "output_type": "display_data"
    }
   ],
   "source": [
    "fig = px.pie(vbd, values='total_vaccinations',names='vaccine',title='Vaccine Brand Distribution Worldwide')\n",
    "fig.show()"
   ]
  }
 ],
 "metadata": {
  "kernelspec": {
   "display_name": "Python 3",
   "language": "python",
   "name": "python3"
  },
  "language_info": {
   "codemirror_mode": {
    "name": "ipython",
    "version": 3
   },
   "file_extension": ".py",
   "mimetype": "text/x-python",
   "name": "python",
   "nbconvert_exporter": "python",
   "pygments_lexer": "ipython3",
   "version": "3.8.5"
  }
 },
 "nbformat": 4,
 "nbformat_minor": 4
}
